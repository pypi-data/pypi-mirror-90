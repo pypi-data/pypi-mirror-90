{
 "cells": [
  {
   "cell_type": "code",
   "execution_count": 1,
   "metadata": {},
   "outputs": [
    {
     "data": {
      "application/vnd.jupyter.widget-view+json": {
       "model_id": "0067675bd0fa464fbbced4c01f9bde26",
       "version_major": 2,
       "version_minor": 0
      },
      "text/plain": [
       "MitoWidget(analysis_name='UUID-f6177a46-a202-428e-b8e1-772fb5c0dbb1', code_json='{\"imports\": \"from mitosheet i…"
      ]
     },
     "metadata": {},
     "output_type": "display_data"
    }
   ],
   "source": [
    "import mitosheet\n",
    "mitosheet.sheet()"
   ]
  },
  {
   "cell_type": "code",
   "execution_count": null,
   "metadata": {},
   "outputs": [],
   "source": [
    "# MITO CODE START (DO NOT EDIT)\n",
    "# SAVED-ANALYSIS-STARTUUID-f6177a46-a202-428e-b8e1-772fb5c0dbb1SAVED-ANALYSIS-END\n",
    "\n",
    "from mitosheet import *\n",
    "\n",
    "# Step 1\n",
    "\n",
    "import pandas as pd\n",
    "\n",
    "df2_csv = pd.read_csv('df2.csv')\n",
    "\n",
    "# Step 2\n",
    "\n",
    "jons_tab = df2_csv\n",
    "  \n",
    "# MITO CODE END (DO NOT EDIT)"
   ]
  },
  {
   "cell_type": "code",
   "execution_count": null,
   "metadata": {},
   "outputs": [],
   "source": []
  }
 ],
 "metadata": {
  "kernelspec": {
   "display_name": "Python 3",
   "language": "python",
   "name": "python3"
  },
  "language_info": {
   "codemirror_mode": {
    "name": "ipython",
    "version": 3
   },
   "file_extension": ".py",
   "mimetype": "text/x-python",
   "name": "python",
   "nbconvert_exporter": "python",
   "pygments_lexer": "ipython3",
   "version": "3.8.5"
  },
  "widgets": {
   "application/vnd.jupyter.widget-state+json": {
    "state": {
     "0067675bd0fa464fbbced4c01f9bde26": {
      "model_module": "mitosheet",
      "model_module_version": "^0.1.88",
      "model_name": "ExampleModel",
      "state": {
       "_model_module_version": "^0.1.88",
       "_view_module_version": "^0.1.88",
       "analysis_name": "UUID-f6177a46-a202-428e-b8e1-772fb5c0dbb1",
       "code_json": "{\"imports\": \"from mitosheet import *\", \"code\": [\"# Step 1\", \"import pandas as pd\", \"df2_csv = pd.read_csv('df2.csv')\", \"# Step 2\", \"jons_tab = df2_csv\"]}",
       "column_filters_json": "[{\"A\": {\"operator\": \"And\", \"filters\": []}, \"B\": {\"operator\": \"And\", \"filters\": []}}]",
       "column_spreadsheet_code_json": "[{\"A\": \"\", \"B\": \"\"}]",
       "column_type_json": "[{\"A\": \"number\", \"B\": \"number\"}]",
       "df_names_json": "{\"df_names\": [\"jons_tab\"]}",
       "df_shape_json": "[{\"rows\": 3, \"cols\": 2}]",
       "has_rendered": true,
       "is_local_deployment": true,
       "layout": "IPY_MODEL_e2b3f0df5de347adbdd3006fe7211a2c",
       "saved_analysis_names_json": "[\"111\", \"1111\", \"28\", \"29\", \"Dork\", \"Double Import\", \"File Import Get Length\", \"File Import\", \"Sample\", \"Testing\", \"_419wxryas\", \"_461fd87s7\", \"_49hlkjtgp\", \"_7atqow0oj\", \"_88amfqk2f\", \"_8b9x4aa2m\", \"_dh590wtqu\", \"_efldontof\", \"_g10n6gs9g\", \"_gs9b8mudg\", \"_hexaujrz3\", \"_iu8qft83p\", \"_jqu6ydgq6\", \"_jsu04q2sl\", \"_jtip39qtx\", \"_k4ce9w8om\", \"_ktv9i6xtb\", \"_llskhy8k5\", \"_nq5ctxt9m\", \"_obi4mo3a2\", \"_ojtvedr82\", \"_om4ymb3qz\", \"_rlna3gzml\", \"_rqyqe9rfu\", \"_ui8gi1btf\", \"_uzyu8vo18\", \"_wyyvgfivw\", \"_yd64b4y4m\", \"aaa\", \"new\"]",
       "sheet_json": "[{\"columns\": [\"A\", \"B\"], \"index\": [0, 1, 2], \"data\": [[7, 10], [8, 11], [9, 12]]}]",
       "tutorial_mode": false,
       "user_id": "nate",
       "value": "Hello World"
      }
     },
     "e2b3f0df5de347adbdd3006fe7211a2c": {
      "model_module": "@jupyter-widgets/base",
      "model_module_version": "1.2.0",
      "model_name": "LayoutModel",
      "state": {}
     }
    },
    "version_major": 2,
    "version_minor": 0
   }
  }
 },
 "nbformat": 4,
 "nbformat_minor": 4
}
