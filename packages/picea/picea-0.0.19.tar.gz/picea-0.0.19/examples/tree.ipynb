{
 "cells": [
  {
   "cell_type": "code",
   "execution_count": 1,
   "metadata": {},
   "outputs": [
    {
     "data": {
      "text/plain": [
       "('0.0.18', <module 'picea' from '../picea/__init__.py'>)"
      ]
     },
     "execution_count": 1,
     "metadata": {},
     "output_type": "execute_result"
    }
   ],
   "source": [
    "%load_ext autoreload\n",
    "%autoreload 2\n",
    "import sys\n",
    "sys.path.insert(0, '../')\n",
    "import picea\n",
    "picea.__version__,picea"
   ]
  },
  {
   "cell_type": "code",
   "execution_count": 2,
   "metadata": {},
   "outputs": [],
   "source": [
    "from picea import Tree"
   ]
  },
  {
   "cell_type": "code",
   "execution_count": 3,
   "metadata": {},
   "outputs": [
    {
     "name": "stdout",
     "output_type": "stream",
     "text": [
      "{\n",
      "  \"name\": \"\",\n",
      "  \"length\": 0.0,\n",
      "  \"children\": [\n",
      "    {\n",
      "      \"name\": \"Eucgr.J03126.1\",\n",
      "      \"length\": 0.096360892,\n",
      "      \"children\": []\n",
      "    },\n",
      "    {\n",
      "      \"name\": \"1.000\",\n",
      "      \"length\": 0.159121648,\n",
      "      \"children\": [\n",
      "        {\n",
      "          \"name\": \"Eucgr.F03978.1\",\n",
      "          \"length\": 0.022217443,\n",
      "          \"children\": []\n",
      "        },\n",
      "        {\n",
      "          \"name\": \"0.989\",\n",
      "          \"length\": 0.033587992,\n",
      "          \"children\": [\n",
      "            {\n",
      "              \"name\": \"Eucgr.F03972.1\",\n",
      "              \"length\": 0.049020651,\n",
      "              \"children\": []\n",
      "            },\n",
      "            {\n",
      "              \"name\": \"0.992\",\n",
      "              \"length\": 0.028383846,\n",
      "              \"children\": [\n",
      "                {\n",
      "                  \"name\": \"Eucgr.F03974.1\",\n",
      "                  \"length\": 0.016885197,\n",
      "                  \"children\": []\n",
      "                },\n",
      "                {\n",
      "                  \"name\": \"Eucgr.F03973.1\",\n",
      "                  \"length\": 0.031615842,\n",
      "                  \"children\": []\n",
      "                }\n",
      "              ]\n",
      "            }\n",
      "          ]\n",
      "        }\n",
      "      ]\n",
      "    },\n",
      "    {\n",
      "      \"name\": \"0.760\",\n",
      "      \"length\": 0.042873256,\n",
      "      \"children\": [\n",
      "        {\n",
      "          \"name\": \"0.938\",\n",
      "          \"length\": 0.032396745,\n",
      "          \"children\": [\n",
      "            {\n",
      "              \"name\": \"AT5G48930.1\",\n",
      "              \"length\": 0.149539548,\n",
      "              \"children\": []\n",
      "            },\n",
      "            {\n",
      "              \"name\": \"0.966\",\n",
      "              \"length\": 0.041050571,\n",
      "              \"children\": [\n",
      "                {\n",
      "                  \"name\": \"Potri.001G042900.1\",\n",
      "                  \"length\": 0.042600877,\n",
      "                  \"children\": []\n",
      "                },\n",
      "                {\n",
      "                  \"name\": \"Potri.003G183900.1\",\n",
      "                  \"length\": 0.036330742,\n",
      "                  \"children\": []\n",
      "                }\n",
      "              ]\n",
      "            }\n",
      "          ]\n",
      "        },\n",
      "        {\n",
      "          \"name\": \"0.407\",\n",
      "          \"length\": 0.017508276,\n",
      "          \"children\": [\n",
      "            {\n",
      "              \"name\": \"0.961\",\n",
      "              \"length\": 0.04591907,\n",
      "              \"children\": [\n",
      "                {\n",
      "                  \"name\": \"1.000\",\n",
      "                  \"length\": 0.123933395,\n",
      "                  \"children\": [\n",
      "                    {\n",
      "                      \"name\": \"TorRG33x02_asm01_ann01_148780.1\",\n",
      "                      \"length\": 6e-09,\n",
      "                      \"children\": []\n",
      "                    },\n",
      "                    {\n",
      "                      \"name\": \"PanWU01x14_asm01_ann01_025520.1\",\n",
      "                      \"length\": 0.016547964,\n",
      "                      \"children\": []\n",
      "                    }\n",
      "                  ]\n",
      "                },\n",
      "                {\n",
      "                  \"name\": \"0.490\",\n",
      "                  \"length\": 0.025870023,\n",
      "                  \"children\": [\n",
      "                    {\n",
      "                      \"name\": \"PanWU01x14_asm01_ann01_328380.1\",\n",
      "                      \"length\": 0.229230386,\n",
      "                      \"children\": []\n",
      "                    },\n",
      "                    {\n",
      "                      \"name\": \"0.876\",\n",
      "                      \"length\": 0.035133965,\n",
      "                      \"children\": [\n",
      "                        {\n",
      "                          \"name\": \"1.000\",\n",
      "                          \"length\": 0.238411077,\n",
      "                          \"children\": [\n",
      "                            {\n",
      "                              \"name\": \"1.000\",\n",
      "                              \"length\": 0.224789368,\n",
      "                              \"children\": [\n",
      "                                {\n",
      "                                  \"name\": \"Fvesca.gene34068\",\n",
      "                                  \"length\": 0.035623091,\n",
      "                                  \"children\": []\n",
      "                                },\n",
      "                                {\n",
      "                                  \"name\": \"0.871\",\n",
      "                                  \"length\": 0.012678349,\n",
      "                                  \"children\": [\n",
      "                                    {\n",
      "                                      \"name\": \"Fvesca.gene34602\",\n",
      "                                      \"length\": 0.027230284,\n",
      "                                      \"children\": []\n",
      "                                    },\n",
      "                                    {\n",
      "                                      \"name\": \"0.867\",\n",
      "                                      \"length\": 0.00522189,\n",
      "                                      \"children\": [\n",
      "                                        {\n",
      "                                          \"name\": \"Fvesca.gene34065\",\n",
      "                                          \"length\": 0.015399531,\n",
      "                                          \"children\": []\n",
      "                                        },\n",
      "                                        {\n",
      "                                          \"name\": \"Fvesca.gene01943\",\n",
      "                                          \"length\": 0.041999231,\n",
      "                                          \"children\": []\n",
      "                                        }\n",
      "                                      ]\n",
      "                                    }\n",
      "                                  ]\n",
      "                                }\n",
      "                              ]\n",
      "                            },\n",
      "                            {\n",
      "                              \"name\": \"1.000\",\n",
      "                              \"length\": 0.178427733,\n",
      "                              \"children\": [\n",
      "                                {\n",
      "                                  \"name\": \"Fvesca.gene34032\",\n",
      "                                  \"length\": 0.102961696,\n",
      "                                  \"children\": []\n",
      "                                },\n",
      "                                {\n",
      "                                  \"name\": \"Fvesca.gene34081\",\n",
      "                                  \"length\": 0.129277633,\n",
      "                                  \"children\": []\n",
      "                                }\n",
      "                              ]\n",
      "                            }\n",
      "                          ]\n",
      "                        },\n",
      "                        {\n",
      "                          \"name\": \"0.991\",\n",
      "                          \"length\": 0.083522673,\n",
      "                          \"children\": [\n",
      "                            {\n",
      "                              \"name\": \"0.982\",\n",
      "                              \"length\": 0.100365255,\n",
      "                              \"children\": [\n",
      "                                {\n",
      "                                  \"name\": \"1.000\",\n",
      "                                  \"length\": 0.391788913,\n",
      "                                  \"children\": [\n",
      "                                    {\n",
      "                                      \"name\": \"TorRG33x02_asm01_ann01_333630.1\",\n",
      "                                      \"length\": 0.02767473,\n",
      "                                      \"children\": []\n",
      "                                    },\n",
      "                                    {\n",
      "                                      \"name\": \"PanWU01x14_asm01_ann01_317590.1\",\n",
      "                                      \"length\": 0.024543528,\n",
      "                                      \"children\": []\n",
      "                                    }\n",
      "                                  ]\n",
      "                                },\n",
      "                                {\n",
      "                                  \"name\": \"0.373\",\n",
      "                                  \"length\": 0.026971832,\n",
      "                                  \"children\": [\n",
      "                                    {\n",
      "                                      \"name\": \"0.896\",\n",
      "                                      \"length\": 0.044291369,\n",
      "                                      \"children\": [\n",
      "                                        {\n",
      "                                          \"name\": \"0.994\",\n",
      "                                          \"length\": 0.100355856,\n",
      "                                          \"children\": [\n",
      "                                            {\n",
      "                                              \"name\": \"1.000\",\n",
      "                                              \"length\": 0.269008201,\n",
      "                                              \"children\": [\n",
      "                                                {\n",
      "                                                  \"name\": \"\",\n",
      "                                                  \"length\": 0.038325472,\n",
      "                                                  \"children\": [\n",
      "                                                    {\n",
      "                                                      \"name\": \"PanWU01x14_asm01_ann01_370870.1\",\n",
      "                                                      \"length\": 0.0,\n",
      "                                                      \"children\": []\n",
      "                                                    },\n",
      "                                                    {\n",
      "                                                      \"name\": \"PanWU01x14_asm01_ann01_368980.1\",\n",
      "                                                      \"length\": 0.0,\n",
      "                                                      \"children\": []\n",
      "                                                    }\n",
      "                                                  ]\n",
      "                                                },\n",
      "                                                {\n",
      "                                                  \"name\": \"TorRG33x02_asm01_ann01_178570.1\",\n",
      "                                                  \"length\": 0.018862278,\n",
      "                                                  \"children\": []\n",
      "                                                }\n",
      "                                              ]\n",
      "                                            },\n",
      "                                            {\n",
      "                                              \"name\": \"1.000\",\n",
      "                                              \"length\": 0.205389952,\n",
      "                                              \"children\": [\n",
      "                                                {\n",
      "                                                  \"name\": \"TorRG33x02_asm01_ann01_006010.1\",\n",
      "                                                  \"length\": 0.02149877,\n",
      "                                                  \"children\": []\n",
      "                                                },\n",
      "                                                {\n",
      "                                                  \"name\": \"0.867\",\n",
      "                                                  \"length\": 0.023011395,\n",
      "                                                  \"children\": [\n",
      "                                                    {\n",
      "                                                      \"name\": \"PanWU01x14_asm01_ann01_046570.1\",\n",
      "                                                      \"length\": 0.012427724,\n",
      "                                                      \"children\": []\n",
      "                                                    },\n",
      "                                                    {\n",
      "                                                      \"name\": \"PanWU01x14_asm01_ann01_046550.1\",\n",
      "                                                      \"length\": 0.049696813,\n",
      "                                                      \"children\": []\n",
      "                                                    }\n",
      "                                                  ]\n",
      "                                                }\n",
      "                                              ]\n",
      "                                            }\n",
      "                                          ]\n",
      "                                        },\n",
      "                                        {\n",
      "                                          \"name\": \"0.254\",\n",
      "                                          \"length\": 0.035213231,\n",
      "                                          \"children\": [\n",
      "                                            {\n",
      "                                              \"name\": \"1.000\",\n",
      "                                              \"length\": 0.458751517,\n",
      "                                              \"children\": [\n",
      "                                                {\n",
      "                                                  \"name\": \"TorRG33x02_asm01_ann01_255900.1\",\n",
      "                                                  \"length\": 0.017847987,\n",
      "                                                  \"children\": []\n",
      "                                                },\n",
      "                                                {\n",
      "                                                  \"name\": \"PanWU01x14_asm01_ann01_202680.1\",\n",
      "                                                  \"length\": 0.016580491,\n",
      "                                                  \"children\": []\n",
      "                                                }\n",
      "                                              ]\n",
      "                                            },\n",
      "                                            {\n",
      "                                              \"name\": \"1.000\",\n",
      "                                              \"length\": 0.256988184,\n",
      "                                              \"children\": [\n",
      "                                                {\n",
      "                                                  \"name\": \"TorRG33x02_asm01_ann01_205100.1\",\n",
      "                                                  \"length\": 0.017193652,\n",
      "                                                  \"children\": []\n",
      "                                                },\n",
      "                                                {\n",
      "                                                  \"name\": \"PanWU01x14_asm01_ann01_067750.1\",\n",
      "                                                  \"length\": 0.030750029,\n",
      "                                                  \"children\": []\n",
      "                                                }\n",
      "                                              ]\n",
      "                                            }\n",
      "                                          ]\n",
      "                                        }\n",
      "                                      ]\n",
      "                                    },\n",
      "                                    {\n",
      "                                      \"name\": \"1.000\",\n",
      "                                      \"length\": 0.334361992,\n",
      "                                      \"children\": [\n",
      "                                        {\n",
      "                                          \"name\": \"PanWU01x14_asm01_ann01_025440.1\",\n",
      "                                          \"length\": 0.011869129,\n",
      "                                          \"children\": []\n",
      "                                        },\n",
      "                                        {\n",
      "                                          \"name\": \"TorRG33x02_asm01_ann01_148830.1\",\n",
      "                                          \"length\": 0.02818761,\n",
      "                                          \"children\": []\n",
      "                                        }\n",
      "                                      ]\n",
      "                                    }\n",
      "                                  ]\n",
      "                                }\n",
      "                              ]\n",
      "                            },\n",
      "                            {\n",
      "                              \"name\": \"0.981\",\n",
      "                              \"length\": 0.10329396,\n",
      "                              \"children\": [\n",
      "                                {\n",
      "                                  \"name\": \"TorRG33x02_asm01_ann01_321930.1\",\n",
      "                                  \"length\": 0.333344104,\n",
      "                                  \"children\": []\n",
      "                                },\n",
      "                                {\n",
      "                                  \"name\": \"1.000\",\n",
      "                                  \"length\": 0.358213229,\n",
      "                                  \"children\": [\n",
      "                                    {\n",
      "                                      \"name\": \"TorRG33x02_asm01_ann01_010870.1\",\n",
      "                                      \"length\": 0.028259396,\n",
      "                                      \"children\": []\n",
      "                                    },\n",
      "                                    {\n",
      "                                      \"name\": \"PanWU01x14_asm01_ann01_177240.1\",\n",
      "                                      \"length\": 0.01101615,\n",
      "                                      \"children\": []\n",
      "                                    }\n",
      "                                  ]\n",
      "                                }\n",
      "                              ]\n",
      "                            }\n",
      "                          ]\n",
      "                        }\n",
      "                      ]\n",
      "                    }\n",
      "                  ]\n",
      "                }\n",
      "              ]\n",
      "            },\n",
      "            {\n",
      "              \"name\": \"1.000\",\n",
      "              \"length\": 0.109778167,\n",
      "              \"children\": [\n",
      "                {\n",
      "                  \"name\": \"0.974\",\n",
      "                  \"length\": 0.035878541,\n",
      "                  \"children\": [\n",
      "                    {\n",
      "                      \"name\": \"Glyma.13G371000.1\",\n",
      "                      \"length\": 0.076120367,\n",
      "                      \"children\": []\n",
      "                    },\n",
      "                    {\n",
      "                      \"name\": \"1.000\",\n",
      "                      \"length\": 0.074762326,\n",
      "                      \"children\": [\n",
      "                        {\n",
      "                          \"name\": \"Medtr2g064495.1\",\n",
      "                          \"length\": 0.004420166,\n",
      "                          \"children\": []\n",
      "                        },\n",
      "                        {\n",
      "                          \"name\": \"Medtr2g105330.1\",\n",
      "                          \"length\": 0.009432056,\n",
      "                          \"children\": []\n",
      "                        }\n",
      "                      ]\n",
      "                    }\n",
      "                  ]\n",
      "                },\n",
      "                {\n",
      "                  \"name\": \"0.952\",\n",
      "                  \"length\": 0.026108439,\n",
      "                  \"children\": [\n",
      "                    {\n",
      "                      \"name\": \"0.222\",\n",
      "                      \"length\": 0.017905654,\n",
      "                      \"children\": [\n",
      "                        {\n",
      "                          \"name\": \"Medtr4g007540.1\",\n",
      "                          \"length\": 0.040208304,\n",
      "                          \"children\": []\n",
      "                        },\n",
      "                        {\n",
      "                          \"name\": \"Medtr8g075610.1\",\n",
      "                          \"length\": 0.266850231,\n",
      "                          \"children\": []\n",
      "                        }\n",
      "                      ]\n",
      "                    },\n",
      "                    {\n",
      "                      \"name\": \"0.973\",\n",
      "                      \"length\": 0.027811525,\n",
      "                      \"children\": [\n",
      "                        {\n",
      "                          \"name\": \"Glyma.08G220200.1\",\n",
      "                          \"length\": 0.035768919,\n",
      "                          \"children\": []\n",
      "                        },\n",
      "                        {\n",
      "                          \"name\": \"Glyma.07G021600.1\",\n",
      "                          \"length\": 0.008637623,\n",
      "                          \"children\": []\n",
      "                        }\n",
      "                      ]\n",
      "                    }\n",
      "                  ]\n",
      "                }\n",
      "              ]\n",
      "            }\n",
      "          ]\n",
      "        }\n",
      "      ]\n",
      "    }\n",
      "  ]\n",
      "}\n"
     ]
    }
   ],
   "source": [
    "tree = Tree.from_newick(filename='./data/tree.newick')\n",
    "print(tree.to_json(indent=2))"
   ]
  },
  {
   "cell_type": "code",
   "execution_count": 4,
   "metadata": {},
   "outputs": [
    {
     "name": "stdout",
     "output_type": "stream",
     "text": [
      "Tree(name='1.000', length=0.159121648, children=[Tree(name='Eucgr.F03978.1', length=0.022217443, children=[]), Tree(name='0.989', length=0.033587992, children=[Tree(name='Eucgr.F03972.1', length=0.049020651, children=[]), Tree(name='0.992', length=0.028383846, children=[Tree(name='Eucgr.F03974.1', length=0.016885197, children=[]), Tree(name='Eucgr.F03973.1', length=0.031615842, children=[])])])])\n"
     ]
    }
   ],
   "source": [
    "print(tree.iloc[3].parent)"
   ]
  },
  {
   "cell_type": "code",
   "execution_count": 5,
   "metadata": {},
   "outputs": [
    {
     "data": {
      "text/plain": [
       "array([1, 1, 1, 0, 0, 0])"
      ]
     },
     "execution_count": 5,
     "metadata": {},
     "output_type": "execute_result"
    }
   ],
   "source": [
    "from sklearn.cluster import AgglomerativeClustering\n",
    "import numpy as np\n",
    "X = np.array([[1, 2], [1, 4], [1, 0],\n",
    "              [4, 2], [4, 4], [4, 0]])\n",
    "clustering = AgglomerativeClustering().fit(X)\n",
    "clustering.labels_\n"
   ]
  },
  {
   "cell_type": "code",
   "execution_count": 6,
   "metadata": {},
   "outputs": [
    {
     "name": "stdout",
     "output_type": "stream",
     "text": [
      "None None\n",
      "None None\n",
      "None None\n"
     ]
    }
   ],
   "source": [
    "tree = Tree(children=[Tree(),Tree()])\n",
    "for t in tree.depth_first():\n",
    "    print(t.ID,t.name)"
   ]
  },
  {
   "cell_type": "code",
   "execution_count": 7,
   "metadata": {},
   "outputs": [
    {
     "data": {
      "text/plain": [
       "Tree(name=None, length=0.0, children=[])"
      ]
     },
     "execution_count": 7,
     "metadata": {},
     "output_type": "execute_result"
    }
   ],
   "source": [
    "t.iloc[None]"
   ]
  },
  {
   "cell_type": "code",
   "execution_count": 8,
   "metadata": {},
   "outputs": [
    {
     "data": {
      "text/plain": [
       "'((2,(0,1)),(4,(3,5)));'"
      ]
     },
     "execution_count": 8,
     "metadata": {},
     "output_type": "execute_result"
    }
   ],
   "source": [
    "tree = Tree.from_sklearn(clustering)\n",
    "tree.to_newick(branch_lengths=False)"
   ]
  },
  {
   "cell_type": "code",
   "execution_count": 9,
   "metadata": {},
   "outputs": [
    {
     "data": {
      "text/plain": [
       "Tree(name=None, length=0.0, children=[{'name': None, 'length': 0.0, 'children': [{'name': '2', 'length': 0.0, 'children': []}, {'name': None, 'length': 0.0, 'children': [{'name': '0', 'length': 0.0, 'children': []}, {'name': '1', 'length': 0.0, 'children': []}]}]}, {'name': None, 'length': 0.0, 'children': [{'name': '4', 'length': 0.0, 'children': []}, {'name': None, 'length': 0.0, 'children': [{'name': '3', 'length': 0.0, 'children': []}, {'name': '5', 'length': 0.0, 'children': []}]}]}])"
      ]
     },
     "execution_count": 9,
     "metadata": {},
     "output_type": "execute_result"
    }
   ],
   "source": [
    "Tree(**tree.to_dict())"
   ]
  },
  {
   "cell_type": "code",
   "execution_count": 10,
   "metadata": {},
   "outputs": [],
   "source": [
    "tree.iloc[1].name = 'long name'"
   ]
  },
  {
   "cell_type": "code",
   "execution_count": 11,
   "metadata": {},
   "outputs": [
    {
     "name": "stdout",
     "output_type": "stream",
     "text": [
      "{\n",
      "  \"name\": null,\n",
      "  \"length\": 0.0,\n",
      "  \"children\": [\n",
      "    {\n",
      "      \"name\": null,\n",
      "      \"length\": 0.0,\n",
      "      \"children\": [\n",
      "        {\n",
      "          \"name\": \"2\",\n",
      "          \"length\": 0.0,\n",
      "          \"children\": []\n",
      "        },\n",
      "        {\n",
      "          \"name\": null,\n",
      "          \"length\": 0.0,\n",
      "          \"children\": [\n",
      "            {\n",
      "              \"name\": \"0\",\n",
      "              \"length\": 0.0,\n",
      "              \"children\": []\n",
      "            },\n",
      "            {\n",
      "              \"name\": \"long name\",\n",
      "              \"length\": 0.0,\n",
      "              \"children\": []\n",
      "            }\n",
      "          ]\n",
      "        }\n",
      "      ]\n",
      "    },\n",
      "    {\n",
      "      \"name\": null,\n",
      "      \"length\": 0.0,\n",
      "      \"children\": [\n",
      "        {\n",
      "          \"name\": \"4\",\n",
      "          \"length\": 0.0,\n",
      "          \"children\": []\n",
      "        },\n",
      "        {\n",
      "          \"name\": null,\n",
      "          \"length\": 0.0,\n",
      "          \"children\": [\n",
      "            {\n",
      "              \"name\": \"3\",\n",
      "              \"length\": 0.0,\n",
      "              \"children\": []\n",
      "            },\n",
      "            {\n",
      "              \"name\": \"5\",\n",
      "              \"length\": 0.0,\n",
      "              \"children\": []\n",
      "            }\n",
      "          ]\n",
      "        }\n",
      "      ]\n",
      "    }\n",
      "  ]\n",
      "}\n"
     ]
    }
   ],
   "source": [
    "print(tree.to_json(indent=2))"
   ]
  },
  {
   "cell_type": "code",
   "execution_count": 12,
   "metadata": {},
   "outputs": [
    {
     "data": {
      "image/png": "[encoded data removed]",
      "text/plain": [
       "<Figure size 1080x360 with 3 Axes>"
      ]
     },
     "metadata": {},
     "output_type": "display_data"
    }
   ],
   "source": [
    "from matplotlib import pyplot as plt\n",
    "fig, [ax1, ax2, ax3] = plt.subplots(ncols=3,figsize=(15, 5))\n",
    "\n",
    "picea.treeplot(tree, style='radial', ltr=True, ax=ax1)\n",
    "picea.treeplot(tree, style='square', ltr=True, ax=ax2)\n",
    "picea.treeplot(tree, style='triangular', ltr=True, ax=ax3)\n",
    "\n",
    "for ax in (ax1,ax2,ax3):\n",
    "    ax.scatter((0,0),(0,0),c='red')\n"
   ]
  },
  {
   "cell_type": "code",
   "execution_count": 13,
   "metadata": {},
   "outputs": [
    {
     "data": {
      "text/plain": [
       "<matplotlib.collections.PathCollection at 0x1a1f586410>"
      ]
     },
     "execution_count": 13,
     "metadata": {},
     "output_type": "execute_result"
    },
    {
     "data": {
      "image/png": "[encoded data removed]",
      "text/plain": [
       "<Figure size 720x720 with 1 Axes>"
      ]
     },
     "metadata": {},
     "output_type": "display_data"
    }
   ],
   "source": [
    "fig, ax = plt.subplots(figsize=(10, 10))\n",
    "picea.treeplot(tree, style='radial', ax=ax)\n",
    "\n",
    "ax.scatter((0,0),(0,0),c='red')"
   ]
  },
  {
   "cell_type": "code",
   "execution_count": 14,
   "metadata": {},
   "outputs": [
    {
     "data": {
      "text/plain": [
       "TwoDCoordinate(x=1, y=1)"
      ]
     },
     "execution_count": 14,
     "metadata": {},
     "output_type": "execute_result"
    }
   ],
   "source": [
    "import numpy as np\n",
    "from dataclasses import dataclass\n",
    "\n",
    "@dataclass\n",
    "class TwoDCoordinate():\n",
    "    x: float = 0.0\n",
    "    y: float = 0.0\n",
    "    \n",
    "    def __iter__(self):\n",
    "        yield from (self.x, self.y)\n",
    "    \n",
    "    def to_polar(self):\n",
    "        return TwoDCoordinate(\n",
    "            x = self.x * np.cos(self.y), \n",
    "            y = self.x * np.sin(self.y)\n",
    "        )\n",
    "    \n",
    "    def to_cartesian(self):\n",
    "        return TwoDCoordinate(\n",
    "            x = np.sqrt(self.x ** 2 + self.y ** 2),\n",
    "            y = np.arctan2(self.y, self.x)\n",
    "        )\n",
    "\n",
    "c = TwoDCoordinate(x=1, y=1)\n",
    "\n",
    "c"
   ]
  },
  {
   "cell_type": "code",
   "execution_count": 15,
   "metadata": {},
   "outputs": [
    {
     "data": {
      "text/plain": [
       "TwoDCoordinate(x=1.0000000000000002, y=1.0)"
      ]
     },
     "execution_count": 15,
     "metadata": {},
     "output_type": "execute_result"
    }
   ],
   "source": [
    "c.to_cartesian().to_polar()"
   ]
  },
  {
   "cell_type": "code",
   "execution_count": 16,
   "metadata": {},
   "outputs": [
    {
     "data": {
      "text/plain": [
       "TwoDCoordinate(x=1.0, y=1.0)"
      ]
     },
     "execution_count": 16,
     "metadata": {},
     "output_type": "execute_result"
    }
   ],
   "source": [
    "c.to_polar().to_cartesian()"
   ]
  },
  {
   "cell_type": "code",
   "execution_count": 17,
   "metadata": {},
   "outputs": [
    {
     "data": {
      "text/plain": [
       "<matplotlib.collections.PathCollection at 0x1a1f81c5d0>"
      ]
     },
     "execution_count": 17,
     "metadata": {},
     "output_type": "execute_result"
    },
    {
     "data": {
      "image/png": "[encoded data removed]",
      "text/plain": [
       "<Figure size 1440x360 with 2 Axes>"
      ]
     },
     "metadata": {
      "needs_background": "light"
     },
     "output_type": "display_data"
    }
   ],
   "source": [
    "grid = np.array([\n",
    "    [TwoDCoordinate(x,y) for x in np.arange(0, 1.2, .2)] \n",
    "    for y in np.arange(0, np.pi, .1)\n",
    "]).flatten()\n",
    "\n",
    "fig,[ax1,ax2] = plt.subplots(ncols=2, figsize=(20,5))\n",
    "\n",
    "\n",
    "ax1.scatter(*zip(*[[*p] for p in grid]))\n",
    "ax2.scatter(*zip(*[[*p.to_polar()] for p in grid]))\n",
    "\n",
    "points = np.array([TwoDCoordinate(x, x*2) for x in np.arange(0., 1.05, .05)])\n",
    "\n",
    "ax1.scatter(*zip(*[[*p] for p in points]))\n",
    "ax2.scatter(*zip(*[[*p.to_polar()] for p in points]))"
   ]
  },
  {
   "cell_type": "code",
   "execution_count": 18,
   "metadata": {},
   "outputs": [
    {
     "ename": "NameError",
     "evalue": "name 'p1' is not defined",
     "output_type": "error",
     "traceback": [
      "\u001b[0;31m---------------------------------------------------------------------------\u001b[0m",
      "\u001b[0;31mNameError\u001b[0m                                 Traceback (most recent call last)",
      "\u001b[0;32m<ipython-input-18-2b386a6b5d00>\u001b[0m in \u001b[0;36m<module>\u001b[0;34m\u001b[0m\n\u001b[0;32m----> 1\u001b[0;31m \u001b[0mp1\u001b[0m\u001b[0;34m.\u001b[0m\u001b[0mto_polar\u001b[0m\u001b[0;34m(\u001b[0m\u001b[0;34m)\u001b[0m\u001b[0;34m,\u001b[0m\u001b[0mp2\u001b[0m\u001b[0;34m.\u001b[0m\u001b[0mto_polar\u001b[0m\u001b[0;34m(\u001b[0m\u001b[0;34m)\u001b[0m\u001b[0;34m\u001b[0m\u001b[0;34m\u001b[0m\u001b[0m\n\u001b[0m",
      "\u001b[0;31mNameError\u001b[0m: name 'p1' is not defined"
     ]
    }
   ],
   "source": [
    "p1.to_polar(),p2.to_polar()"
   ]
  },
  {
   "cell_type": "code",
   "execution_count": null,
   "metadata": {},
   "outputs": [],
   "source": [
    "from matplotlib.patches import Arc\n",
    "\n",
    "fig,ax = plt.subplots()\n",
    "\n",
    "arc = Arc( (.5, .5) , width=.5, height=.5, theta1=10, theta2=100)\n",
    "ax.add_patch(arc)"
   ]
  },
  {
   "cell_type": "code",
   "execution_count": null,
   "metadata": {},
   "outputs": [],
   "source": [
    "layout = picea.calculate_tree_layout(tree,style='radial')\n",
    "layout"
   ]
  },
  {
   "cell_type": "code",
   "execution_count": null,
   "metadata": {},
   "outputs": [],
   "source": [
    "layout[0].to_cartesian()"
   ]
  },
  {
   "cell_type": "code",
   "execution_count": 21,
   "metadata": {},
   "outputs": [
    {
     "data": {
      "text/plain": [
       "'1.4.0'"
      ]
     },
     "execution_count": 21,
     "metadata": {},
     "output_type": "execute_result"
    }
   ],
   "source": [
    "import torch\n",
    "torch.__version__"
   ]
  }
 ],
 "metadata": {
  "kernelspec": {
   "display_name": "py37",
   "language": "python",
   "name": "py37"
  },
  "language_info": {
   "codemirror_mode": {
    "name": "ipython",
    "version": 3
   },
   "file_extension": ".py",
   "mimetype": "text/x-python",
   "name": "python",
   "nbconvert_exporter": "python",
   "pygments_lexer": "ipython3",
   "version": "3.7.6"
  }
 },
 "nbformat": 4,
 "nbformat_minor": 4
}
