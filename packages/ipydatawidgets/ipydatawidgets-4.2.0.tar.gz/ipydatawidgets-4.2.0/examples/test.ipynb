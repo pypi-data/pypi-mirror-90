{
 "cells": [
  {
   "cell_type": "code",
   "execution_count": 1,
   "metadata": {},
   "outputs": [],
   "source": [
    "import ipydatawidgets\n",
    "import numpy as np\n",
    "np.random.seed(0)"
   ]
  },
  {
   "cell_type": "code",
   "execution_count": 2,
   "metadata": {},
   "outputs": [],
   "source": [
    "data = np.random.rand(100, 100)"
   ]
  },
  {
   "cell_type": "code",
   "execution_count": 3,
   "metadata": {},
   "outputs": [],
   "source": [
    "w = ipydatawidgets.NDArrayWidget(array=data)"
   ]
  },
  {
   "cell_type": "code",
   "execution_count": 4,
   "metadata": {},
   "outputs": [
    {
     "data": {
      "text/plain": [
       "array([[0.5488135 , 0.71518937, 0.60276338, ..., 0.02010755, 0.82894003,\n",
       "        0.00469548],\n",
       "       [0.67781654, 0.27000797, 0.73519402, ..., 0.25435648, 0.05802916,\n",
       "        0.43441663],\n",
       "       [0.31179588, 0.69634349, 0.37775184, ..., 0.86219152, 0.97291949,\n",
       "        0.96083466],\n",
       "       ...,\n",
       "       [0.89111234, 0.26867428, 0.84028499, ..., 0.5736796 , 0.73729114,\n",
       "        0.22519844],\n",
       "       [0.26969792, 0.73882539, 0.80714479, ..., 0.94836806, 0.88130699,\n",
       "        0.1419334 ],\n",
       "       [0.88498232, 0.19701397, 0.56861333, ..., 0.75842952, 0.02378743,\n",
       "        0.81357508]])"
      ]
     },
     "execution_count": 4,
     "metadata": {},
     "output_type": "execute_result"
    }
   ],
   "source": [
    "w.array"
   ]
  },
  {
   "cell_type": "code",
   "execution_count": 5,
   "metadata": {
    "tags": [
     "nbval-ignore-output"
    ]
   },
   "outputs": [
    {
     "name": "stderr",
     "output_type": "stream",
     "text": [
      "c:\\dev\\ipydatawidgets\\ipydatawidgets\\ndarray\\serializers.py:62: UserWarning: Cannot serialize (u)int64 data, Javascript does not support it. Casting to (u)int32.\n",
      "  warnings.warn('Cannot serialize (u)int64 data, Javascript does not support it. '\n"
     ]
    }
   ],
   "source": [
    "# Warns when serializing dtype (u)int64:\n",
    "w.array = np.array([1, 2, 3], dtype=np.int64)"
   ]
  },
  {
   "cell_type": "code",
   "execution_count": 6,
   "metadata": {},
   "outputs": [
    {
     "data": {
      "text/plain": [
       "dtype('int64')"
      ]
     },
     "execution_count": 6,
     "metadata": {},
     "output_type": "execute_result"
    }
   ],
   "source": [
    "w.array.dtype"
   ]
  },
  {
   "cell_type": "code",
   "execution_count": null,
   "metadata": {},
   "outputs": [],
   "source": []
  }
 ],
 "metadata": {
  "kernelspec": {
   "display_name": "Python 3",
   "language": "python",
   "name": "python3"
  },
  "language_info": {
   "codemirror_mode": {
    "name": "ipython",
    "version": 3
   },
   "file_extension": ".py",
   "mimetype": "text/x-python",
   "name": "python",
   "nbconvert_exporter": "python",
   "pygments_lexer": "ipython3",
   "version": "3.6.5"
  }
 },
 "nbformat": 4,
 "nbformat_minor": 2
}
