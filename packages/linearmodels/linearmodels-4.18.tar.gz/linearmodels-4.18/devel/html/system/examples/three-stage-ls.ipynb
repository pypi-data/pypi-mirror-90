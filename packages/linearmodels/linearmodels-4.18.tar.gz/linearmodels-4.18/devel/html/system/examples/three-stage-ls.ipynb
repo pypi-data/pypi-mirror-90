{
 "cells": [
  {
   "cell_type": "markdown",
   "metadata": {},
   "source": [
    "# Three-stage Least Squares (3SLS)\n",
    "\n",
    "This example demonstrates how a system of simultaneous equations can be jointly estimated using three-stage least squares (3SLS).  The simultaneous equations model the wage and number of hours worked.  The two equations are \n",
    "\n",
    "$$\n",
    "\\begin{eqnarray}\n",
    "hours & = & \\beta_0 + \\beta_1 \\ln(wage) + \\beta_2 educ + \\beta_3 age + \\beta_4 kidslt6 + \\beta_5 nwifeinc + \\epsilon^h_i \n",
    "\\\\\n",
    "\\ln(wage) & = & \\gamma_0 + \\gamma_1 hours + \\gamma_2 educ + \\gamma_3 educ^2 + \\gamma_4 exper + \\epsilon^w_i \n",
    "\\end{eqnarray}\n",
    "$$\n",
    "\n",
    "Each equation has a single exogenous variables.  The instruments for the endogenous variables are the regressors that appear in one equation but not the other. "
   ]
  },
  {
   "cell_type": "markdown",
   "metadata": {},
   "source": [
    "## Data\n",
    "\n",
    "The data set is the MORZ data set from Wooldridge (2002)."
   ]
  },
  {
   "cell_type": "code",
   "execution_count": 1,
   "metadata": {},
   "outputs": [],
   "source": [
    "from linearmodels.datasets import mroz\n",
    "data = mroz.load()"
   ]
  },
  {
   "cell_type": "markdown",
   "metadata": {},
   "source": [
    "Here the relevant variables are selected and missing observations are dropped to avoid warnings."
   ]
  },
  {
   "cell_type": "code",
   "execution_count": 2,
   "metadata": {},
   "outputs": [],
   "source": [
    "data = data[[\"hours\",\"educ\",\"age\",\"kidslt6\",\"nwifeinc\",\"lwage\",\"exper\",\"expersq\"]]\n",
    "data = data.dropna()"
   ]
  },
  {
   "cell_type": "markdown",
   "metadata": {},
   "source": [
    "The main models are imported:\n",
    "\n",
    "* `IV2SLS` - single equation 2-stage least squares\n",
    "* `IV3SLS` - system estimation using instrumental variables\n",
    "* `SUR` - system estimation without endogenous variables\n"
   ]
  },
  {
   "cell_type": "code",
   "execution_count": 3,
   "metadata": {},
   "outputs": [],
   "source": [
    "from linearmodels import IV2SLS, IV3SLS, SUR, IVSystemGMM"
   ]
  },
  {
   "cell_type": "markdown",
   "metadata": {},
   "source": [
    "## Formulas\n",
    "\n",
    "These examples use the formula interface.  This is usually simpler when models have exogenous regressors, endogenous regressors and instruments.  The syntax is the same as in the 2SLS models."
   ]
  },
  {
   "cell_type": "code",
   "execution_count": 4,
   "metadata": {},
   "outputs": [
    {
     "name": "stdout",
     "output_type": "stream",
     "text": [
      "                          IV-2SLS Estimation Summary                          \n",
      "==============================================================================\n",
      "Dep. Variable:                  hours   R-squared:                      0.1903\n",
      "Estimator:                    IV-2SLS   Adj. R-squared:                 0.1807\n",
      "No. Observations:                 428   F-statistic:                    399.30\n",
      "Date:                Mon, Dec 14 2020   P-value (F-stat)                0.0000\n",
      "Time:                        16:47:04   Distribution:                  chi2(5)\n",
      "Cov. Estimator:            unadjusted                                         \n",
      "                                                                              \n",
      "                             Parameter Estimates                              \n",
      "==============================================================================\n",
      "            Parameter  Std. Err.     T-stat    P-value    Lower CI    Upper CI\n",
      "------------------------------------------------------------------------------\n",
      "educ          -99.299     48.997    -2.0266     0.0427     -195.33     -3.2666\n",
      "age            19.429     6.2770     3.0952     0.0020      7.1261      31.732\n",
      "kidslt6       -51.616     183.96    -0.2806     0.7790     -412.18      308.95\n",
      "nwifeinc      -11.445     6.6787    -1.7137     0.0866     -24.535      1.6449\n",
      "lwage          1626.3     472.19     3.4442     0.0006      700.85      2551.8\n",
      "==============================================================================\n",
      "\n",
      "Endogenous: lwage\n",
      "Instruments: exper, expersq\n",
      "Unadjusted Covariance (Homoskedastic)\n",
      "Debiased: False\n"
     ]
    }
   ],
   "source": [
    "hours = \"hours ~ educ + age + kidslt6 + nwifeinc + [lwage ~ exper + expersq]\"\n",
    "\n",
    "hours_mod = IV2SLS.from_formula(hours, data)\n",
    "hours_res = hours_mod.fit(cov_type=\"unadjusted\")\n",
    "print(hours_res)"
   ]
  },
  {
   "cell_type": "markdown",
   "metadata": {},
   "source": [
    "The $\\ln$ wage model can be similarly specified and estimated"
   ]
  },
  {
   "cell_type": "code",
   "execution_count": 5,
   "metadata": {},
   "outputs": [
    {
     "name": "stdout",
     "output_type": "stream",
     "text": [
      "                          IV-2SLS Estimation Summary                          \n",
      "==============================================================================\n",
      "Dep. Variable:                  lwage   R-squared:                      0.7582\n",
      "Estimator:                    IV-2SLS   Adj. R-squared:                 0.7559\n",
      "No. Observations:                 428   F-statistic:                    1362.4\n",
      "Date:                Mon, Dec 14 2020   P-value (F-stat)                0.0000\n",
      "Time:                        16:47:04   Distribution:                  chi2(4)\n",
      "Cov. Estimator:            unadjusted                                         \n",
      "                                                                              \n",
      "                             Parameter Estimates                              \n",
      "==============================================================================\n",
      "            Parameter  Std. Err.     T-stat    P-value    Lower CI    Upper CI\n",
      "------------------------------------------------------------------------------\n",
      "educ           0.0875     0.0162     5.3892     0.0000      0.0557      0.1193\n",
      "exper          0.0524     0.0299     1.7501     0.0801     -0.0063      0.1110\n",
      "expersq       -0.0009     0.0006    -1.4898     0.1363     -0.0021      0.0003\n",
      "hours         -0.0003     0.0003    -0.8666     0.3862     -0.0009      0.0004\n",
      "==============================================================================\n",
      "\n",
      "Endogenous: hours\n",
      "Instruments: age, kidslt6, nwifeinc\n",
      "Unadjusted Covariance (Homoskedastic)\n",
      "Debiased: False\n"
     ]
    }
   ],
   "source": [
    "lwage = \"lwage ~ educ + exper + expersq + [hours ~ age + kidslt6 + nwifeinc]\"\n",
    "\n",
    "lwage_mod = IV2SLS.from_formula(lwage, data)\n",
    "lwage_res = lwage_mod.fit(cov_type=\"unadjusted\")\n",
    "print(lwage_res)"
   ]
  },
  {
   "cell_type": "markdown",
   "metadata": {},
   "source": [
    "A system can be specified using a dictionary for formulas.  The dictionary keys are used as equation labels. Aside from this simple change, the syntax is identical.  \n",
    "\n",
    "Here the model is estimated using `method=\"ols\"` which will just simultaneously estimate the two equations but will produce estimates that are identical to separate equations. "
   ]
  },
  {
   "cell_type": "code",
   "execution_count": 6,
   "metadata": {},
   "outputs": [
    {
     "name": "stdout",
     "output_type": "stream",
     "text": [
      "                           System OLS Estimation Summary                           \n",
      "===================================================================================\n",
      "Estimator:                        OLS   Overall R-squared:                   0.1903\n",
      "No. Equations.:                     2   McElroy's R-squared:                 0.1276\n",
      "No. Observations:                 428   Judge's (OLS) R-squared:            -2.0961\n",
      "Date:                Mon, Dec 14 2020   Berndt's R-squared:                 -0.7279\n",
      "Time:                        16:47:05   Dhrymes's R-squared:                 0.1903\n",
      "                                        Cov. Estimator:                  unadjusted\n",
      "                                        Num. Constraints:                      None\n",
      "                  Equation: hours, Dependent Variable: hours                  \n",
      "==============================================================================\n",
      "            Parameter  Std. Err.     T-stat    P-value    Lower CI    Upper CI\n",
      "------------------------------------------------------------------------------\n",
      "educ          -99.299     48.997    -2.0266     0.0427     -195.33     -3.2666\n",
      "age            19.429     6.2770     3.0952     0.0020      7.1261      31.732\n",
      "kidslt6       -51.616     183.96    -0.2806     0.7790     -412.18      308.95\n",
      "nwifeinc      -11.445     6.6787    -1.7137     0.0866     -24.535      1.6449\n",
      "lwage          1626.3     472.19     3.4442     0.0006      700.85      2551.8\n",
      "                                                                              \n",
      "==============\n",
      " Instruments  \n",
      "--------------\n",
      "exper, expersq\n",
      "              \n",
      "                  Equation: lwage, Dependent Variable: lwage                  \n",
      "==============================================================================\n",
      "            Parameter  Std. Err.     T-stat    P-value    Lower CI    Upper CI\n",
      "------------------------------------------------------------------------------\n",
      "educ           0.0875     0.0162     5.3892     0.0000      0.0557      0.1193\n",
      "exper          0.0524     0.0299     1.7501     0.0801     -0.0063      0.1110\n",
      "expersq       -0.0009     0.0006    -1.4898     0.1363     -0.0021      0.0003\n",
      "hours         -0.0003     0.0003    -0.8666     0.3862     -0.0009      0.0004\n",
      "======================\n",
      "     Instruments      \n",
      "----------------------\n",
      "age, kidslt6, nwifeinc\n",
      "----------------------\n",
      "\n",
      "Covariance Estimator:\n",
      "Homoskedastic (Unadjusted) Covariance (Debiased: False, GLS: False)\n"
     ]
    }
   ],
   "source": [
    "equations = dict(hours=hours, lwage=lwage)\n",
    "system_2sls = IV3SLS.from_formula(equations, data)\n",
    "system_2sls_res = system_2sls.fit(method=\"ols\", cov_type=\"unadjusted\")\n",
    "print(system_2sls_res)"
   ]
  },
  {
   "cell_type": "markdown",
   "metadata": {},
   "source": [
    "Using `method=\"gls\"` will use GLS estimates which can be more efficient than the usual estimates. Here only the first equation changes.  This is due to the structure of the problem."
   ]
  },
  {
   "cell_type": "code",
   "execution_count": 7,
   "metadata": {},
   "outputs": [
    {
     "name": "stdout",
     "output_type": "stream",
     "text": [
      "                           System GLS Estimation Summary                           \n",
      "===================================================================================\n",
      "Estimator:                        GLS   Overall R-squared:                   0.0120\n",
      "No. Equations.:                     2   McElroy's R-squared:                 0.0873\n",
      "No. Observations:                 428   Judge's (OLS) R-squared:            -2.7778\n",
      "Date:                Mon, Dec 14 2020   Berndt's R-squared:                 -0.7279\n",
      "Time:                        16:47:05   Dhrymes's R-squared:                 0.0120\n",
      "                                        Cov. Estimator:                  unadjusted\n",
      "                                        Num. Constraints:                      None\n",
      "                  Equation: hours, Dependent Variable: hours                  \n",
      "==============================================================================\n",
      "            Parameter  Std. Err.     T-stat    P-value    Lower CI    Upper CI\n",
      "------------------------------------------------------------------------------\n",
      "educ          -109.90     48.052    -2.2870     0.0222     -204.08     -15.716\n",
      "age            13.651     5.5456     2.4617     0.0138      2.7822      24.521\n",
      "kidslt6       -196.61     170.04    -1.1563     0.2476     -529.88      136.66\n",
      "nwifeinc      -6.4136     5.4646    -1.1736     0.2405     -17.124      4.2969\n",
      "lwage          1872.7     461.13     4.0611     0.0000      968.88      2776.5\n",
      "                                                                              \n",
      "==============\n",
      " Instruments  \n",
      "--------------\n",
      "exper, expersq\n",
      "              \n",
      "                  Equation: lwage, Dependent Variable: lwage                  \n",
      "==============================================================================\n",
      "            Parameter  Std. Err.     T-stat    P-value    Lower CI    Upper CI\n",
      "------------------------------------------------------------------------------\n",
      "educ           0.0859     0.0159     5.3864     0.0000      0.0546      0.1171\n",
      "exper          0.0550     0.0295     1.8622     0.0626     -0.0029      0.1128\n",
      "expersq       -0.0010     0.0006    -1.7539     0.0794     -0.0022      0.0001\n",
      "hours         -0.0003     0.0003    -0.8398     0.4010     -0.0009      0.0004\n",
      "======================\n",
      "     Instruments      \n",
      "----------------------\n",
      "age, kidslt6, nwifeinc\n",
      "----------------------\n",
      "\n",
      "Covariance Estimator:\n",
      "Homoskedastic (Unadjusted) Covariance (Debiased: False, GLS: True)\n"
     ]
    }
   ],
   "source": [
    "equations = dict(hours=hours, lwage=lwage)\n",
    "system_3sls = IV3SLS.from_formula(equations, data)\n",
    "system_3sls_res = system_3sls.fit(method=\"gls\", cov_type=\"unadjusted\")\n",
    "print(system_3sls_res)"
   ]
  },
  {
   "cell_type": "markdown",
   "metadata": {},
   "source": [
    "## Direct Model Specification\n",
    "\n",
    "The model can be directly specified using a dictionary of dictionaries where the inner dictionaries contain the 4 components of the model:\n",
    "\n",
    "* dependent - The dependent variable\n",
    "* exog - Exogenous regressors\n",
    "* endog - Endogenous regressors\n",
    "* instruments - Instrumental variables\n",
    "\n",
    "The estimates are the same.  This interface is more useful for programmatically generating and estimating models."
   ]
  },
  {
   "cell_type": "code",
   "execution_count": 8,
   "metadata": {},
   "outputs": [
    {
     "name": "stdout",
     "output_type": "stream",
     "text": [
      "                           System GLS Estimation Summary                           \n",
      "===================================================================================\n",
      "Estimator:                        GLS   Overall R-squared:                   0.0120\n",
      "No. Equations.:                     2   McElroy's R-squared:                 0.0873\n",
      "No. Observations:                 428   Judge's (OLS) R-squared:            -2.7778\n",
      "Date:                Mon, Dec 14 2020   Berndt's R-squared:                 -0.7279\n",
      "Time:                        16:47:05   Dhrymes's R-squared:                 0.0120\n",
      "                                        Cov. Estimator:                  unadjusted\n",
      "                                        Num. Constraints:                      None\n",
      "                  Equation: hours, Dependent Variable: hours                  \n",
      "==============================================================================\n",
      "            Parameter  Std. Err.     T-stat    P-value    Lower CI    Upper CI\n",
      "------------------------------------------------------------------------------\n",
      "educ          -109.90     48.052    -2.2870     0.0222     -204.08     -15.716\n",
      "age            13.651     5.5456     2.4617     0.0138      2.7822      24.521\n",
      "kidslt6       -196.61     170.04    -1.1563     0.2476     -529.88      136.66\n",
      "nwifeinc      -6.4136     5.4646    -1.1736     0.2405     -17.124      4.2969\n",
      "lwage          1872.7     461.13     4.0611     0.0000      968.88      2776.5\n",
      "                                                                              \n",
      "==============\n",
      " Instruments  \n",
      "--------------\n",
      "exper, expersq\n",
      "              \n",
      "                  Equation: lwage, Dependent Variable: lwage                  \n",
      "==============================================================================\n",
      "            Parameter  Std. Err.     T-stat    P-value    Lower CI    Upper CI\n",
      "------------------------------------------------------------------------------\n",
      "educ           0.0859     0.0159     5.3864     0.0000      0.0546      0.1171\n",
      "exper          0.0550     0.0295     1.8622     0.0626     -0.0029      0.1128\n",
      "expersq       -0.0010     0.0006    -1.7539     0.0794     -0.0022      0.0001\n",
      "hours         -0.0003     0.0003    -0.8398     0.4010     -0.0009      0.0004\n",
      "======================\n",
      "     Instruments      \n",
      "----------------------\n",
      "age, kidslt6, nwifeinc\n",
      "----------------------\n",
      "\n",
      "Covariance Estimator:\n",
      "Homoskedastic (Unadjusted) Covariance (Debiased: False, GLS: True)\n"
     ]
    }
   ],
   "source": [
    "hours = {\"dependent\": data[[\"hours\"]],\n",
    "         \"exog\": data[[\"educ\",\"age\",\"kidslt6\",\"nwifeinc\"]],\n",
    "         \"endog\": data[[\"lwage\"]],\n",
    "         \"instruments\": data[[\"exper\",\"expersq\"]]}\n",
    "\n",
    "lwage = {\"dependent\": data[[\"lwage\"]],\n",
    "         \"exog\": data[[\"educ\",\"exper\",\"expersq\"]],\n",
    "         \"endog\": data[[\"hours\"]],\n",
    "         \"instruments\": data[[\"age\",\"kidslt6\",\"nwifeinc\"]]}\n",
    "\n",
    "equations = dict(hours=hours, lwage=lwage)\n",
    "system_3sls = IV3SLS(equations)\n",
    "system_3sls_res = system_3sls.fit(cov_type=\"unadjusted\")\n",
    "print(system_3sls_res)"
   ]
  },
  {
   "cell_type": "markdown",
   "metadata": {},
   "source": [
    "# System GMM Estimation\n",
    "\n",
    "System GMM is an alternative to 3SLS estimation. It is the natural extension to GMM estimation of IV models.  It makes weaker assumptions about instruments than 3SLS does. In particular, instruments are assumed exogenous on an equation-by-equation basis rather than the 3SLS assumption that all instruments are exogenous in all equations. \n",
    "\n",
    "The system GMM estimator is similar to the 3SLS estimator except that it requires making a choice about the moment weighting estimator.  Valid options for the weighting estimator are `\"unadjusted\"` or `\"homoskedastic\"` which assumes that residuals are conditionally homoskedastic or `\"robust\"` or `\"heteroskedastic\"` which allows for conditional heteroskedasticity. \n",
    "\n",
    "The System GMM estimator also supports iterative application where it is possible to iterate until convergence.  \n",
    "\n",
    "Here the examples make use of the same data as in the 3SLS example and only use the formula interface. The default uses 2-step (efficient) GMM."
   ]
  },
  {
   "cell_type": "code",
   "execution_count": 9,
   "metadata": {},
   "outputs": [
    {
     "name": "stdout",
     "output_type": "stream",
     "text": [
      "                    System 2-Step System GMM Estimation Summary                    \n",
      "===================================================================================\n",
      "Estimator:          2-Step System GMM   Overall R-squared:                   0.0121\n",
      "No. Equations.:                     2   McElroy's R-squared:                 0.0871\n",
      "No. Observations:                 428   Judge's (OLS) R-squared:            -2.7776\n",
      "Date:                Mon, Dec 14 2020   Berndt's R-squared:                 -0.7268\n",
      "Time:                        16:47:05   Dhrymes's R-squared:                 0.0121\n",
      "                                        Cov. Estimator:                  unadjusted\n",
      "                                        Num. Constraints:                      None\n",
      "                  Equation: hours, Dependent Variable: hours                  \n",
      "==============================================================================\n",
      "            Parameter  Std. Err.     T-stat    P-value    Lower CI    Upper CI\n",
      "------------------------------------------------------------------------------\n",
      "educ          -109.89     48.038    -2.2876     0.0222     -204.05     -15.741\n",
      "age            13.653     5.5440     2.4626     0.0138      2.7868      24.519\n",
      "kidslt6       -196.57     169.99    -1.1564     0.2475     -529.74      136.60\n",
      "nwifeinc      -6.4149     5.4631    -1.1742     0.2403     -17.122      4.2925\n",
      "lwage          1872.6     461.00     4.0621     0.0000      969.08      2776.2\n",
      "                                                                              \n",
      "==============\n",
      " Instruments  \n",
      "--------------\n",
      "exper, expersq\n",
      "              \n",
      "                  Equation: lwage, Dependent Variable: lwage                  \n",
      "==============================================================================\n",
      "            Parameter  Std. Err.     T-stat    P-value    Lower CI    Upper CI\n",
      "------------------------------------------------------------------------------\n",
      "educ           0.0859     0.0159     5.3866     0.0000      0.0546      0.1171\n",
      "exper          0.0550     0.0295     1.8623     0.0626     -0.0029      0.1128\n",
      "expersq       -0.0010     0.0006    -1.7540     0.0794     -0.0022      0.0001\n",
      "hours         -0.0003     0.0003    -0.8398     0.4010     -0.0009      0.0004\n",
      "======================\n",
      "     Instruments      \n",
      "----------------------\n",
      "age, kidslt6, nwifeinc\n",
      "----------------------\n",
      "\n",
      "Covariance Estimator:\n",
      "GMM Homoskedastic (Unadjusted) Covariance\n",
      "Weight Estimator:\n",
      "Homoskedastic (Unadjusted) Weighting (Debiased: False, Center: False)\n"
     ]
    }
   ],
   "source": [
    "equations = dict(hours=\"hours ~ educ + age + kidslt6 + nwifeinc + [lwage ~ exper + expersq]\", \n",
    "                 lwage=\"lwage ~ educ + exper + expersq + [hours ~ age + kidslt6 + nwifeinc]\")\n",
    "system_gmm = IVSystemGMM.from_formula(equations, data, weight_type=\"unadjusted\")\n",
    "system_gmm_res = system_gmm.fit(cov_type=\"unadjusted\")\n",
    "print(system_gmm_res)"
   ]
  },
  {
   "cell_type": "markdown",
   "metadata": {},
   "source": [
    "Robust weighting can be used by setting the `weight_type`.  The number of iterations can be set using `iter_limit`. Overall the parameters do not meaningfully change. "
   ]
  },
  {
   "cell_type": "code",
   "execution_count": 10,
   "metadata": {},
   "outputs": [
    {
     "name": "stdout",
     "output_type": "stream",
     "text": [
      "Number of iterations: 20\n"
     ]
    },
    {
     "name": "stdout",
     "output_type": "stream",
     "text": [
      "                    System Iterative System GMM Estimation Summary                   \n",
      "=====================================================================================\n",
      "Estimator:         Iterative System GMM   Overall R-squared:                  -0.0345\n",
      "No. Equations.:                       2   McElroy's R-squared:                -0.2256\n",
      "No. Observations:                   428   Judge's (OLS) R-squared:            -2.9557\n",
      "Date:                  Mon, Dec 14 2020   Berndt's R-squared:                 -2.0361\n",
      "Time:                          16:47:05   Dhrymes's R-squared:                -0.0345\n",
      "                                          Cov. Estimator:                      robust\n",
      "                                          Num. Constraints:                      None\n",
      "                  Equation: hours, Dependent Variable: hours                  \n",
      "==============================================================================\n",
      "            Parameter  Std. Err.     T-stat    P-value    Lower CI    Upper CI\n",
      "------------------------------------------------------------------------------\n",
      "educ          -118.31     57.508    -2.0572     0.0397     -231.02     -5.5947\n",
      "age            15.027     5.9903     2.5086     0.0121      3.2864      26.768\n",
      "kidslt6       -227.22     216.54    -1.0493     0.2940     -651.64      197.20\n",
      "nwifeinc      -8.2578     5.3146    -1.5538     0.1202     -18.674      2.1587\n",
      "lwage          1933.5     592.77     3.2618     0.0011      771.69      3095.3\n",
      "                                                                              \n",
      "==============\n",
      " Instruments  \n",
      "--------------\n",
      "exper, expersq\n",
      "              \n",
      "                  Equation: lwage, Dependent Variable: lwage                  \n",
      "==============================================================================\n",
      "            Parameter  Std. Err.     T-stat    P-value    Lower CI    Upper CI\n",
      "------------------------------------------------------------------------------\n",
      "educ           0.0967     0.0190     5.0999     0.0000      0.0595      0.1338\n",
      "exper          0.0720     0.0363     1.9840     0.0473      0.0009      0.1430\n",
      "expersq       -0.0013     0.0007    -1.8475     0.0647     -0.0028   8.133e-05\n",
      "hours         -0.0005     0.0004    -1.2298     0.2188     -0.0013      0.0003\n",
      "======================\n",
      "     Instruments      \n",
      "----------------------\n",
      "age, kidslt6, nwifeinc\n",
      "----------------------\n",
      "\n",
      "Covariance Estimator:\n",
      "GMM Heteroskedastic (Robust) Covariance\n",
      "Weight Estimator:\n",
      "Heteroskedastic (Robust) Weighting (Debiased: False, Center: False)\n"
     ]
    }
   ],
   "source": [
    "system_gmm = IVSystemGMM.from_formula(equations, data, weight_type=\"robust\")\n",
    "system_gmm_res = system_gmm.fit(cov_type=\"robust\", iter_limit=100)\n",
    "print(\"Number of iterations: \" + str(system_gmm_res.iterations))\n",
    "print(system_gmm_res)"
   ]
  }
 ],
 "metadata": {
  "kernelspec": {
   "display_name": "Python 3",
   "language": "python",
   "name": "python3"
  },
  "language_info": {
   "codemirror_mode": {
    "name": "ipython",
    "version": 3
   },
   "file_extension": ".py",
   "mimetype": "text/x-python",
   "name": "python",
   "nbconvert_exporter": "python",
   "pygments_lexer": "ipython3",
   "version": "3.8.5"
  },
  "pycharm": {
   "stem_cell": {
    "cell_type": "raw",
    "metadata": {
     "collapsed": false
    },
    "source": []
   }
  }
 },
 "nbformat": 4,
 "nbformat_minor": 2
}
