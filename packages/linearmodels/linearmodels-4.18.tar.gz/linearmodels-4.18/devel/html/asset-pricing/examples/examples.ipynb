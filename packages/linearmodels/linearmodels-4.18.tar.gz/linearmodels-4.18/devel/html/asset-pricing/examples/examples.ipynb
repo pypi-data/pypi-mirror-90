{
 "cells": [
  {
   "cell_type": "markdown",
   "metadata": {},
   "source": [
    "# Examples"
   ]
  },
  {
   "cell_type": "markdown",
   "metadata": {},
   "source": [
    "## General Setup\n",
    "\n",
    "Models include factors and returns.  Factors can be traded or non-traded.  Common examples of traded assets include the excess return on the market and the size and value factors.  Examples of non-traded assets include macroeconomic shocks and measures of uncertainty.  \n",
    "\n",
    "Models are tested using a set of test portfolios. Test portfolios are often excess returns although they do not need to be. "
   ]
  },
  {
   "cell_type": "markdown",
   "metadata": {},
   "source": [
    "## Import data\n",
    "\n",
    "The data used comes from Ken French\"s [website](http://mba.tuck.dartmouth.edu/pages/faculty/ken.french/data_library.html) and includes 4 factor returns, the excess market, the size factor, the value factor and the momentum factor.  The available test portfolios include the 12 industry portfolios, a subset of the size-value two way sort, and a subset of the size-momentum two way sort. "
   ]
  },
  {
   "cell_type": "code",
   "execution_count": 1,
   "metadata": {},
   "outputs": [
    {
     "name": "stdout",
     "output_type": "stream",
     "text": [
      "\n",
      "Data from Ken French's data library\n",
      "http://mba.tuck.dartmouth.edu/pages/faculty/ken.french/data_library.html\n",
      "\n",
      "dates    Year and Month of Return\n",
      "MktRF    Market Factor\n",
      "SMB      Size Factor\n",
      "HML      Value Factor\n",
      "Mom      Momentum Factor\n",
      "RF       Risk-free rate\n",
      "NoDur    Industry: Non-durables\n",
      "Durbl    Industry: Durables\n",
      "Manuf    Industry: Manufacturing\n",
      "Enrgy    Industry: Energy\n",
      "Chems    Industry: Chemicals\n",
      "BusEq    Industry: Business Equipment\n",
      "Telcm    Industry: Telecoms\n",
      "Utils    Industry: Utilities\n",
      "Shops    Industry: Retail\n",
      "Hlth     Industry: Health care\n",
      "Money    Industry: Finance\n",
      "Other    Industry: Other\n",
      "S1V1     Small firms, low value\n",
      "S1V3     Small firms, medium value\n",
      "S1V5     Small firms, high value\n",
      "S3V1     Size 3, value 1\n",
      "S3V3     Size 3, value 3\n",
      "S3V5     Size 3, value 5\n",
      "S5V1     Large firms, Low value\n",
      "S5V3     Large firms, medium value\n",
      "S5V5     Large Firms, High value\n",
      "S1M1     Small firms, losers\n",
      "S1M3     Small firms, neutral\n",
      "S1M5     Small firms, winners\n",
      "S3M1     Size 3, momentum 1\n",
      "S3M3     Size 3, momentum 3\n",
      "S3M5     Size 3, momentum 5\n",
      "S5M1     Large firms, losers\n",
      "S5M3     Large firms, neutral\n",
      "S5M5     Large firms, winners\n",
      "\n"
     ]
    }
   ],
   "source": [
    "from linearmodels.datasets import french\n",
    "data = french.load()\n",
    "print(french.DESCR)"
   ]
  },
  {
   "cell_type": "markdown",
   "metadata": {},
   "source": [
    "## Transform the portfolios to be excesses\n",
    "\n",
    "Subtract the risk-free rate from the test portfolios since these are not zero-investment."
   ]
  },
  {
   "cell_type": "code",
   "execution_count": 2,
   "metadata": {
    "collapsed": true
   },
   "outputs": [],
   "source": [
    "data.iloc[:,6:] = data.iloc[:,6:].values - data[[\"RF\"]].values"
   ]
  },
  {
   "cell_type": "markdown",
   "metadata": {},
   "source": [
    "## 1-Step Estimation using Seemingly Unrelated Regression (SUR)\n",
    "\n",
    "When the factors are traded assets, they must price themselves, and so the observed factor returns can be used to consistently estimate the expected factor returns.  This also allows a set of seemingly unrelated regressions where each test portfolio is regressed on the factors and a constant to estimate factor loadings and $\\alpha$s. \n",
    "\n",
    "Note that when using this type of model, it is essential that the test portfolios are excess returns. This is not a requirement of the other factor model estimators. \n",
    "\n",
    "This specification is a CAP-M since only the market is included.  The J-statistic tests whether all model $\\alpha$s are 0.  The CAP-M is unsurprisingly unable to price the test portfolios."
   ]
  },
  {
   "cell_type": "code",
   "execution_count": 3,
   "metadata": {},
   "outputs": [
    {
     "name": "stdout",
     "output_type": "stream",
     "text": [
      "                      TradedFactorModel Estimation Summary                      \n",
      "================================================================================\n",
      "No. Test Portfolios:                  9   R-squared:                      0.6910\n",
      "No. Factors:                          1   J-statistic:                    70.034\n",
      "No. Observations:                   819   P-value                         0.0000\n",
      "Date:                  Mon, Dec 14 2020   Distribution:                  chi2(9)\n",
      "Time:                          16:46:24                                         \n",
      "Cov. Estimator:                  robust                                         \n",
      "                                                                                \n",
      "                            Risk Premia Estimates                             \n",
      "==============================================================================\n",
      "            Parameter  Std. Err.     T-stat    P-value    Lower CI    Upper CI\n",
      "------------------------------------------------------------------------------\n",
      "MktRF          0.0065     0.0015     4.3553     0.0000      0.0035      0.0094\n",
      "==============================================================================\n",
      "\n",
      "Covariance estimator:\n",
      "HeteroskedasticCovariance\n",
      "See full_summary for complete results\n"
     ]
    }
   ],
   "source": [
    "from linearmodels.asset_pricing import TradedFactorModel\n",
    "portfolios = data[[\"S1V1\",\"S1V3\",\"S1V5\",\"S3V1\",\"S3V3\",\"S3V5\",\"S5V1\",\"S5V3\",\"S5V5\"]]\n",
    "factors = data[[\"MktRF\"]]\n",
    "mod = TradedFactorModel(portfolios, factors)\n",
    "res = mod.fit()\n",
    "print(res)"
   ]
  },
  {
   "cell_type": "markdown",
   "metadata": {},
   "source": [
    "The factor set is expanded to include both the size and the value factors.\n",
    "\n",
    "While the extra factors lower the J statistic and increases the $R^2$, the model is still easily rejected."
   ]
  },
  {
   "cell_type": "code",
   "execution_count": 4,
   "metadata": {},
   "outputs": [
    {
     "name": "stdout",
     "output_type": "stream",
     "text": [
      "                      TradedFactorModel Estimation Summary                      \n",
      "================================================================================\n",
      "No. Test Portfolios:                  9   R-squared:                      0.8971\n",
      "No. Factors:                          3   J-statistic:                    53.271\n",
      "No. Observations:                   819   P-value                         0.0000\n",
      "Date:                  Mon, Dec 14 2020   Distribution:                  chi2(9)\n",
      "Time:                          16:46:24                                         \n",
      "Cov. Estimator:                  robust                                         \n",
      "                                                                                \n",
      "                            Risk Premia Estimates                             \n",
      "==============================================================================\n",
      "            Parameter  Std. Err.     T-stat    P-value    Lower CI    Upper CI\n",
      "------------------------------------------------------------------------------\n",
      "MktRF          0.0065     0.0015     4.3553     0.0000      0.0035      0.0094\n",
      "SMB            0.0016     0.0010     1.6021     0.1091     -0.0004      0.0035\n",
      "HML            0.0035     0.0009     3.6993     0.0002      0.0016      0.0053\n",
      "==============================================================================\n",
      "\n",
      "Covariance estimator:\n",
      "HeteroskedasticCovariance\n",
      "See full_summary for complete results\n"
     ]
    }
   ],
   "source": [
    "factors = data[[\"MktRF\", \"SMB\", \"HML\"]]\n",
    "mod = TradedFactorModel(portfolios, factors)\n",
    "res = mod.fit()\n",
    "print(res)"
   ]
  },
  {
   "cell_type": "markdown",
   "metadata": {},
   "source": [
    "Changing the test portfolios to include only the industry portfolios does not allow factors to price the assets."
   ]
  },
  {
   "cell_type": "code",
   "execution_count": 5,
   "metadata": {},
   "outputs": [
    {
     "name": "stdout",
     "output_type": "stream",
     "text": [
      "                      TradedFactorModel Estimation Summary                      \n",
      "================================================================================\n",
      "No. Test Portfolios:                 12   R-squared:                      0.7118\n",
      "No. Factors:                          3   J-statistic:                    61.617\n",
      "No. Observations:                   819   P-value                         0.0000\n",
      "Date:                  Mon, Dec 14 2020   Distribution:                 chi2(12)\n",
      "Time:                          16:46:24                                         \n",
      "Cov. Estimator:                  robust                                         \n",
      "                                                                                \n",
      "                            Risk Premia Estimates                             \n",
      "==============================================================================\n",
      "            Parameter  Std. Err.     T-stat    P-value    Lower CI    Upper CI\n",
      "------------------------------------------------------------------------------\n",
      "MktRF          0.0065     0.0015     4.3553     0.0000      0.0035      0.0094\n",
      "SMB            0.0016     0.0010     1.6021     0.1091     -0.0004      0.0035\n",
      "HML            0.0035     0.0009     3.6993     0.0002      0.0016      0.0053\n",
      "==============================================================================\n",
      "\n",
      "Covariance estimator:\n",
      "HeteroskedasticCovariance\n",
      "See full_summary for complete results\n"
     ]
    }
   ],
   "source": [
    "indu = [\"NoDur\", \"Durbl\", \"Manuf\", \"Enrgy\", \"Chems\", \"BusEq\", \n",
    "        \"Telcm\", \"Utils\", \"Shops\",  \"Hlth\", \"Money\",  \"Other\"]\n",
    "portfolios = data[indu]\n",
    "mod = TradedFactorModel(portfolios, factors)\n",
    "res = mod.fit()\n",
    "print(res)"
   ]
  },
  {
   "cell_type": "markdown",
   "metadata": {},
   "source": [
    "The estimated factor loadings ($\\beta$s) can be displayed using the `betas` property. There is reasonable dispersion in the factor loadings for all of the factors, except possibly the market which are all close to unity."
   ]
  },
  {
   "cell_type": "code",
   "execution_count": 6,
   "metadata": {},
   "outputs": [
    {
     "name": "stdout",
     "output_type": "stream",
     "text": [
      "          MktRF       SMB       HML\n",
      "NoDur  0.803334 -0.029383  0.080556\n",
      "Durbl  1.176659  0.104124  0.466510\n",
      "Manuf  1.129601  0.094600  0.197135\n",
      "Enrgy  0.913425 -0.234012  0.264609\n",
      "Chems  0.970844 -0.179466  0.092021\n",
      "BusEq  1.152119  0.182299 -0.543462\n",
      "Telcm  0.782811 -0.158395  0.044042\n",
      "Utils  0.605203 -0.175549  0.260051\n",
      "Shops  0.942997  0.135802 -0.010064\n",
      "Hlth   0.864135 -0.213336 -0.315180\n",
      "Money  1.112368 -0.053364  0.378365\n",
      "Other  1.109851  0.304442  0.237830\n"
     ]
    }
   ],
   "source": [
    "print(res.betas)"
   ]
  },
  {
   "cell_type": "code",
   "execution_count": 7,
   "metadata": {},
   "outputs": [
    {
     "data": {
      "text/plain": [
       "<AxesSubplot:>"
      ]
     },
     "execution_count": 7,
     "metadata": {},
     "output_type": "execute_result"
    },
    {
     "data": {
      "image/png": "[encoded data removed]",
      "text/plain": [
       "<Figure size 432x288 with 2 Axes>"
      ]
     },
     "metadata": {
      "needs_background": "light"
     },
     "output_type": "display_data"
    }
   ],
   "source": [
    "import seaborn as sns\n",
    "%matplotlib inline\n",
    "sns.heatmap(res.betas)"
   ]
  },
  {
   "cell_type": "markdown",
   "metadata": {},
   "source": [
    "Similarly the $\\alpha$s can be displayed.  These are monthly returns, and so scaling by 12 shows annualized returns. Healthcare has the largest pricing error. "
   ]
  },
  {
   "cell_type": "code",
   "execution_count": 8,
   "metadata": {},
   "outputs": [
    {
     "data": {
      "text/plain": [
       "NoDur    0.023360\n",
       "Durbl   -0.030919\n",
       "Manuf   -0.010643\n",
       "Enrgy    0.012009\n",
       "Chems    0.002783\n",
       "BusEq    0.024215\n",
       "Telcm    0.009726\n",
       "Utils    0.017078\n",
       "Shops    0.009952\n",
       "Hlth     0.050760\n",
       "Money   -0.015197\n",
       "Other   -0.033345\n",
       "Name: alpha, dtype: float64"
      ]
     },
     "execution_count": 8,
     "metadata": {},
     "output_type": "execute_result"
    }
   ],
   "source": [
    "12 * res.alphas"
   ]
  },
  {
   "cell_type": "markdown",
   "metadata": {},
   "source": [
    "## 2-Step Estimation\n",
    "\n",
    "When one of more factors are not returns on traded assets, it is necessary to use a two-step procedure (or GMM).  In the 2-step estimator, the first estimates factor loadings and the second uses the factor loadings to estimate the risk premia.  \n",
    "\n",
    "Here all four factors are used to attempt to price the size-momentum portfolios."
   ]
  },
  {
   "cell_type": "code",
   "execution_count": 9,
   "metadata": {},
   "outputs": [
    {
     "name": "stdout",
     "output_type": "stream",
     "text": [
      "                      LinearFactorModel Estimation Summary                      \n",
      "================================================================================\n",
      "No. Test Portfolios:                  9   R-squared:                      0.9051\n",
      "No. Factors:                          4   J-statistic:                    36.929\n",
      "No. Observations:                   819   P-value                         0.0000\n",
      "Date:                  Mon, Dec 14 2020   Distribution:                  chi2(5)\n",
      "Time:                          16:46:24                                         \n",
      "Cov. Estimator:                  robust                                         \n",
      "                                                                                \n",
      "                            Risk Premia Estimates                             \n",
      "==============================================================================\n",
      "            Parameter  Std. Err.     T-stat    P-value    Lower CI    Upper CI\n",
      "------------------------------------------------------------------------------\n",
      "MktRF          0.0070     0.0015     4.5385     0.0000      0.0040      0.0100\n",
      "SMB            0.0005     0.0014     0.3381     0.7353     -0.0023      0.0033\n",
      "HML            0.0084     0.0025     3.3085     0.0009      0.0034      0.0133\n",
      "Mom            0.0084     0.0014     5.8072     0.0000      0.0056      0.0112\n",
      "==============================================================================\n",
      "\n",
      "Covariance estimator:\n",
      "HeteroskedasticCovariance\n",
      "See full_summary for complete results\n"
     ]
    }
   ],
   "source": [
    "from linearmodels.asset_pricing import LinearFactorModel\n",
    "factors = data[[\"MktRF\", \"SMB\", \"HML\", \"Mom\"]]\n",
    "portfolios = data[[\"S1M1\",\"S1M3\",\"S1M5\",\"S3M1\",\"S3M3\",\"S3M5\",\"S5M1\",\"S5M3\",\"S5M5\"]]\n",
    "mod = LinearFactorModel(portfolios, factors)\n",
    "res = mod.fit()\n",
    "print(res)"
   ]
  },
  {
   "cell_type": "code",
   "execution_count": 10,
   "metadata": {},
   "outputs": [
    {
     "name": "stdout",
     "output_type": "stream",
     "text": [
      "         MktRF       SMB       HML       Mom\n",
      "S1M1  1.092658  1.224223  0.244844 -0.691191\n",
      "S1M3  0.874285  0.881880  0.459326 -0.082546\n",
      "S1M5  1.047256  1.147949  0.239957  0.297941\n",
      "S3M1  1.156849  0.623684  0.059730 -0.760059\n",
      "S3M3  0.948556  0.467783  0.333619 -0.135465\n",
      "S3M5  1.128861  0.713403  0.051098  0.413705\n",
      "S5M1  1.138597 -0.112936 -0.062397 -0.755032\n",
      "S5M3  0.946214 -0.200052  0.095270 -0.100067\n",
      "S5M5  1.078098 -0.046531 -0.069780  0.467172\n"
     ]
    }
   ],
   "source": [
    "print(res.betas)"
   ]
  },
  {
   "cell_type": "markdown",
   "metadata": {},
   "source": [
    "The identification requirements for this model are the the $\\beta$s have unique variation -- this requires some cross-sectional differences in exposures and that the loadings are not excessively correlated.  Since these test portfolios do not attempt to sort on value, it is relatively non-dispersed and also correlated with both the market and size. This might make the inference unreliable.  "
   ]
  },
  {
   "cell_type": "code",
   "execution_count": 11,
   "metadata": {},
   "outputs": [
    {
     "name": "stdout",
     "output_type": "stream",
     "text": [
      "          MktRF       SMB       HML       Mom\n",
      "MktRF  1.000000 -0.001914 -0.733916 -0.253675\n",
      "SMB   -0.001914  1.000000  0.638056 -0.015628\n",
      "HML   -0.733916  0.638056  1.000000  0.002744\n",
      "Mom   -0.253675 -0.015628  0.002744  1.000000\n"
     ]
    }
   ],
   "source": [
    "print(res.betas.corr())"
   ]
  },
  {
   "cell_type": "markdown",
   "metadata": {},
   "source": [
    "The size factor was insignificant and so is dropped. This does not have much of an effect on the estimates."
   ]
  },
  {
   "cell_type": "code",
   "execution_count": 12,
   "metadata": {},
   "outputs": [
    {
     "name": "stdout",
     "output_type": "stream",
     "text": [
      "                      LinearFactorModel Estimation Summary                      \n",
      "================================================================================\n",
      "No. Test Portfolios:                  9   R-squared:                      0.7915\n",
      "No. Factors:                          3   J-statistic:                    36.406\n",
      "No. Observations:                   819   P-value                         0.0000\n",
      "Date:                  Mon, Dec 14 2020   Distribution:                  chi2(6)\n",
      "Time:                          16:46:24                                         \n",
      "Cov. Estimator:                  robust                                         \n",
      "                                                                                \n",
      "                            Risk Premia Estimates                             \n",
      "==============================================================================\n",
      "            Parameter  Std. Err.     T-stat    P-value    Lower CI    Upper CI\n",
      "------------------------------------------------------------------------------\n",
      "MktRF          0.0073     0.0017     4.3856     0.0000      0.0040      0.0105\n",
      "HML            0.0091     0.0027     3.4361     0.0006      0.0039      0.0143\n",
      "Mom            0.0084     0.0015     5.7507     0.0000      0.0055      0.0113\n",
      "==============================================================================\n",
      "\n",
      "Covariance estimator:\n",
      "HeteroskedasticCovariance\n",
      "See full_summary for complete results\n"
     ]
    }
   ],
   "source": [
    "from linearmodels.asset_pricing import LinearFactorModel\n",
    "factors = data[[\"MktRF\", \"HML\", \"Mom\"]]\n",
    "portfolios = data[[\"S1M1\",\"S1M3\",\"S1M5\",\"S3M1\",\"S3M3\",\"S3M5\",\"S5M1\",\"S5M3\",\"S5M5\"]]\n",
    "mod = LinearFactorModel(portfolios, factors)\n",
    "print(mod.fit())"
   ]
  },
  {
   "cell_type": "markdown",
   "metadata": {},
   "source": [
    "The risk-free rate can be optionally estimated.  This is useful in case excess returns are not available of if the risk-free rate used to construct the excess returns might be misspecified.\n",
    "\n",
    "Here the estimated risk-free rate is small and insignificant and has little impact on the model J-statistic."
   ]
  },
  {
   "cell_type": "code",
   "execution_count": 13,
   "metadata": {},
   "outputs": [
    {
     "name": "stdout",
     "output_type": "stream",
     "text": [
      "                      LinearFactorModel Estimation Summary                      \n",
      "================================================================================\n",
      "No. Test Portfolios:                  9   R-squared:                      0.7915\n",
      "No. Factors:                          3   J-statistic:                    35.995\n",
      "No. Observations:                   819   P-value                         0.0000\n",
      "Date:                  Mon, Dec 14 2020   Distribution:                  chi2(5)\n",
      "Time:                          16:46:24                                         \n",
      "Cov. Estimator:                  robust                                         \n",
      "                                                                                \n",
      "                            Risk Premia Estimates                             \n",
      "==============================================================================\n",
      "            Parameter  Std. Err.     T-stat    P-value    Lower CI    Upper CI\n",
      "------------------------------------------------------------------------------\n",
      "risk_free     -0.0045     0.0079    -0.5607     0.5750     -0.0200      0.0111\n",
      "MktRF          0.0111     0.0076     1.4636     0.1433     -0.0038      0.0259\n",
      "HML            0.0110     0.0053     2.0946     0.0362      0.0007      0.0214\n",
      "Mom            0.0086     0.0014     5.9315     0.0000      0.0058      0.0114\n",
      "==============================================================================\n",
      "\n",
      "Covariance estimator:\n",
      "HeteroskedasticCovariance\n",
      "See full_summary for complete results\n"
     ]
    }
   ],
   "source": [
    "from linearmodels.asset_pricing import LinearFactorModel\n",
    "factors = data[[\"MktRF\", \"HML\", \"Mom\"]]\n",
    "portfolios = data[[\"S1M1\",\"S1M3\",\"S1M5\",\"S3M1\",\"S3M3\",\"S3M5\",\"S5M1\",\"S5M3\",\"S5M5\"]]\n",
    "mod = LinearFactorModel(portfolios, factors, risk_free=True)\n",
    "print(mod.fit())"
   ]
  },
  {
   "cell_type": "markdown",
   "metadata": {},
   "source": [
    "The default covariance estimator allows for heteroskedasticity but assumes there is no autocorrelation in the model errors or factor returns.  Kernel-based HAC estimators (e.g. Newey-West) can be used by setting `cov_type=\"kernel\"`.\n",
    "\n",
    "This reduces the J-statistic indicating there might be some serial correlation although the model is still firmly rejected."
   ]
  },
  {
   "cell_type": "code",
   "execution_count": 14,
   "metadata": {},
   "outputs": [
    {
     "name": "stdout",
     "output_type": "stream",
     "text": [
      "                      LinearFactorModel Estimation Summary                      \n",
      "================================================================================\n",
      "No. Test Portfolios:                  9   R-squared:                      0.7915\n",
      "No. Factors:                          3   J-statistic:                    25.841\n",
      "No. Observations:                   819   P-value                         0.0002\n",
      "Date:                  Mon, Dec 14 2020   Distribution:                  chi2(6)\n",
      "Time:                          16:46:24                                         \n",
      "Cov. Estimator:                  kernel                                         \n",
      "                                                                                \n",
      "                            Risk Premia Estimates                             \n",
      "==============================================================================\n",
      "            Parameter  Std. Err.     T-stat    P-value    Lower CI    Upper CI\n",
      "------------------------------------------------------------------------------\n",
      "MktRF          0.0073     0.0017     4.3094     0.0000      0.0040      0.0106\n",
      "HML            0.0091     0.0031     2.9499     0.0032      0.0031      0.0152\n",
      "Mom            0.0084     0.0014     5.8371     0.0000      0.0056      0.0112\n",
      "==============================================================================\n",
      "\n",
      "Covariance estimator:\n",
      "KernelCovariance, Kernel: bartlett, Bandwidth: 12\n",
      "See full_summary for complete results\n"
     ]
    }
   ],
   "source": [
    "mod = LinearFactorModel(portfolios, factors)\n",
    "print(mod.fit(cov_type=\"kernel\"))"
   ]
  },
  {
   "cell_type": "markdown",
   "metadata": {},
   "source": [
    "## GMM Estimation"
   ]
  },
  {
   "cell_type": "markdown",
   "metadata": {},
   "source": [
    "The final estimator is the GMM estimator which is similar to estimating the 2-step model in a single step.  In practice the GMM estimator is estimated at least twice, once to get an consistent estimate of the covariance of the moment conditions and the second time to efficiently estimate parameters. \n",
    "\n",
    "The GMM estimator does not have a closed form and so a non-linear optimizer is required.  The default output prints the progress every 10 iterations.  Here the model is fit twice, which is the standard method to implement efficient GMM."
   ]
  },
  {
   "cell_type": "code",
   "execution_count": 15,
   "metadata": {},
   "outputs": [
    {
     "name": "stdout",
     "output_type": "stream",
     "text": [
      "Iteration: 0, Objective: 47.75791582803821\n"
     ]
    },
    {
     "name": "stdout",
     "output_type": "stream",
     "text": [
      "Iteration: 10, Objective: 28.102586940152385\n"
     ]
    },
    {
     "name": "stdout",
     "output_type": "stream",
     "text": [
      "Iteration: 20, Objective: 26.361385241451476\n"
     ]
    },
    {
     "name": "stdout",
     "output_type": "stream",
     "text": [
      "Iteration: 30, Objective: 26.019667074165362\n",
      "Iteration: 40, Objective: 22.325343252977138\n"
     ]
    },
    {
     "name": "stdout",
     "output_type": "stream",
     "text": [
      "Warning: Desired error not necessarily achieved due to precision loss.\n",
      "         Current function value: 22.325343\n",
      "         Iterations: 41\n",
      "         Function evaluations: 3071\n",
      "         Gradient evaluations: 90\n",
      "Iteration: 0, Objective: 22.519350269963642\n",
      "Iteration: 10, Objective: 22.30373012882221\n"
     ]
    },
    {
     "name": "stdout",
     "output_type": "stream",
     "text": [
      "Iteration: 20, Objective: 22.226426728069743\n",
      "Iteration: 30, Objective: 22.19308262828376\n"
     ]
    },
    {
     "name": "stdout",
     "output_type": "stream",
     "text": [
      "Optimization terminated successfully.\n",
      "         Current function value: 22.066871\n",
      "         Iterations: 40\n",
      "         Function evaluations: 1904\n",
      "         Gradient evaluations: 56\n",
      "                    LinearFactorModelGMM Estimation Summary                     \n",
      "================================================================================\n",
      "No. Test Portfolios:                  9   R-squared:                      0.7904\n",
      "No. Factors:                          3   J-statistic:                    22.067\n",
      "No. Observations:                   819   P-value                         0.0012\n",
      "Date:                  Mon, Dec 14 2020   Distribution:                  chi2(6)\n",
      "Time:                          16:46:26                                         \n",
      "Cov. Estimator:                  robust                                         \n",
      "                                                                                \n",
      "                            Risk Premia Estimates                             \n",
      "==============================================================================\n",
      "            Parameter  Std. Err.     T-stat    P-value    Lower CI    Upper CI\n",
      "------------------------------------------------------------------------------\n",
      "MktRF          0.0067     0.0015     4.4335     0.0000      0.0037      0.0097\n",
      "HML            0.0135     0.0023     5.8706     0.0000      0.0090      0.0180\n",
      "Mom            0.0094     0.0014     6.5139     0.0000      0.0066      0.0123\n",
      "==============================================================================\n",
      "\n",
      "Covariance estimator:\n",
      "HeteroskedasticCovariance\n",
      "See full_summary for complete results\n"
     ]
    }
   ],
   "source": [
    "from linearmodels.asset_pricing import LinearFactorModelGMM\n",
    "mod = LinearFactorModelGMM(portfolios, factors)\n",
    "res = mod.fit()\n",
    "print(res)"
   ]
  },
  {
   "cell_type": "markdown",
   "metadata": {},
   "source": [
    "Kernel HAC estimators can be used with this estimator as well. Using a kernel HAC covariance also implies a Kernel HAC weighting matrix estimator. \n",
    "\n",
    "Here the GMM estimator along with the HAC estimator indicates that these factors might be able to price this set of 9 test portfolios. `disp=0` is used to suppress iterative output."
   ]
  },
  {
   "cell_type": "code",
   "execution_count": 16,
   "metadata": {},
   "outputs": [
    {
     "name": "stdout",
     "output_type": "stream",
     "text": [
      "                    LinearFactorModelGMM Estimation Summary                     \n",
      "================================================================================\n",
      "No. Test Portfolios:                  9   R-squared:                      0.7901\n",
      "No. Factors:                          3   J-statistic:                    13.833\n",
      "No. Observations:                   819   P-value                         0.0316\n",
      "Date:                  Mon, Dec 14 2020   Distribution:                  chi2(6)\n",
      "Time:                          16:46:27                                         \n",
      "Cov. Estimator:                  kernel                                         \n",
      "                                                                                \n",
      "                            Risk Premia Estimates                             \n",
      "==============================================================================\n",
      "            Parameter  Std. Err.     T-stat    P-value    Lower CI    Upper CI\n",
      "------------------------------------------------------------------------------\n",
      "MktRF          0.0074     0.0014     5.1450     0.0000      0.0046      0.0102\n",
      "HML            0.0137     0.0030     4.5918     0.0000      0.0078      0.0195\n",
      "Mom            0.0078     0.0013     6.0849     0.0000      0.0053      0.0103\n",
      "==============================================================================\n",
      "\n",
      "Covariance estimator:\n",
      "KernelCovariance, Kernel: bartlett, Bandwidth: 20\n",
      "See full_summary for complete results\n"
     ]
    }
   ],
   "source": [
    "res = mod.fit(cov_type=\"kernel\", kernel=\"bartlett\", disp=0)\n",
    "print(res)"
   ]
  },
  {
   "cell_type": "markdown",
   "metadata": {},
   "source": [
    "### Iterating until convergence\n",
    "\n",
    "The standard approach is efficient and uses 2-steps.  The first consistently estimates parameters using a sub-optimal weighting matrix, and the second uses the optimal weighting matrix conditional using the first stage estimates.  \n",
    "\n",
    "This method can be repeated until convergence, or for a fixed number of steps using the `steps` keyword argument."
   ]
  },
  {
   "cell_type": "code",
   "execution_count": 17,
   "metadata": {},
   "outputs": [
    {
     "name": "stdout",
     "output_type": "stream",
     "text": [
      "Iteration: 0, Objective: 47.75791582803821\n"
     ]
    },
    {
     "name": "stdout",
     "output_type": "stream",
     "text": [
      "Iteration: 25, Objective: 26.280320436481503\n"
     ]
    },
    {
     "name": "stdout",
     "output_type": "stream",
     "text": [
      "Warning: Desired error not necessarily achieved due to precision loss.\n",
      "         Current function value: 22.325343\n",
      "         Iterations: 41\n",
      "         Function evaluations: 3071\n",
      "         Gradient evaluations: 90\n",
      "Iteration: 0, Objective: 22.519350269963642\n"
     ]
    },
    {
     "name": "stdout",
     "output_type": "stream",
     "text": [
      "Iteration: 25, Objective: 22.22221744135091\n",
      "Optimization terminated successfully.\n",
      "         Current function value: 22.066871\n",
      "         Iterations: 40\n",
      "         Function evaluations: 1904\n",
      "         Gradient evaluations: 56\n"
     ]
    },
    {
     "name": "stdout",
     "output_type": "stream",
     "text": [
      "Iteration: 0, Objective: 22.0941570545221\n"
     ]
    },
    {
     "name": "stdout",
     "output_type": "stream",
     "text": [
      "Iteration: 25, Objective: 22.09126661859988\n"
     ]
    },
    {
     "name": "stdout",
     "output_type": "stream",
     "text": [
      "Warning: Desired error not necessarily achieved due to precision loss.\n",
      "         Current function value: 22.089908\n",
      "         Iterations: 37\n",
      "         Function evaluations: 2698\n",
      "         Gradient evaluations: 79\n",
      "Iteration: 0, Objective: 22.08879828750347\n"
     ]
    },
    {
     "name": "stdout",
     "output_type": "stream",
     "text": [
      "Iteration: 25, Objective: 22.088771429201554\n"
     ]
    },
    {
     "name": "stdout",
     "output_type": "stream",
     "text": [
      "Warning: Desired error not necessarily achieved due to precision loss.\n",
      "         Current function value: 22.088753\n",
      "         Iterations: 38\n",
      "         Function evaluations: 3343\n",
      "         Gradient evaluations: 98\n",
      "Iteration: 0, Objective: 22.08862239881199\n"
     ]
    },
    {
     "name": "stdout",
     "output_type": "stream",
     "text": [
      "Warning: Desired error not necessarily achieved due to precision loss.\n",
      "         Current function value: 22.088622\n",
      "         Iterations: 4\n",
      "         Function evaluations: 1303\n",
      "         Gradient evaluations: 38\n",
      "Iteration: 0, Objective: 22.088622322068545\n"
     ]
    },
    {
     "name": "stdout",
     "output_type": "stream",
     "text": [
      "Warning: Desired error not necessarily achieved due to precision loss.\n",
      "         Current function value: 22.088622\n",
      "         Iterations: 3\n",
      "         Function evaluations: 1610\n",
      "         Gradient evaluations: 47\n",
      "                    LinearFactorModelGMM Estimation Summary                     \n",
      "================================================================================\n",
      "No. Test Portfolios:                  9   R-squared:                      0.7904\n",
      "No. Factors:                          3   J-statistic:                    22.089\n",
      "No. Observations:                   819   P-value                         0.0012\n",
      "Date:                  Mon, Dec 14 2020   Distribution:                  chi2(6)\n",
      "Time:                          16:46:31                                         \n",
      "Cov. Estimator:                  robust                                         \n",
      "                                                                                \n",
      "                            Risk Premia Estimates                             \n",
      "==============================================================================\n",
      "            Parameter  Std. Err.     T-stat    P-value    Lower CI    Upper CI\n",
      "------------------------------------------------------------------------------\n",
      "MktRF          0.0067     0.0015     4.4231     0.0000      0.0037      0.0096\n",
      "HML            0.0135     0.0023     5.8726     0.0000      0.0090      0.0180\n",
      "Mom            0.0094     0.0014     6.5017     0.0000      0.0066      0.0123\n",
      "==============================================================================\n",
      "\n",
      "Covariance estimator:\n",
      "HeteroskedasticCovariance\n",
      "See full_summary for complete results\n"
     ]
    }
   ],
   "source": [
    "res = mod.fit(steps=10, disp=25)\n",
    "print(res)"
   ]
  },
  {
   "cell_type": "markdown",
   "metadata": {},
   "source": [
    "### Continuously Updating Estimator\n",
    "\n",
    "The  Continuously Updating Estimator (CUE) is optionally available using the flag `use_cue`.  CUE jointly minimizes the J-statistic as a function of the moment conditions and the weighting matrix, rather than iterating between minimizing the J-statistic for a fixed weighting matrix and updating the weighting matrix.  \n",
    "\n",
    "Here the results are essentially the same as in the iterative approach."
   ]
  },
  {
   "cell_type": "code",
   "execution_count": 18,
   "metadata": {},
   "outputs": [
    {
     "name": "stdout",
     "output_type": "stream",
     "text": [
      "Iteration: 0, Objective: 47.75791582803821\n",
      "Iteration: 10, Objective: 28.102586940152385\n"
     ]
    },
    {
     "name": "stdout",
     "output_type": "stream",
     "text": [
      "Iteration: 20, Objective: 26.361385241451476\n",
      "Iteration: 30, Objective: 26.019667074165362\n"
     ]
    },
    {
     "name": "stdout",
     "output_type": "stream",
     "text": [
      "Iteration: 40, Objective: 22.325343252977138\n"
     ]
    },
    {
     "name": "stdout",
     "output_type": "stream",
     "text": [
      "Warning: Desired error not necessarily achieved due to precision loss.\n",
      "         Current function value: 22.325343\n",
      "         Iterations: 41\n",
      "         Function evaluations: 3071\n",
      "         Gradient evaluations: 90\n"
     ]
    },
    {
     "name": "stdout",
     "output_type": "stream",
     "text": [
      "Iteration: 0, Objective: 22.524469969488372\n"
     ]
    },
    {
     "name": "stdout",
     "output_type": "stream",
     "text": [
      "Iteration: 10, Objective: 22.386036234860267\n"
     ]
    },
    {
     "name": "stdout",
     "output_type": "stream",
     "text": [
      "Iteration: 20, Objective: 22.339788028803593\n"
     ]
    },
    {
     "name": "stdout",
     "output_type": "stream",
     "text": [
      "Iteration: 30, Objective: 22.308293968161077\n"
     ]
    },
    {
     "name": "stdout",
     "output_type": "stream",
     "text": [
      "Warning: Desired error not necessarily achieved due to precision loss.\n",
      "         Current function value: 22.077574\n",
      "         Iterations: 38\n",
      "         Function evaluations: 2154\n",
      "         Gradient evaluations: 63\n",
      "                    LinearFactorModelGMM Estimation Summary                     \n",
      "================================================================================\n",
      "No. Test Portfolios:                  9   R-squared:                      0.7903\n",
      "No. Factors:                          3   J-statistic:                    22.719\n",
      "No. Observations:                   819   P-value                         0.0009\n",
      "Date:                  Mon, Dec 14 2020   Distribution:                  chi2(6)\n",
      "Time:                          16:46:37                                         \n",
      "Cov. Estimator:                  robust                                         \n",
      "                                                                                \n",
      "                            Risk Premia Estimates                             \n",
      "==============================================================================\n",
      "            Parameter  Std. Err.     T-stat    P-value    Lower CI    Upper CI\n",
      "------------------------------------------------------------------------------\n",
      "MktRF          0.0067     0.0015     4.4157     0.0000      0.0037      0.0096\n",
      "HML            0.0136     0.0023     5.8881     0.0000      0.0090      0.0181\n",
      "Mom            0.0094     0.0014     6.4984     0.0000      0.0066      0.0123\n",
      "==============================================================================\n",
      "\n",
      "Covariance estimator:\n",
      "HeteroskedasticCovariance\n",
      "See full_summary for complete results\n"
     ]
    }
   ],
   "source": [
    "res = mod.fit(use_cue=True)\n",
    "print(res)"
   ]
  }
 ],
 "metadata": {
  "kernelspec": {
   "display_name": "Python 3",
   "language": "python",
   "name": "python3"
  },
  "language_info": {
   "codemirror_mode": {
    "name": "ipython",
    "version": 3
   },
   "file_extension": ".py",
   "mimetype": "text/x-python",
   "name": "python",
   "nbconvert_exporter": "python",
   "pygments_lexer": "ipython3",
   "version": "3.8.5"
  },
  "pycharm": {
   "stem_cell": {
    "cell_type": "raw",
    "metadata": {
     "collapsed": false
    },
    "source": []
   }
  }
 },
 "nbformat": 4,
 "nbformat_minor": 2
}
