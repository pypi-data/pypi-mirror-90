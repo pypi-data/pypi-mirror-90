{
 "cells": [
  {
   "cell_type": "code",
   "execution_count": null,
   "metadata": {},
   "outputs": [],
   "source": [
    "# default_exp utils"
   ]
  },
  {
   "cell_type": "markdown",
   "metadata": {},
   "source": [
    "# Utility Functions\n",
    "> Various utilities that function as the backbone for the website"
   ]
  },
  {
   "cell_type": "code",
   "execution_count": null,
   "metadata": {},
   "outputs": [],
   "source": [
    "#hide\n",
    "from nbdev.showdoc import *"
   ]
  },
  {
   "cell_type": "markdown",
   "metadata": {},
   "source": [
    "## Declaring Version Information\n",
    "\n",
    "Simple methods to grab and state libraries you are using for a tutorial"
   ]
  },
  {
   "cell_type": "code",
   "execution_count": null,
   "metadata": {},
   "outputs": [],
   "source": [
    "#export\n",
    "from importlib_metadata import version\n",
    "def get_version(lib:str): \n",
    "    \"Returns version of `lib`\"\n",
    "    return version(lib)"
   ]
  },
  {
   "cell_type": "code",
   "execution_count": null,
   "metadata": {},
   "outputs": [],
   "source": [
    "#export\n",
    "from IPython.display import Markdown\n",
    "def state_versions(libs:list=[]):\n",
    "    \"State all the versions currently installed from `libs` in Markdown\"\n",
    "    cell = f\"\"\"\n",
    "---\n",
    "This article is also a Jupyter Notebook available to be run from the top down. There\n",
    "will be code snippets that you can then run in any environment.\n",
    "\n",
    "\"\"\"\n",
    "    cell += 'Below are the versions of '\n",
    "    for i, lib in enumerate(libs):\n",
    "        if len(libs) == 1: cell += f'`{str(lib)}`'\n",
    "        elif i < len(libs)-1: \n",
    "            cell += ''.join(f'`{str(lib)}`')\n",
    "            if len(libs) > 2: cell += ', '\n",
    "            else: cell += ' '\n",
    "        elif len(libs) > 1: cell += ''.join(f'and `{str(lib)}`')\n",
    "    cell += ' currently running at the time of writing this:\\n'\n",
    "    cell += ''.join([\n",
    "        f'* `{str(lib)}`: {get_version(str(lib))} \\n'\n",
    "    for lib in libs])\n",
    "    cell += '---'\n",
    "    return Markdown(cell)"
   ]
  },
  {
   "cell_type": "markdown",
   "metadata": {},
   "source": [
    "Example usage:"
   ]
  },
  {
   "cell_type": "code",
   "execution_count": null,
   "metadata": {},
   "outputs": [
    {
     "data": {
      "text/markdown": [
       "\n",
       "---\n",
       "This article is also a Jupyter Notebook available to be run from the top down. There\n",
       "will be code snippets that you can then run in any environment.\n",
       "\n",
       "Below are the versions of `fastai` and `fastcore` currently running at the time of writing this:\n",
       "* `fastai`: 2.1.9 \n",
       "* `fastcore`: 1.3.12 \n",
       "---"
      ],
      "text/plain": [
       "<IPython.core.display.Markdown object>"
      ]
     },
     "execution_count": null,
     "metadata": {},
     "output_type": "execute_result"
    }
   ],
   "source": [
    "state_versions(['fastai', 'fastcore'])"
   ]
  },
  {
   "cell_type": "code",
   "execution_count": null,
   "metadata": {},
   "outputs": [],
   "source": []
  }
 ],
 "metadata": {
  "kernelspec": {
   "display_name": "Python 3",
   "language": "python",
   "name": "python3"
  }
 },
 "nbformat": 4,
 "nbformat_minor": 4
}
