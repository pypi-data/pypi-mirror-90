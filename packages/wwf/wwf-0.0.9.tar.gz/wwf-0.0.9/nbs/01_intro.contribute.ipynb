{
 "cells": [
  {
   "cell_type": "markdown",
   "metadata": {},
   "source": [
    "# Contribution Template\n",
    "\n",
    "> A brief sentence describing the goal of the article\n",
    "\n",
    "The first cell title should denote the level of Difficulty: (beginner, intermediate, expert)\n",
    "\n",
    "**Note**: This notebook should be opened up in Jupyter to see what is actually happening, as simply reading here only shows the end result!"
   ]
  },
  {
   "cell_type": "markdown",
   "metadata": {},
   "source": [
    "Notebooks should be named by their sections as well as a topic. Such as how this one is `01_intro` (for introduction section) `.contribute` (as it's the contribution guide). Another example would be `02_vision.classification.single_label`"
   ]
  },
  {
   "cell_type": "code",
   "execution_count": null,
   "metadata": {},
   "outputs": [],
   "source": [
    "#hide\n",
    "from wwf.utils import *"
   ]
  },
  {
   "cell_type": "markdown",
   "metadata": {},
   "source": [
    "In the very first part of your notebook you should denote the `fastai` and `fastcore` versions, as well as any other library used. I have a cookie-cutter cell below. Simply call `state_versions` with a list of your libraries being used and it will display them in `Markdown`. \n",
    "\n",
    "Ensure you have a `#hide_input` comment above the function call so the documentation looks clean."
   ]
  },
  {
   "cell_type": "code",
   "execution_count": null,
   "metadata": {},
   "outputs": [
    {
     "data": {
      "text/markdown": [
       "---\n",
       "This article is also a Jupyter Notebook available to be run from the top down. There will be code snippets that you can then run in any environment. Below are the versions of `fastai`  `fastcore`  currently running at the time of writing this:\n",
       "* `fastai`: 2.0.14 \n",
       "* `fastcore`: 1.0.11 \n",
       "---"
      ],
      "text/plain": [
       "<IPython.core.display.Markdown object>"
      ]
     },
     "execution_count": null,
     "metadata": {},
     "output_type": "execute_result"
    }
   ],
   "source": [
    "#hide_input\n",
    "state_versions(['fastai', 'fastcore'])"
   ]
  },
  {
   "cell_type": "markdown",
   "metadata": {},
   "source": [
    "From here you should denote sections with two ##, walking users through your problem or example you are showing:"
   ]
  },
  {
   "cell_type": "markdown",
   "metadata": {},
   "source": [
    "## My Problem\n",
    "\n",
    "My problem is `x`, below we will try to solve `x` using `y`. (No need for verbatum, be as creative as you would like to be!)\n",
    "\n",
    "Ideally if you are walking through an implementation, at the end show an example of how to perform both batch and single input predictions. (see `vision.classification.single_label` for an example)"
   ]
  },
  {
   "cell_type": "markdown",
   "metadata": {},
   "source": [
    "## Submitting a PR\n",
    "\n",
    "Once you've written your notebook, simply submit your PR to [the repo](https://github.com/walkwithfastai/walkwithfastai.github.io) and I will review it!"
   ]
  },
  {
   "cell_type": "code",
   "execution_count": null,
   "metadata": {},
   "outputs": [],
   "source": []
  }
 ],
 "metadata": {
  "kernelspec": {
   "display_name": "Python 3",
   "language": "python",
   "name": "python3"
  }
 },
 "nbformat": 4,
 "nbformat_minor": 4
}
