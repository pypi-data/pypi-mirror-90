{
 "cells": [
  {
   "cell_type": "markdown",
   "metadata": {},
   "source": [
    "# Walk with fastai"
   ]
  },
  {
   "cell_type": "markdown",
   "metadata": {},
   "source": [
    "## What is this project?"
   ]
  },
  {
   "cell_type": "markdown",
   "metadata": {},
   "source": [
    "Welcome to Walk with fastai! This project was started by me (Zachary Mueller) as a way to collect interesting techniques dotted throughout the [fast.ai forums](forums.fast.ai), my own course materials, and the fantastic work of others into one centralized place.\n",
    "\n",
    "The goal is to have something much more than a \"fastai recipe book,\" where instead authors can explore in-depth into topics involving the usage of the `fastai` library. \n",
    "\n",
    "There is a central framework and theme for each super chapter, as you can see in the Table of Contents menu at the top of this screen. Topics are broken down by their super topic, such as:\n",
    "* Vision\n",
    "  * Classification\n",
    "    * Single Label\n",
    "\n",
    "These collection of articles can be as simple as showing a few lines of code for a use-case, to as advanced as introducing and explaining a topic.\n",
    "\n",
    "At the end of the day, I want this site to be a nice resource for folks to look up quickly how to do XYZ technique inside the library, that perhaps isn't 100% integrated or supported in the library's current status. "
   ]
  },
  {
   "cell_type": "code",
   "execution_count": null,
   "metadata": {},
   "outputs": [],
   "source": []
  }
 ],
 "metadata": {
  "kernelspec": {
   "display_name": "Python 3",
   "language": "python",
   "name": "python3"
  }
 },
 "nbformat": 4,
 "nbformat_minor": 2
}
