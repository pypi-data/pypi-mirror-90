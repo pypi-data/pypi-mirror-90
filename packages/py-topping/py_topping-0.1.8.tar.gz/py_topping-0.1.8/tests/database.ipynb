{
 "cells": [
  {
   "cell_type": "code",
   "execution_count": 1,
   "metadata": {},
   "outputs": [
    {
     "name": "stdout",
     "output_type": "stream",
     "text": [
      "First Directory at : \\01_DEV_Function\\Shared_Function\\tests\n",
      "Load Setting OK\n",
      "Change Directory into : \\01_DEV_Function\\Shared_Function\n"
     ]
    }
   ],
   "source": [
    "import os, re,json, imp, unittest\n",
    "import pandas as pd\n",
    "\n",
    "print('First Directory at :', os.getcwd()[2:])\n",
    "\n",
    "#Load Setting File\n",
    "with open('setting.txt','r') as f:\n",
    "    setting = json.load(f)\n",
    "print('Load Setting OK')    \n",
    "\n",
    "os.chdir(re.sub(os.getcwd().split('\\\\')[-1]+'$','',os.getcwd()))\n",
    "print('Change Directory into :', os.getcwd()[2:])"
   ]
  },
  {
   "cell_type": "code",
   "execution_count": 2,
   "metadata": {},
   "outputs": [],
   "source": [
    "#local_library = True\n",
    "local_library = False\n",
    "\n",
    "if local_library : \n",
    "    da_tran_SQL = imp.load_source('da_tran_SQL', 'py_topping/data_connection/database.py').da_tran_SQL\n",
    "else :\n",
    "    from py_topping.data_connection.database import da_tran_SQL\n",
    "    \n",
    "def help_test(df_in1, df_in2) :\n",
    "    result = list()\n",
    "    expect = list()\n",
    "    for i in df_in1.columns :\n",
    "        result.append(list(df_in1[i]))\n",
    "        expect.append(list(df_in2[i]))\n",
    "    return result, expect"
   ]
  },
  {
   "cell_type": "code",
   "execution_count": 10,
   "metadata": {
    "scrolled": false
   },
   "outputs": [
    {
     "name": "stdout",
     "output_type": "stream",
     "text": [
      "Connection OK\n",
      "Start Filter Existing data from df at  2021-01-04 16:25:09.973293\n"
     ]
    },
    {
     "name": "stderr",
     "output_type": "stream",
     "text": [
      "."
     ]
    },
    {
     "name": "stdout",
     "output_type": "stream",
     "text": [
      "Dump data to  unit_test_git  End  2021-01-04 16:25:10.178930\n",
      "Connection OK\n",
      "Start Filter Existing data from df at  2021-01-04 16:25:11.189060\n",
      "Dump data to  unit_test_git  End  2021-01-04 16:25:11.374782\n"
     ]
    },
    {
     "name": "stderr",
     "output_type": "stream",
     "text": [
      "."
     ]
    },
    {
     "name": "stdout",
     "output_type": "stream",
     "text": [
      "Connection OK\n",
      "Start Filter Existing data from df at  2021-01-04 16:25:12.329915\n"
     ]
    },
    {
     "name": "stderr",
     "output_type": "stream",
     "text": [
      "."
     ]
    },
    {
     "name": "stdout",
     "output_type": "stream",
     "text": [
      "Dump data to  unit_test_git  End  2021-01-04 16:25:12.548477\n",
      "Connection OK\n"
     ]
    },
    {
     "name": "stderr",
     "output_type": "stream",
     "text": [
      "."
     ]
    },
    {
     "name": "stdout",
     "output_type": "stream",
     "text": [
      "Connection OK\n",
      "Start delete old data at 2021-01-04 16:25:14.554478\n",
      "Delete Last ['col1'] at 2021-01-04 16:25:14.627757\n"
     ]
    },
    {
     "name": "stderr",
     "output_type": "stream",
     "text": [
      "."
     ]
    },
    {
     "name": "stdout",
     "output_type": "stream",
     "text": [
      "Dump data to  unit_test_git  End  2021-01-04 16:25:14.769542\n",
      "Connection OK\n",
      "Start delete old data at 2021-01-04 16:25:15.804165\n",
      "Delete Last col1 at 2021-01-04 16:25:15.925193\n"
     ]
    },
    {
     "name": "stderr",
     "output_type": "stream",
     "text": [
      "."
     ]
    },
    {
     "name": "stdout",
     "output_type": "stream",
     "text": [
      "Dump data to  unit_test_git  End  2021-01-04 16:25:16.085332\n",
      "Connection OK\n",
      "Start delete old data at 2021-01-04 16:25:17.122739\n",
      "Delete Last ['col1', 'col2'] at 2021-01-04 16:25:17.212237\n"
     ]
    },
    {
     "name": "stderr",
     "output_type": "stream",
     "text": [
      "."
     ]
    },
    {
     "name": "stdout",
     "output_type": "stream",
     "text": [
      "Dump data to  unit_test_git  End  2021-01-04 16:25:17.357826\n",
      "Connection OK\n",
      "Start delete old data at 2021-01-04 16:25:18.339848\n",
      "Delete Last ['col1', 'col2', 'col3'] at 2021-01-04 16:25:18.418761\n"
     ]
    },
    {
     "name": "stderr",
     "output_type": "stream",
     "text": [
      "."
     ]
    },
    {
     "name": "stdout",
     "output_type": "stream",
     "text": [
      "Dump data to  unit_test_git  End  2021-01-04 16:25:18.557211\n",
      "Connection OK\n",
      "Start delete old data at 2021-01-04 16:25:19.505111\n",
      "Delete Last ['col1'] at 2021-01-04 16:25:19.587273\n"
     ]
    },
    {
     "name": "stderr",
     "output_type": "stream",
     "text": [
      "."
     ]
    },
    {
     "name": "stdout",
     "output_type": "stream",
     "text": [
      "Dump data to  unit_test_git  End  2021-01-04 16:25:19.725089\n",
      "Connection OK\n",
      "Start Filter Existing data from df at  2021-01-04 16:25:20.699502\n",
      "Dump data to  unit_test_git  End  2021-01-04 16:25:21.246401\n",
      "Start delete old data at 2021-01-04 16:25:21.247398\n",
      "Delete Last ['date'] at 2021-01-04 16:25:21.325049\n"
     ]
    },
    {
     "name": "stderr",
     "output_type": "stream",
     "text": [
      "."
     ]
    },
    {
     "name": "stdout",
     "output_type": "stream",
     "text": [
      "Dump data to  unit_test_git  End  2021-01-04 16:25:21.453172\n",
      "Connection OK\n",
      "Start delete old data at 2021-01-04 16:25:22.975955\n",
      "Delete Last ['col1'] at 2021-01-04 16:25:23.051017\n",
      "delete from unit_test_git where ([col1] in ('4.0', '5.0', '6.0', '7.0') OR [col1] IS NULL)\n"
     ]
    },
    {
     "name": "stderr",
     "output_type": "stream",
     "text": [
      "."
     ]
    },
    {
     "name": "stdout",
     "output_type": "stream",
     "text": [
      "Dump data to  unit_test_git  End  2021-01-04 16:25:23.182962\n",
      "Connection OK\n",
      "Start delete old data at 2021-01-04 16:25:24.768485\n",
      "Delete Last ['col1', 'col2'] at 2021-01-04 16:25:24.846590\n",
      "delete from unit_test_git where ([col1] in ('4.0', '5.0', '6.0', '7.0') OR [col1] IS NULL) and [col2] in ('3', '4', '5')\n"
     ]
    },
    {
     "name": "stderr",
     "output_type": "stream",
     "text": [
      "."
     ]
    },
    {
     "name": "stdout",
     "output_type": "stream",
     "text": [
      "Dump data to  unit_test_git  End  2021-01-04 16:25:24.980947\n",
      "Connection OK\n"
     ]
    },
    {
     "name": "stderr",
     "output_type": "stream",
     "text": [
      "."
     ]
    },
    {
     "name": "stdout",
     "output_type": "stream",
     "text": [
      "Connection OK\n",
      "Start Filter Existing data from df at  2021-01-04 16:25:27.006117\n"
     ]
    },
    {
     "name": "stderr",
     "output_type": "stream",
     "text": [
      "."
     ]
    },
    {
     "name": "stdout",
     "output_type": "stream",
     "text": [
      "Dump data to  unit_test_git  End  2021-01-04 16:25:27.505316\n"
     ]
    },
    {
     "name": "stderr",
     "output_type": "stream",
     "text": [
      "\n",
      "----------------------------------------------------------------------\n",
      "Ran 14 tests in 18.521s\n",
      "\n",
      "OK\n"
     ]
    },
    {
     "data": {
      "text/plain": [
       "<unittest.main.TestProgram at 0x215845fc448>"
      ]
     },
     "execution_count": 10,
     "metadata": {},
     "output_type": "execute_result"
    }
   ],
   "source": [
    "test_mssql = setting['MSSQL']\n",
    "\n",
    "class SQL_Test_class(unittest.TestCase):\n",
    "    def setUp(self):\n",
    "        self.sql = da_tran_SQL(sql_type = test_mssql['type'],\n",
    "                                host_name = test_mssql['host'],\n",
    "                                database_name = test_mssql['database'],\n",
    "                                user = test_mssql['user'],\n",
    "                                password = test_mssql['password'])\n",
    "        self.df1 = pd.DataFrame({'col1' : [1,2,3,4,5] , 'col2' : [1,1,2,2,3] , 'col3' : [1,1,1,1,1]})\n",
    "        self.df2 = pd.DataFrame({'col1' : [4,5,6,7,8] , 'col2' : [3,3,4,4,5] , 'col3' : [2,2,2,2,2]})\n",
    "        self.table_name = 'unit_test_git'\n",
    "        self.df1.to_sql(self.table_name, con = self.sql.engine, index = False, if_exists = 'replace')\n",
    "\n",
    "    def test_sp(self):\n",
    "        sql_q = \"\"\" CREATE OR ALTER PROCEDURE unit_test_git_SP (@PARAM1 AS VARCHAR(100))\n",
    "                    AS\n",
    "                    BEGIN\n",
    "                    SELECT * FROM {} WHERE col1 = @PARAM1 \n",
    "                    END\"\"\".format(self.table_name)\n",
    "        self.sql.engine.execute(sql_q)\n",
    "        df_read = self.sql.read('unit_test_git_SP', SP = True , param = {'@PARAM1' : 1})\n",
    "        expect_df = self.df1[self.df1['col1'] == 1]\n",
    "        result, expect = help_test(df_read, expect_df)\n",
    "        self.assertEqual(result, expect)\n",
    "        \n",
    "    def test_read_sql(self):\n",
    "        df_read = self.sql.read(self.table_name)\n",
    "        expect_df = self.df1\n",
    "        result, expect = help_test(df_read, expect_df)\n",
    "        self.assertEqual(result, expect)\n",
    "\n",
    "    def test_whole(self):\n",
    "        self.sql.dump_whole(self.df2, self.table_name)\n",
    "        df_read = self.sql.read(self.table_name)\n",
    "        expect_df = self.df2\n",
    "        result, expect = help_test(df_read, expect_df)\n",
    "        self.assertEqual(result, expect)\n",
    "        \n",
    "    \n",
    "    def test_replace1(self) :\n",
    "        self.sql.dump_replace(df_in = self.df2 , table_name_in = self.table_name, list_key = ['col1'])\n",
    "        df_read = self.sql.read(self.table_name)\n",
    "        expect_df = pd.DataFrame({'col1' : [1,2,3,4,5,6,7,8] , 'col2' : [1,1,2,3,3,4,4,5] , 'col3' : [1,1,1,2,2,2,2,2]})\n",
    "        result, expect = help_test(df_read, expect_df)\n",
    "        self.assertEqual(result, expect)\n",
    "        \n",
    "    def test_replace1_str(self) :\n",
    "        self.sql.dump_replace(df_in = self.df2 , table_name_in = self.table_name, list_key = 'col1')\n",
    "        df_read = self.sql.read(self.table_name)\n",
    "        expect_df = pd.DataFrame({'col1' : [1,2,3,4,5,6,7,8] , 'col2' : [1,1,2,3,3,4,4,5] , 'col3' : [1,1,1,2,2,2,2,2]})\n",
    "        result, expect = help_test(df_read, expect_df)\n",
    "        self.assertEqual(result, expect)\n",
    "\n",
    "    def test_replace2(self) :\n",
    "        self.sql.dump_replace(df_in = self.df2 , table_name_in = self.table_name, list_key = ['col1','col2'])\n",
    "        df_read = self.sql.read(self.table_name)\n",
    "        expect_df = pd.DataFrame({'col1' : [1,2,3,4,4,5,6,7,8] , 'col2' : [1,1,2,2,3,3,4,4,5] , 'col3' : [1,1,1,1,2,2,2,2,2]})\n",
    "        result, expect = help_test(df_read, expect_df)\n",
    "        self.assertEqual(result, expect)\n",
    "        \n",
    "    def test_replace3(self) :\n",
    "        self.sql.dump_replace(df_in = self.df2 , table_name_in = self.table_name, list_key = ['col1','col2','col3'])\n",
    "        df_read = self.sql.read(self.table_name)\n",
    "        expect_df = self.df1.append(self.df2)\n",
    "        result, expect = help_test(df_read, expect_df)\n",
    "        self.assertEqual(result, expect)\n",
    "\n",
    "    def test_replace_logic(self) :\n",
    "        self.sql.dump_replace(df_in = self.df2 , table_name_in = self.table_name, list_key = ['col1'],\n",
    "                             math_logic = {'col1' : {'logic' : '>', 'value' : 1}})\n",
    "        df_read = self.sql.read(self.table_name)\n",
    "        expect_df = self.df1[self.df1['col1'] <= 1].append(self.df2)\n",
    "        result, expect = help_test(df_read, expect_df)\n",
    "        self.assertEqual(result, expect)\n",
    "        \n",
    "    def test_replace_logic_date(self) :\n",
    "        df_date = pd.DataFrame({'col1' : [1,2,3,4,5], \n",
    "                                'date' : pd.date_range('2020-10-10','2020-10-14'), 'col2' :[1,1,1,1,1]})\n",
    "        \n",
    "        self.sql.dump_whole(df_date, self.table_name)\n",
    "        expect_df = df_date[df_date['date'] <= '2020-10-12']\n",
    "        df_date['col2'] = 3\n",
    "        self.sql.dump_replace(df_in = df_date , table_name_in = self.table_name, list_key = ['date'],\n",
    "                             math_logic = {'date' : {'logic' : '>', 'value' : '2020-10-12', 'type' : 'date'}})\n",
    "        df_read = self.sql.read(self.table_name)\n",
    "        expect_df = expect_df.append(df_date)\n",
    "        result, expect = help_test(df_read, expect_df)\n",
    "        self.assertEqual(result, expect)\n",
    "        \n",
    "    def test_replace3(self) :\n",
    "        self.sql.dump_replace(df_in = self.df2 , table_name_in = self.table_name, list_key = ['col1','col2','col3'])\n",
    "        df_read = self.sql.read(self.table_name)\n",
    "        expect_df = self.df1.append(self.df2)\n",
    "        result, expect = help_test(df_read, expect_df)\n",
    "        self.assertEqual(result, expect)\n",
    "\n",
    "    def test_new1_str(self) :\n",
    "        self.sql.dump_new(df_in = self.df2 , table_name_in = self.table_name, list_key = 'col1')\n",
    "        df_read = self.sql.read(self.table_name)\n",
    "        expect_df = pd.DataFrame({'col1' : [1,2,3,4,5,6,7,8] , 'col2' : [1,1,2,2,3,4,4,5] , 'col3' : [1,1,1,1,1,2,2,2]})\n",
    "        result, expect = help_test(df_read, expect_df)\n",
    "        self.assertEqual(result, expect)\n",
    "\n",
    "    def test_new1(self) :\n",
    "        self.sql.dump_new(df_in = self.df2 , table_name_in = self.table_name, list_key = ['col1'])\n",
    "        df_read = self.sql.read(self.table_name)\n",
    "        expect_df = pd.DataFrame({'col1' : [1,2,3,4,5,6,7,8] , 'col2' : [1,1,2,2,3,4,4,5] , 'col3' : [1,1,1,1,1,2,2,2]})\n",
    "        result, expect = help_test(df_read, expect_df)\n",
    "        self.assertEqual(result, expect)\n",
    "\n",
    "    def test_new2(self) :\n",
    "        self.sql.dump_new(df_in = self.df2 , table_name_in = self.table_name, list_key = ['col1','col2'], debug = False)\n",
    "        df_read = self.sql.read(self.table_name)\n",
    "        expect_df = pd.DataFrame({'col1' : [1,2,3,4,5,4,6,7,8] , 'col2' : [1,1,2,2,3,3,4,4,5] , 'col3' : [1,1,1,1,1,2,2,2,2]})\n",
    "        result, expect = help_test(df_read, expect_df)\n",
    "        self.assertEqual(result, expect)\n",
    "        \n",
    "    def test_replace_null1(self) :\n",
    "        df1_n = pd.DataFrame({'col1' : [1,None,3,4,5] , 'col2' : [1,1,2,2,3] , 'col3' : [1,1,1,1,1]})\n",
    "        df2_n = pd.DataFrame({'col1' : [4,5,6,7,None] , 'col2' : [3,3,4,4,5] , 'col3' : [2,2,2,2,2]})\n",
    "        df1_n.to_sql(self.table_name, con = self.sql.engine, index = False, if_exists = 'replace')\n",
    "        self.sql.dump_replace(df_in = df2_n , table_name_in = self.table_name, list_key = ['col1'] , debug = True)\n",
    "        df_read = self.sql.read(self.table_name).sort_values('col1').reset_index(drop = True)\n",
    "        expect_df = pd.DataFrame({'col1' : [1,3,4,5,6,7,None] , 'col2' : [1,2,3,3,4,4,5] , 'col3' : [1,1,2,2,2,2,2]})\n",
    "        result, expect = help_test(df_read.fillna(''), expect_df.fillna(''))\n",
    "        self.assertEqual(result, expect)\n",
    "\n",
    "    def test_replace_null2(self) :\n",
    "        df1_n = pd.DataFrame({'col1' : [1,None,3,4,5] , 'col2' : [1,1,2,2,3] , 'col3' : [1,1,1,1,1]})\n",
    "        df2_n = pd.DataFrame({'col1' : [4,5,6,7,None] , 'col2' : [3,3,4,4,5] , 'col3' : [2,2,2,2,2]})\n",
    "        df1_n.to_sql(self.table_name, con = self.sql.engine, index = False, if_exists = 'replace')\n",
    "        self.sql.dump_replace(df_in = df2_n , table_name_in = self.table_name, list_key = ['col1','col2'] , debug = True)\n",
    "        df_read = self.sql.read(self.table_name).sort_values('col1').reset_index(drop = True)\n",
    "        expect_df = pd.DataFrame({ 'col1' : [1,None,3,4,4,5,6,7,None] , 'col2' : [1,1,2,2,3,3,4,4,5] \n",
    "                                  ,'col3' : [1,1,1,1,2,2,2,2,2]}).sort_values('col1').reset_index(drop = True)\n",
    "\n",
    "        result, expect = help_test(df_read.fillna(''), expect_df.fillna(''))\n",
    "        self.assertEqual(result, expect)\n",
    "\n",
    "unittest.main(argv = ['first-arg-is-ignored'], exit = False)"
   ]
  },
  {
   "cell_type": "code",
   "execution_count": 4,
   "metadata": {
    "scrolled": false
   },
   "outputs": [
    {
     "name": "stdout",
     "output_type": "stream",
     "text": [
      "Connection OK\n",
      "Start Filter Existing data from df at  2020-12-25 19:15:08.389932\n"
     ]
    },
    {
     "name": "stderr",
     "output_type": "stream",
     "text": [
      "."
     ]
    },
    {
     "name": "stdout",
     "output_type": "stream",
     "text": [
      "Dump data to  unit_test_git  End  2020-12-25 19:15:08.618649\n",
      "Connection OK\n",
      "Start Filter Existing data from df at  2020-12-25 19:15:09.667258\n",
      "Dump data to  unit_test_git  End  2020-12-25 19:15:09.861122\n"
     ]
    },
    {
     "name": "stderr",
     "output_type": "stream",
     "text": [
      "."
     ]
    },
    {
     "name": "stdout",
     "output_type": "stream",
     "text": [
      "Connection OK\n",
      "Start Filter Existing data from df at  2020-12-25 19:15:10.903196\n"
     ]
    },
    {
     "name": "stderr",
     "output_type": "stream",
     "text": [
      "."
     ]
    },
    {
     "name": "stdout",
     "output_type": "stream",
     "text": [
      "Dump data to  unit_test_git  End  2020-12-25 19:15:11.150138\n",
      "Connection OK\n"
     ]
    },
    {
     "name": "stderr",
     "output_type": "stream",
     "text": [
      "."
     ]
    },
    {
     "name": "stdout",
     "output_type": "stream",
     "text": [
      "Connection OK\n",
      "Start delete old data at 2020-12-25 19:15:13.149911\n",
      "Delete Last ['col1'] at 2020-12-25 19:15:13.229989\n"
     ]
    },
    {
     "name": "stderr",
     "output_type": "stream",
     "text": [
      "."
     ]
    },
    {
     "name": "stdout",
     "output_type": "stream",
     "text": [
      "Dump data to  unit_test_git  End  2020-12-25 19:15:13.378353\n",
      "Connection OK\n",
      "Start delete old data at 2020-12-25 19:15:14.539744\n",
      "Delete Last col1 at 2020-12-25 19:15:14.628764\n"
     ]
    },
    {
     "name": "stderr",
     "output_type": "stream",
     "text": [
      "."
     ]
    },
    {
     "name": "stdout",
     "output_type": "stream",
     "text": [
      "Dump data to  unit_test_git  End  2020-12-25 19:15:14.790377\n",
      "Connection OK\n",
      "Start delete old data at 2020-12-25 19:15:15.922171\n",
      "Delete Last ['col1', 'col2'] at 2020-12-25 19:15:16.000898\n"
     ]
    },
    {
     "name": "stderr",
     "output_type": "stream",
     "text": [
      "."
     ]
    },
    {
     "name": "stdout",
     "output_type": "stream",
     "text": [
      "Dump data to  unit_test_git  End  2020-12-25 19:15:16.165373\n",
      "Connection OK\n",
      "Start delete old data at 2020-12-25 19:15:17.547204\n",
      "Delete Last ['col1', 'col2', 'col3'] at 2020-12-25 19:15:17.647090\n"
     ]
    },
    {
     "name": "stderr",
     "output_type": "stream",
     "text": [
      "."
     ]
    },
    {
     "name": "stdout",
     "output_type": "stream",
     "text": [
      "Dump data to  unit_test_git  End  2020-12-25 19:15:17.816622\n",
      "Connection OK\n",
      "Start delete old data at 2020-12-25 19:15:19.008867\n",
      "Delete Last ['col1'] at 2020-12-25 19:15:19.112133\n"
     ]
    },
    {
     "name": "stderr",
     "output_type": "stream",
     "text": [
      "."
     ]
    },
    {
     "name": "stdout",
     "output_type": "stream",
     "text": [
      "Dump data to  unit_test_git  End  2020-12-25 19:15:19.278996\n",
      "Connection OK\n",
      "Start Filter Existing data from df at  2020-12-25 19:15:20.322145\n",
      "Dump data to  unit_test_git  End  2020-12-25 19:15:20.786248\n",
      "Start delete old data at 2020-12-25 19:15:20.787085\n",
      "Delete Last ['date'] at 2020-12-25 19:15:20.876843\n"
     ]
    },
    {
     "name": "stderr",
     "output_type": "stream",
     "text": [
      "."
     ]
    },
    {
     "name": "stdout",
     "output_type": "stream",
     "text": [
      "Dump data to  unit_test_git  End  2020-12-25 19:15:21.010820\n",
      "Connection OK\n"
     ]
    },
    {
     "name": "stderr",
     "output_type": "stream",
     "text": [
      "."
     ]
    },
    {
     "name": "stdout",
     "output_type": "stream",
     "text": [
      "Connection OK\n",
      "Start Filter Existing data from df at  2020-12-25 19:15:23.096914\n"
     ]
    },
    {
     "name": "stderr",
     "output_type": "stream",
     "text": [
      "."
     ]
    },
    {
     "name": "stdout",
     "output_type": "stream",
     "text": [
      "Dump data to  unit_test_git  End  2020-12-25 19:15:23.481714\n"
     ]
    },
    {
     "name": "stderr",
     "output_type": "stream",
     "text": [
      "\n",
      "----------------------------------------------------------------------\n",
      "Ran 12 tests in 16.559s\n",
      "\n",
      "OK\n"
     ]
    },
    {
     "data": {
      "text/plain": [
       "<unittest.main.TestProgram at 0x254ed629d48>"
      ]
     },
     "execution_count": 4,
     "metadata": {},
     "output_type": "execute_result"
    }
   ],
   "source": [
    "test_mysql = setting['MYSQL']\n",
    "    \n",
    "class SQL_Test_class(unittest.TestCase):\n",
    "    def setUp(self):\n",
    "        self.sql = da_tran_SQL(sql_type = test_mysql['type'],\n",
    "                                host_name = test_mysql['host'],\n",
    "                                database_name = test_mysql['database'],\n",
    "                                user = test_mysql['user'],\n",
    "                                password = test_mysql['password'])\n",
    "        self.df1 = pd.DataFrame({'col1' : [1,2,3,4,5] , 'col2' : [1,1,2,2,3] , 'col3' : [1,1,1,1,1]})\n",
    "        self.df2 = pd.DataFrame({'col1' : [4,5,6,7,8] , 'col2' : [3,3,4,4,5] , 'col3' : [2,2,2,2,2]})\n",
    "        self.table_name = 'unit_test_git'\n",
    "        self.df1.to_sql(self.table_name, con = self.sql.engine, index = False, if_exists = 'replace')\n",
    "\n",
    "    def test_sp(self):\n",
    "        sql_q = \"\"\" drop procedure if exists unit_test_git_SP;\"\"\"\n",
    "        self.sql.engine.execute(sql_q)\n",
    "        sql_q = \"\"\" CREATE PROCEDURE unit_test_git_SP\n",
    "                    (PARAM1 VARCHAR(100))\n",
    "                    BEGIN\n",
    "                    SELECT * FROM {} WHERE col1 = PARAM1 ;\n",
    "                    end;\"\"\".format(self.table_name)\n",
    "        self.sql.engine.execute(sql_q)\n",
    "        df_read = self.sql.read('unit_test_git_SP', SP = True , param = {'PARAM1' : 1})\n",
    "        expect_df = self.df1[self.df1['col1'] == 1]\n",
    "        result, expect = help_test(df_read, expect_df)\n",
    "        self.assertEqual(result, expect)\n",
    "\n",
    "\n",
    "    def test_read_sql(self):\n",
    "        df_read = self.sql.read(self.table_name)\n",
    "        expect_df = self.df1\n",
    "        result, expect = help_test(df_read, expect_df)\n",
    "        self.assertEqual(result, expect)\n",
    "\n",
    "    def test_whole(self):\n",
    "        self.sql.dump_whole(self.df2, self.table_name)\n",
    "        df_read = self.sql.read(self.table_name)\n",
    "        expect_df = self.df2\n",
    "        result, expect = help_test(df_read, expect_df)\n",
    "        self.assertEqual(result, expect)\n",
    "\n",
    "    def test_replace1(self) :\n",
    "        self.sql.dump_replace(df_in = self.df2 , table_name_in = self.table_name, list_key = ['col1'])\n",
    "        df_read = self.sql.read(self.table_name)\n",
    "        expect_df = pd.DataFrame({'col1' : [1,2,3,4,5,6,7,8] , 'col2' : [1,1,2,3,3,4,4,5] , 'col3' : [1,1,1,2,2,2,2,2]})\n",
    "        result, expect = help_test(df_read, expect_df)\n",
    "        self.assertEqual(result, expect)\n",
    "\n",
    "    def test_replace1_str(self) :\n",
    "        self.sql.dump_replace(df_in = self.df2 , table_name_in = self.table_name, list_key = 'col1')\n",
    "        df_read = self.sql.read(self.table_name)\n",
    "        expect_df = pd.DataFrame({'col1' : [1,2,3,4,5,6,7,8] , 'col2' : [1,1,2,3,3,4,4,5] , 'col3' : [1,1,1,2,2,2,2,2]})\n",
    "        result, expect = help_test(df_read, expect_df)\n",
    "        self.assertEqual(result, expect)\n",
    "\n",
    "    def test_replace2(self) :\n",
    "        self.sql.dump_replace(df_in = self.df2 , table_name_in = self.table_name, list_key = ['col1','col2'])\n",
    "        df_read = self.sql.read(self.table_name)\n",
    "        expect_df = pd.DataFrame({'col1' : [1,2,3,4,4,5,6,7,8] , 'col2' : [1,1,2,2,3,3,4,4,5] , 'col3' : [1,1,1,1,2,2,2,2,2]})\n",
    "        result, expect = help_test(df_read, expect_df)\n",
    "        self.assertEqual(result, expect)\n",
    "        \n",
    "    def test_replace3(self) :\n",
    "        self.sql.dump_replace(df_in = self.df2 , table_name_in = self.table_name, list_key = ['col1','col2','col3'])\n",
    "        df_read = self.sql.read(self.table_name)\n",
    "        expect_df = self.df1.append(self.df2)\n",
    "        result, expect = help_test(df_read, expect_df)\n",
    "        self.assertEqual(result, expect)\n",
    "\n",
    "    def test_replace_logic(self) :\n",
    "        self.sql.dump_replace(df_in = self.df2 , table_name_in = self.table_name, list_key = ['col1'],\n",
    "                             math_logic = {'col1' : {'logic' : '>', 'value' : 1}})\n",
    "        df_read = self.sql.read(self.table_name)\n",
    "        expect_df = self.df1[self.df1['col1'] <= 1].append(self.df2)\n",
    "        result, expect = help_test(df_read, expect_df)\n",
    "        self.assertEqual(result, expect)\n",
    "        \n",
    "    def test_replace_logic_date(self) :\n",
    "        df_date = pd.DataFrame({'col1' : [1,2,3,4,5], \n",
    "                                'date' : pd.date_range('2020-10-10','2020-10-14'), 'col2' :[1,1,1,1,1]})\n",
    "        self.sql.dump_whole(df_date, self.table_name)\n",
    "        expect_df = df_date[df_date['date'] <= '2020-10-12']\n",
    "        df_date['col2'] = 3\n",
    "        self.sql.dump_replace(df_in = df_date , table_name_in = self.table_name, list_key = ['date'],\n",
    "                             math_logic = {'date' : {'logic' : '>', 'value' : '2020-10-12', 'type' : 'date'}})\n",
    "        df_read = self.sql.read(self.table_name)\n",
    "        expect_df = expect_df.append(df_date)\n",
    "        result, expect = help_test(df_read, expect_df)\n",
    "        self.assertEqual(result, expect)\n",
    "        \n",
    "    def test_replace3(self) :\n",
    "        self.sql.dump_replace(df_in = self.df2 , table_name_in = self.table_name, list_key = ['col1','col2','col3'])\n",
    "        df_read = self.sql.read(self.table_name)\n",
    "        expect_df = self.df1.append(self.df2)\n",
    "        result, expect = help_test(df_read, expect_df)\n",
    "        self.assertEqual(result, expect)\n",
    "\n",
    "    def test_new1_str(self) :\n",
    "        self.sql.dump_new(df_in = self.df2 , table_name_in = self.table_name, list_key = 'col1')\n",
    "        df_read = self.sql.read(self.table_name)\n",
    "        expect_df = pd.DataFrame({'col1' : [1,2,3,4,5,6,7,8] , 'col2' : [1,1,2,2,3,4,4,5] , 'col3' : [1,1,1,1,1,2,2,2]})\n",
    "        result, expect = help_test(df_read, expect_df)\n",
    "        self.assertEqual(result, expect)\n",
    "\n",
    "    def test_new1(self) :\n",
    "        self.sql.dump_new(df_in = self.df2 , table_name_in = self.table_name, list_key = ['col1'])\n",
    "        df_read = self.sql.read(self.table_name)\n",
    "        expect_df = pd.DataFrame({'col1' : [1,2,3,4,5,6,7,8] , 'col2' : [1,1,2,2,3,4,4,5] , 'col3' : [1,1,1,1,1,2,2,2]})\n",
    "        result, expect = help_test(df_read, expect_df)\n",
    "        self.assertEqual(result, expect)\n",
    "\n",
    "    def test_new2(self) :\n",
    "        self.sql.dump_new(df_in = self.df2 , table_name_in = self.table_name, list_key = ['col1','col2'], debug = False)\n",
    "        df_read = self.sql.read(self.table_name)\n",
    "        expect_df = pd.DataFrame({'col1' : [1,2,3,4,5,4,6,7,8] , 'col2' : [1,1,2,2,3,3,4,4,5] , 'col3' : [1,1,1,1,1,2,2,2,2]})\n",
    "        result, expect = help_test(df_read, expect_df)\n",
    "        self.assertEqual(result, expect)\n",
    "\n",
    "\n",
    "unittest.main(argv = ['first-arg-is-ignored'], exit = False)"
   ]
  },
  {
   "cell_type": "code",
   "execution_count": 5,
   "metadata": {
    "scrolled": false
   },
   "outputs": [
    {
     "name": "stdout",
     "output_type": "stream",
     "text": [
      "Connection OK\n",
      "Start Filter Existing data from df at  2020-12-25 19:15:56.990689\n",
      "Dump data to  unit_test_git  End  2020-12-25 19:15:59.532019\n"
     ]
    },
    {
     "name": "stderr",
     "output_type": "stream",
     "text": [
      "."
     ]
    },
    {
     "name": "stdout",
     "output_type": "stream",
     "text": [
      "Connection OK\n",
      "Start Filter Existing data from df at  2020-12-25 19:16:15.373170\n",
      "Dump data to  unit_test_git  End  2020-12-25 19:16:17.868010\n"
     ]
    },
    {
     "name": "stderr",
     "output_type": "stream",
     "text": [
      "."
     ]
    },
    {
     "name": "stdout",
     "output_type": "stream",
     "text": [
      "Connection OK\n",
      "Start Filter Existing data from df at  2020-12-25 19:16:32.926516\n",
      "Dump data to  unit_test_git  End  2020-12-25 19:16:35.320071\n"
     ]
    },
    {
     "name": "stderr",
     "output_type": "stream",
     "text": [
      "."
     ]
    },
    {
     "name": "stdout",
     "output_type": "stream",
     "text": [
      "Connection OK\n"
     ]
    },
    {
     "name": "stderr",
     "output_type": "stream",
     "text": [
      "."
     ]
    },
    {
     "name": "stdout",
     "output_type": "stream",
     "text": [
      "Connection OK\n",
      "Start delete old data at 2020-12-25 19:17:05.362168\n",
      "Delete Last ['col1'] at 2020-12-25 19:17:06.212236\n",
      "Dump data to  unit_test_git  End  2020-12-25 19:17:07.751064\n"
     ]
    },
    {
     "name": "stderr",
     "output_type": "stream",
     "text": [
      "."
     ]
    },
    {
     "name": "stdout",
     "output_type": "stream",
     "text": [
      "Connection OK\n",
      "Start delete old data at 2020-12-25 19:17:23.383242\n",
      "Delete Last col1 at 2020-12-25 19:17:24.333670\n",
      "Dump data to  unit_test_git  End  2020-12-25 19:17:26.005668\n"
     ]
    },
    {
     "name": "stderr",
     "output_type": "stream",
     "text": [
      "."
     ]
    },
    {
     "name": "stdout",
     "output_type": "stream",
     "text": [
      "Connection OK\n",
      "Start delete old data at 2020-12-25 19:17:41.759632\n",
      "Delete Last ['col1', 'col2'] at 2020-12-25 19:17:42.587927\n",
      "Dump data to  unit_test_git  End  2020-12-25 19:17:44.255969\n"
     ]
    },
    {
     "name": "stderr",
     "output_type": "stream",
     "text": [
      "."
     ]
    },
    {
     "name": "stdout",
     "output_type": "stream",
     "text": [
      "Connection OK\n",
      "Start delete old data at 2020-12-25 19:17:59.422066\n",
      "Delete Last ['col1', 'col2', 'col3'] at 2020-12-25 19:18:00.215000\n",
      "Dump data to  unit_test_git  End  2020-12-25 19:18:01.811771\n"
     ]
    },
    {
     "name": "stderr",
     "output_type": "stream",
     "text": [
      "."
     ]
    },
    {
     "name": "stdout",
     "output_type": "stream",
     "text": [
      "Connection OK\n",
      "Start delete old data at 2020-12-25 19:18:16.602997\n",
      "Delete Last ['col1'] at 2020-12-25 19:18:17.387286\n",
      "Dump data to  unit_test_git  End  2020-12-25 19:18:18.964344\n"
     ]
    },
    {
     "name": "stderr",
     "output_type": "stream",
     "text": [
      "."
     ]
    },
    {
     "name": "stdout",
     "output_type": "stream",
     "text": [
      "Connection OK\n",
      "Start Filter Existing data from df at  2020-12-25 19:18:33.741509\n",
      "Dump data to  unit_test_git  End  2020-12-25 19:18:41.401895\n",
      "Start delete old data at 2020-12-25 19:18:41.402894\n",
      "Delete Last ['date'] at 2020-12-25 19:18:42.187532\n",
      "Dump data to  unit_test_git  End  2020-12-25 19:18:43.767279\n"
     ]
    },
    {
     "name": "stderr",
     "output_type": "stream",
     "text": [
      "."
     ]
    },
    {
     "name": "stdout",
     "output_type": "stream",
     "text": [
      "Connection OK\n",
      "Start Filter Existing data from df at  2020-12-25 19:18:59.363655\n",
      "Dump data to  unit_test_git  End  2020-12-25 19:19:07.436298\n"
     ]
    },
    {
     "name": "stderr",
     "output_type": "stream",
     "text": [
      ".\n",
      "----------------------------------------------------------------------\n",
      "Ran 11 tests in 224.815s\n",
      "\n",
      "OK\n"
     ]
    },
    {
     "data": {
      "text/plain": [
       "<unittest.main.TestProgram at 0x254ed725088>"
      ]
     },
     "execution_count": 5,
     "metadata": {},
     "output_type": "execute_result"
    }
   ],
   "source": [
    "test_postgresql = setting['POSTGRESQL']\n",
    "\n",
    "class SQL_Test_class(unittest.TestCase):\n",
    "    def setUp(self):\n",
    "        self.sql = da_tran_SQL(sql_type = test_postgresql['type'],\n",
    "                                host_name = test_postgresql['host'],\n",
    "                                database_name = test_postgresql['database'],\n",
    "                                user = test_postgresql['user'],\n",
    "                                password = test_postgresql['password'])\n",
    "        self.df1 = pd.DataFrame({'col1' : [1,2,3,4,5] , 'col2' : [1,1,2,2,3] , 'col3' : [1,1,1,1,1]})\n",
    "        self.df2 = pd.DataFrame({'col1' : [4,5,6,7,8] , 'col2' : [3,3,4,4,5] , 'col3' : [2,2,2,2,2]})\n",
    "        self.table_name = 'unit_test_git'\n",
    "        self.df1.to_sql(self.table_name, con = self.sql.engine, index = False, if_exists = 'replace')\n",
    "\n",
    "#     def test_sp(self):\n",
    "#         sql_q = \"\"\" CREATE OR REPLACE PROCEDURE unit_test_git_SP (PARAM1 INT)\n",
    "#                     RETURNS TABLE (col1 int, col2 int, col3 int)\n",
    "#                     language plpgsql\n",
    "#                     AS $$\n",
    "#                     BEGIN\n",
    "#                     RETURN QUERY(SELECT * FROM {} WHERE col1 = PARAM1) ;\n",
    "#                     END ; $$\"\"\".format(self.table_name)\n",
    "#         self.sql.engine.execute(sql_q)\n",
    "#         df_read = self.sql.read('unit_test_git_SP', SP = True , param = {'PARAM1' : 1})\n",
    "#         expect_df = self.df1[self.df1['col1'] == 1]\n",
    "#         result, expect = help_test(df_read, expect_df)\n",
    "#         self.assertEqual(result, expect)\n",
    "        \n",
    "    def test_read_sql(self):\n",
    "        df_read = self.sql.read(self.table_name)\n",
    "        expect_df = self.df1\n",
    "        result, expect = help_test(df_read, expect_df)\n",
    "        self.assertEqual(result, expect)\n",
    "\n",
    "    def test_whole(self):\n",
    "        self.sql.dump_whole(self.df2, self.table_name)\n",
    "        df_read = self.sql.read(self.table_name)\n",
    "        expect_df = self.df2\n",
    "        result, expect = help_test(df_read, expect_df)\n",
    "        self.assertEqual(result, expect)\n",
    "        \n",
    "    def test_replace1(self) :\n",
    "        self.sql.dump_replace(df_in = self.df2 , table_name_in = self.table_name, list_key = ['col1'])\n",
    "        df_read = self.sql.read(self.table_name)\n",
    "        expect_df = pd.DataFrame({'col1' : [1,2,3,4,5,6,7,8] , 'col2' : [1,1,2,3,3,4,4,5] , 'col3' : [1,1,1,2,2,2,2,2]})\n",
    "        result, expect = help_test(df_read, expect_df)\n",
    "        self.assertEqual(result, expect)\n",
    "\n",
    "    def test_replace1_str(self) :\n",
    "        self.sql.dump_replace(df_in = self.df2 , table_name_in = self.table_name, list_key = 'col1')\n",
    "        df_read = self.sql.read(self.table_name)\n",
    "        expect_df = pd.DataFrame({'col1' : [1,2,3,4,5,6,7,8] , 'col2' : [1,1,2,3,3,4,4,5] , 'col3' : [1,1,1,2,2,2,2,2]})\n",
    "        result, expect = help_test(df_read, expect_df)\n",
    "        self.assertEqual(result, expect)\n",
    "\n",
    "    def test_replace2(self) :\n",
    "        self.sql.dump_replace(df_in = self.df2 , table_name_in = self.table_name, list_key = ['col1','col2'])\n",
    "        df_read = self.sql.read(self.table_name)\n",
    "        expect_df = pd.DataFrame({'col1' : [1,2,3,4,4,5,6,7,8] , 'col2' : [1,1,2,2,3,3,4,4,5] , 'col3' : [1,1,1,1,2,2,2,2,2]})\n",
    "        result, expect = help_test(df_read, expect_df)\n",
    "        self.assertEqual(result, expect)\n",
    "        \n",
    "    def test_replace3(self) :\n",
    "        self.sql.dump_replace(df_in = self.df2 , table_name_in = self.table_name, list_key = ['col1','col2','col3'])\n",
    "        df_read = self.sql.read(self.table_name)\n",
    "        expect_df = self.df1.append(self.df2)\n",
    "        result, expect = help_test(df_read, expect_df)\n",
    "        self.assertEqual(result, expect)\n",
    "\n",
    "    def test_replace_logic(self) :\n",
    "        self.sql.dump_replace(df_in = self.df2 , table_name_in = self.table_name, list_key = ['col1'],\n",
    "                             math_logic = {'col1' : {'logic' : '>', 'value' : 1}})\n",
    "        df_read = self.sql.read(self.table_name)\n",
    "        expect_df = self.df1[self.df1['col1'] <= 1].append(self.df2)\n",
    "        result, expect = help_test(df_read, expect_df)\n",
    "        self.assertEqual(result, expect)\n",
    "        \n",
    "    def test_replace_logic_date(self) :\n",
    "        df_date = pd.DataFrame({'col1' : [1,2,3,4,5], \n",
    "                                'date' : pd.date_range('2020-10-10','2020-10-14'), 'col2' :[1,1,1,1,1]})\n",
    "        \n",
    "        self.sql.dump_whole(df_date, self.table_name)\n",
    "        expect_df = df_date[df_date['date'] <= '2020-10-12']\n",
    "        df_date['col2'] = 3\n",
    "        self.sql.dump_replace(df_in = df_date , table_name_in = self.table_name, list_key = ['date'],\n",
    "                             math_logic = {'date' : {'logic' : '>', 'value' : '2020-10-12', 'type' : 'date'}})\n",
    "        df_read = self.sql.read(self.table_name)\n",
    "        expect_df = expect_df.append(df_date)\n",
    "        result, expect = help_test(df_read, expect_df)\n",
    "        self.assertEqual(result, expect)\n",
    "        \n",
    "    def test_replace3(self) :\n",
    "        self.sql.dump_replace(df_in = self.df2 , table_name_in = self.table_name, list_key = ['col1','col2','col3'])\n",
    "        df_read = self.sql.read(self.table_name)\n",
    "        expect_df = self.df1.append(self.df2)\n",
    "        result, expect = help_test(df_read, expect_df)\n",
    "        self.assertEqual(result, expect)\n",
    "\n",
    "    def test_new1_str(self) :\n",
    "        self.sql.dump_new(df_in = self.df2 , table_name_in = self.table_name, list_key = 'col1')\n",
    "        df_read = self.sql.read(self.table_name)\n",
    "        expect_df = pd.DataFrame({'col1' : [1,2,3,4,5,6,7,8] , 'col2' : [1,1,2,2,3,4,4,5] , 'col3' : [1,1,1,1,1,2,2,2]})\n",
    "        result, expect = help_test(df_read, expect_df)\n",
    "        self.assertEqual(result, expect)\n",
    "\n",
    "    def test_new1(self) :\n",
    "        self.sql.dump_new(df_in = self.df2 , table_name_in = self.table_name, list_key = ['col1'])\n",
    "        df_read = self.sql.read(self.table_name)\n",
    "        expect_df = pd.DataFrame({'col1' : [1,2,3,4,5,6,7,8] , 'col2' : [1,1,2,2,3,4,4,5] , 'col3' : [1,1,1,1,1,2,2,2]})\n",
    "        result, expect = help_test(df_read, expect_df)\n",
    "        self.assertEqual(result, expect)\n",
    "\n",
    "    def test_new2(self) :\n",
    "        self.sql.dump_new(df_in = self.df2 , table_name_in = self.table_name, list_key = ['col1','col2'], debug = False)\n",
    "        df_read = self.sql.read(self.table_name)\n",
    "        expect_df = pd.DataFrame({'col1' : [1,2,3,4,5,4,6,7,8] , 'col2' : [1,1,2,2,3,3,4,4,5] , 'col3' : [1,1,1,1,1,2,2,2,2]})\n",
    "        result, expect = help_test(df_read, expect_df)\n",
    "        self.assertEqual(result, expect)\n",
    "        \n",
    "unittest.main(argv = ['first-arg-is-ignored'], exit = False)"
   ]
  }
 ],
 "metadata": {
  "kernelspec": {
   "display_name": "Python 3",
   "language": "python",
   "name": "python3"
  },
  "language_info": {
   "codemirror_mode": {
    "name": "ipython",
    "version": 3
   },
   "file_extension": ".py",
   "mimetype": "text/x-python",
   "name": "python",
   "nbconvert_exporter": "python",
   "pygments_lexer": "ipython3",
   "version": "3.7.6"
  }
 },
 "nbformat": 4,
 "nbformat_minor": 4
}
