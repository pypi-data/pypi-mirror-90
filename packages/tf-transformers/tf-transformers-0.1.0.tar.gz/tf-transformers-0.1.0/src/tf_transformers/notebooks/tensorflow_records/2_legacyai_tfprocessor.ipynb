{
 "cells": [
  {
   "cell_type": "code",
   "execution_count": 1,
   "metadata": {},
   "outputs": [],
   "source": [
    "import sys\n",
    "sys.path.append('/mnt/home/tf_transformers2/')"
   ]
  },
  {
   "cell_type": "code",
   "execution_count": null,
   "metadata": {},
   "outputs": [],
   "source": []
  },
  {
   "cell_type": "code",
   "execution_count": null,
   "metadata": {},
   "outputs": [],
   "source": [
    "# Latest versions have name changed from nlp -> datasets\n",
    "# pip install datasets\n",
    "from nlp import load_dataset\n",
    "from transformers import BertTokenizer\n",
    "import numpy as np\n",
    "from tf_transformers.utils import TFProcessor\n",
    "\n",
    "import logging\n",
    "logging.getLogger(\"transformers.tokenization_utils\").setLevel(logging.ERROR)\n",
    "\n"
   ]
  },
  {
   "cell_type": "code",
   "execution_count": null,
   "metadata": {},
   "outputs": [],
   "source": [
    "dataset = load_dataset('squad')\n",
    "tokenizer = BertTokenizer.from_pretrained('bert-base-uncased')"
   ]
  },
  {
   "cell_type": "code",
   "execution_count": null,
   "metadata": {},
   "outputs": [],
   "source": [
    "def parse_squad(dataset, tokenizer, context_limit=64, max_counter=10000):\n",
    "    for counter,entry in enumerate(dataset):\n",
    "        answer = entry['answers']['text'][0]\n",
    "        context_ids = tokenizer.encode(entry['context'])\n",
    "        if len(context_ids) < context_limit:\n",
    "            diff = context_limit - len(context_ids)\n",
    "            context_ids = context_ids + [0] * diff\n",
    "        id_ = entry['id']\n",
    "        question_ids = tokenizer.encode(entry['question'])\n",
    "        title_tokens = entry['title'].split('_')\n",
    "        \n",
    "        result = {}\n",
    "        result['answer'] = answer\n",
    "        result['context_ids'] = context_ids[:context_limit]\n",
    "        result['id'] = id_\n",
    "        result['question_ids'] = question_ids\n",
    "        result['title_tokens'] = title_tokens\n",
    "        result['dummy_classification_label']  = np.random.randint(0, 10)\n",
    "        result['dummy_float_id'] = np.random.randint(0,10000) * 1.0 # make it float\n",
    "        \n",
    "        if counter < max_counter:\n",
    "            yield result\n",
    "        else:\n",
    "            break"
   ]
  },
  {
   "cell_type": "code",
   "execution_count": null,
   "metadata": {},
   "outputs": [],
   "source": []
  },
  {
   "cell_type": "code",
   "execution_count": null,
   "metadata": {},
   "outputs": [],
   "source": [
    "tfprocessor = TFProcessor()\n",
    "train_parser = parse_squad(dataset['train'], tokenizer)\n",
    "# Returns a tf.data.Dataset\n",
    "dataset = tfprocessor.process(train_parser)\n",
    "# Lets batch it ( we dont need to pad things here, as we deal with amazing tf.RaggedTensor)\n",
    "dataset = dataset.batch(5)"
   ]
  },
  {
   "cell_type": "code",
   "execution_count": null,
   "metadata": {},
   "outputs": [],
   "source": []
  }
 ],
 "metadata": {
  "kernelspec": {
   "display_name": "Python 3",
   "language": "python",
   "name": "python3"
  },
  "language_info": {
   "codemirror_mode": {
    "name": "ipython",
    "version": 3
   },
   "file_extension": ".py",
   "mimetype": "text/x-python",
   "name": "python",
   "nbconvert_exporter": "python",
   "pygments_lexer": "ipython3",
   "version": "3.8.6"
  }
 },
 "nbformat": 4,
 "nbformat_minor": 4
}
