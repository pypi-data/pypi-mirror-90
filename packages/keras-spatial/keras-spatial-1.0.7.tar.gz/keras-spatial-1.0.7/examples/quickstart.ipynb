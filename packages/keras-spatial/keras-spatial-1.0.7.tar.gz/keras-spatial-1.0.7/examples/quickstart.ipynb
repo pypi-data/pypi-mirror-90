{
 "cells": [
  {
   "cell_type": "markdown",
   "metadata": {},
   "source": [
    "# Basic Keras Spatial Usage\n",
    "This notebook give a brief overview of using Keras Spatial. "
   ]
  },
  {
   "cell_type": "code",
   "execution_count": 8,
   "metadata": {},
   "outputs": [],
   "source": [
    "import matplotlib.pyplot as plt\n",
    "from keras_spatial import SpatialDataGenerator\n",
    "\n",
    "LABEL = 'http://lidar.ncsa.illinois.edu:9000/test/labels.tif'\n",
    "LAYERS = 'http://lidar.ncsa.illinois.edu:9000/test/mclean_roi.tif'"
   ]
  },
  {
   "cell_type": "markdown",
   "metadata": {},
   "source": [
    "The SDG provides a limited number of metadata attributes from the raster source data. Additional metadata\n",
    "can be accessed directly from rasterio source using the SDG src attribute."
   ]
  },
  {
   "cell_type": "code",
   "execution_count": 9,
   "metadata": {},
   "outputs": [
    {
     "name": "stdout",
     "output_type": "stream",
     "text": [
      "spatial extent of source = (801795.0, 1375599.99, 899715.0, 1460734.99)\n",
      "source coordinate reference system = PROJCS[\"NAD83_HARN_Illinois_East_ftUS\",GEOGCS[\"NAD83\",DATUM[\"North_American_Datum_1983\",SPHEROID[\"GRS 1980\",6378137,298.2572221010042,AUTHORITY[\"EPSG\",\"7019\"]],AUTHORITY[\"EPSG\",\"6269\"]],PRIMEM[\"Greenwich\",0],UNIT[\"degree\",0.0174532925199433],AUTHORITY[\"EPSG\",\"4269\"]],PROJECTION[\"Transverse_Mercator\"],PARAMETER[\"latitude_of_origin\",36.66666666666666],PARAMETER[\"central_meridian\",-88.33333333333333],PARAMETER[\"scale_factor\",0.999975],PARAMETER[\"false_easting\",984250.0000000005],PARAMETER[\"false_northing\",0],UNIT[\"US survey foot\",0.3048006096012192,AUTHORITY[\"EPSG\",\"9003\"]]]\n"
     ]
    }
   ],
   "source": [
    "label = SpatialDataGenerator(source=LABEL)\n",
    "print(f'spatial extent of source = {label.extent}')\n",
    "print(f'source coordinate reference system = {label.crs}')"
   ]
  },
  {
   "cell_type": "code",
   "execution_count": 10,
   "metadata": {},
   "outputs": [
    {
     "name": "stdout",
     "output_type": "stream",
     "text": [
      "BoundingBox(left=801795.0, bottom=1375599.99, right=899715.0, top=1460734.99)\n",
      "width=19584, height=17027, bands=1\n"
     ]
    }
   ],
   "source": [
    "print(label.src.bounds)\n",
    "print(f'width={label.src.width}, height={label.src.height}, bands={label.src.count}')"
   ]
  },
  {
   "cell_type": "markdown",
   "metadata": {},
   "source": [
    "A geodataframe can be generated directly from the SDG. The grid methods of the SDG use projection and spatial extent\n",
    "of the raster data source. Grid functions are available for more precise control when creating the geodataframe."
   ]
  },
  {
   "cell_type": "code",
   "execution_count": 11,
   "metadata": {},
   "outputs": [
    {
     "name": "stdout",
     "output_type": "stream",
     "text": [
      "created geodataframe with 8245 samples\n",
      "[  801795.    1375599.99   899715.    1460734.99]\n"
     ]
    }
   ],
   "source": [
    "samples = label.regular_grid(200, 200)\n",
    "print(f'created geodataframe with {len(samples)} samples')\n",
    "print(f'{samples.total_bounds}')\n"
   ]
  },
  {
   "cell_type": "markdown",
   "metadata": {},
   "source": [
    "Finally, the flow_from_dataframe method can be used to create a python generator. The generator can be\n",
    "passed directly to the Keras model."
   ]
  },
  {
   "cell_type": "code",
   "execution_count": null,
   "metadata": {},
   "outputs": [],
   "source": [
    "gen = label.flow_from_dataframe(samples, 200, 200, batch_size=1)\n",
    "arr = next(gen)"
   ]
  }
 ],
 "metadata": {
  "kernelspec": {
   "display_name": "Python 3",
   "language": "python",
   "name": "python3"
  },
  "language_info": {
   "codemirror_mode": {
    "name": "ipython",
    "version": 3
   },
   "file_extension": ".py",
   "mimetype": "text/x-python",
   "name": "python",
   "nbconvert_exporter": "python",
   "pygments_lexer": "ipython3",
   "version": "3.6.7"
  }
 },
 "nbformat": 4,
 "nbformat_minor": 2
}
