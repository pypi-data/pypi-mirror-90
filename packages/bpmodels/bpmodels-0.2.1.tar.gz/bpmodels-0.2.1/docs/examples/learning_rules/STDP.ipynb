{
 "cells": [
  {
   "cell_type": "markdown",
   "metadata": {},
   "source": [
    "# Spike-Timing-Dependent Plasticity"
   ]
  },
  {
   "cell_type": "markdown",
   "metadata": {},
   "source": [
    "STDP learning rule describes the change of synapses weight. According to STDP rule, synapses adjusts its connection strength based on the relative timing of pre-synaptic and post-synaptic spikes."
   ]
  },
  {
   "cell_type": "code",
   "execution_count": 1,
   "metadata": {},
   "outputs": [],
   "source": [
    "import matplotlib.pyplot as plt\n",
    "import brainpy as bp\n",
    "import numpy as np\n",
    "import bpmodels\n",
    "from bpmodels.neurons import get_LIF\n",
    "from bpmodels.learning_rules import get_STDP1, get_STDP2"
   ]
  },
  {
   "cell_type": "code",
   "execution_count": 2,
   "metadata": {},
   "outputs": [],
   "source": [
    "# set params\n",
    "duration = 550.\n",
    "dt = 0.02\n",
    "bp.profile.set(jit=True, dt = dt, merge_steps = True, show_code = False)# set params\n",
    "delta_t = [-20, -15, -10, -8, -6, -4, -3, \n",
    "           -2, -1, -0.6, -0.3, -0.2, -0.1, \n",
    "           0, \n",
    "           0.1, 0.2, 0.3, 0.6, 1, 2, 3, \n",
    "           4, 6, 8, 10, 15, 20] \n",
    "# delta_t: time difference between post and pre-synaptic spikes\n",
    "pre_spike_t = range(50, 550, 50) #pre neuron spike time train\n",
    "delta_t_num = len(delta_t)\n",
    "spike_num = len(pre_spike_t)"
   ]
  },
  {
   "cell_type": "markdown",
   "metadata": {},
   "source": [
    "Import synapses with STDP learning rule from bpmodels package. Build and simulate a network to show how STDP works. Note that using vector based model, we can simulate synapses with different input simultaneously."
   ]
  },
  {
   "cell_type": "code",
   "execution_count": 3,
   "metadata": {},
   "outputs": [],
   "source": [
    "# import model\n",
    "STDP_syn = get_STDP1()\n",
    "\n",
    "# build SynConn\n",
    "stdp = bp.SynConn(model = STDP_syn, num = delta_t_num, \n",
    "                  monitors = ['w', 'A_s', 'A_t', 'g'], delay = 10.)\n",
    "                  # 1 synapse corresponds to 1 delta_t (for parallel computing)\n",
    "stdp.ST[\"A_s\"] = 0.\n",
    "stdp.ST[\"A_t\"] = 0.\n",
    "stdp.ST['w'] = 10.\n",
    "stdp.runner.set_schedule(['input', 'update', 'output', 'monitor'])\n",
    "stdp.pre = bp.types.NeuState(['spike'])(delta_t_num)\n",
    "stdp.post = bp.types.NeuState(['V', 'input', 'spike'])(delta_t_num)\n",
    "\n",
    "# build pre-syn-post connection\n",
    "pre2syn_list = []\n",
    "post2syn_list = []\n",
    "for i in range(delta_t_num):\n",
    "    pre2syn_list.append([i, i])\n",
    "    post2syn_list.append([i, i])\n",
    "stdp.pre2syn = stdp.requires['pre2syn'].make_copy(pre2syn_list)\n",
    "stdp.post2syn = stdp.requires['post2syn'].make_copy(post2syn_list)\n",
    "\n",
    "# build network\n",
    "net = bp.Network(stdp)\n",
    "\n",
    "# create input matrix\n",
    "## combine input of different delta_t (for parallel computing)\n",
    "current_pre_mat = []\n",
    "current_post_mat = []\n",
    "for i in range(delta_t_num):\n",
    "    I_ext_pre = []\n",
    "    I_ext_post = []\n",
    "    for j in range(spike_num):\n",
    "        I_ext_pre.append(pre_spike_t[j])\n",
    "        I_ext_post.append(pre_spike_t[j] + delta_t[i])\n",
    "\n",
    "    current_pre = bp.inputs.spike_current(I_ext_pre, \n",
    "                                          bp.profile._dt, 1., duration = duration)\n",
    "    current_post = bp.inputs.spike_current(I_ext_post, \n",
    "                                           bp.profile._dt, 1., duration = duration)                                    \n",
    "    if i==0:\n",
    "        current_pre_mat = current_pre\n",
    "        current_post_mat = current_post\n",
    "    else:\n",
    "        current_pre_mat = np.vstack((current_pre_mat, current_pre))\n",
    "        current_post_mat = np.vstack((current_post_mat, current_post))\n",
    "\n",
    "# simulate                              \n",
    "net.run(duration = duration, \n",
    "        inputs = (\n",
    "        [stdp, 'pre.spike', current_pre_mat.T, \"=\"], \n",
    "        [stdp, 'post.spike', current_post_mat.T, \"=\"]\n",
    "        ), \n",
    "        report = False)"
   ]
  },
  {
   "cell_type": "markdown",
   "metadata": {},
   "source": [
    "Process data and paint delta_w-delta_t plot. Show that the change of synapse weight w depends on the relative time of pre-synaptic and post-synaptic spikes."
   ]
  },
  {
   "cell_type": "code",
   "execution_count": 4,
   "metadata": {},
   "outputs": [
    {
     "data": {
      "image/png": "[encoded data removed]",
      "text/plain": [
       "<Figure size 576x432 with 1 Axes>"
      ]
     },
     "metadata": {
      "needs_background": "light"
     },
     "output_type": "display_data"
    }
   ],
   "source": [
    "# process data\n",
    "delta_w_list = []\n",
    "for i in range(delta_t_num):\n",
    "    output = stdp.mon.w[:, i]\n",
    "    delta_w = 0\n",
    "    for j in range(spike_num):\n",
    "        base = int(I_ext_pre[j]//dt)\n",
    "        bias = int(I_ext_post[j]//dt)\n",
    "        if base > bias:\n",
    "            deltaw = output[base + 10] - output[bias - 10]\n",
    "        else:\n",
    "            deltaw = output[bias + 10] - output[base - 10]\n",
    "        delta_w += deltaw\n",
    "    delta_w /= spike_num\n",
    "    delta_w_list.append(delta_w)\n",
    "        \n",
    "# paint\n",
    "ts = net.ts\n",
    "fig, gs = bp.visualize.get_figure(1, 1, 6, 8)\n",
    "ax = fig.add_subplot(gs[0, 0])\n",
    "fig.add_subplot(ax)\n",
    "ax.spines['bottom'].set_position(('data',0))\n",
    "ax.spines['left'].set_position(('data',0.))\n",
    "plt.plot(delta_t, delta_w_list, label = 'delta_w-delta_t')\n",
    "plt.legend()\n",
    "plt.show()"
   ]
  }
 ],
 "metadata": {
  "kernelspec": {
   "display_name": "Python 3",
   "language": "python",
   "name": "python3"
  },
  "language_info": {
   "codemirror_mode": {
    "name": "ipython",
    "version": 3
   },
   "file_extension": ".py",
   "mimetype": "text/x-python",
   "name": "python",
   "nbconvert_exporter": "python",
   "pygments_lexer": "ipython3",
   "version": "3.7.6"
  }
 },
 "nbformat": 4,
 "nbformat_minor": 4
}
