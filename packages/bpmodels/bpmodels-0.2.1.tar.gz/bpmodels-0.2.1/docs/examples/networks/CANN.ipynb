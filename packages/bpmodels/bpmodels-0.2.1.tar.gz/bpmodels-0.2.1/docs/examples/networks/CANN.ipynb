{
 "cells": [
  {
   "cell_type": "markdown",
   "metadata": {},
   "source": [
    "# Continuous-attractor Neural Network"
   ]
  },
  {
   "cell_type": "markdown",
   "metadata": {},
   "source": [
    "Here we show the implementation of the paper:\n",
    "\n",
    "- Si Wu, Kosuke Hamaguchi, and Shun-ichi Amari. \"Dynamics and computation\n",
    "  of continuous attractors.\" Neural computation 20.4 (2008): 994-1025.\n",
    "\n",
    "The mathematical equation of the Continuous-attractor Neural Network (CANN) is given by:\n",
    "\n",
    "$$\\tau \\frac{du(x,t)}{dt} = -u(x,t) + \\rho \\int dx' J(x,x') r(x',t)+I_{ext}$$\n",
    "\n",
    "$$r(x,t) = \\frac{u(x,t)^2}{1 + k \\rho \\int dx' u(x',t)^2}$$\n",
    "\n",
    "$$J(x,x') = \\frac{1}{\\sqrt{2\\pi}a}\\exp(-\\frac{|x-x'|^2}{2a^2})$$\n",
    "\n",
    "$$I_{ext} = A\\exp\\left[-\\frac{|x-z(t)|^2}{4a^2}\\right]$$"
   ]
  },
  {
   "cell_type": "code",
   "execution_count": 1,
   "metadata": {},
   "outputs": [],
   "source": [
    "import brainpy as bp\n",
    "import numpy as np\n",
    "\n",
    "bp.profile.set(numerical_method='rk4', dt=0.05)\n",
    "\n",
    "N = 256  # The number of neurons\n",
    "tau = 1.  # The synaptic time constant\n",
    "k = 8.1  # Degree of the rescaled inhibition\n",
    "a = 0.5  # Half-width of the range of excitatory connections\n",
    "A = 10.  # Magnitude of the external input\n",
    "J0 = 4. / (N / 128)\n",
    "z_min = -np.pi\n",
    "z_max = np.pi\n",
    "z_range = z_max - z_min\n",
    "rho = N / z_range  # The neural density\n",
    "dx = z_range / N\n",
    "\n",
    "\n",
    "def dist(d):\n",
    "    d = np.remainder(d, z_range)\n",
    "    d = np.where(d > 0.5 * z_range, d - z_range, d)\n",
    "    return d\n",
    "\n",
    "\n",
    "# neuron #\n",
    "# ------ #\n",
    "\n",
    "\n",
    "@bp.integrate\n",
    "def int_u(u, t, Jxx, Iext):\n",
    "    r1 = np.square(u)\n",
    "    r2 = 1.0 + k * rho * np.sum(r1) * dx\n",
    "    r = r1 / r2\n",
    "    Irec = rho * np.dot(Jxx, r) * dx\n",
    "    dudt = (-u + Irec + Iext) / tau\n",
    "    return (dudt,), r\n",
    "\n",
    "\n",
    "def neu_update(ST, _t, Jxx):\n",
    "    ST['u'], ST['r'] = int_u(ST['u'], _t, Jxx, ST['input'])\n",
    "    ST['input'] = 0.\n",
    "\n",
    "\n",
    "requires = {\n",
    "    'Jxx': bp.types.Array(dim=2, help='Weight connection matrix.')\n",
    "}\n",
    "\n",
    "cann = bp.NeuType(name='CANN',\n",
    "                  steps=neu_update,\n",
    "                  ST=bp.types.NeuState(['x', 'u', 'r', 'input']),\n",
    "                  requires=requires)\n",
    "\n",
    "\n",
    "# connection #\n",
    "# ---------- #\n",
    "\n",
    "\n",
    "def make_conn(x):\n",
    "    assert np.ndim(x) == 1\n",
    "    x_left = np.reshape(x, (len(x), 1))\n",
    "    x_right = np.repeat(x.reshape((1, -1)), len(x), axis=0)\n",
    "    d = dist(x_left - x_right)\n",
    "    jxx = J0 * np.exp(-0.5 * np.square(d / a)) / (np.sqrt(2 * np.pi) * a)\n",
    "    return jxx"
   ]
  },
  {
   "cell_type": "markdown",
   "metadata": {},
   "source": [
    "### Population coding"
   ]
  },
  {
   "cell_type": "code",
   "execution_count": null,
   "metadata": {},
   "outputs": [
    {
     "name": "stderr",
     "output_type": "stream",
     "text": [
      "MovieWriter imagemagick unavailable; using Pillow instead.\n"
     ]
    }
   ],
   "source": [
    "k = 0.1\n",
    "group = bp.NeuGroup(cann, geometry=N, monitors=['u'])\n",
    "group.ST['x'] = np.linspace(z_min, z_max, group.num)\n",
    "group.Jxx = make_conn(group.ST['x'])\n",
    "\n",
    "I1 = A * np.exp(-0.25 * np.square(dist(group.ST['x'] - 0.) / a))\n",
    "Iext, duration = bp.inputs.constant_current([(0., 1.), (I1, 8.), (0., 8.)])\n",
    "group.run(duration=duration, inputs=('ST.input', Iext))\n",
    "\n",
    "bp.visualize.animate_1D(\n",
    "    dynamical_vars=[{'ys': group.mon.u, 'xs': group.ST['x'], 'legend': 'u'},\n",
    "                    {'ys': Iext, 'xs': group.ST['x'], 'legend': 'Iext'}],\n",
    "    show=False,\n",
    "    frame_step=1,\n",
    "    frame_delay=100,\n",
    "    save_path='../../images/CANN-encoding.gif'\n",
    ")"
   ]
  },
  {
   "cell_type": "markdown",
   "metadata": {},
   "source": [
    "<img src=\"../../images/CANN-encoding.gif\">"
   ]
  },
  {
   "cell_type": "markdown",
   "metadata": {},
   "source": [
    "### Template matching"
   ]
  },
  {
   "cell_type": "markdown",
   "metadata": {},
   "source": [
    "The CANN can perform efficient population decoding by achieving template-matching. "
   ]
  },
  {
   "cell_type": "code",
   "execution_count": null,
   "metadata": {},
   "outputs": [],
   "source": [
    "k = 8.1\n",
    "\n",
    "group = bp.NeuGroup(cann, geometry=N, monitors=['u'])\n",
    "group.ST['x'] = np.linspace(z_min, z_max, group.num)\n",
    "group.Jxx = make_conn(group.ST['x'])\n",
    "\n",
    "dur1, dur2, dur3 = 10., 30., 0.\n",
    "num1 = int(dur1 / bp.profile.get_dt())\n",
    "num2 = int(dur2 / bp.profile.get_dt())\n",
    "num3 = int(dur3 / bp.profile.get_dt())\n",
    "Iext = np.zeros((num1 + num2 + num3, group.num))\n",
    "Iext[:num1] = A * np.exp(-0.25 * np.square(dist(group.ST['x'] + 0.5) / a))\n",
    "Iext[num1:num1 + num2] = A * np.exp(-0.25 * np.square(dist(group.ST['x'] - 0.) / a))\n",
    "Iext[num1:num1 + num2] += 0.1 * A * np.random.randn(num2, group.num)\n",
    "group.run(duration=dur1 + dur2 + dur3, inputs=('ST.input', Iext))\n",
    "\n",
    "bp.visualize.animate_1D(\n",
    "    dynamical_vars=[{'ys': group.mon.u, 'xs': group.ST['x'], 'legend': 'u'},\n",
    "                    {'ys': Iext, 'xs': group.ST['x'], 'legend': 'Iext'}],\n",
    "    show=False,\n",
    "    frame_step=5,\n",
    "    frame_delay=50,\n",
    "    save_path='../../images/CANN-decoding.gif'\n",
    ")"
   ]
  },
  {
   "cell_type": "markdown",
   "metadata": {},
   "source": [
    "<img src=\"../../images/CANN-decoding.gif\">"
   ]
  },
  {
   "cell_type": "markdown",
   "metadata": {},
   "source": [
    "### Smooth tracking\n",
    "\n",
    "The CANN can track moving stimulus. "
   ]
  },
  {
   "cell_type": "code",
   "execution_count": null,
   "metadata": {},
   "outputs": [],
   "source": [
    "group = bp.NeuGroup(cann, geometry=N, monitors=['u'])\n",
    "group.ST['x'] = np.linspace(z_min, z_max, group.num)\n",
    "group.Jxx = make_conn(group.ST['x'])\n",
    "\n",
    "dur1, dur2, dur3 = 20., 20., 20.\n",
    "num1 = int(dur1 / bp.profile.get_dt())\n",
    "num2 = int(dur2 / bp.profile.get_dt())\n",
    "num3 = int(dur3 / bp.profile.get_dt())\n",
    "position = np.zeros(num1 + num2 + num3)\n",
    "position[num1: num1 + num2] = np.linspace(0., 12., num2)\n",
    "position[num1 + num2:] = 12.\n",
    "position = position.reshape((-1, 1))\n",
    "Iext = A * np.exp(-0.25 * np.square(dist(group.ST['x'] - position) / a))\n",
    "group.run(duration=dur1 + dur2 + dur3, inputs=('ST.input', Iext))\n",
    "\n",
    "bp.visualize.animate_1D(\n",
    "    dynamical_vars=[{'ys': group.mon.u, 'xs': group.ST['x'], 'legend': 'u'},\n",
    "                    {'ys': Iext, 'xs': group.ST['x'], 'legend': 'Iext'}],\n",
    "    show=False,\n",
    "    frame_step=5,\n",
    "    frame_delay=50,\n",
    "    save_path='../../images/CANN-tracking.gif'\n",
    ")"
   ]
  },
  {
   "cell_type": "markdown",
   "metadata": {},
   "source": [
    "<img src=\"../../images/CANN-tracking.gif\">"
   ]
  }
 ],
 "metadata": {
  "kernelspec": {
   "display_name": "Python 3",
   "language": "python",
   "name": "python3"
  },
  "language_info": {
   "codemirror_mode": {
    "name": "ipython",
    "version": 3
   },
   "file_extension": ".py",
   "mimetype": "text/x-python",
   "name": "python",
   "nbconvert_exporter": "python",
   "pygments_lexer": "ipython3",
   "version": "3.7.6"
  }
 },
 "nbformat": 4,
 "nbformat_minor": 4
}
