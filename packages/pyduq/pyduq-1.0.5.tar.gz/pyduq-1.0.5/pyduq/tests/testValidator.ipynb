{
 "cells": [
  {
   "cell_type": "code",
   "execution_count": 1,
   "metadata": {
    "scrolled": true
   },
   "outputs": [
    {
     "name": "stdout",
     "output_type": "stream",
     "text": [
      "\n",
      "---> Running pyduq ...\n",
      "Validating attribute \t'ApplicationNumber'...\t\t..Complete.\n",
      "Validating attribute \t'LodgementDate'...\t\t..Complete.\n",
      "Validating attribute \t'ApplicantName'...\t\t..Complete.\n",
      "Validating attribute \t'ApplicantAddressLine1'...\t\t..Complete.\n",
      "Validating attribute \t'ApplicantAddressLine2'...\t\t..Complete.\n",
      "Validating attribute \t'ApplicantAddressLine3'...\t\t..Complete.\n",
      "Validating attribute \t'ApplicantAddressLine4'...\t\t..Complete.\n",
      "Validating attribute \t'ApplicationDesc'...\t\t..Complete.\n",
      "Validating attribute \t'ApplicationType'...\t\t..Complete.\n",
      "Validating attribute \t'PropertyAddress'...\t\t..Complete.\n",
      "Validating attribute \t'PropertySuburbPostCode'...\t\t..Complete.\n",
      "Validating attribute \t'PrivateCertifierName'...\t\t..Complete.\n",
      "Validating attribute \t'PrivateCertiferAddressLine1'...\t\t..Complete.\n",
      "Validating attribute \t'PrivateCertiferAddressLine2'...\t\t..Complete.\n",
      "Validating attribute \t'PrivateCertiferAddressLine3'...\t\t..Complete.\n",
      "Validating attribute \t'PrivateCertiferAddressLine4'...\t\t..Complete.\n",
      "Validating attribute \t'Decision'...\t\t..Complete.\n",
      "Validating attribute \t'ApprovalDate'...\t\t..Complete.\n",
      "Validating attribute \t'Authority'...\t\t..Complete.\n",
      "Validating attribute \t'ApprovalConditions'...\t\t..Complete.\n",
      "Validating attribute \t'Fees'...\t\t..Complete.\n",
      "Validating attribute \t'WorkCommencementDate'...\t\t..Complete.\n",
      "Validating attribute \t'Application_Date'...\t\t..Complete.\n",
      "Validating attribute \t'Consents'...\t\t..Complete.\n",
      "Validating attribute \t'BuildingCertifiers'...\t\t..Complete.\n",
      "Validating attribute \t'PrivateCertAppDates'...\t\t..Complete.\n",
      "Validating attribute \t'CommenceDate'...\t\t..Complete.\n",
      "Validating attribute \t'CompleteDate'...\t\t..Complete.\n",
      "Validating attribute \t'UADecs'...\t\t..Complete.\n",
      "Validating attribute \t'Referrals'...\t\t..Complete.\n",
      "Validating attribute \t'ContaminationNotice'...\t\t..Complete.\n",
      "Validating attribute \t'CertifierLodgementDates'...\t\t..Complete.\n",
      "Validating attribute \t'ValueOfDevelopment'...\t\t..Complete.\n",
      "Validating attribute \t'AppDescr'...\t\t..Complete.\n",
      "Validating attribute \t'NumDwellings'...\t\t..Complete.\n",
      "Validating attribute \t'VgNumber'...\t\t..Complete.\n",
      "Completed in 0.5409998893737793 secs\n",
      "\n",
      "\n",
      "### DONE ###\n"
     ]
    }
   ],
   "source": [
    "import time\n",
    "import pyodbc\n",
    "from pyduq.SQLTools import SQLTools\n",
    "from pyduq.boxplot import BoxPlot\n",
    "from pyduq.duqvalidator import DUQValidator\n",
    "from pyduq.patterns import Patterns\n",
    "from pyduq.filetools import FileTools\n",
    "\n",
    "'''\n",
    "This is a generic test harness for loading and validating any data set. The default is file based data\n",
    "but you could also use static dict objects for the data or metadata.\n",
    "'''\n",
    "\n",
    "# load source data file\n",
    "dataset = FileTools.csvFileToDict(\"SA development application register.csv\")\n",
    "\n",
    "# load metadata file\n",
    "metadata = FileTools.JSONtoMeta(\"SA development application register_meta.json\")\n",
    "\n",
    "# specify optional custom validator python class\n",
    "customValidator = None\n",
    "\n",
    "print(\"\\n---> Running pyduq ...\")\n",
    "stime = time.time()\n",
    "pyduq_validator = DUQValidator(dataset, metadata)\n",
    "pyduq_validator.validate(customValidator)\n",
    "\n",
    "print(\"Completed in \" + str(time.time() - stime) + \" secs\")\n",
    "\n",
    "'''\n",
    "# uncomment the lines below if you wish to store the validation results to file\n",
    "# be sure to set the output filesnames in quotes below to something appropriate\n",
    "pyduq_validator.saveCounters(\"counters.xlsx\")\n",
    "pyduq_validator.saveCountersSummary(\"summary.xlsx\")\n",
    "'''\n",
    "\n",
    "if (pyduq_validator.validation_errors):\n",
    "    print(\"\\n--> Plot:\")\n",
    "    x = BoxPlot()\n",
    "    x.plot(pyduq_validator.validation_errors,\"<b>Plot of Data Quality Errors</b>\")\n",
    "\n",
    "    \n",
    "print(\"\\n\\n### DONE ###\")\n"
   ]
  },
  {
   "cell_type": "code",
   "execution_count": null,
   "metadata": {},
   "outputs": [],
   "source": []
  },
  {
   "cell_type": "code",
   "execution_count": null,
   "metadata": {},
   "outputs": [],
   "source": []
  },
  {
   "cell_type": "code",
   "execution_count": null,
   "metadata": {},
   "outputs": [],
   "source": []
  },
  {
   "cell_type": "code",
   "execution_count": null,
   "metadata": {},
   "outputs": [],
   "source": []
  }
 ],
 "metadata": {
  "kernelspec": {
   "display_name": "Python 3",
   "language": "python",
   "name": "python3"
  },
  "language_info": {
   "codemirror_mode": {
    "name": "ipython",
    "version": 3
   },
   "file_extension": ".py",
   "mimetype": "text/x-python",
   "name": "python",
   "nbconvert_exporter": "python",
   "pygments_lexer": "ipython3",
   "version": "3.8.5"
  }
 },
 "nbformat": 4,
 "nbformat_minor": 2
}
