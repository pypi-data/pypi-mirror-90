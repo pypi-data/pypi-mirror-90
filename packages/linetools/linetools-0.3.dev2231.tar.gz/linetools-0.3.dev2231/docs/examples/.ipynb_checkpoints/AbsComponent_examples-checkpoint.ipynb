{
 "cells": [
  {
   "cell_type": "markdown",
   "metadata": {},
   "source": [
    "# Examples for the AbsComponent Class (v2.0)"
   ]
  },
  {
   "cell_type": "code",
   "execution_count": 1,
   "metadata": {
    "collapsed": true
   },
   "outputs": [],
   "source": [
    "%matplotlib inline\n",
    "\n",
    "# suppress warnings for these examples\n",
    "import warnings\n",
    "warnings.filterwarnings('ignore')"
   ]
  },
  {
   "cell_type": "code",
   "execution_count": 2,
   "metadata": {
    "collapsed": true
   },
   "outputs": [],
   "source": [
    "# import\n",
    "try:\n",
    "    import seaborn as sns; sns.set_style(\"white\")\n",
    "except:\n",
    "    pass\n",
    "import numpy as np\n",
    "from astropy.table import Table\n",
    "import astropy.units as u\n",
    "from linetools.spectralline import AbsLine\n",
    "from linetools.isgm import utils as ltiu\n",
    "from linetools.analysis import absline as laa\n",
    "from linetools.spectra import io as lsio\n",
    "from linetools.isgm.abscomponent import AbsComponent\n",
    "import linetools.analysis.voigt as lav\n",
    "from linetools import utils as ltu\n",
    "\n",
    "import imp\n",
    "lt_path = imp.find_module('linetools')[1]"
   ]
  },
  {
   "cell_type": "markdown",
   "metadata": {},
   "source": [
    "## Instantiate"
   ]
  },
  {
   "cell_type": "markdown",
   "metadata": {},
   "source": [
    "### Standard"
   ]
  },
  {
   "cell_type": "code",
   "execution_count": 3,
   "metadata": {},
   "outputs": [
    {
     "data": {
      "text/plain": [
       "<AbsComponent: 00:40:00 +45:00:00, Name=SiII_z1.00000, Zion=(14,2), Ej=0 1 / cm, z=1, vlim=-300 km / s,300 km / s>"
      ]
     },
     "execution_count": 3,
     "metadata": {},
     "output_type": "execute_result"
    }
   ],
   "source": [
    "abscomp = AbsComponent((10.0*u.deg, 45*u.deg), (14,2), 1.0, [-300,300]*u.km/u.s)\n",
    "abscomp"
   ]
  },
  {
   "cell_type": "markdown",
   "metadata": {
    "collapsed": true
   },
   "source": [
    "### From AbsLines"
   ]
  },
  {
   "cell_type": "markdown",
   "metadata": {},
   "source": [
    "#### From one line"
   ]
  },
  {
   "cell_type": "code",
   "execution_count": 4,
   "metadata": {},
   "outputs": [
    {
     "name": "stdout",
     "output_type": "stream",
     "text": [
      "read_sets: Using set file -- \n",
      "  /home/xavier/local/Python/linetools/linetools/lists/sets/llist_v1.2.ascii\n",
      "Loading abundances from Asplund2009\n",
      "Abundances are relative by number on a logarithmic scale with H=12\n"
     ]
    }
   ],
   "source": [
    "lya = AbsLine(1215.670*u.AA, z=2.92939)\n",
    "lya.limits.set([-300.,300.]*u.km/u.s)  # vlim\n",
    "# Column density\n",
    "lya.attrib['flag_N'] = 1\n",
    "lya.attrib['N'] = 1e17 /  u.cm**2\n",
    "lya.attrib['sig_N'] = 1e16 /  u.cm**2"
   ]
  },
  {
   "cell_type": "code",
   "execution_count": 5,
   "metadata": {},
   "outputs": [
    {
     "name": "stdout",
     "output_type": "stream",
     "text": [
      "<AbsComponent: 00:00:00 +00:00:00, Name=HI_z2.92939, Zion=(1,1), Ej=0 1 / cm, z=2.92939, vlim=-300 km / s,300 km / s, logN=17, sig_logN=0.04342944819032518, flag_N=1>\n"
     ]
    },
    {
     "data": {
      "text/plain": [
       "[<AbsLine: HI 1215, z=2.9294 wrest=1215.6700 Angstrom, f=0.4164>]"
      ]
     },
     "execution_count": 5,
     "metadata": {},
     "output_type": "execute_result"
    }
   ],
   "source": [
    "abscomp = AbsComponent.from_abslines([lya])\n",
    "print(abscomp)\n",
    "abscomp._abslines"
   ]
  },
  {
   "cell_type": "markdown",
   "metadata": {},
   "source": [
    "#### From multiple"
   ]
  },
  {
   "cell_type": "code",
   "execution_count": 6,
   "metadata": {},
   "outputs": [
    {
     "name": "stdout",
     "output_type": "stream",
     "text": [
      "Loading abundances from Asplund2009\n",
      "Abundances are relative by number on a logarithmic scale with H=12\n"
     ]
    }
   ],
   "source": [
    "lyb = AbsLine(1025.7222*u.AA, z=lya.z)\n",
    "lyb.limits.set([-300.,300.]*u.km/u.s)  # vlim"
   ]
  },
  {
   "cell_type": "code",
   "execution_count": 7,
   "metadata": {},
   "outputs": [
    {
     "name": "stdout",
     "output_type": "stream",
     "text": [
      "<AbsComponent: 00:00:00 +00:00:00, Name=HI_z2.92939, Zion=(1,1), Ej=0 1 / cm, z=2.92939, vlim=-300 km / s,300 km / s, logN=17, sig_logN=0.04342944819032518, flag_N=1>\n"
     ]
    },
    {
     "data": {
      "text/plain": [
       "[<AbsLine: HI 1215, z=2.9294 wrest=1215.6700 Angstrom, f=0.4164>,\n",
       " <AbsLine: HI 1025, z=2.9294 wrest=1025.7222 Angstrom, f=0.07914>]"
      ]
     },
     "execution_count": 7,
     "metadata": {},
     "output_type": "execute_result"
    }
   ],
   "source": [
    "abscomp = AbsComponent.from_abslines([lya,lyb])\n",
    "print(abscomp)\n",
    "abscomp._abslines"
   ]
  },
  {
   "cell_type": "markdown",
   "metadata": {},
   "source": [
    "## Dict I/O"
   ]
  },
  {
   "cell_type": "code",
   "execution_count": 8,
   "metadata": {},
   "outputs": [
    {
     "data": {
      "text/plain": [
       "{'A': None,\n",
       " 'DEC': 0.0,\n",
       " 'Ej': 0.0,\n",
       " 'Name': 'HI_z2.92939',\n",
       " 'RA': 0.0,\n",
       " 'Zion': (1, 1),\n",
       " 'attrib': {'N': {'unit': '1 / cm2', 'value': 1e+17},\n",
       "  'b': {'unit': 'km / s', 'value': 0.0},\n",
       "  'flag_N': 1,\n",
       "  'logN': 17.0,\n",
       "  'sig_N': {'unit': '1 / cm2', 'value': 1e+16},\n",
       "  'sig_b': {'unit': 'km / s', 'value': 0.0},\n",
       "  'sig_logN': 0.04342944819032518,\n",
       "  'sig_vel': {'unit': 'km / s', 'value': 0.0},\n",
       "  'vel': {'unit': 'km / s', 'value': 0.0}},\n",
       " 'class': 'AbsComponent',\n",
       " 'comment': '',\n",
       " 'lines': {1025.7222: {'analy': {'datafile': '',\n",
       "    'do_analysis': 1,\n",
       "    'flag_kin': 0,\n",
       "    'flg_eye': 0,\n",
       "    'flg_limit': 0,\n",
       "    'name': 'HI 1025'},\n",
       "   'attrib': {'DEC': 0.0,\n",
       "    'EW': {'unit': 'Angstrom', 'value': 0.0},\n",
       "    'N': {'unit': '1 / cm2', 'value': 0.0},\n",
       "    'RA': 0.0,\n",
       "    'b': {'unit': 'km / s', 'value': 0.0},\n",
       "    'flag_EW': 0,\n",
       "    'flag_N': 0,\n",
       "    'logN': 0.0,\n",
       "    'sig_EW': {'unit': 'Angstrom', 'value': 0.0},\n",
       "    'sig_N': {'unit': '1 / cm2', 'value': 0.0},\n",
       "    'sig_b': {'unit': 'km / s', 'value': 0.0},\n",
       "    'sig_logN': 0.0,\n",
       "    'sig_vel': {'unit': 'km / s', 'value': 0.0},\n",
       "    'vel': {'unit': 'km / s', 'value': 0.0}},\n",
       "   'data': {'A': {'unit': '1 / s', 'value': 167300000.0},\n",
       "    'Am': 0,\n",
       "    'Ej': {'unit': '1 / cm', 'value': 0.0},\n",
       "    'Ek': {'unit': '1 / cm', 'value': 7492.28344},\n",
       "    'Ex': {'unit': '1 / cm', 'value': 0.0},\n",
       "    'Id': 149,\n",
       "    'Jj': 0.0,\n",
       "    'Jk': 0.0,\n",
       "    'Ref': 'Morton2003',\n",
       "    'Z': 1,\n",
       "    'el': 0,\n",
       "    'f': 0.07914,\n",
       "    'gamma': {'unit': '1 / s', 'value': 189700000.0},\n",
       "    'gj': 2,\n",
       "    'gk': 6,\n",
       "    'group': 1,\n",
       "    'ion': 1,\n",
       "    'name': 'HI 1025',\n",
       "    'nj': 0,\n",
       "    'nk': 0,\n",
       "    'wrest': {'unit': 'Angstrom', 'value': 1025.7222}},\n",
       "   'limits': {'vlim': {'unit': 'km / s',\n",
       "     'value': [-299.9999999999944, 300.00000000002655]},\n",
       "    'wrest': {'unit': 'Angstrom', 'value': 1025.7222},\n",
       "    'wvlim': {'unit': 'Angstrom',\n",
       "     'value': [4026.431318675945, 4034.4978282880356]},\n",
       "    'z': 2.92939,\n",
       "    'zlim': [2.925459855188808, 2.9333240796465514]},\n",
       "   'ltype': 'Abs',\n",
       "   'name': 'HI 1025',\n",
       "   'wrest': {'unit': 'Angstrom', 'value': 1025.7222}},\n",
       "  1215.67: {'analy': {'datafile': '',\n",
       "    'do_analysis': 1,\n",
       "    'flag_kin': 0,\n",
       "    'flg_eye': 0,\n",
       "    'flg_limit': 0,\n",
       "    'name': 'HI 1215'},\n",
       "   'attrib': {'DEC': 0.0,\n",
       "    'EW': {'unit': 'Angstrom', 'value': 0.0},\n",
       "    'N': {'unit': '1 / cm2', 'value': 1e+17},\n",
       "    'RA': 0.0,\n",
       "    'b': {'unit': 'km / s', 'value': 0.0},\n",
       "    'flag_EW': 0,\n",
       "    'flag_N': 1,\n",
       "    'logN': 0.0,\n",
       "    'sig_EW': {'unit': 'Angstrom', 'value': 0.0},\n",
       "    'sig_N': {'unit': '1 / cm2', 'value': 1e+16},\n",
       "    'sig_b': {'unit': 'km / s', 'value': 0.0},\n",
       "    'sig_logN': 0.0,\n",
       "    'sig_vel': {'unit': 'km / s', 'value': 0.0},\n",
       "    'vel': {'unit': 'km / s', 'value': 0.0}},\n",
       "   'data': {'A': {'unit': '1 / s', 'value': 626500000.0},\n",
       "    'Am': 0,\n",
       "    'Ej': {'unit': '1 / cm', 'value': 0.0},\n",
       "    'Ek': {'unit': '1 / cm', 'value': 2259.163},\n",
       "    'Ex': {'unit': '1 / cm', 'value': 0.0},\n",
       "    'Id': 262,\n",
       "    'Jj': 0.0,\n",
       "    'Jk': 0.0,\n",
       "    'Ref': 'Morton2003',\n",
       "    'Z': 1,\n",
       "    'el': 0,\n",
       "    'f': 0.4164,\n",
       "    'gamma': {'unit': '1 / s', 'value': 626500000.0},\n",
       "    'gj': 2,\n",
       "    'gk': 6,\n",
       "    'group': 1,\n",
       "    'ion': 1,\n",
       "    'name': 'HI 1215',\n",
       "    'nj': 0,\n",
       "    'nk': 0,\n",
       "    'wrest': {'unit': 'Angstrom', 'value': 1215.67}},\n",
       "   'limits': {'vlim': {'unit': 'km / s',\n",
       "     'value': [-299.9999999999944, 300.00000000002655]},\n",
       "    'wrest': {'unit': 'Angstrom', 'value': 1215.67},\n",
       "    'wvlim': {'unit': 'Angstrom',\n",
       "     'value': [4772.063782157378, 4781.624083903924]},\n",
       "    'z': 2.92939,\n",
       "    'zlim': [2.925459855188808, 2.9333240796465514]},\n",
       "   'ltype': 'Abs',\n",
       "   'name': 'HI 1215',\n",
       "   'wrest': {'unit': 'Angstrom', 'value': 1215.67}}},\n",
       " 'vlim': [-299.9999999999944, 300.00000000002655],\n",
       " 'zcomp': 2.92939}"
      ]
     },
     "execution_count": 8,
     "metadata": {},
     "output_type": "execute_result"
    }
   ],
   "source": [
    "cdict = abscomp.to_dict()\n",
    "cdict"
   ]
  },
  {
   "cell_type": "markdown",
   "metadata": {
    "collapsed": true
   },
   "source": [
    "### Write"
   ]
  },
  {
   "cell_type": "code",
   "execution_count": 9,
   "metadata": {},
   "outputs": [
    {
     "name": "stdout",
     "output_type": "stream",
     "text": [
      "Wrote AbsComponent to tmp.json\n"
     ]
    }
   ],
   "source": [
    "abscomp.write('tmp.json')"
   ]
  },
  {
   "cell_type": "markdown",
   "metadata": {},
   "source": [
    "### Read"
   ]
  },
  {
   "cell_type": "code",
   "execution_count": 10,
   "metadata": {},
   "outputs": [
    {
     "name": "stdout",
     "output_type": "stream",
     "text": [
      "Loading abundances from Asplund2009\n",
      "Abundances are relative by number on a logarithmic scale with H=12\n",
      "Loading abundances from Asplund2009\n",
      "Abundances are relative by number on a logarithmic scale with H=12\n"
     ]
    },
    {
     "data": {
      "text/plain": [
       "<AbsComponent: 00:00:00 +00:00:00, Name=HI_z2.92939, Zion=(1,1), Ej=0 1 / cm, z=2.92939, vlim=-300 km / s,300 km / s, logN=17, sig_logN=0.04342944819032518, flag_N=1>"
      ]
     },
     "execution_count": 10,
     "metadata": {},
     "output_type": "execute_result"
    }
   ],
   "source": [
    "tcomp = AbsComponent.from_json('tmp.json')\n",
    "tcomp"
   ]
  },
  {
   "cell_type": "markdown",
   "metadata": {},
   "source": [
    "## Define from Table and make an spectrum model"
   ]
  },
  {
   "cell_type": "code",
   "execution_count": 11,
   "metadata": {},
   "outputs": [
    {
     "name": "stdout",
     "output_type": "stream",
     "text": [
      "read_sets: Using set file -- \n",
      "  /home/xavier/local/Python/linetools/linetools/lists/sets/llist_v1.2.ascii\n",
      "Loading abundances from Asplund2009\n",
      "Abundances are relative by number on a logarithmic scale with H=12\n",
      "Loading abundances from Asplund2009\n",
      "Abundances are relative by number on a logarithmic scale with H=12\n"
     ]
    }
   ],
   "source": [
    "\n",
    "# We first create a Table with the most relevant information for defining AbsComponents\n",
    "tab = Table()\n",
    "tab['ion_name'] = ['HI', 'HI']\n",
    "tab['Z'] = [1,1]\n",
    "tab['ion'] = [1,1]\n",
    "tab['Ej'] = [0.,0.] / u.cm\n",
    "tab['z_comp'] = [0.2, 0.15]  # you should put the right redshifts here\n",
    "tab['logN'] = [19., 19.]  # you should put the right column densities here\n",
    "tab['sig_logN'] = [0.1, 0.1]  # you should put the right column density uncertainties here\n",
    "tab['flag_logN'] = [1, 1] # Flags correspond to linetools notation\n",
    "tab['RA'] = [0, 0]*u.deg  # you should put the right coordinates here\n",
    "tab['DEC'] = [0, 0]*u.deg  # you should put the right coordinates here\n",
    "tab['vmin'] = [-100, -100]*u.km/u.s  # This correspond to the velocity lower limit for the absorption components\n",
    "tab['vmax'] = [100, 100]*u.km/u.s  # This correspond to the velocity upper limit for the absorption components\n",
    "tab['b'] = [20, 20]*u.km/u.s  # you should put the right Dopper parameters here \n",
    "\n",
    "# We now use this table to create a list of AbsComponents\n",
    "complist = ltiu.complist_from_table(tab) \n",
    "\n",
    "# Now we need to add AbsLines to the component that are relevant for your spectrum\n",
    "# This will be done by knowing the observed wavelength limits\n",
    "wvlim = [1150, 1750]*u.AA\n",
    "for comp in complist:\n",
    "    comp.add_abslines_from_linelist(llist='HI') # you can also use llist=\"ISM\" if you have other non HI components\n",
    "\n",
    "# Finally, we can create a model spectrum for each AbsCompontent\n",
    "wv_array = np.arange(1150,1750, 0.01) * u.AA  # This should match your spectrum wavelength array \n",
    "model_1 = lav.voigt_from_components(wv_array, [complist[0]])"
   ]
  },
  {
   "cell_type": "markdown",
   "metadata": {},
   "source": [
    "## Methods"
   ]
  },
  {
   "cell_type": "markdown",
   "metadata": {},
   "source": [
    "### Generate a Component Table of AbsLines"
   ]
  },
  {
   "cell_type": "code",
   "execution_count": 12,
   "metadata": {},
   "outputs": [
    {
     "data": {
      "text/plain": [
       "(<Quantity 141253754462275.53 1 / cm2>, <Quantity 61797269977312.6 1 / cm2>)"
      ]
     },
     "execution_count": 12,
     "metadata": {},
     "output_type": "execute_result"
    }
   ],
   "source": [
    "lya.attrib['logN'] = 14.1\n",
    "lya.attrib['sig_logN'] = 0.15\n",
    "lya.attrib['flag_N'] = 1\n",
    "laa.linear_clm(lya.attrib)\n",
    "lyb.attrib['logN'] = 14.15\n",
    "lyb.attrib['sig_logN'] = 0.19\n",
    "lyb.attrib['flag_N'] = 1\n",
    "laa.linear_clm(lyb.attrib)"
   ]
  },
  {
   "cell_type": "code",
   "execution_count": 13,
   "metadata": {},
   "outputs": [
    {
     "data": {
      "text/html": [
       "&lt;Table length=2&gt;\n",
       "<table id=\"table140346164671152\" class=\"table-striped table-bordered table-condensed\">\n",
       "<thead><tr><th>name</th><th>wrest</th><th>z</th><th>flag_N</th><th>logN</th><th>sig_logN</th></tr></thead>\n",
       "<thead><tr><th></th><th>Angstrom</th><th></th><th></th><th></th><th></th></tr></thead>\n",
       "<thead><tr><th>str7</th><th>float64</th><th>float64</th><th>int64</th><th>float64</th><th>float64</th></tr></thead>\n",
       "<tr><td>HI 1215</td><td>1215.67</td><td>2.92939</td><td>1</td><td>14.1</td><td>0.15</td></tr>\n",
       "<tr><td>HI 1025</td><td>1025.7222</td><td>2.92939</td><td>1</td><td>14.15</td><td>0.19</td></tr>\n",
       "</table>"
      ],
      "text/plain": [
       "<Table length=2>\n",
       "  name    wrest      z    flag_N   logN  sig_logN\n",
       "         Angstrom                                \n",
       "  str7   float64  float64 int64  float64 float64 \n",
       "------- --------- ------- ------ ------- --------\n",
       "HI 1215   1215.67 2.92939      1    14.1     0.15\n",
       "HI 1025 1025.7222 2.92939      1   14.15     0.19"
      ]
     },
     "execution_count": 13,
     "metadata": {},
     "output_type": "execute_result"
    }
   ],
   "source": [
    "abscomp = AbsComponent.from_abslines([lya,lyb])\n",
    "comp_tbl = abscomp.build_table()\n",
    "comp_tbl"
   ]
  },
  {
   "cell_type": "markdown",
   "metadata": {},
   "source": [
    "### Synthesize multiple components"
   ]
  },
  {
   "cell_type": "code",
   "execution_count": 14,
   "metadata": {},
   "outputs": [
    {
     "name": "stdout",
     "output_type": "stream",
     "text": [
      "Loading abundances from Asplund2009\n",
      "Abundances are relative by number on a logarithmic scale with H=12\n",
      "Loading abundances from Asplund2009\n",
      "Abundances are relative by number on a logarithmic scale with H=12\n",
      "Loading abundances from Asplund2009\n",
      "Abundances are relative by number on a logarithmic scale with H=12\n"
     ]
    },
    {
     "data": {
      "text/plain": [
       "<AbsComponent: 00:00:00 +00:00:00, Name=SiII_z2.92939, Zion=(14,2), Ej=0 1 / cm, z=2.92939, vlim=-300 km / s,50 km / s, logN=13.0259, sig_logN=0.09876690973002836, flag_N=1>"
      ]
     },
     "execution_count": 14,
     "metadata": {},
     "output_type": "execute_result"
    }
   ],
   "source": [
    "SiIItrans = ['SiII 1260', 'SiII 1304', 'SiII 1526']\n",
    "SiIIlines = []\n",
    "for trans in SiIItrans:\n",
    "    iline = AbsLine(trans, z=2.92939)\n",
    "    iline.attrib['logN'] = 12.8 + np.random.rand()\n",
    "    iline.attrib['sig_logN'] = 0.15\n",
    "    iline.attrib['flag_N'] = 1\n",
    "    iline.limits.set([-300.,50.]*u.km/u.s)  # vlim\n",
    "    _,_ = laa.linear_clm(iline.attrib)\n",
    "    SiIIlines.append(iline)\n",
    "SiIIcomp = AbsComponent.from_abslines(SiIIlines)\n",
    "SiIIcomp"
   ]
  },
  {
   "cell_type": "code",
   "execution_count": 15,
   "metadata": {},
   "outputs": [
    {
     "name": "stdout",
     "output_type": "stream",
     "text": [
      "Loading abundances from Asplund2009\n",
      "Abundances are relative by number on a logarithmic scale with H=12\n",
      "Loading abundances from Asplund2009\n",
      "Abundances are relative by number on a logarithmic scale with H=12\n",
      "Loading abundances from Asplund2009\n",
      "Abundances are relative by number on a logarithmic scale with H=12\n"
     ]
    },
    {
     "data": {
      "text/plain": [
       "<AbsComponent: 00:00:00 +00:00:00, Name=SiII_z2.92939, Zion=(14,2), Ej=0 1 / cm, z=2.92939, vlim=50 km / s,300 km / s, logN=13.4952, sig_logN=0.08821975306607752, flag_N=1>"
      ]
     },
     "execution_count": 15,
     "metadata": {},
     "output_type": "execute_result"
    }
   ],
   "source": [
    "SiIIlines2 = []\n",
    "for trans in SiIItrans:\n",
    "    iline = AbsLine(trans, z=2.92939)\n",
    "    iline.attrib['logN'] = 13.3 + np.random.rand()\n",
    "    iline.attrib['sig_logN'] = 0.15\n",
    "    iline.attrib['flag_N'] = 1\n",
    "    iline.limits.set([50.,300.]*u.km/u.s)  # vlim\n",
    "    _,_ = laa.linear_clm(iline.attrib)\n",
    "    SiIIlines2.append(iline)\n",
    "SiIIcomp2 = AbsComponent.from_abslines(SiIIlines2)\n",
    "SiIIcomp2"
   ]
  },
  {
   "cell_type": "code",
   "execution_count": 16,
   "metadata": {},
   "outputs": [
    {
     "data": {
      "text/plain": [
       "[<AbsComponent: 00:00:00 +00:00:00, Name=HI_z2.92939, Zion=(1,1), Ej=0 1 / cm, z=2.92939, vlim=-300 km / s,300 km / s, logN=14.1172, sig_logN=0.11791161080135805, flag_N=1>,\n",
       " <AbsComponent: 00:00:00 +00:00:00, Name=SiII_z2.92939, Zion=(14,2), Ej=0 1 / cm, z=2.92939, vlim=-300 km / s,50 km / s, logN=13.0259, sig_logN=0.09876690973002836, flag_N=1>,\n",
       " <AbsComponent: 00:00:00 +00:00:00, Name=SiII_z2.92939, Zion=(14,2), Ej=0 1 / cm, z=2.92939, vlim=50 km / s,300 km / s, logN=13.4952, sig_logN=0.08821975306607752, flag_N=1>]"
      ]
     },
     "execution_count": 16,
     "metadata": {},
     "output_type": "execute_result"
    }
   ],
   "source": [
    "abscomp.synthesize_colm(overwrite=True)\n",
    "[abscomp,SiIIcomp,SiIIcomp2]"
   ]
  },
  {
   "cell_type": "code",
   "execution_count": 17,
   "metadata": {},
   "outputs": [
    {
     "data": {
      "text/plain": [
       "<AbsComponent: 00:00:00 +00:00:00, Name=SiII_z2.92939, Zion=(14,2), Ej=0 1 / cm, z=2.92939, vlim=-300 km / s,300 km / s, logN=13.6221, sig_logN=0.07045993847813922, flag_N=1>"
      ]
     },
     "execution_count": 17,
     "metadata": {},
     "output_type": "execute_result"
    }
   ],
   "source": [
    "synth_SiII = ltiu.synthesize_components([SiIIcomp,SiIIcomp2])\n",
    "synth_SiII"
   ]
  },
  {
   "cell_type": "markdown",
   "metadata": {},
   "source": [
    "### Generate multiple components from abslines"
   ]
  },
  {
   "cell_type": "code",
   "execution_count": 18,
   "metadata": {},
   "outputs": [
    {
     "data": {
      "text/plain": [
       "[<AbsComponent: 00:00:00 +00:00:00, Name=HI_z2.92939, Zion=(1,1), Ej=0 1 / cm, z=2.92939, vlim=-300 km / s,300 km / s, logN=14.1172, sig_logN=0.11791161080135805, flag_N=1>,\n",
       " <AbsComponent: 00:00:00 +00:00:00, Name=SiII_z2.92939, Zion=(14,2), Ej=0 1 / cm, z=2.92939, vlim=-300 km / s,50 km / s, logN=12.9738, sig_logN=0.11563086302599922, flag_N=1>]"
      ]
     },
     "execution_count": 18,
     "metadata": {},
     "output_type": "execute_result"
    }
   ],
   "source": [
    "comps = ltiu.build_components_from_abslines([lya,lyb,SiIIlines[0],SiIIlines[1]])\n",
    "comps"
   ]
  },
  {
   "cell_type": "markdown",
   "metadata": {},
   "source": [
    "### Generate an Ion Table -- Likely to be Deprecated"
   ]
  },
  {
   "cell_type": "code",
   "execution_count": 19,
   "metadata": {},
   "outputs": [
    {
     "data": {
      "text/html": [
       "&lt;Table length=2&gt;\n",
       "<table id=\"table140346169146672\" class=\"table-striped table-bordered table-condensed\">\n",
       "<thead><tr><th>Z</th><th>ion</th><th>A</th><th>Ej</th><th>z</th><th>vmin</th><th>vmax</th><th>flag_N</th><th>logN</th><th>sig_logN</th></tr></thead>\n",
       "<thead><tr><th></th><th></th><th></th><th>1 / cm</th><th></th><th>km / s</th><th>km / s</th><th></th><th></th><th></th></tr></thead>\n",
       "<thead><tr><th>int64</th><th>int64</th><th>int64</th><th>float64</th><th>float64</th><th>float64</th><th>float64</th><th>int64</th><th>float64</th><th>float64</th></tr></thead>\n",
       "<tr><td>1</td><td>1</td><td>0</td><td>0.0</td><td>2.92939</td><td>-300.0</td><td>300.0</td><td>1</td><td>14.1172024817</td><td>0.117911610801</td></tr>\n",
       "<tr><td>14</td><td>2</td><td>0</td><td>0.0</td><td>2.92939</td><td>-300.0</td><td>300.0</td><td>1</td><td>13.6220635041</td><td>0.0704599384781</td></tr>\n",
       "</table>"
      ],
      "text/plain": [
       "<Table length=2>\n",
       "  Z    ion    A      Ej   ...   vmax  flag_N      logN         sig_logN   \n",
       "                   1 / cm ...  km / s                                     \n",
       "int64 int64 int64 float64 ... float64 int64     float64        float64    \n",
       "----- ----- ----- ------- ... ------- ------ ------------- ---------------\n",
       "    1     1     0     0.0 ...   300.0      1 14.1172024817  0.117911610801\n",
       "   14     2     0     0.0 ...   300.0      1 13.6220635041 0.0704599384781"
      ]
     },
     "execution_count": 19,
     "metadata": {},
     "output_type": "execute_result"
    }
   ],
   "source": [
    "tbl = ltiu.iontable_from_components([abscomp,SiIIcomp,SiIIcomp2])\n",
    "tbl"
   ]
  },
  {
   "cell_type": "markdown",
   "metadata": {},
   "source": [
    "### Stack plot"
   ]
  },
  {
   "cell_type": "markdown",
   "metadata": {},
   "source": [
    "#### Load a spectrum"
   ]
  },
  {
   "cell_type": "code",
   "execution_count": 20,
   "metadata": {
    "collapsed": true
   },
   "outputs": [],
   "source": [
    "xspec = lsio.readspec(lt_path+'/spectra/tests/files/UM184_nF.fits')\n",
    "lya.analy['spec'] = xspec\n",
    "lyb.analy['spec'] = xspec"
   ]
  },
  {
   "cell_type": "markdown",
   "metadata": {},
   "source": [
    "#### Show"
   ]
  },
  {
   "cell_type": "code",
   "execution_count": 21,
   "metadata": {},
   "outputs": [
    {
     "data": {
      "image/png": "[encoded data removed]",
      "text/plain": [
       "<matplotlib.figure.Figure at 0x7fa4e38f7470>"
      ]
     },
     "metadata": {},
     "output_type": "display_data"
    }
   ],
   "source": [
    "abscomp = AbsComponent.from_abslines([lya,lyb])\n",
    "abscomp.stack_plot()"
   ]
  },
  {
   "cell_type": "code",
   "execution_count": null,
   "metadata": {
    "collapsed": true
   },
   "outputs": [],
   "source": []
  }
 ],
 "metadata": {
  "kernelspec": {
   "display_name": "Python 3",
   "language": "python",
   "name": "python3"
  },
  "language_info": {
   "codemirror_mode": {
    "name": "ipython",
    "version": 3
   },
   "file_extension": ".py",
   "mimetype": "text/x-python",
   "name": "python",
   "nbconvert_exporter": "python",
   "pygments_lexer": "ipython3",
   "version": "3.6.2"
  }
 },
 "nbformat": 4,
 "nbformat_minor": 1
}
