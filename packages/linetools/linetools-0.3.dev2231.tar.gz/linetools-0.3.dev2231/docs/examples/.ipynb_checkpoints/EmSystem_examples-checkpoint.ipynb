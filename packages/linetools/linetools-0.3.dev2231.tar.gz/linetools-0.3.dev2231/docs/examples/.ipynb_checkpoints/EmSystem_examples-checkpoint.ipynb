{
 "cells": [
  {
   "cell_type": "markdown",
   "metadata": {},
   "source": [
    "# Examples with EmSystem"
   ]
  },
  {
   "cell_type": "code",
   "execution_count": 1,
   "metadata": {
    "collapsed": false
   },
   "outputs": [],
   "source": [
    "# imports\n",
    "from imp import reload \n",
    "from linetools.isgm import emsystem as liems\n",
    "from linetools import io as lio\n",
    "from linetools.analysis import emline as lta_eml\n",
    "import linetools"
   ]
  },
  {
   "cell_type": "markdown",
   "metadata": {},
   "source": [
    "## With ALIS"
   ]
  },
  {
   "cell_type": "code",
   "execution_count": 2,
   "metadata": {
    "collapsed": false
   },
   "outputs": [],
   "source": [
    "alisb_file = linetools.__path__[0]+'/isgm/tests/files/spec1d_J0018p2345_KASTb_coadd.mod.out'\n",
    "alisr_file = linetools.__path__[0]+'/isgm/tests/files/spec1d_J0018p2345_KASTr_coadd.mod.out'"
   ]
  },
  {
   "cell_type": "code",
   "execution_count": 3,
   "metadata": {
    "collapsed": false
   },
   "outputs": [
    {
     "name": "stdout",
     "output_type": "stream",
     "text": [
      "linetools.lists.parse: Reading linelist --- \n",
      "   /home/xavier/local/Python/linetools/linetools/data/lines/galaxy_forbidden.ascii\n",
      "linetools.lists.parse: Reading linelist --- \n",
      "   /home/xavier/local/Python/linetools/linetools/data/lines/galaxy_recomb.ascii\n",
      "linetools.lists.parse: Reading linelist --- \n",
      "   /home/xavier/local/Python/linetools/linetools/data/lines/galaxy_abs.ascii\n",
      "read_sets: Using set file -- \n",
      "  /home/xavier/local/Python/linetools/linetools/lists/sets/llist_v1.2.ascii\n"
     ]
    },
    {
     "name": "stderr",
     "output_type": "stream",
     "text": [
      "/home/xavier/.pyenv/versions/anaconda3-4.3.1/lib/python3.6/site-packages/astropy/table/column.py:1096: MaskedArrayFutureWarning: setting an item on a masked array which has a shared mask will not copy the mask and also change the original mask array in the future.\n",
      "Check the NumPy 1.11 release notes for more information.\n",
      "  ma.MaskedArray.__setitem__(self, index, value)\n",
      "/home/xavier/local/Python/linetools/linetools/lists/linelist.py:376: UserWarning: Not implemented: will not set relative strength for LineList: Galaxy.\n",
      "  warnings.warn('Not implemented: will not set relative strength for LineList: {}.'.format(self.list))\n"
     ]
    },
    {
     "data": {
      "text/plain": [
       "<EmSystem: name=J001859.32+234540.32_z0.015 type=NONE, 00:18:59.32 +23:45:40.32, z=0.0154042>"
      ]
     },
     "execution_count": 3,
     "metadata": {},
     "output_type": "execute_result"
    }
   ],
   "source": [
    "reload(liems)\n",
    "emsys = liems.EmSystem.from_alis(alisb_file, 'J001859.32+234540.32')\n",
    "emsys"
   ]
  },
  {
   "cell_type": "code",
   "execution_count": 4,
   "metadata": {
    "collapsed": false
   },
   "outputs": [
    {
     "data": {
      "text/plain": [
       "0.01540425"
      ]
     },
     "execution_count": 4,
     "metadata": {},
     "output_type": "execute_result"
    }
   ],
   "source": [
    "emsys.zem"
   ]
  },
  {
   "cell_type": "code",
   "execution_count": 5,
   "metadata": {
    "collapsed": false
   },
   "outputs": [
    {
     "data": {
      "text/plain": [
       "[<EmLine: Hbeta, z=0.0154 wrest=4862.68 Angstrom>,\n",
       " <EmLine: Hgamma, z=0.0154 wrest=4341.68 Angstrom>,\n",
       " <EmLine: Hdelta, z=0.0154 wrest=4102.89 Angstrom>,\n",
       " <EmLine: Hepsilon, z=0.0154 wrest=3971.2 Angstrom>,\n",
       " <EmLine: [OII] 3726, z=0.0154 wrest=3727.09 Angstrom>,\n",
       " <EmLine: [OII] 3729, z=0.0154 wrest=3729.87 Angstrom>,\n",
       " <EmLine: [OIII] 4959, z=0.0154 wrest=4960.3 Angstrom>,\n",
       " <EmLine: [OIII] 5007, z=0.0154 wrest=5008.24 Angstrom>]"
      ]
     },
     "execution_count": 5,
     "metadata": {},
     "output_type": "execute_result"
    }
   ],
   "source": [
    "emsys._emlines"
   ]
  },
  {
   "cell_type": "code",
   "execution_count": 6,
   "metadata": {
    "collapsed": false
   },
   "outputs": [
    {
     "data": {
      "text/plain": [
       "{'EW': <Quantity 0.0 Angstrom>,\n",
       " 'coord': <SkyCoord (FK5: equinox=J2000.000): (ra, dec) in deg\n",
       "     ( 4.74716667,  23.7612)>,\n",
       " 'flag_EW': 0,\n",
       " 'flag_flux': 1,\n",
       " 'flux': <Quantity 7857.49594 erg / s>,\n",
       " 'sig_EW': <Quantity 0.0 Angstrom>,\n",
       " 'sig_flux': <Quantity 107.20307 erg / s>}"
      ]
     },
     "execution_count": 6,
     "metadata": {},
     "output_type": "execute_result"
    }
   ],
   "source": [
    "emsys._emlines[0].attrib"
   ]
  },
  {
   "cell_type": "markdown",
   "metadata": {},
   "source": [
    "### More lines"
   ]
  },
  {
   "cell_type": "code",
   "execution_count": 7,
   "metadata": {
    "collapsed": false
   },
   "outputs": [
    {
     "name": "stderr",
     "output_type": "stream",
     "text": [
      "/home/xavier/local/Python/linetools/linetools/lists/linelist.py:376: UserWarning: Not implemented: will not set relative strength for LineList: Galaxy.\n",
      "  warnings.warn('Not implemented: will not set relative strength for LineList: {}.'.format(self.list))\n"
     ]
    },
    {
     "data": {
      "text/plain": [
       "[<EmLine: Hbeta, z=0.0154 wrest=4862.68 Angstrom>,\n",
       " <EmLine: Hgamma, z=0.0154 wrest=4341.68 Angstrom>,\n",
       " <EmLine: Hdelta, z=0.0154 wrest=4102.89 Angstrom>,\n",
       " <EmLine: Hepsilon, z=0.0154 wrest=3971.2 Angstrom>,\n",
       " <EmLine: [OII] 3726, z=0.0154 wrest=3727.09 Angstrom>,\n",
       " <EmLine: [OII] 3729, z=0.0154 wrest=3729.87 Angstrom>,\n",
       " <EmLine: [OIII] 4959, z=0.0154 wrest=4960.3 Angstrom>,\n",
       " <EmLine: [OIII] 5007, z=0.0154 wrest=5008.24 Angstrom>,\n",
       " <EmLine: Halpha, z=0.0154 wrest=6564.61 Angstrom>,\n",
       " <EmLine: [NII] 6548, z=0.0154 wrest=6549.85 Angstrom>,\n",
       " <EmLine: [NII] 6584, z=0.0154 wrest=6585.28 Angstrom>,\n",
       " <EmLine: [SII] 6716, z=0.0154 wrest=6718.29 Angstrom>,\n",
       " <EmLine: [SII] 6731, z=0.0154 wrest=6732.67 Angstrom>]"
      ]
     },
     "execution_count": 7,
     "metadata": {},
     "output_type": "execute_result"
    }
   ],
   "source": [
    "emsys.add_emlines_from_alis(alisr_file, chk_z=False)\n",
    "emsys._emlines"
   ]
  },
  {
   "cell_type": "markdown",
   "metadata": {},
   "source": [
    "## Utilities"
   ]
  },
  {
   "cell_type": "code",
   "execution_count": 8,
   "metadata": {
    "collapsed": false
   },
   "outputs": [
    {
     "data": {
      "text/plain": [
       "<EmLine: Hbeta, z=0.0154 wrest=4862.68 Angstrom>"
      ]
     },
     "execution_count": 8,
     "metadata": {},
     "output_type": "execute_result"
    }
   ],
   "source": [
    "Hbeta = emsys.get_emline('Hbeta')\n",
    "Hbeta"
   ]
  },
  {
   "cell_type": "markdown",
   "metadata": {},
   "source": [
    "## Metallicity"
   ]
  },
  {
   "cell_type": "code",
   "execution_count": 9,
   "metadata": {
    "collapsed": false
   },
   "outputs": [
    {
     "data": {
      "text/plain": [
       "(7.160611600976936, 7.159297218972787)"
      ]
     },
     "execution_count": 9,
     "metadata": {},
     "output_type": "execute_result"
    }
   ],
   "source": [
    "reload(lta_eml)\n",
    "r_val, s_val = lta_eml.metallicity('PG16', emsys)\n",
    "r_val, s_val"
   ]
  },
  {
   "cell_type": "markdown",
   "metadata": {
    "collapsed": true
   },
   "source": [
    "## Write to disk"
   ]
  },
  {
   "cell_type": "code",
   "execution_count": 10,
   "metadata": {
    "collapsed": false
   },
   "outputs": [
    {
     "name": "stdout",
     "output_type": "stream",
     "text": [
      "Wrote J001859.32+234540.32_z0.015 system to J001859.32+234540.32_emsys.json file\n"
     ]
    }
   ],
   "source": [
    "tdict = emsys.write_json('J001859.32+234540.32_emsys.json')"
   ]
  },
  {
   "cell_type": "markdown",
   "metadata": {},
   "source": [
    "## Read from disk"
   ]
  },
  {
   "cell_type": "code",
   "execution_count": 11,
   "metadata": {
    "collapsed": false
   },
   "outputs": [
    {
     "name": "stderr",
     "output_type": "stream",
     "text": [
      "/home/xavier/local/Python/linetools/linetools/lists/linelist.py:376: UserWarning: Not implemented: will not set relative strength for LineList: Galaxy.\n",
      "  warnings.warn('Not implemented: will not set relative strength for LineList: {}.'.format(self.list))\n",
      "/home/xavier/local/Python/linetools/linetools/analysis/linelimits.py:165: UserWarning: Redshift=0.  If this is unexpected, set _z and reset limits\n",
      "  warnings.warn(\"Redshift=0.  If this is unexpected, set _z and reset limits\")\n"
     ]
    },
    {
     "data": {
      "text/plain": [
       "<EmSystem: name=J001859.32+234540.32_z0.015 type=NONE, 00:18:59.32 +23:45:40.32, z=0.0154042>"
      ]
     },
     "execution_count": 11,
     "metadata": {},
     "output_type": "execute_result"
    }
   ],
   "source": [
    "reload(liems)\n",
    "liems.EmSystem.from_json('J001859.32+234540.32_emsys.json')"
   ]
  },
  {
   "cell_type": "code",
   "execution_count": null,
   "metadata": {
    "collapsed": true
   },
   "outputs": [],
   "source": []
  }
 ],
 "metadata": {
  "kernelspec": {
   "display_name": "Python 3",
   "language": "python",
   "name": "python3"
  },
  "language_info": {
   "codemirror_mode": {
    "name": "ipython",
    "version": 3
   },
   "file_extension": ".py",
   "mimetype": "text/x-python",
   "name": "python",
   "nbconvert_exporter": "python",
   "pygments_lexer": "ipython3",
   "version": "3.6.1"
  }
 },
 "nbformat": 4,
 "nbformat_minor": 0
}
