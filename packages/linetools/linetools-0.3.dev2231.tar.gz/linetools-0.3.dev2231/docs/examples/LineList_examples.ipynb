{
 "cells": [
  {
   "cell_type": "markdown",
   "metadata": {},
   "source": [
    "# Example usage of LineList (v1.2)"
   ]
  },
  {
   "cell_type": "code",
   "execution_count": 14,
   "metadata": {
    "collapsed": false
   },
   "outputs": [],
   "source": [
    "#import\n",
    "from linetools.lists.linelist import LineList\n",
    "from linetools.lists import linelist as lll\n",
    "\n",
    "import astropy.units as u"
   ]
  },
  {
   "cell_type": "markdown",
   "metadata": {},
   "source": [
    "## Instantiate\n",
    "### Lists currently include (more to come):\n",
    "* ISM  (atomic lines)\n",
    "* Strong\n",
    "* H2\n",
    "* Galaxy"
   ]
  },
  {
   "cell_type": "markdown",
   "metadata": {},
   "source": [
    "### ISM"
   ]
  },
  {
   "cell_type": "code",
   "execution_count": 2,
   "metadata": {
    "collapsed": false
   },
   "outputs": [
    {
     "name": "stderr",
     "output_type": "stream",
     "text": [
      "WARNING: UnitsWarning: The unit 'Angstrom' has been deprecated in the FITS standard. Suggested: 10**-1 nm. [astropy.units.format.utils]\n",
      "WARNING:astropy:UnitsWarning: The unit 'Angstrom' has been deprecated in the FITS standard. Suggested: 10**-1 nm.\n"
     ]
    }
   ],
   "source": [
    "ism = LineList('ISM',verbose=False)"
   ]
  },
  {
   "cell_type": "markdown",
   "metadata": {},
   "source": [
    "### Galaxy"
   ]
  },
  {
   "cell_type": "code",
   "execution_count": 3,
   "metadata": {
    "collapsed": false
   },
   "outputs": [
    {
     "name": "stdout",
     "output_type": "stream",
     "text": [
      "linetools.lists.parse: Reading linelist --- \n",
      "   /Users/ncrighton/Code/Repo/linetools/build/lib.macosx-10.5-x86_64-3.4/linetools/data/lines/galaxy_forbidden.ascii\n",
      "linetools.lists.parse: Reading linelist --- \n",
      "   /Users/ncrighton/Code/Repo/linetools/build/lib.macosx-10.5-x86_64-3.4/linetools/data/lines/galaxy_recomb.ascii\n",
      "linetools.lists.parse: Reading linelist --- \n",
      "   /Users/ncrighton/Code/Repo/linetools/build/lib.macosx-10.5-x86_64-3.4/linetools/data/lines/galaxy_abs.ascii\n",
      "read_sets: Using set file -- \n",
      "  /Users/ncrighton/Code/Repo/linetools/build/lib.macosx-10.5-x86_64-3.4/linetools/lists/sets/llist_v1.0.ascii\n"
     ]
    }
   ],
   "source": [
    "glx = lll.LineList('Galaxy')"
   ]
  },
  {
   "cell_type": "code",
   "execution_count": 5,
   "metadata": {
    "collapsed": false
   },
   "outputs": [
    {
     "data": {
      "text/html": [
       "&lt;QTable masked=True length=58&gt;\n",
       "<table id=\"table4417921712\">\n",
       "<thead><tr><th>gj</th><th>Am</th><th>gk</th><th>ion</th><th>f</th><th>Jk</th><th>nk</th><th>Ej</th><th>el</th><th>Jj</th><th>nj</th><th>Ref</th><th>gamma</th><th>mol</th><th>Z</th><th>group</th><th>Ek</th><th>name</th><th>wrest</th><th>A</th><th>Ex</th></tr></thead>\n",
       "<thead><tr><th></th><th></th><th></th><th></th><th></th><th></th><th></th><th>1 / cm</th><th></th><th></th><th></th><th></th><th>1 / s</th><th></th><th></th><th></th><th>1 / cm</th><th></th><th>Angstrom</th><th>1 / s</th><th>1 / cm</th></tr></thead>\n",
       "<thead><tr><th>int64</th><th>int64</th><th>int64</th><th>int64</th><th>float64</th><th>float64</th><th>int64</th><th>float64</th><th>int64</th><th>float64</th><th>int64</th><th>str50</th><th>float64</th><th>str10</th><th>int64</th><th>int64</th><th>float64</th><th>str20</th><th>float64</th><th>float64</th><th>float64</th></tr></thead>\n",
       "<tr><td>--</td><td>--</td><td>--</td><td>2</td><td>--</td><td>--</td><td>--</td><td>0.0</td><td>--</td><td>--</td><td>--</td><td>JXP_DK_Unknown</td><td>0.0</td><td>--</td><td>12</td><td>--</td><td>0.0</td><td>MgII 2796</td><td>2796.3543</td><td>0.0</td><td>0.0</td></tr>\n",
       "<tr><td>--</td><td>--</td><td>--</td><td>2</td><td>--</td><td>--</td><td>--</td><td>0.0</td><td>--</td><td>--</td><td>--</td><td>JXP_DK_Unknown</td><td>0.0</td><td>--</td><td>12</td><td>--</td><td>0.0</td><td>MgII 2803</td><td>2803.5315</td><td>0.0</td><td>0.0</td></tr>\n",
       "<tr><td>--</td><td>--</td><td>--</td><td>1</td><td>--</td><td>--</td><td>--</td><td>0.0</td><td>--</td><td>--</td><td>--</td><td>DESI_NIST_JM</td><td>0.0</td><td>--</td><td>2</td><td>--</td><td>0.0</td><td>HeI 3188</td><td>3188.662</td><td>0.0</td><td>0.0</td></tr>\n",
       "<tr><td>--</td><td>--</td><td>--</td><td>1</td><td>--</td><td>--</td><td>--</td><td>0.0</td><td>--</td><td>--</td><td>--</td><td>DESI_NIST_JM</td><td>0.0</td><td>--</td><td>1</td><td>--</td><td>0.0</td><td>H18</td><td>3692.605</td><td>0.0</td><td>0.0</td></tr>\n",
       "<tr><td>--</td><td>--</td><td>--</td><td>1</td><td>--</td><td>--</td><td>--</td><td>0.0</td><td>--</td><td>--</td><td>--</td><td>DESI_NIST_JM</td><td>0.0</td><td>--</td><td>1</td><td>--</td><td>0.0</td><td>H17</td><td>3698.204</td><td>0.0</td><td>0.0</td></tr>\n",
       "<tr><td>--</td><td>--</td><td>--</td><td>1</td><td>--</td><td>--</td><td>--</td><td>0.0</td><td>--</td><td>--</td><td>--</td><td>DESI_NIST_JM</td><td>0.0</td><td>--</td><td>1</td><td>--</td><td>0.0</td><td>H16</td><td>3704.906</td><td>0.0</td><td>0.0</td></tr>\n",
       "<tr><td>--</td><td>--</td><td>--</td><td>1</td><td>--</td><td>--</td><td>--</td><td>0.0</td><td>--</td><td>--</td><td>--</td><td>DESI_NIST_JM</td><td>0.0</td><td>--</td><td>1</td><td>--</td><td>0.0</td><td>H15</td><td>3713.027</td><td>0.0</td><td>0.0</td></tr>\n",
       "<tr><td>--</td><td>--</td><td>--</td><td>1</td><td>--</td><td>--</td><td>--</td><td>0.0</td><td>--</td><td>--</td><td>--</td><td>DESI_NIST_JM</td><td>0.0</td><td>--</td><td>1</td><td>--</td><td>0.0</td><td>H14</td><td>3722.997</td><td>0.0</td><td>0.0</td></tr>\n",
       "<tr><td>--</td><td>--</td><td>--</td><td>2</td><td>--</td><td>--</td><td>--</td><td>0.0</td><td>--</td><td>--</td><td>--</td><td>DESI_NIST_JM</td><td>0.0</td><td>--</td><td>8</td><td>--</td><td>0.0</td><td>[OII] 3726</td><td>3727.092</td><td>0.0</td><td>0.0</td></tr>\n",
       "<tr><td>...</td><td>...</td><td>...</td><td>...</td><td>...</td><td>...</td><td>...</td><td>...</td><td>...</td><td>...</td><td>...</td><td>...</td><td>...</td><td>...</td><td>...</td><td>...</td><td>...</td><td>...</td><td>...</td><td>...</td><td>...</td></tr>\n",
       "<tr><td>--</td><td>--</td><td>--</td><td>1</td><td>--</td><td>--</td><td>--</td><td>0.0</td><td>--</td><td>--</td><td>--</td><td>DESI_NIST_JM</td><td>0.0</td><td>--</td><td>1</td><td>--</td><td>0.0</td><td>Paepsilon</td><td>9548.591</td><td>0.0</td><td>0.0</td></tr>\n",
       "<tr><td>--</td><td>--</td><td>--</td><td>1</td><td>--</td><td>--</td><td>--</td><td>0.0</td><td>--</td><td>--</td><td>--</td><td>DESI_NIST_JM</td><td>0.0</td><td>--</td><td>1</td><td>--</td><td>0.0</td><td>Padelta</td><td>10052.13</td><td>0.0</td><td>0.0</td></tr>\n",
       "<tr><td>--</td><td>--</td><td>--</td><td>1</td><td>--</td><td>--</td><td>--</td><td>0.0</td><td>--</td><td>--</td><td>--</td><td>DESI_NIST_JM</td><td>0.0</td><td>--</td><td>2</td><td>--</td><td>0.0</td><td>HeI 10830</td><td>10833.22</td><td>0.0</td><td>0.0</td></tr>\n",
       "<tr><td>--</td><td>--</td><td>--</td><td>1</td><td>--</td><td>--</td><td>--</td><td>0.0</td><td>--</td><td>--</td><td>--</td><td>DESI_NIST_JM</td><td>0.0</td><td>--</td><td>1</td><td>--</td><td>0.0</td><td>Pagamma</td><td>10941.09</td><td>0.0</td><td>0.0</td></tr>\n",
       "<tr><td>--</td><td>--</td><td>--</td><td>1</td><td>--</td><td>--</td><td>--</td><td>0.0</td><td>--</td><td>--</td><td>--</td><td>DESI_NIST_JM</td><td>0.0</td><td>--</td><td>1</td><td>--</td><td>0.0</td><td>Pabeta</td><td>12821.59</td><td>0.0</td><td>0.0</td></tr>\n",
       "<tr><td>--</td><td>--</td><td>--</td><td>1</td><td>--</td><td>--</td><td>--</td><td>0.0</td><td>--</td><td>--</td><td>--</td><td>DESI_NIST_JM</td><td>0.0</td><td>--</td><td>1</td><td>--</td><td>0.0</td><td>Paalpha</td><td>18756.13</td><td>0.0</td><td>0.0</td></tr>\n",
       "<tr><td>--</td><td>--</td><td>--</td><td>1</td><td>--</td><td>--</td><td>--</td><td>0.0</td><td>--</td><td>--</td><td>--</td><td>DESI_NIST_JM</td><td>0.0</td><td>--</td><td>1</td><td>--</td><td>0.0</td><td>Brdelta</td><td>19450.87</td><td>0.0</td><td>0.0</td></tr>\n",
       "<tr><td>--</td><td>--</td><td>--</td><td>1</td><td>--</td><td>--</td><td>--</td><td>0.0</td><td>--</td><td>--</td><td>--</td><td>DESI_NIST_JM</td><td>0.0</td><td>--</td><td>1</td><td>--</td><td>0.0</td><td>Brgamma</td><td>21661.2</td><td>0.0</td><td>0.0</td></tr>\n",
       "<tr><td>--</td><td>--</td><td>--</td><td>1</td><td>--</td><td>--</td><td>--</td><td>0.0</td><td>--</td><td>--</td><td>--</td><td>DESI_NIST_JM</td><td>0.0</td><td>--</td><td>1</td><td>--</td><td>0.0</td><td>Brbeta</td><td>26258.67</td><td>0.0</td><td>0.0</td></tr>\n",
       "<tr><td>--</td><td>--</td><td>--</td><td>1</td><td>--</td><td>--</td><td>--</td><td>0.0</td><td>--</td><td>--</td><td>--</td><td>DESI_NIST_JM</td><td>0.0</td><td>--</td><td>1</td><td>--</td><td>0.0</td><td>Bralpha</td><td>40522.62</td><td>0.0</td><td>0.0</td></tr>\n",
       "</table>"
      ],
      "text/plain": [
       "<QTable masked=True length=58>\n",
       "  gj    Am    gk   ion     f    ...    Ek      name      wrest      A       Ex  \n",
       "                                ...  1 / cm             Angstrom  1 / s   1 / cm\n",
       "int64 int64 int64 int64 float64 ... float64   str20     float64  float64 float64\n",
       "----- ----- ----- ----- ------- ... ------- ---------- --------- ------- -------\n",
       "   --    --    --     2      -- ...     0.0  MgII 2796 2796.3543     0.0     0.0\n",
       "   --    --    --     2      -- ...     0.0  MgII 2803 2803.5315     0.0     0.0\n",
       "   --    --    --     1      -- ...     0.0   HeI 3188  3188.662     0.0     0.0\n",
       "   --    --    --     1      -- ...     0.0        H18  3692.605     0.0     0.0\n",
       "   --    --    --     1      -- ...     0.0        H17  3698.204     0.0     0.0\n",
       "   --    --    --     1      -- ...     0.0        H16  3704.906     0.0     0.0\n",
       "   --    --    --     1      -- ...     0.0        H15  3713.027     0.0     0.0\n",
       "   --    --    --     1      -- ...     0.0        H14  3722.997     0.0     0.0\n",
       "   --    --    --     2      -- ...     0.0 [OII] 3726  3727.092     0.0     0.0\n",
       "  ...   ...   ...   ...     ... ...     ...        ...       ...     ...     ...\n",
       "   --    --    --     1      -- ...     0.0  Paepsilon  9548.591     0.0     0.0\n",
       "   --    --    --     1      -- ...     0.0    Padelta  10052.13     0.0     0.0\n",
       "   --    --    --     1      -- ...     0.0  HeI 10830  10833.22     0.0     0.0\n",
       "   --    --    --     1      -- ...     0.0    Pagamma  10941.09     0.0     0.0\n",
       "   --    --    --     1      -- ...     0.0     Pabeta  12821.59     0.0     0.0\n",
       "   --    --    --     1      -- ...     0.0    Paalpha  18756.13     0.0     0.0\n",
       "   --    --    --     1      -- ...     0.0    Brdelta  19450.87     0.0     0.0\n",
       "   --    --    --     1      -- ...     0.0    Brgamma   21661.2     0.0     0.0\n",
       "   --    --    --     1      -- ...     0.0     Brbeta  26258.67     0.0     0.0\n",
       "   --    --    --     1      -- ...     0.0    Bralpha  40522.62     0.0     0.0"
      ]
     },
     "execution_count": 5,
     "metadata": {},
     "output_type": "execute_result"
    }
   ],
   "source": [
    "glx._data"
   ]
  },
  {
   "cell_type": "code",
   "execution_count": 6,
   "metadata": {
    "collapsed": false
   },
   "outputs": [
    {
     "data": {
      "text/plain": [
       "{'A': <Quantity 0.0 1 / s>,\n",
       " 'Am': masked,\n",
       " 'Ej': <Quantity 0.0 1 / cm>,\n",
       " 'Ek': <Quantity 0.0 1 / cm>,\n",
       " 'Ex': <Quantity 0.0 1 / cm>,\n",
       " 'Jj': masked,\n",
       " 'Jk': masked,\n",
       " 'Ref': 'DESI_NIST_JM',\n",
       " 'Z': 1,\n",
       " 'el': masked,\n",
       " 'f': masked,\n",
       " 'gamma': <Quantity 0.0 1 / s>,\n",
       " 'gj': masked,\n",
       " 'gk': masked,\n",
       " 'group': masked,\n",
       " 'ion': 1,\n",
       " 'mol': masked,\n",
       " 'name': 'Halpha',\n",
       " 'nj': masked,\n",
       " 'nk': masked,\n",
       " 'wrest': <Quantity 6564.613 Angstrom>}"
      ]
     },
     "execution_count": 6,
     "metadata": {},
     "output_type": "execute_result"
    }
   ],
   "source": [
    "glx['Halpha']"
   ]
  },
  {
   "cell_type": "markdown",
   "metadata": {},
   "source": [
    "## Check Tables"
   ]
  },
  {
   "cell_type": "code",
   "execution_count": 8,
   "metadata": {
    "collapsed": false
   },
   "outputs": [
    {
     "data": {
      "text/html": [
       "&lt;QTable masked=True length=5&gt;\n",
       "<table id=\"table4433728960\">\n",
       "<thead><tr><th>gj</th><th>Am</th><th>gk</th><th>ion</th><th>f</th><th>Jk</th><th>nk</th><th>Ej</th><th>el</th><th>Jj</th><th>nj</th><th>Ref</th><th>gamma</th><th>mol</th><th>Z</th><th>group</th><th>Ek</th><th>name</th><th>wrest</th><th>A</th><th>Ex</th></tr></thead>\n",
       "<thead><tr><th></th><th></th><th></th><th></th><th></th><th></th><th></th><th>1 / cm</th><th></th><th></th><th></th><th></th><th>1 / s</th><th></th><th></th><th></th><th>1 / cm</th><th></th><th>Angstrom</th><th>1 / s</th><th>1 / cm</th></tr></thead>\n",
       "<thead><tr><th>int64</th><th>int64</th><th>int64</th><th>int64</th><th>float64</th><th>float64</th><th>int64</th><th>float64</th><th>int64</th><th>float64</th><th>int64</th><th>str50</th><th>float64</th><th>str10</th><th>int64</th><th>int64</th><th>float64</th><th>str20</th><th>float64</th><th>float64</th><th>float64</th></tr></thead>\n",
       "<tr><td>--</td><td>--</td><td>--</td><td>3</td><td>--</td><td>--</td><td>--</td><td>0.0</td><td>--</td><td>--</td><td>--</td><td>DESI_NIST_JM</td><td>0.0</td><td>--</td><td>8</td><td>--</td><td>0.0</td><td>[OIII] 5007</td><td>5008.239</td><td>0.0</td><td>0.0</td></tr>\n",
       "<tr><td>--</td><td>--</td><td>--</td><td>3</td><td>--</td><td>--</td><td>--</td><td>0.0</td><td>--</td><td>--</td><td>--</td><td>DESI_NIST_JM</td><td>0.0</td><td>--</td><td>8</td><td>--</td><td>0.0</td><td>[OIII] 4959</td><td>4960.295</td><td>0.0</td><td>0.0</td></tr>\n",
       "<tr><td>--</td><td>--</td><td>--</td><td>2</td><td>--</td><td>--</td><td>--</td><td>0.0</td><td>--</td><td>--</td><td>--</td><td>DESI_NIST_JM</td><td>0.0</td><td>--</td><td>7</td><td>--</td><td>0.0</td><td>[NII] 6584</td><td>6585.277</td><td>0.0</td><td>0.0</td></tr>\n",
       "<tr><td>--</td><td>--</td><td>--</td><td>2</td><td>--</td><td>--</td><td>--</td><td>0.0</td><td>--</td><td>--</td><td>--</td><td>DESI_NIST_JM</td><td>0.0</td><td>--</td><td>7</td><td>--</td><td>0.0</td><td>[NII] 6548</td><td>6549.852</td><td>0.0</td><td>0.0</td></tr>\n",
       "<tr><td>--</td><td>--</td><td>--</td><td>2</td><td>--</td><td>--</td><td>--</td><td>0.0</td><td>--</td><td>--</td><td>--</td><td>DESI_NIST_JM</td><td>0.0</td><td>--</td><td>16</td><td>--</td><td>0.0</td><td>[SII] 6716</td><td>6718.294</td><td>0.0</td><td>0.0</td></tr>\n",
       "</table>"
      ],
      "text/plain": [
       "<QTable masked=True length=5>\n",
       "  gj    Am    gk   ion     f    ...    Ek       name     wrest      A       Ex  \n",
       "                                ...  1 / cm             Angstrom  1 / s   1 / cm\n",
       "int64 int64 int64 int64 float64 ... float64    str20    float64  float64 float64\n",
       "----- ----- ----- ----- ------- ... ------- ----------- -------- ------- -------\n",
       "   --    --    --     3      -- ...     0.0 [OIII] 5007 5008.239     0.0     0.0\n",
       "   --    --    --     3      -- ...     0.0 [OIII] 4959 4960.295     0.0     0.0\n",
       "   --    --    --     2      -- ...     0.0  [NII] 6584 6585.277     0.0     0.0\n",
       "   --    --    --     2      -- ...     0.0  [NII] 6548 6549.852     0.0     0.0\n",
       "   --    --    --     2      -- ...     0.0  [SII] 6716 6718.294     0.0     0.0"
      ]
     },
     "execution_count": 8,
     "metadata": {},
     "output_type": "execute_result"
    }
   ],
   "source": [
    "# Full set of Data ingested\n",
    "glx._fulltable[0:5]"
   ]
  },
  {
   "cell_type": "code",
   "execution_count": 9,
   "metadata": {
    "collapsed": false
   },
   "outputs": [
    {
     "data": {
      "text/html": [
       "&lt;QTable masked=True length=5&gt;\n",
       "<table id=\"table4433737488\">\n",
       "<thead><tr><th>gj</th><th>Am</th><th>gk</th><th>ion</th><th>f</th><th>Jk</th><th>nk</th><th>Ej</th><th>el</th><th>Jj</th><th>nj</th><th>Ref</th><th>gamma</th><th>mol</th><th>Z</th><th>group</th><th>Ek</th><th>name</th><th>wrest</th><th>A</th><th>Ex</th></tr></thead>\n",
       "<thead><tr><th></th><th></th><th></th><th></th><th></th><th></th><th></th><th>1 / cm</th><th></th><th></th><th></th><th></th><th>1 / s</th><th></th><th></th><th></th><th>1 / cm</th><th></th><th>Angstrom</th><th>1 / s</th><th>1 / cm</th></tr></thead>\n",
       "<thead><tr><th>int64</th><th>int64</th><th>int64</th><th>int64</th><th>float64</th><th>float64</th><th>int64</th><th>float64</th><th>int64</th><th>float64</th><th>int64</th><th>str50</th><th>float64</th><th>str10</th><th>int64</th><th>int64</th><th>float64</th><th>str20</th><th>float64</th><th>float64</th><th>float64</th></tr></thead>\n",
       "<tr><td>--</td><td>--</td><td>--</td><td>2</td><td>--</td><td>--</td><td>--</td><td>0.0</td><td>--</td><td>--</td><td>--</td><td>JXP_DK_Unknown</td><td>0.0</td><td>--</td><td>12</td><td>--</td><td>0.0</td><td>MgII 2796</td><td>2796.3543</td><td>0.0</td><td>0.0</td></tr>\n",
       "<tr><td>--</td><td>--</td><td>--</td><td>2</td><td>--</td><td>--</td><td>--</td><td>0.0</td><td>--</td><td>--</td><td>--</td><td>JXP_DK_Unknown</td><td>0.0</td><td>--</td><td>12</td><td>--</td><td>0.0</td><td>MgII 2803</td><td>2803.5315</td><td>0.0</td><td>0.0</td></tr>\n",
       "<tr><td>--</td><td>--</td><td>--</td><td>1</td><td>--</td><td>--</td><td>--</td><td>0.0</td><td>--</td><td>--</td><td>--</td><td>DESI_NIST_JM</td><td>0.0</td><td>--</td><td>2</td><td>--</td><td>0.0</td><td>HeI 3188</td><td>3188.662</td><td>0.0</td><td>0.0</td></tr>\n",
       "<tr><td>--</td><td>--</td><td>--</td><td>1</td><td>--</td><td>--</td><td>--</td><td>0.0</td><td>--</td><td>--</td><td>--</td><td>DESI_NIST_JM</td><td>0.0</td><td>--</td><td>1</td><td>--</td><td>0.0</td><td>H18</td><td>3692.605</td><td>0.0</td><td>0.0</td></tr>\n",
       "<tr><td>--</td><td>--</td><td>--</td><td>1</td><td>--</td><td>--</td><td>--</td><td>0.0</td><td>--</td><td>--</td><td>--</td><td>DESI_NIST_JM</td><td>0.0</td><td>--</td><td>1</td><td>--</td><td>0.0</td><td>H17</td><td>3698.204</td><td>0.0</td><td>0.0</td></tr>\n",
       "</table>"
      ],
      "text/plain": [
       "<QTable masked=True length=5>\n",
       "  gj    Am    gk   ion     f    ...    Ek      name     wrest      A       Ex  \n",
       "                                ...  1 / cm            Angstrom  1 / s   1 / cm\n",
       "int64 int64 int64 int64 float64 ... float64   str20    float64  float64 float64\n",
       "----- ----- ----- ----- ------- ... ------- --------- --------- ------- -------\n",
       "   --    --    --     2      -- ...     0.0 MgII 2796 2796.3543     0.0     0.0\n",
       "   --    --    --     2      -- ...     0.0 MgII 2803 2803.5315     0.0     0.0\n",
       "   --    --    --     1      -- ...     0.0  HeI 3188  3188.662     0.0     0.0\n",
       "   --    --    --     1      -- ...     0.0       H18  3692.605     0.0     0.0\n",
       "   --    --    --     1      -- ...     0.0       H17  3698.204     0.0     0.0"
      ]
     },
     "execution_count": 9,
     "metadata": {},
     "output_type": "execute_result"
    }
   ],
   "source": [
    "# Subset of data to be used\n",
    "glx._data[0:5]"
   ]
  },
  {
   "cell_type": "markdown",
   "metadata": {},
   "source": [
    "## Calling specific lines"
   ]
  },
  {
   "cell_type": "code",
   "execution_count": 10,
   "metadata": {
    "collapsed": false
   },
   "outputs": [
    {
     "data": {
      "text/plain": [
       "{'A': <Quantity 626500000.0 1 / s>,\n",
       " 'Am': 0,\n",
       " 'Ej': <Quantity 0.0 1 / cm>,\n",
       " 'Ek': <Quantity 2259.163 1 / cm>,\n",
       " 'Ex': <Quantity 0.0 1 / cm>,\n",
       " 'Jj': 0.0,\n",
       " 'Jk': 0.0,\n",
       " 'Ref': 'Morton2003',\n",
       " 'Z': 1,\n",
       " 'col0': masked,\n",
       " 'col7': masked,\n",
       " 'el': 0,\n",
       " 'f': 0.41639999999999999,\n",
       " 'gamma': <Quantity 626500000.0 1 / s>,\n",
       " 'gj': 2,\n",
       " 'gk': 6,\n",
       " 'group': 1,\n",
       " 'ion': 1,\n",
       " 'is_EUV': False,\n",
       " 'is_HI': True,\n",
       " 'is_Strong': True,\n",
       " 'mol': '',\n",
       " 'name': 'HI 1215',\n",
       " 'nj': 0,\n",
       " 'nk': 0,\n",
       " 'wrest': <Quantity 1215.67 Angstrom>}"
      ]
     },
     "execution_count": 10,
     "metadata": {},
     "output_type": "execute_result"
    }
   ],
   "source": [
    "ism['HI 1215']  # Returns a dict"
   ]
  },
  {
   "cell_type": "code",
   "execution_count": 11,
   "metadata": {
    "collapsed": false
   },
   "outputs": [
    {
     "data": {
      "text/plain": [
       "0.41639999999999999"
      ]
     },
     "execution_count": 11,
     "metadata": {},
     "output_type": "execute_result"
    }
   ],
   "source": [
    "ism[1215.6700]['f']"
   ]
  },
  {
   "cell_type": "code",
   "execution_count": 12,
   "metadata": {
    "collapsed": false
   },
   "outputs": [
    {
     "data": {
      "text/plain": [
       "0.41639999999999999"
      ]
     },
     "execution_count": 12,
     "metadata": {},
     "output_type": "execute_result"
    }
   ],
   "source": [
    "ism['HI 1215']['f']"
   ]
  },
  {
   "cell_type": "markdown",
   "metadata": {},
   "source": [
    "## Parsing entire fields"
   ]
  },
  {
   "cell_type": "code",
   "execution_count": 15,
   "metadata": {
    "collapsed": false
   },
   "outputs": [
    {
     "data": {
      "text/latex": [
       "$[912.7032,~912.7676,~912.8389,~\\dots, 1197.875,~1199.391,~1199.5496] \\; \\mathrm{\\mathring{A}}$"
      ],
      "text/plain": [
       "<Quantity [  912.7032,  912.7676,  912.8389,  912.9179,  913.0059,\n",
       "             913.1042,  913.2146,  913.3391,  913.4803,  913.6411,\n",
       "             913.8256,  913.9683,  914.0385,  914.2861,  914.5762,\n",
       "             914.9192,  915.3289,  915.6131,  915.8238,  916.4291,\n",
       "             916.931 ,  917.1178,  917.1805,  918.1293,  919.3513,\n",
       "             920.963 ,  921.857 ,  922.2   ,  923.1503,  924.95  ,\n",
       "             925.442 ,  925.9737,  926.2256,  929.5168,  930.2566,\n",
       "             930.7482,  933.378 ,  936.6295,  937.8034,  944.523 ,\n",
       "             945.191 ,  945.338 ,  945.579 ,  948.6855,  949.743 ,\n",
       "             950.8846,  963.8005,  963.9903,  964.6256,  965.0413,\n",
       "             971.7376,  972.2722,  972.5367,  976.4481,  977.0201,\n",
       "             988.5778,  988.6549,  988.7734,  989.799 ,  989.8731,\n",
       "             997.9996, 1009.428 , 1012.495 , 1020.6989, 1025.7222,\n",
       "            1025.7616, 1025.9681, 1026.1134, 1031.9261, 1036.3367,\n",
       "            1037.0182, 1037.6167, 1039.2304, 1048.2199, 1055.2617,\n",
       "            1062.1517, 1062.664 , 1063.1764, 1063.8311, 1063.9718,\n",
       "            1066.6598, 1071.0358, 1081.8748, 1083.9937, 1096.8769,\n",
       "            1106.3596, 1112.048 , 1112.269 , 1117.    , 1117.133 ,\n",
       "            1117.205 , 1117.244 , 1117.338 , 1117.393 , 1117.542 ,\n",
       "            1117.581 , 1117.604 , 1117.675 , 1117.73  , 1117.865 ,\n",
       "            1117.9774, 1118.07  , 1118.408 , 1118.491 , 1121.453 ,\n",
       "            1121.641 , 1121.659 , 1121.758 , 1121.9748, 1121.999 ,\n",
       "            1122.004 , 1122.098 , 1122.327 , 1122.344 , 1122.437 ,\n",
       "            1122.524 , 1122.644 , 1122.795 , 1122.985 , 1123.107 ,\n",
       "            1123.135 , 1125.4477, 1128.0078, 1128.081 , 1128.252 ,\n",
       "            1128.29  , 1128.408 , 1128.477 , 1128.634 , 1128.752 ,\n",
       "            1128.817 , 1129.078 , 1129.141 , 1129.161 , 1129.195 ,\n",
       "            1129.405 , 1129.624 , 1129.749 , 1129.925 , 1129.969 ,\n",
       "            1133.6654, 1134.1653, 1134.4149, 1134.9803, 1138.384 ,\n",
       "            1138.557 , 1138.597 , 1138.743 , 1138.947 , 1139.093 ,\n",
       "            1139.124 , 1140.223 , 1142.3656, 1143.226 , 1144.9379,\n",
       "            1149.958 , 1152.818 , 1157.33  , 1158.324 , 1164.8672,\n",
       "            1189.065 , 1190.203 , 1190.4158, 1190.636 , 1191.842 ,\n",
       "            1193.03  , 1193.2897, 1194.301 , 1197.184 , 1197.3938,\n",
       "            1197.875 , 1199.391 , 1199.5496] Angstrom>"
      ]
     },
     "execution_count": 15,
     "metadata": {},
     "output_type": "execute_result"
    }
   ],
   "source": [
    "FUV = np.where( (ism.wrest > 912.*u.AA) & (ism.wrest < 1200.*u.AA))[0]\n",
    "ism.wrest[FUV]"
   ]
  },
  {
   "cell_type": "code",
   "execution_count": 16,
   "metadata": {
    "collapsed": false
   },
   "outputs": [
    {
     "name": "stdout",
     "output_type": "stream",
     "text": [
      "CII 543, Ej=0 1 / cm\n",
      "CII 560, Ej=0 1 / cm\n",
      "CII 594, Ej=0 1 / cm\n",
      "CII 687, Ej=0 1 / cm\n",
      "CII 858, Ej=0 1 / cm\n",
      "CII 903a, Ej=0 1 / cm\n",
      "CII 903b, Ej=0 1 / cm\n",
      "CII 1036, Ej=0 1 / cm\n",
      "CII* 1037, Ej=63.42 1 / cm\n",
      "CII 1334, Ej=0 1 / cm\n",
      "CII* 1335, Ej=63.42 1 / cm\n"
     ]
    }
   ],
   "source": [
    "CII_lines = np.where((ism.Z == 6) & (ism.ion == 2))[0]\n",
    "for lin in CII_lines:\n",
    "    print('{:s}, Ej={:g}'.format(ism.name[lin], ism.Ej[lin]))"
   ]
  },
  {
   "cell_type": "code",
   "execution_count": null,
   "metadata": {
    "collapsed": true
   },
   "outputs": [],
   "source": []
  }
 ],
 "metadata": {
  "kernelspec": {
   "display_name": "Python 3",
   "language": "python",
   "name": "python3"
  },
  "language_info": {
   "codemirror_mode": {
    "name": "ipython",
    "version": 3
   },
   "file_extension": ".py",
   "mimetype": "text/x-python",
   "name": "python",
   "nbconvert_exporter": "python",
   "pygments_lexer": "ipython3",
   "version": "3.4.4"
  }
 },
 "nbformat": 4,
 "nbformat_minor": 0
}
