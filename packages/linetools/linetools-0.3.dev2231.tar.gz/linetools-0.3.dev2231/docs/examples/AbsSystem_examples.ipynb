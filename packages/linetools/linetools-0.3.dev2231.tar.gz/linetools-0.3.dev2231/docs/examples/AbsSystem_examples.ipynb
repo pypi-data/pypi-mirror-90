{
 "cells": [
  {
   "cell_type": "markdown",
   "metadata": {},
   "source": [
    "# Examples for AbsSystem Class (v1.3)"
   ]
  },
  {
   "cell_type": "code",
   "execution_count": 1,
   "metadata": {
    "collapsed": false
   },
   "outputs": [],
   "source": [
    "# suppress warnings for these examples\n",
    "import warnings\n",
    "warnings.filterwarnings('ignore')\n",
    "\n",
    "# imports\n",
    "import imp\n",
    "from astropy.coordinates import SkyCoord\n",
    "import astropy.units as u\n",
    "\n",
    "from linetools.isgm import abssystem as lt_absys\n",
    "from linetools.spectralline import AbsLine\n",
    "from linetools.isgm.abscomponent import AbsComponent\n",
    "from linetools.spectra import io"
   ]
  },
  {
   "cell_type": "code",
   "execution_count": 2,
   "metadata": {
    "collapsed": true
   },
   "outputs": [],
   "source": [
    "def data_path(filename):\n",
    "    data_dir = '../../linetools/spectra/tests/files'\n",
    "    return os.path.join(data_dir, filename)"
   ]
  },
  {
   "cell_type": "markdown",
   "metadata": {},
   "source": [
    "## Simple instantiation"
   ]
  },
  {
   "cell_type": "markdown",
   "metadata": {},
   "source": [
    "### Standard init"
   ]
  },
  {
   "cell_type": "code",
   "execution_count": 3,
   "metadata": {
    "collapsed": false
   },
   "outputs": [
    {
     "data": {
      "text/plain": [
       "<GenericAbsSystem: name=Foo type=Generic, 08:12:27.432 -12:25:55.56, z=1.244, NHI=16>"
      ]
     },
     "execution_count": 3,
     "metadata": {},
     "output_type": "execute_result"
    }
   ],
   "source": [
    "radec = SkyCoord(ra=123.1143*u.deg, dec=-12.4321*u.deg)\n",
    "gensys = lt_absys.GenericAbsSystem(radec, 1.244, [-500,500]*u.km/u.s, NHI=16.)\n",
    "gensys"
   ]
  },
  {
   "cell_type": "markdown",
   "metadata": {},
   "source": [
    "### From components"
   ]
  },
  {
   "cell_type": "markdown",
   "metadata": {},
   "source": [
    "#### One component"
   ]
  },
  {
   "cell_type": "code",
   "execution_count": 4,
   "metadata": {
    "collapsed": false
   },
   "outputs": [
    {
     "name": "stdout",
     "output_type": "stream",
     "text": [
      "Loading abundances from Asplund2009\n",
      "Abundances are relative by number on a logarithmic scale with H=12\n"
     ]
    }
   ],
   "source": [
    "# HI Lya, Lyb\n",
    "lya = AbsLine(1215.670*u.AA, z=2.92939)\n",
    "lya.limits.set([-300.,300.]*u.km/u.s)  # vlim\n",
    "lyb = AbsLine(1025.7222*u.AA, z=lya.attrib['z'])\n",
    "lyb.limits.set([-300.,300.]*u.km/u.s)  # vlim\n",
    "abscomp = AbsComponent.from_abslines([lya,lyb])\n",
    "abscomp.coord = radec"
   ]
  },
  {
   "cell_type": "code",
   "execution_count": 5,
   "metadata": {
    "collapsed": false
   },
   "outputs": [
    {
     "name": "stdout",
     "output_type": "stream",
     "text": [
      "<LymanAbsSystem: name=J081227.432-122555.56_z2.929 type=HILyman, 08:12:27.432 -12:25:55.56, z=2.92939, NHI=0>\n",
      "[<AbsComponent: 08:12:27.432 -12:25:55.56, Name=HI_z2.92939, Zion=(1,1), Ej=0 1 / cm, z=2.92939, vlim=-300 km / s,300 km / s>]\n"
     ]
    }
   ],
   "source": [
    "# HILyman system\n",
    "HIsys = lt_absys.LymanAbsSystem.from_components([abscomp])\n",
    "print(HIsys)\n",
    "print(HIsys._components)"
   ]
  },
  {
   "cell_type": "markdown",
   "metadata": {},
   "source": [
    "#### Multiple components"
   ]
  },
  {
   "cell_type": "code",
   "execution_count": 6,
   "metadata": {
    "collapsed": false
   },
   "outputs": [],
   "source": [
    "# SiII\n",
    "SiIItrans = ['SiII 1260', 'SiII 1304', 'SiII 1526', 'SiII 1808']\n",
    "abslines = []\n",
    "for trans in SiIItrans:\n",
    "    iline = AbsLine(trans, z=2.92939)\n",
    "    iline.limits.set([-250.,80.]*u.km/u.s)  # vlim\n",
    "    abslines.append(iline)\n",
    "#\n",
    "SiII_comp = AbsComponent.from_abslines(abslines)\n",
    "SiII_comp.coord = radec"
   ]
  },
  {
   "cell_type": "code",
   "execution_count": 7,
   "metadata": {
    "collapsed": false
   },
   "outputs": [
    {
     "name": "stdout",
     "output_type": "stream",
     "text": [
      "<GenericAbsSystem: name=Foo type=Generic, 08:12:27.432 -12:25:55.56, z=2.92939, NHI=0>\n",
      "[<AbsComponent: 08:12:27.432 -12:25:55.56, Name=HI_z2.92939, Zion=(1,1), Ej=0 1 / cm, z=2.92939, vlim=-300 km / s,300 km / s>, <AbsComponent: 08:12:27.432 -12:25:55.56, Name=SiII_z2.92939, Zion=(14,2), Ej=0 1 / cm, z=2.92939, vlim=-250 km / s,80 km / s>]\n"
     ]
    }
   ],
   "source": [
    "# Generic \n",
    "imp.reload(lt_absys)\n",
    "LLSsys = lt_absys.GenericAbsSystem.from_components([abscomp,SiII_comp])\n",
    "print(LLSsys)\n",
    "print(LLSsys._components)"
   ]
  },
  {
   "cell_type": "markdown",
   "metadata": {
    "collapsed": true
   },
   "source": [
    "## Methods"
   ]
  },
  {
   "cell_type": "markdown",
   "metadata": {},
   "source": [
    "### List of AbsLines"
   ]
  },
  {
   "cell_type": "code",
   "execution_count": 8,
   "metadata": {
    "collapsed": false
   },
   "outputs": [
    {
     "data": {
      "text/plain": [
       "[<AbsLine: HI 1215, z=2.9294 wrest=1215.6700 Angstrom>,\n",
       " <AbsLine: HI 1025, z=2.9294 wrest=1025.7222 Angstrom>,\n",
       " <AbsLine: SiII 1260, z=2.9294 wrest=1260.4221 Angstrom>,\n",
       " <AbsLine: SiII 1304, z=2.9294 wrest=1304.3702 Angstrom>,\n",
       " <AbsLine: SiII 1526, z=2.9294 wrest=1526.7070 Angstrom>,\n",
       " <AbsLine: SiII 1808, z=2.9294 wrest=1808.0129 Angstrom>]"
      ]
     },
     "execution_count": 8,
     "metadata": {},
     "output_type": "execute_result"
    }
   ],
   "source": [
    "lines = LLSsys.list_of_abslines()\n",
    "lines"
   ]
  },
  {
   "cell_type": "markdown",
   "metadata": {},
   "source": [
    "### Measure EW"
   ]
  },
  {
   "cell_type": "code",
   "execution_count": 9,
   "metadata": {
    "collapsed": false
   },
   "outputs": [],
   "source": [
    "spec = io.readspec(data_path('UM184_nF.fits'))\n",
    "LLSsys.measure_restew(spec=spec)"
   ]
  },
  {
   "cell_type": "markdown",
   "metadata": {},
   "source": [
    "### Measure AODM"
   ]
  },
  {
   "cell_type": "code",
   "execution_count": 10,
   "metadata": {
    "collapsed": false
   },
   "outputs": [
    {
     "name": "stdout",
     "output_type": "stream",
     "text": [
      "You may now wish to update the component column densities with update_component_colm()\n"
     ]
    }
   ],
   "source": [
    "LLSsys.measure_aodm(spec=spec)"
   ]
  },
  {
   "cell_type": "markdown",
   "metadata": {},
   "source": [
    "### Update Component Columns"
   ]
  },
  {
   "cell_type": "code",
   "execution_count": 11,
   "metadata": {
    "collapsed": true
   },
   "outputs": [],
   "source": [
    "LLSsys.update_component_colm()"
   ]
  },
  {
   "cell_type": "markdown",
   "metadata": {},
   "source": [
    "### Single Line"
   ]
  },
  {
   "cell_type": "code",
   "execution_count": 12,
   "metadata": {
    "collapsed": false
   },
   "outputs": [
    {
     "data": {
      "text/plain": [
       "<AbsLine: HI 1025, z=2.9294 wrest=1025.7222 Angstrom>"
      ]
     },
     "execution_count": 12,
     "metadata": {},
     "output_type": "execute_result"
    }
   ],
   "source": [
    "lyb = LLSsys.get_absline('HI 1025')\n",
    "lyb"
   ]
  },
  {
   "cell_type": "code",
   "execution_count": 13,
   "metadata": {
    "collapsed": false
   },
   "outputs": [
    {
     "data": {
      "text/plain": [
       "<AbsLine: HI 1025, z=2.9294 wrest=1025.7222 Angstrom>"
      ]
     },
     "execution_count": 13,
     "metadata": {},
     "output_type": "execute_result"
    }
   ],
   "source": [
    "lyb = LLSsys.get_absline(1025.72*u.AA)\n",
    "lyb"
   ]
  },
  {
   "cell_type": "code",
   "execution_count": 14,
   "metadata": {
    "collapsed": false
   },
   "outputs": [
    {
     "data": {
      "text/latex": [
       "$1025.7222 \\; \\mathrm{\\mathring{A}}$"
      ],
      "text/plain": [
       "<Quantity 1025.7222 Angstrom>"
      ]
     },
     "execution_count": 14,
     "metadata": {},
     "output_type": "execute_result"
    }
   ],
   "source": [
    "lyb.wrest"
   ]
  },
  {
   "cell_type": "markdown",
   "metadata": {
    "collapsed": true
   },
   "source": [
    "## Tables"
   ]
  },
  {
   "cell_type": "markdown",
   "metadata": {},
   "source": [
    "### Table of Transitions from abslines"
   ]
  },
  {
   "cell_type": "code",
   "execution_count": 15,
   "metadata": {
    "collapsed": false
   },
   "outputs": [
    {
     "data": {
      "text/html": [
       "&lt;Table length=6&gt;\n",
       "<table id=\"table4608164176\">\n",
       "<thead><tr><th>wrest</th><th>name</th><th>Z</th><th>ion</th><th>Ej</th><th>z</th><th>EW</th><th>sig_EW</th><th>flag_N</th><th>logN</th><th>sig_logN</th></tr></thead>\n",
       "<thead><tr><th>Angstrom</th><th></th><th></th><th></th><th>1 / cm</th><th></th><th>Angstrom</th><th>Angstrom</th><th></th><th></th><th></th></tr></thead>\n",
       "<thead><tr><th>float64</th><th>str9</th><th>int64</th><th>int64</th><th>float64</th><th>float64</th><th>float64</th><th>float64</th><th>int64</th><th>float64</th><th>float64</th></tr></thead>\n",
       "<tr><td>1025.7222</td><td>HI 1025</td><td>1</td><td>1</td><td>0.0</td><td>2.92939</td><td>1.48584513486</td><td>0.0241451263249</td><td>2</td><td>15.6759375485</td><td>0.0508251192979</td></tr>\n",
       "<tr><td>1215.67</td><td>HI 1215</td><td>1</td><td>1</td><td>0.0</td><td>2.92939</td><td>1.92726537784</td><td>0.0115671560839</td><td>2</td><td>14.9596058681</td><td>0.141161827446</td></tr>\n",
       "<tr><td>1260.4221</td><td>SiII 1260</td><td>14</td><td>2</td><td>0.0</td><td>2.92939</td><td>0.431299149192</td><td>0.0129661024161</td><td>1</td><td>13.5883729709</td><td>0.0150745701489</td></tr>\n",
       "<tr><td>1304.3702</td><td>SiII 1304</td><td>14</td><td>2</td><td>0.0</td><td>2.92939</td><td>0.0681045452711</td><td>0.0144099621049</td><td>1</td><td>13.7708705955</td><td>0.0862006463782</td></tr>\n",
       "<tr><td>1526.707</td><td>SiII 1526</td><td>14</td><td>2</td><td>0.0</td><td>2.92939</td><td>0.111376644825</td><td>0.0168685426234</td><td>1</td><td>13.6707360009</td><td>0.0640855113383</td></tr>\n",
       "<tr><td>1808.0129</td><td>SiII 1808</td><td>14</td><td>2</td><td>0.0</td><td>2.92939</td><td>-0.0195080735717</td><td>0.0210203404763</td><td>3</td><td>0.0</td><td>0.50976387151</td></tr>\n",
       "</table>"
      ],
      "text/plain": [
       "<Table length=6>\n",
       "  wrest      name     Z    ion  ... flag_N      logN         sig_logN   \n",
       " Angstrom                       ...                                     \n",
       " float64     str9   int64 int64 ... int64     float64        float64    \n",
       "--------- --------- ----- ----- ... ------ ------------- ---------------\n",
       "1025.7222   HI 1025     1     1 ...      2 15.6759375485 0.0508251192979\n",
       "  1215.67   HI 1215     1     1 ...      2 14.9596058681  0.141161827446\n",
       "1260.4221 SiII 1260    14     2 ...      1 13.5883729709 0.0150745701489\n",
       "1304.3702 SiII 1304    14     2 ...      1 13.7708705955 0.0862006463782\n",
       " 1526.707 SiII 1526    14     2 ...      1 13.6707360009 0.0640855113383\n",
       "1808.0129 SiII 1808    14     2 ...      3           0.0   0.50976387151"
      ]
     },
     "execution_count": 15,
     "metadata": {},
     "output_type": "execute_result"
    }
   ],
   "source": [
    "LLSsys.fill_trans()\n",
    "LLSsys._trans"
   ]
  },
  {
   "cell_type": "markdown",
   "metadata": {},
   "source": [
    "### Table of Columns for Components"
   ]
  },
  {
   "cell_type": "code",
   "execution_count": 16,
   "metadata": {
    "collapsed": false
   },
   "outputs": [
    {
     "data": {
      "text/html": [
       "&lt;Table length=2&gt;\n",
       "<table id=\"table4608167824\">\n",
       "<thead><tr><th>Z</th><th>ion</th><th>A</th><th>Ej</th><th>z</th><th>vmin</th><th>vmax</th><th>flag_N</th><th>logN</th><th>sig_logN</th></tr></thead>\n",
       "<thead><tr><th></th><th></th><th></th><th>1 / cm</th><th></th><th>km / s</th><th>km / s</th><th></th><th></th><th></th></tr></thead>\n",
       "<thead><tr><th>int64</th><th>int64</th><th>int64</th><th>float64</th><th>float64</th><th>float64</th><th>float64</th><th>int64</th><th>float64</th><th>float64</th></tr></thead>\n",
       "<tr><td>1</td><td>1</td><td>0</td><td>0.0</td><td>2.92939</td><td>-300.0</td><td>300.0</td><td>2</td><td>15.6759375485</td><td>0.0508251192979</td></tr>\n",
       "<tr><td>14</td><td>2</td><td>0</td><td>0.0</td><td>2.92939</td><td>-250.0</td><td>80.0</td><td>1</td><td>13.5944455609</td><td>0.014499668701</td></tr>\n",
       "</table>"
      ],
      "text/plain": [
       "<Table length=2>\n",
       "  Z    ion    A      Ej   ...   vmax  flag_N      logN         sig_logN   \n",
       "                   1 / cm ...  km / s                                     \n",
       "int64 int64 int64 float64 ... float64 int64     float64        float64    \n",
       "----- ----- ----- ------- ... ------- ------ ------------- ---------------\n",
       "    1     1     0     0.0 ...   300.0      2 15.6759375485 0.0508251192979\n",
       "   14     2     0     0.0 ...    80.0      1 13.5944455609  0.014499668701"
      ]
     },
     "execution_count": 16,
     "metadata": {},
     "output_type": "execute_result"
    }
   ],
   "source": [
    "LLSsys.fill_ionN()\n",
    "LLSsys._ionN"
   ]
  },
  {
   "cell_type": "code",
   "execution_count": null,
   "metadata": {
    "collapsed": true
   },
   "outputs": [],
   "source": []
  }
 ],
 "metadata": {
  "kernelspec": {
   "display_name": "Python 2",
   "language": "python",
   "name": "python2"
  },
  "language_info": {
   "codemirror_mode": {
    "name": "ipython",
    "version": 2
   },
   "file_extension": ".py",
   "mimetype": "text/x-python",
   "name": "python",
   "nbconvert_exporter": "python",
   "pygments_lexer": "ipython2",
   "version": "2.7.11"
  }
 },
 "nbformat": 4,
 "nbformat_minor": 0
}
