{
 "cells": [
  {
   "cell_type": "markdown",
   "metadata": {},
   "source": [
    "# Examples with AbsSightline [v1.0]"
   ]
  },
  {
   "cell_type": "code",
   "execution_count": 1,
   "metadata": {
    "collapsed": true
   },
   "outputs": [],
   "source": [
    "# imports\n",
    "import pdb \n",
    "\n",
    "from linetools import utils as ltu\n",
    "from linetools.spectralline import AbsLine\n",
    "from linetools.isgm.abscomponent import AbsComponent\n",
    "from linetools.isgm.abssightline import GenericAbsSightline"
   ]
  },
  {
   "cell_type": "markdown",
   "metadata": {},
   "source": [
    "## Generic Sightline"
   ]
  },
  {
   "cell_type": "markdown",
   "metadata": {},
   "source": [
    "### Simple init"
   ]
  },
  {
   "cell_type": "code",
   "execution_count": 2,
   "metadata": {
    "collapsed": false
   },
   "outputs": [
    {
     "data": {
      "text/plain": [
       "<GenericAbsSightline: 14:09:23.897 +26:18:21.043, name=J140923.90+261821.0>"
      ]
     },
     "execution_count": 2,
     "metadata": {},
     "output_type": "execute_result"
    }
   ],
   "source": [
    "gensl = GenericAbsSightline('J140923.897+261821.043')\n",
    "gensl"
   ]
  },
  {
   "cell_type": "markdown",
   "metadata": {},
   "source": [
    "### From components"
   ]
  },
  {
   "cell_type": "code",
   "execution_count": 3,
   "metadata": {
    "collapsed": false
   },
   "outputs": [
    {
     "name": "stderr",
     "output_type": "stream",
     "text": [
      "WARNING: UnitsWarning: The unit 'Angstrom' has been deprecated in the FITS standard. Suggested: 10**-1 nm. [astropy.units.format.utils]\n",
      "/Users/xavier/local/Python/linetools/linetools/lists/linelist.py:374: RuntimeWarning: divide by zero encountered in log10\n",
      "  self._data['log(w*f)'] = np.log10(qm_strength)\n",
      "/Users/xavier/anaconda/lib/python2.7/site-packages/numpy/ma/core.py:827: RuntimeWarning: invalid value encountered in less_equal\n",
      "  return umath.less_equal(x, self.critical_value)\n",
      "/Users/xavier/anaconda/lib/python2.7/site-packages/astropy/table/column.py:1095: MaskedArrayFutureWarning: setting an item on a masked array which has a shared mask will not copy the mask and also change the original mask array in the future.\n",
      "Check the NumPy 1.11 release notes for more information.\n",
      "  ma.MaskedArray.__setitem__(self, index, value)\n"
     ]
    },
    {
     "name": "stdout",
     "output_type": "stream",
     "text": [
      "Loading abundances from Asplund2009\n",
      "Abundances are relative by number on a logarithmic scale with H=12\n"
     ]
    }
   ],
   "source": [
    "lya = AbsLine('HI 1215', z=2.3)\n",
    "lya.limits.set([-300.,300.]*u.km/u.s)  # vlim\n",
    "lyb = AbsLine(1025.7222*u.AA, z=2.3)\n",
    "lyb.limits.set([-300.,300.]*u.km/u.s)  # vlim\n",
    "abscomp = AbsComponent.from_abslines([lya,lyb])\n",
    "abscomp.coord = ltu.radec_to_coord((10.*u.deg, 45*u.deg))\n",
    "abssl = GenericAbsSightline.from_components([abscomp])"
   ]
  },
  {
   "cell_type": "code",
   "execution_count": 4,
   "metadata": {
    "collapsed": false
   },
   "outputs": [
    {
     "data": {
      "text/plain": [
       "<GenericAbsSightline: 00:40:00 +45:00:00, name=J004000.00+450000.0>"
      ]
     },
     "execution_count": 4,
     "metadata": {},
     "output_type": "execute_result"
    }
   ],
   "source": [
    "abssl"
   ]
  },
  {
   "cell_type": "code",
   "execution_count": 5,
   "metadata": {
    "collapsed": false
   },
   "outputs": [
    {
     "data": {
      "text/plain": [
       "[<AbsComponent: 00:40:00 +45:00:00, Name=HI_z2.30000, Zion=(1,1), Ej=0 1 / cm, z=2.3, vlim=-300 km / s,300 km / s>]"
      ]
     },
     "execution_count": 5,
     "metadata": {},
     "output_type": "execute_result"
    }
   ],
   "source": [
    "abssl._components"
   ]
  },
  {
   "cell_type": "markdown",
   "metadata": {
    "collapsed": true
   },
   "source": [
    "### Table"
   ]
  },
  {
   "cell_type": "code",
   "execution_count": 6,
   "metadata": {
    "collapsed": true
   },
   "outputs": [],
   "source": [
    "tbl = abssl.build_table()"
   ]
  },
  {
   "cell_type": "code",
   "execution_count": 7,
   "metadata": {
    "collapsed": false
   },
   "outputs": [
    {
     "data": {
      "text/html": [
       "&lt;Table length=1&gt;\n",
       "<table id=\"table4608359888\" class=\"table-striped table-bordered table-condensed\">\n",
       "<thead><tr><th>Z</th><th>ion</th><th>A</th><th>Ej</th><th>z</th><th>vmin</th><th>vmax</th><th>flag_N</th><th>logN</th><th>sig_logN</th></tr></thead>\n",
       "<thead><tr><th></th><th></th><th></th><th>1 / cm</th><th></th><th>km / s</th><th>km / s</th><th></th><th></th><th></th></tr></thead>\n",
       "<thead><tr><th>int64</th><th>int64</th><th>int64</th><th>float64</th><th>float64</th><th>float64</th><th>float64</th><th>int64</th><th>float64</th><th>float64</th></tr></thead>\n",
       "<tr><td>1</td><td>1</td><td>0</td><td>0.0</td><td>2.3</td><td>-300.0</td><td>300.0</td><td>0</td><td>0.0</td><td>0.0</td></tr>\n",
       "</table>"
      ],
      "text/plain": [
       "<Table length=1>\n",
       "  Z    ion    A      Ej      z      vmin    vmax  flag_N   logN  sig_logN\n",
       "                   1 / cm          km / s  km / s                        \n",
       "int64 int64 int64 float64 float64 float64 float64 int64  float64 float64 \n",
       "----- ----- ----- ------- ------- ------- ------- ------ ------- --------\n",
       "    1     1     0     0.0     2.3  -300.0   300.0      0     0.0      0.0"
      ]
     },
     "execution_count": 7,
     "metadata": {},
     "output_type": "execute_result"
    }
   ],
   "source": [
    "tbl"
   ]
  }
 ],
 "metadata": {
  "kernelspec": {
   "display_name": "Python 2",
   "language": "python",
   "name": "python2"
  },
  "language_info": {
   "codemirror_mode": {
    "name": "ipython",
    "version": 2
   },
   "file_extension": ".py",
   "mimetype": "text/x-python",
   "name": "python",
   "nbconvert_exporter": "python",
   "pygments_lexer": "ipython2",
   "version": "2.7.11"
  }
 },
 "nbformat": 4,
 "nbformat_minor": 0
}
