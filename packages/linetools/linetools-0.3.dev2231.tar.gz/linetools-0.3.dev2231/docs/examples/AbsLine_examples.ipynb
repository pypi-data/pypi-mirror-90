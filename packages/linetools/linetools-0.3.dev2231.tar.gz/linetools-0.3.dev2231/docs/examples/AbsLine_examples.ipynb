{
 "cells": [
  {
   "cell_type": "markdown",
   "metadata": {},
   "source": [
    "# Examples for AbsLine class (v1.6)"
   ]
  },
  {
   "cell_type": "code",
   "execution_count": 1,
   "metadata": {},
   "outputs": [],
   "source": [
    "# suppress warnings for these examples\n",
    "import warnings\n",
    "warnings.filterwarnings('ignore')\n",
    "\n",
    "# import\n",
    "import astropy.units as u\n",
    "from linetools.spectralline import AbsLine, SpectralLine\n",
    "from linetools import spectralline as ltsp\n",
    "from linetools import line_utils as ltlu\n",
    "from linetools.spectra import io as lsio\n",
    "from linetools.spectra.xspectrum1d import XSpectrum1D"
   ]
  },
  {
   "cell_type": "markdown",
   "metadata": {},
   "source": [
    "## Generate a line"
   ]
  },
  {
   "cell_type": "code",
   "execution_count": 2,
   "metadata": {},
   "outputs": [
    {
     "name": "stdout",
     "output_type": "stream",
     "text": [
      "Loading abundances from Asplund2009\n",
      "Abundances are relative by number on a logarithmic scale with H=12\n"
     ]
    },
    {
     "data": {
      "text/plain": [
       "<AbsLine: CIV 1548, z=0.0000 wrest=1548.1950 Angstrom>"
      ]
     },
     "execution_count": 2,
     "output_type": "execute_result",
     "metadata": {}
    }
   ],
   "source": [
    "abslin = AbsLine(1548.195*u.AA)\n",
    "abslin"
   ]
  },
  {
   "cell_type": "markdown",
   "metadata": {},
   "source": [
    "### Data"
   ]
  },
  {
   "cell_type": "code",
   "execution_count": 3,
   "metadata": {},
   "outputs": [
    {
     "data": {
      "text/plain": [
       "{'A': <Quantity 0.0 1 / s>,\n",
       " 'Am': 0,\n",
       " 'Ej': <Quantity 0.0 1 / cm>,\n",
       " 'Ek': <Quantity 0.0 1 / cm>,\n",
       " 'Ex': <Quantity 0.0 1 / cm>,\n",
       " 'Jj': 0.0,\n",
       " 'Jk': 0.0,\n",
       " 'Ref': 'Verner1994',\n",
       " 'Z': 6,\n",
       " 'abundance': 8.4299999999999997,\n",
       " 'col0': masked,\n",
       " 'col7': masked,\n",
       " 'el': 0,\n",
       " 'f': 0.18999999761581421,\n",
       " 'gamma': <Quantity 0.0 1 / s>,\n",
       " 'gj': 2,\n",
       " 'gk': 4,\n",
       " 'group': 1,\n",
       " 'ion': 4,\n",
       " 'ion_correction': 0.0,\n",
       " 'ion_name': u'CIV',\n",
       " 'is_EUV': False,\n",
       " 'is_HI': False,\n",
       " 'is_Strong': True,\n",
       " 'log(w*f)': 2.4685792560428057,\n",
       " 'mol': '',\n",
       " 'name': 'CIV 1548',\n",
       " 'nj': 0,\n",
       " 'nk': 0,\n",
       " 'rel_strength': 10.898579256042805,\n",
       " 'wrest': <Quantity 1548.195 Angstrom>}"
      ]
     },
     "execution_count": 3,
     "output_type": "execute_result",
     "metadata": {}
    }
   ],
   "source": [
    "abslin.data"
   ]
  },
  {
   "cell_type": "markdown",
   "metadata": {},
   "source": [
    "### As dict"
   ]
  },
  {
   "cell_type": "code",
   "execution_count": 4,
   "metadata": {},
   "outputs": [
    {
     "data": {
      "text/plain": [
       "{'analy': {u'datafile': u'',\n",
       "  u'do_analysis': 1,\n",
       "  u'flag_kin': 0,\n",
       "  u'flg_eye': 0,\n",
       "  u'flg_limit': 0,\n",
       "  u'name': 'CIV 1548'},\n",
       " 'attrib': {u'DEC': 0.0,\n",
       "  u'EW': {'unit': u'Angstrom', 'value': 0.0},\n",
       "  u'N': {'unit': u'1 / cm2', 'value': 0.0},\n",
       "  u'RA': 0.0,\n",
       "  u'b': {'unit': u'km / s', 'value': 0.0},\n",
       "  u'flag_EW': 0,\n",
       "  u'flag_N': 0,\n",
       "  u'logN': 0.0,\n",
       "  u'sig_EW': {'unit': u'Angstrom', 'value': 0.0},\n",
       "  u'sig_N': {'unit': u'1 / cm2', 'value': 0.0},\n",
       "  u'sig_b': {'unit': u'km / s', 'value': 0.0},\n",
       "  u'sig_logN': 0.0},\n",
       " 'data': {'A': {'unit': u'1 / s', 'value': 0.0},\n",
       "  'Am': 0,\n",
       "  'Ej': {'unit': u'1 / cm', 'value': 0.0},\n",
       "  'Ek': {'unit': u'1 / cm', 'value': 0.0},\n",
       "  'Ex': {'unit': u'1 / cm', 'value': 0.0},\n",
       "  'Jj': 0.0,\n",
       "  'Jk': 0.0,\n",
       "  'Ref': 'Verner1994',\n",
       "  'Z': 6,\n",
       "  'abundance': 8.43,\n",
       "  'el': 0,\n",
       "  'f': 0.1899999976158142,\n",
       "  'gamma': {'unit': u'1 / s', 'value': 0.0},\n",
       "  'gj': 2,\n",
       "  'gk': 4,\n",
       "  'group': 1,\n",
       "  'ion': 4,\n",
       "  'ion_correction': 0.0,\n",
       "  'ion_name': u'CIV',\n",
       "  'is_EUV': False,\n",
       "  'is_HI': False,\n",
       "  'is_Strong': True,\n",
       "  'log(w*f)': 2.4685792560428057,\n",
       "  'mol': '',\n",
       "  'name': 'CIV 1548',\n",
       "  'nj': 0,\n",
       "  'nk': 0,\n",
       "  'rel_strength': 10.898579256042805,\n",
       "  'wrest': {'unit': u'Angstrom', 'value': 1548.195}},\n",
       " 'limits': {u'vlim': {'unit': u'km / s', 'value': [0.0, 0.0]},\n",
       "  u'wrest': {'unit': u'Angstrom', 'value': 1548.195},\n",
       "  u'wvlim': {'unit': u'Angstrom', 'value': [1548.195, 1548.195]},\n",
       "  u'z': 0.0,\n",
       "  u'zlim': [0.0, 0.0]},\n",
       " 'ltype': u'Abs',\n",
       " 'name': 'CIV 1548',\n",
       " 'wrest': {'unit': u'Angstrom', 'value': 1548.195}}"
      ]
     },
     "execution_count": 4,
     "output_type": "execute_result",
     "metadata": {}
    }
   ],
   "source": [
    "abslin = AbsLine(1548.195*u.AA)\n",
    "tmp = abslin.to_dict()\n",
    "tmp"
   ]
  },
  {
   "cell_type": "markdown",
   "metadata": {},
   "source": [
    "### From dict"
   ]
  },
  {
   "cell_type": "code",
   "execution_count": 5,
   "metadata": {},
   "outputs": [
    {
     "data": {
      "text/plain": [
       "<AbsLine: CIV 1548, z=0.0000 wrest=1548.1950 Angstrom>"
      ]
     },
     "execution_count": 5,
     "output_type": "execute_result",
     "metadata": {}
    }
   ],
   "source": [
    "tmp2 = SpectralLine.from_dict(tmp)\n",
    "tmp2"
   ]
  },
  {
   "cell_type": "markdown",
   "metadata": {},
   "source": [
    "### From old dict (using analy['vlim']) -- Backwards compatability"
   ]
  },
  {
   "cell_type": "code",
   "execution_count": 6,
   "metadata": {},
   "outputs": [
    {
     "data": {
      "text/plain": [
       "{u'vlim': {'unit': u'km / s', 'value': [0.0, 0.0]},\n",
       " u'wrest': {'unit': u'Angstrom', 'value': 1548.195},\n",
       " u'wvlim': {'unit': u'Angstrom', 'value': [1548.195, 1548.195]},\n",
       " u'z': 0.0,\n",
       " u'zlim': [0.0, 0.0]}"
      ]
     },
     "execution_count": 6,
     "output_type": "execute_result",
     "metadata": {}
    }
   ],
   "source": [
    "tmp.pop('limits')"
   ]
  },
  {
   "cell_type": "code",
   "execution_count": 7,
   "metadata": {},
   "outputs": [],
   "source": [
    "tmp['analy']['vlim'] = [-150,150]*u.km/u.s\n",
    "tmp['attrib']['z'] = 0.5"
   ]
  },
  {
   "cell_type": "code",
   "execution_count": 8,
   "metadata": {},
   "outputs": [],
   "source": [
    "tmp3 = SpectralLine.from_dict(tmp)"
   ]
  },
  {
   "cell_type": "markdown",
   "metadata": {},
   "source": [
    "## List of AbsLines"
   ]
  },
  {
   "cell_type": "code",
   "execution_count": 9,
   "metadata": {},
   "outputs": [],
   "source": [
    "abslines = [abslin, AbsLine('HI 1215')]"
   ]
  },
  {
   "cell_type": "markdown",
   "metadata": {},
   "source": [
    "### Parse"
   ]
  },
  {
   "cell_type": "code",
   "execution_count": 10,
   "metadata": {},
   "outputs": [
    {
     "data": {
      "text/plain": [
       "[<Quantity 1548.195 Angstrom>, <Quantity 1215.67 Angstrom>]"
      ]
     },
     "execution_count": 10,
     "output_type": "execute_result",
     "metadata": {}
    }
   ],
   "source": [
    "wrest_values = ltlu.parse_speclines(abslines, 'wrest')\n",
    "wrest_values"
   ]
  },
  {
   "cell_type": "markdown",
   "metadata": {},
   "source": [
    "### Transition Table"
   ]
  },
  {
   "cell_type": "code",
   "execution_count": 11,
   "metadata": {},
   "outputs": [
    {
     "data": {
      "text/html": [
       "&lt;Table length=2&gt;\n",
       "<table id=\"table4608191184\" class=\"table-striped table-bordered table-condensed\">\n",
       "<thead><tr><th>wrest</th><th>name</th><th>Z</th><th>ion</th><th>Ej</th><th>z</th><th>EW</th><th>sig_EW</th><th>flag_N</th><th>logN</th><th>sig_logN</th></tr></thead>\n",
       "<thead><tr><th>Angstrom</th><th></th><th></th><th></th><th>1 / cm</th><th></th><th>Angstrom</th><th>Angstrom</th><th></th><th></th><th></th></tr></thead>\n",
       "<thead><tr><th>float64</th><th>str8</th><th>int64</th><th>int64</th><th>float64</th><th>float64</th><th>float64</th><th>float64</th><th>int64</th><th>float64</th><th>float64</th></tr></thead>\n",
       "<tr><td>1215.67</td><td>HI 1215</td><td>1</td><td>1</td><td>0.0</td><td>0.0</td><td>0.0</td><td>0.0</td><td>0</td><td>0.0</td><td>0.0</td></tr>\n",
       "<tr><td>1548.195</td><td>CIV 1548</td><td>6</td><td>4</td><td>0.0</td><td>0.0</td><td>0.0</td><td>0.0</td><td>0</td><td>0.0</td><td>0.0</td></tr>\n",
       "</table>"
      ]
     },
     "output_type": "execute_result",
     "metadata": {}
    }
   ],
   "source": [
    "tbl = ltlu.transtable_from_speclines(abslines)\n",
    "tbl"
   ]
  },
  {
   "cell_type": "markdown",
   "metadata": {},
   "source": [
    "## Measure an EW"
   ]
  },
  {
   "cell_type": "code",
   "execution_count": 12,
   "metadata": {},
   "outputs": [],
   "source": [
    "# Set spectrum\n",
    "abslin.analy['spec'] = XSpectrum1D.from_file('../../linetools/spectra/tests/files/UM184_nF.fits')"
   ]
  },
  {
   "cell_type": "code",
   "execution_count": 13,
   "metadata": {},
   "outputs": [],
   "source": [
    "# Set analysis range\n",
    "abslin.limits.set([6080.78, 6087.82]*u.AA)  # wvlim"
   ]
  },
  {
   "cell_type": "code",
   "execution_count": 14,
   "metadata": {},
   "outputs": [
    {
     "name": "stdout",
     "output_type": "stream",
     "text": [
      "EW = 0.993502 Angstrom with error 0.0527114 Angstrom\n"
     ]
    }
   ],
   "source": [
    "# Measure\n",
    "abslin.measure_ew() # Observer frame\n",
    "print('EW = {:g} with error {:g}'.format(abslin.attrib['EW'],abslin.attrib['sig_EW']))"
   ]
  },
  {
   "cell_type": "markdown",
   "metadata": {},
   "source": [
    "## Measure AODM"
   ]
  },
  {
   "cell_type": "code",
   "execution_count": 15,
   "metadata": {},
   "outputs": [],
   "source": [
    "#\n",
    "abslin.analy['spec'] = lsio.readspec('../../linetools/spectra/tests/files/UM184_nF.fits')\n",
    "abslin.setz(2.92929)\n",
    "abslin.limits.set((-150., 150.)*u.km/u.s)  # vlim"
   ]
  },
  {
   "cell_type": "code",
   "execution_count": 16,
   "metadata": {},
   "outputs": [
    {
     "name": "stdout",
     "output_type": "stream",
     "text": [
      "logN = 13.9051, siglogN = 0.0207026\n"
     ]
    }
   ],
   "source": [
    "abslin.measure_aodm()\n",
    "N, sigN, flgN = [abslin.attrib[key] for key in ['N','sig_N','flag_N']] \n",
    "print('logN = {:g}, siglogN = {:g}'.format(abslin.attrib['logN'], abslin.attrib['sig_logN']))"
   ]
  },
  {
   "cell_type": "markdown",
   "metadata": {},
   "source": [
    "### Another Table"
   ]
  },
  {
   "cell_type": "code",
   "execution_count": 17,
   "metadata": {},
   "outputs": [
    {
     "data": {
      "text/html": [
       "&lt;Table length=2&gt;\n",
       "<table id=\"table4608318352\" class=\"table-striped table-bordered table-condensed\">\n",
       "<thead><tr><th>wrest</th><th>name</th><th>Z</th><th>ion</th><th>Ej</th><th>z</th><th>EW</th><th>sig_EW</th><th>flag_N</th><th>logN</th><th>sig_logN</th></tr></thead>\n",
       "<thead><tr><th>Angstrom</th><th></th><th></th><th></th><th>1 / cm</th><th></th><th>Angstrom</th><th>Angstrom</th><th></th><th></th><th></th></tr></thead>\n",
       "<thead><tr><th>float64</th><th>str8</th><th>int64</th><th>int64</th><th>float64</th><th>float64</th><th>float64</th><th>float64</th><th>int64</th><th>float64</th><th>float64</th></tr></thead>\n",
       "<tr><td>1215.67</td><td>HI 1215</td><td>1</td><td>1</td><td>0.0</td><td>0.0</td><td>0.0</td><td>0.0</td><td>0</td><td>0.0</td><td>0.0</td></tr>\n",
       "<tr><td>1548.195</td><td>CIV 1548</td><td>6</td><td>4</td><td>0.0</td><td>2.92929</td><td>0.993502101206</td><td>0.0527114204241</td><td>1</td><td>13.9050897399</td><td>0.0207026007539</td></tr>\n",
       "</table>"
      ]
     },
     "output_type": "execute_result",
     "metadata": {}
    }
   ],
   "source": [
    "tbl = ltlu.transtable_from_speclines(abslines)\n",
    "tbl"
   ]
  }
 ],
 "metadata": {
  "kernelspec": {
   "display_name": "Python 2",
   "language": "python",
   "name": "python2"
  },
  "language_info": {
   "codemirror_mode": {
    "name": "ipython",
    "version": 2.0
   },
   "file_extension": ".py",
   "mimetype": "text/x-python",
   "name": "python",
   "nbconvert_exporter": "python",
   "pygments_lexer": "ipython2",
   "version": "2.7.11"
  }
 },
 "nbformat": 4,
 "nbformat_minor": 0
}