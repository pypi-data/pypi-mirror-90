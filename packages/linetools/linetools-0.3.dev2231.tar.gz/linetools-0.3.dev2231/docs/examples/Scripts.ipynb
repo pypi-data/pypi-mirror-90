{
 "cells": [
  {
   "cell_type": "markdown",
   "metadata": {},
   "source": [
    "# The Scripts of Linetools [v1.0]"
   ]
  },
  {
   "cell_type": "code",
   "execution_count": 1,
   "metadata": {},
   "outputs": [],
   "source": [
    "# inputs"
   ]
  },
  {
   "cell_type": "markdown",
   "metadata": {},
   "source": [
    "## lt_xspec -- Routine to plot an input spectrum, typically from a FITS file\n",
    "\n",
    "    lt_xspec -h\n",
    "    usage: lt_xspec [-h] [-z ZSYS] [--norm] [--air] [--exten EXTEN]\n",
    "                    [--splice SPLICE]\n",
    "                    file\n",
    "\n",
    "    Parse for XSpec; Extra arguments are passed to read_spec\n",
    "\n",
    "    positional arguments:\n",
    "      file                  Spectral file; specify extension by appending #exten#\n",
    "\n",
    "    optional arguments:\n",
    "      -h, --help            show this help message and exit\n",
    "      -z ZSYS, --zsys ZSYS  System Redshift\n",
    "      --norm                Show spectrum continuum normalized (if continuum is\n",
    "                            provided)\n",
    "      --air                 Convert input spectrum wavelengths from air to vacuum\n",
    "      --exten EXTEN         FITS extension\n",
    "      --splice SPLICE       Splice with the input file; extension convention\n",
    "                            applies"
   ]
  },
  {
   "cell_type": "markdown",
   "metadata": {},
   "source": [
    "### e.g.\n",
    "\n",
    "    lt_xspec PHL1811.fits\n",
    "    lt_xspec dumb_IRAF_format.fits#1#    \n",
    "    \n",
    "#### See the Notebook on xspecgui for more"
   ]
  },
  {
   "cell_type": "markdown",
   "metadata": {},
   "source": [
    "----"
   ]
  },
  {
   "cell_type": "markdown",
   "metadata": {},
   "source": [
    "## lt_plot -- Plots one or more spectra, fast\n",
    "\n",
    "    lt_plot -h\n",
    "    usage: lt_plot [-h] [-z REDSHIFT] filenames [filenames ...]\n",
    "\n",
    "    Plot spectrum files\n",
    "\n",
    "    positional arguments:\n",
    "      filenames             Spectrum filenames\n",
    "\n",
    "    optional arguments:\n",
    "      -h, --help            show this help message and exit\n",
    "      -z REDSHIFT, --redshift REDSHIFT\n",
    "                            Redshift for line plotting"
   ]
  },
  {
   "cell_type": "markdown",
   "metadata": {},
   "source": [
    "----"
   ]
  },
  {
   "cell_type": "markdown",
   "metadata": {},
   "source": [
    "## lt_absline -- Plots an Absorption line given transition, N and b\n",
    "\n",
    "    lt_absline -h\n",
    "    usage: lt_absline [-h] inp logN b\n",
    "\n",
    "    Plot an absorption line with the given parameters.\n",
    "\n",
    "    positional arguments:\n",
    "      inp         Rest wavelength in Angstroms or name of transition (e.g.\n",
    "                  CIV1548)\n",
    "      logN        log10 column density\n",
    "      b           b-value in km/s\n",
    "\n",
    "    optional arguments:\n",
    "      -h, --help  show this help message and exit"
   ]
  },
  {
   "cell_type": "markdown",
   "metadata": {},
   "source": [
    "### e.g.\n",
    "\n",
    "    lt_absline 1215.6701 14.0 30\n",
    "    lt_absline HI1215 14.0 30\n"
   ]
  },
  {
   "cell_type": "markdown",
   "metadata": {},
   "source": [
    "----"
   ]
  },
  {
   "cell_type": "markdown",
   "metadata": {},
   "source": [
    "## lt_radec -- Print out input coordinate in several formats\n",
    "\n",
    "    lt_radec -h\n",
    "    usage: lt_radec [-h] [--epoch EPOCH] [inp]\n",
    "\n",
    "    Print coordinates in several formats from input one.'\n",
    "\n",
    "    positional arguments:\n",
    "      inp            RA,DEC (e.g. 152.25900,7.22885), JXX (e.g.\n",
    "                     J100902.16+071343.8)\n",
    "\n",
    "    optional arguments:\n",
    "      -h, --help     show this help message and exit\n",
    "      --epoch EPOCH  Epoch [not functional yet]"
   ]
  },
  {
   "cell_type": "markdown",
   "metadata": {},
   "source": [
    "### e.g.\n",
    "    lt_radec J100902.16+071343.86\n",
    "    lt_radec 152.25900,7.22885"
   ]
  },
  {
   "cell_type": "markdown",
   "metadata": {},
   "source": [
    "----"
   ]
  },
  {
   "cell_type": "markdown",
   "metadata": {},
   "source": [
    "## lt_line -- Print the atomic data for an input line, ion or wavelength\n",
    "\n",
    "    lt_line -h\n",
    "    usage: lt_line [-h] [-a] [--llist LLIST] [-t TOLER] [-z REDSHIFT] [inp]\n",
    "\n",
    "    Print spectral line data of a line or lines.\n",
    "\n",
    "    positional arguments:\n",
    "      inp                   Ion, transition name, or Rest wavelength (e.g. HI,\n",
    "                            HI1215 or 1215)\n",
    "\n",
    "    optional arguments:\n",
    "      -h, --help            show this help message and exit\n",
    "      -a, --all             Print all lines\n",
    "      --llist LLIST         Name of LineList: ISM, HI, H2, CO, etc.\n",
    "      -t TOLER, --toler TOLER\n",
    "                            Matching tolerance (in Ang) on input wavelength\n",
    "      -z REDSHIFT, --redshift REDSHIFT\n",
    "                            Matching tolerance (in Ang) on input wavelength"
   ]
  },
  {
   "cell_type": "markdown",
   "metadata": {},
   "source": [
    "### e.g.\n",
    "\n",
    "    lt_line HI\n",
    "    lt_line HI -z 3.0\n",
    "    lt_line HI1215\n",
    "    lt_line 1215\n",
    "    lt_line --all"
   ]
  },
  {
   "cell_type": "code",
   "execution_count": null,
   "metadata": {},
   "outputs": [],
   "source": [
    ""
   ]
  }
 ],
 "metadata": {
  "kernelspec": {
   "display_name": "Python 2",
   "language": "python",
   "name": "python2"
  },
  "language_info": {
   "codemirror_mode": {
    "name": "ipython",
    "version": 2.0
   },
   "file_extension": ".py",
   "mimetype": "text/x-python",
   "name": "python",
   "nbconvert_exporter": "python",
   "pygments_lexer": "ipython2",
   "version": "2.7.11"
  }
 },
 "nbformat": 4,
 "nbformat_minor": 0
}