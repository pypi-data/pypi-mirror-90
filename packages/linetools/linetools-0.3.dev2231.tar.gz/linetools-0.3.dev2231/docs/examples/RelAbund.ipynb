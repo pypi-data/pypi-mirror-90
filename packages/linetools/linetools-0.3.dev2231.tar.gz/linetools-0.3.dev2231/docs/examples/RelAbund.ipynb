{
 "cells": [
  {
   "cell_type": "markdown",
   "metadata": {},
   "source": [
    "# Class for Relative Abundances (v1.0)"
   ]
  },
  {
   "cell_type": "code",
   "execution_count": 1,
   "metadata": {
    "collapsed": true
   },
   "outputs": [],
   "source": [
    "# imports\n",
    "from linetools.abund.relabund import RelAbund"
   ]
  },
  {
   "cell_type": "markdown",
   "metadata": {},
   "source": [
    "## Instantiate"
   ]
  },
  {
   "cell_type": "markdown",
   "metadata": {},
   "source": [
    "### Load up data dict\n",
    "\n",
    "This approach works, but is a bit cumbersome and not recommended."
   ]
  },
  {
   "cell_type": "code",
   "execution_count": 2,
   "metadata": {
    "collapsed": false
   },
   "outputs": [
    {
     "name": "stdout",
     "output_type": "stream",
     "text": [
      "Loading abundances from Asplund2009\n",
      "Abundances are relative by number on a logarithmic scale with H=12\n"
     ]
    }
   ],
   "source": [
    "XY = RelAbund()"
   ]
  },
  {
   "cell_type": "code",
   "execution_count": 3,
   "metadata": {
    "collapsed": true
   },
   "outputs": [],
   "source": [
    "XY._data = {6: dict(flag=1, XH=-1., sigXH=0.2, sig=0.05),\n",
    "            8: dict(flag=2, XH=-1.4, sigXH=0.25, sig=0.05),\n",
    "            14: dict(flag=1, XH=-1.1, sigXH=0.25, sig=0.05),\n",
    "            26: dict(flag=1, XH=-1.4, sigXH=0.25, sig=0.05),\n",
    "            32: dict(flag=3, XH=-0.8, sigXH=0.25, sig=0.05),\n",
    "            }"
   ]
  },
  {
   "cell_type": "markdown",
   "metadata": {},
   "source": [
    "### By-hand (quick and dirty)"
   ]
  },
  {
   "cell_type": "code",
   "execution_count": 6,
   "metadata": {
    "collapsed": false
   },
   "outputs": [
    {
     "name": "stdout",
     "output_type": "stream",
     "text": [
      "Loading abundances from Asplund2009\n",
      "Abundances are relative by number on a logarithmic scale with H=12\n",
      "Adopting arbitrary log NH=21.000000 for [X/H] values\n",
      "Input ratio [C/Si]={'flag': 1, 'sig': 0.14142135623730953, 'val': -0.61999999999999922}\n"
     ]
    }
   ],
   "source": [
    "CSi = RelAbund.from_clm_pair('C', 13.5, 'Si', 13.2)"
   ]
  },
  {
   "cell_type": "markdown",
   "metadata": {},
   "source": [
    "----"
   ]
  },
  {
   "cell_type": "markdown",
   "metadata": {},
   "source": [
    "## Usage"
   ]
  },
  {
   "cell_type": "markdown",
   "metadata": {},
   "source": [
    "### Parse"
   ]
  },
  {
   "cell_type": "code",
   "execution_count": 7,
   "metadata": {
    "collapsed": false
   },
   "outputs": [
    {
     "data": {
      "text/plain": [
       "{'flag': 1, 'sig': 0.2, 'val': -1.0}"
      ]
     },
     "execution_count": 7,
     "metadata": {},
     "output_type": "execute_result"
    }
   ],
   "source": [
    "# Simple value\n",
    "CH = XY[6]\n",
    "CH"
   ]
  },
  {
   "cell_type": "code",
   "execution_count": 8,
   "metadata": {
    "collapsed": false
   },
   "outputs": [
    {
     "data": {
      "text/plain": [
       "{'flag': 1, 'sig': 0.070710678118654766, 'val': 0.2999999999999998}"
      ]
     },
     "execution_count": 8,
     "metadata": {},
     "output_type": "execute_result"
    }
   ],
   "source": [
    "# Ratio\n",
    "SiFe = XY['Si', 'Fe']\n",
    "SiFe"
   ]
  },
  {
   "cell_type": "code",
   "execution_count": 9,
   "metadata": {
    "collapsed": false
   },
   "outputs": [
    {
     "data": {
      "text/plain": [
       "{'flag': 1, 'sig': 0.14142135623730953, 'val': -0.61999999999999922}"
      ]
     },
     "execution_count": 9,
     "metadata": {},
     "output_type": "execute_result"
    }
   ],
   "source": [
    "# Another ratio\n",
    "CSi[6,14]"
   ]
  },
  {
   "cell_type": "markdown",
   "metadata": {},
   "source": [
    "### Table"
   ]
  },
  {
   "cell_type": "code",
   "execution_count": 10,
   "metadata": {
    "collapsed": false
   },
   "outputs": [
    {
     "data": {
      "text/html": [
       "&lt;Table length=5&gt;\n",
       "<table id=\"table4551200656\">\n",
       "<thead><tr><th>Z</th><th>Name</th><th>flag</th><th>[X/H]</th><th>sig([X/H])</th></tr></thead>\n",
       "<thead><tr><th>int64</th><th>unicode2</th><th>int64</th><th>float64</th><th>float64</th></tr></thead>\n",
       "<tr><td>6</td><td>C</td><td>1</td><td>-1.0</td><td>0.2</td></tr>\n",
       "<tr><td>8</td><td>O</td><td>2</td><td>-1.4</td><td>0.25</td></tr>\n",
       "<tr><td>14</td><td>Si</td><td>1</td><td>-1.1</td><td>0.25</td></tr>\n",
       "<tr><td>26</td><td>Fe</td><td>1</td><td>-1.4</td><td>0.25</td></tr>\n",
       "<tr><td>32</td><td>Ge</td><td>3</td><td>-0.8</td><td>0.25</td></tr>\n",
       "</table>"
      ],
      "text/plain": [
       "<Table length=5>\n",
       "  Z     Name    flag  [X/H]  sig([X/H])\n",
       "int64 unicode2 int64 float64  float64  \n",
       "----- -------- ----- ------- ----------\n",
       "    6        C     1    -1.0        0.2\n",
       "    8        O     2    -1.4       0.25\n",
       "   14       Si     1    -1.1       0.25\n",
       "   26       Fe     1    -1.4       0.25\n",
       "   32       Ge     3    -0.8       0.25"
      ]
     },
     "execution_count": 10,
     "metadata": {},
     "output_type": "execute_result"
    }
   ],
   "source": [
    "XY.table()"
   ]
  },
  {
   "cell_type": "code",
   "execution_count": 11,
   "metadata": {
    "collapsed": false
   },
   "outputs": [
    {
     "data": {
      "text/html": [
       "&lt;Table length=4&gt;\n",
       "<table id=\"table4551231184\">\n",
       "<thead><tr><th>Z</th><th>Name</th><th>flag</th><th>[X/Fe]</th><th>sig([X/Fe])</th></tr></thead>\n",
       "<thead><tr><th>int64</th><th>unicode2</th><th>int64</th><th>float64</th><th>float64</th></tr></thead>\n",
       "<tr><td>6</td><td>C</td><td>1</td><td>0.4</td><td>0.0707106781187</td></tr>\n",
       "<tr><td>8</td><td>O</td><td>2</td><td>0.0</td><td>0.0707106781187</td></tr>\n",
       "<tr><td>14</td><td>Si</td><td>1</td><td>0.3</td><td>0.0707106781187</td></tr>\n",
       "<tr><td>32</td><td>Ge</td><td>3</td><td>0.6</td><td>0.0707106781187</td></tr>\n",
       "</table>"
      ],
      "text/plain": [
       "<Table length=4>\n",
       "  Z     Name    flag  [X/Fe]   sig([X/Fe])  \n",
       "int64 unicode2 int64 float64     float64    \n",
       "----- -------- ----- ------- ---------------\n",
       "    6        C     1     0.4 0.0707106781187\n",
       "    8        O     2     0.0 0.0707106781187\n",
       "   14       Si     1     0.3 0.0707106781187\n",
       "   32       Ge     3     0.6 0.0707106781187"
      ]
     },
     "execution_count": 11,
     "metadata": {},
     "output_type": "execute_result"
    }
   ],
   "source": [
    "XY.table('Fe')   # Error now ignores error in NHI"
   ]
  },
  {
   "cell_type": "code",
   "execution_count": 12,
   "metadata": {
    "collapsed": false
   },
   "outputs": [
    {
     "data": {
      "text/html": [
       "&lt;Table length=2&gt;\n",
       "<table id=\"table4551200016\">\n",
       "<thead><tr><th>Z</th><th>Name</th><th>flag</th><th>[X/H]</th><th>sig([X/H])</th></tr></thead>\n",
       "<thead><tr><th>int64</th><th>unicode2</th><th>int64</th><th>float64</th><th>float64</th></tr></thead>\n",
       "<tr><td>6</td><td>C</td><td>1</td><td>-3.93</td><td>0.141421356237</td></tr>\n",
       "<tr><td>14</td><td>Si</td><td>1</td><td>-3.31</td><td>0.141421356237</td></tr>\n",
       "</table>"
      ],
      "text/plain": [
       "<Table length=2>\n",
       "  Z     Name    flag  [X/H]    sig([X/H])  \n",
       "int64 unicode2 int64 float64    float64    \n",
       "----- -------- ----- ------- --------------\n",
       "    6        C     1   -3.93 0.141421356237\n",
       "   14       Si     1   -3.31 0.141421356237"
      ]
     },
     "execution_count": 12,
     "metadata": {},
     "output_type": "execute_result"
    }
   ],
   "source": [
    "CSi.table()"
   ]
  },
  {
   "cell_type": "markdown",
   "metadata": {},
   "source": [
    "## See pyigm for a DLA based example"
   ]
  },
  {
   "cell_type": "code",
   "execution_count": null,
   "metadata": {
    "collapsed": true
   },
   "outputs": [],
   "source": []
  }
 ],
 "metadata": {
  "kernelspec": {
   "display_name": "Python 2",
   "language": "python",
   "name": "python2"
  },
  "language_info": {
   "codemirror_mode": {
    "name": "ipython",
    "version": 2
   },
   "file_extension": ".py",
   "mimetype": "text/x-python",
   "name": "python",
   "nbconvert_exporter": "python",
   "pygments_lexer": "ipython2",
   "version": "2.7.11"
  }
 },
 "nbformat": 4,
 "nbformat_minor": 0
}
