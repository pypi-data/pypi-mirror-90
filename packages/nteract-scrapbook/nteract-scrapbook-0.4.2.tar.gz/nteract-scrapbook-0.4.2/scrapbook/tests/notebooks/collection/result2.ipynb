{
 "cells": [
  {
   "cell_type": "code",
   "execution_count": 1,
   "metadata": {
    "tags": [
     "parameters"
    ]
   },
   "outputs": [],
   "source": [
    "# Parameters\n",
    "foo = 2\n",
    "bar = \"world\""
   ]
  },
  {
   "cell_type": "code",
   "execution_count": 2,
   "metadata": {
    "papermill": {
     "duration": 0.456
    },
    "tags": []
   },
   "outputs": [
    {
     "data": {
      "application/scrapbook.scrap.json+json": {
       "data": 2,
       "encoder": "json",
       "name": "two",
       "version": 1
      }
     },
     "metadata": {
      "scrapbook": {
       "data": true,
       "display": false,
       "name": "two"
      }
     },
     "output_type": "display_data"
    },
    {
     "data": {
      "application/scrapbook.scrap.json+json": {
       "data": 2,
       "encoder": "json",
       "name": "number",
       "version": 1
      }
     },
     "metadata": {
      "scrapbook": {
       "data": true,
       "display": false,
       "name": "number"
      }
     },
     "output_type": "display_data"
    },
    {
     "data": {
      "application/scrapbook.scrap.json+json": {
       "data": [
        4,
        5,
        6
       ],
       "encoder": "json",
       "name": "list",
       "version": 1
      }
     },
     "metadata": {
      "scrapbook": {
       "data": true,
       "display": false,
       "name": "list"
      }
     },
     "output_type": "display_data"
    },
    {
     "data": {
      "application/scrapbook.scrap.json+json": {
       "data": {
        "a": 3,
        "b": 4
       },
       "encoder": "json",
       "name": "dict",
       "version": 1
      }
     },
     "metadata": {
      "scrapbook": {
       "data": true,
       "display": false,
       "name": "dict"
      }
     },
     "output_type": "display_data"
    },
    {
     "data": {
      "application/scrapbook.scrap.text+json": {
       "data": "Hello World 2!",
       "encoder": "text",
       "name": "output",
       "version": 1
      }
     },
     "metadata": {
      "scrapbook": {
       "data": true,
       "display": false,
       "name": "output"
      }
     },
     "output_type": "display_data"
    },
    {
     "data": {
      "text/plain": [
       "'Hello World 2!'"
      ]
     },
     "metadata": {
      "scrapbook": {
       "data": false,
       "display": true,
       "name": "output"
      }
     },
     "output_type": "display_data"
    },
    {
     "data": {
      "application/scrapbook.scrap.text+json": {
       "data": "Just here!",
       "encoder": "text",
       "name": "two_only",
       "version": 1
      }
     },
     "metadata": {
      "scrapbook": {
       "data": true,
       "display": false,
       "name": "two_only"
      }
     },
     "output_type": "display_data"
    },
    {
     "data": {
      "text/plain": [
       "'Just here!'"
      ]
     },
     "metadata": {
      "scrapbook": {
       "data": false,
       "display": true,
       "name": "two_only"
      }
     },
     "output_type": "display_data"
    }
   ],
   "source": [
    "import scrapbook as sb\n",
    "\n",
    "sb.glue(\"two\", 2)\n",
    "sb.glue(\"number\", 2)\n",
    "sb.glue(\"list\", [4,5,6])\n",
    "sb.glue(\"dict\", dict(a=3, b=4))\n",
    "\n",
    "sb.glue(\"output\", \"Hello World 2!\", display=True)\n",
    "sb.glue(\"two_only\", \"Just here!\", display=True)"
   ]
  }
 ],
 "metadata": {
  "celltoolbar": "Tags",
  "hide_input": false,
  "kernelspec": {
   "display_name": "Python 3",
   "language": "python",
   "name": "python3"
  },
  "language_info": {
   "codemirror_mode": {
    "name": "ipython",
    "version": 3
   },
   "file_extension": ".py",
   "mimetype": "text/x-python",
   "name": "python",
   "nbconvert_exporter": "python",
   "pygments_lexer": "ipython3",
   "version": "3.6.7"
  },
  "papermill": {
   "environment_variables": {},
   "metrics": {
    "duration": 2.2486860752105713
   },
   "parameters": {
    "bar": "world",
    "foo": 2
   },
   "version": "0.4+2.ge10f94c.dirty"
  }
 },
 "nbformat": 4,
 "nbformat_minor": 1
}
