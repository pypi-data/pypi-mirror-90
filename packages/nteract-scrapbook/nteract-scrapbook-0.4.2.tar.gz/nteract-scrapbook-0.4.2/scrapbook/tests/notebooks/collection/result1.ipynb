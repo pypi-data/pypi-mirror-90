{
 "cells": [
  {
   "cell_type": "code",
   "execution_count": 1,
   "metadata": {
    "tags": [
     "parameters"
    ]
   },
   "outputs": [],
   "source": [
    "# Parameters\n",
    "foo = 1\n",
    "bar = \"hello\""
   ]
  },
  {
   "cell_type": "code",
   "execution_count": 2,
   "metadata": {
    "papermill": {
     "duration": 0.123
    },
    "tags": []
   },
   "outputs": [
    {
     "data": {
      "application/scrapbook.scrap.json+json": {
       "data": 1,
       "encoder": "json",
       "name": "one",
       "version": 1
      }
     },
     "metadata": {
      "scrapbook": {
       "data": true,
       "display": false,
       "name": "one"
      }
     },
     "output_type": "display_data"
    },
    {
     "data": {
      "application/scrapbook.scrap.json+json": {
       "data": 1,
       "encoder": "json",
       "name": "number",
       "version": 1
      }
     },
     "metadata": {
      "scrapbook": {
       "data": true,
       "display": false,
       "name": "number"
      }
     },
     "output_type": "display_data"
    },
    {
     "data": {
      "application/scrapbook.scrap.json+json": {
       "data": [
        1,
        2,
        3
       ],
       "encoder": "json",
       "name": "list",
       "version": 1
      }
     },
     "metadata": {
      "scrapbook": {
       "data": true,
       "display": false,
       "name": "list"
      }
     },
     "output_type": "display_data"
    },
    {
     "data": {
      "application/scrapbook.scrap.json+json": {
       "data": {
        "a": 1,
        "b": 2
       },
       "encoder": "json",
       "name": "dict",
       "version": 1
      }
     },
     "metadata": {
      "scrapbook": {
       "data": true,
       "display": false,
       "name": "dict"
      }
     },
     "output_type": "display_data"
    },
    {
     "data": {
      "application/scrapbook.scrap.text+json": {
       "data": "Hello World!",
       "encoder": "text",
       "name": "output",
       "version": 1
      }
     },
     "metadata": {
      "scrapbook": {
       "data": true,
       "display": false,
       "name": "output"
      }
     },
     "output_type": "display_data"
    },
    {
     "data": {
      "text/plain": [
       "'Hello World!'"
      ]
     },
     "metadata": {
      "scrapbook": {
       "data": false,
       "display": true,
       "name": "output"
      }
     },
     "output_type": "display_data"
    },
    {
     "data": {
      "application/scrapbook.scrap.text+json": {
       "data": "Just here!",
       "encoder": "text",
       "name": "one_only",
       "version": 1
      }
     },
     "metadata": {
      "scrapbook": {
       "data": true,
       "display": false,
       "name": "one_only"
      }
     },
     "output_type": "display_data"
    },
    {
     "data": {
      "text/plain": [
       "'Just here!'"
      ]
     },
     "metadata": {
      "scrapbook": {
       "data": false,
       "display": true,
       "name": "one_only"
      }
     },
     "output_type": "display_data"
    }
   ],
   "source": [
    "import scrapbook as sb\n",
    "\n",
    "sb.glue(\"one\", 1)\n",
    "sb.glue(\"number\", 1)\n",
    "sb.glue(\"list\", [1,2,3])\n",
    "sb.glue(\"dict\", dict(a=1, b=2))\n",
    "\n",
    "sb.glue(\"output\", \"Hello World!\", display=True)\n",
    "sb.glue(\"one_only\", \"Just here!\", display=True)"
   ]
  }
 ],
 "metadata": {
  "celltoolbar": "Tags",
  "hide_input": false,
  "kernelspec": {
   "display_name": "Python 3",
   "language": "python",
   "name": "python3"
  },
  "language_info": {
   "codemirror_mode": {
    "name": "ipython",
    "version": 3
   },
   "file_extension": ".py",
   "mimetype": "text/x-python",
   "name": "python",
   "nbconvert_exporter": "python",
   "pygments_lexer": "ipython3",
   "version": "3.6.7"
  },
  "papermill": {
   "environment_variables": {},
   "metrics": {
    "duration": 2.250469923019409
   },
   "parameters": {
    "bar": "hello",
    "foo": 1
   },
   "version": "0.4+2.ge10f94c.dirty"
  }
 },
 "nbformat": 4,
 "nbformat_minor": 1
}
