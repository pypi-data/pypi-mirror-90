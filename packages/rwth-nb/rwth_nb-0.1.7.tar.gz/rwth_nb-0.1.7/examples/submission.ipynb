{
 "cells": [
  {
   "cell_type": "markdown",
   "metadata": {},
   "source": [
    "# Example notebooks for using the submission service"
   ]
  },
  {
   "cell_type": "code",
   "execution_count": null,
   "metadata": {},
   "outputs": [],
   "source": [
    "from rwth_nb.misc.submission import Submission\n",
    "\n",
    "from random import randint\n",
    "from pprint import pprint\n",
    "        \n",
    "sub = Submission('test_realm')"
   ]
  },
  {
   "cell_type": "code",
   "execution_count": null,
   "metadata": {},
   "outputs": [],
   "source": [
    "print('\\nCreate some random submissions...')\n",
    "for i in range(5):\n",
    "    sub.submit({\n",
    "        'random_integer': randint(1, 100)\n",
    "    })"
   ]
  },
  {
   "cell_type": "markdown",
   "metadata": {},
   "source": [
    "## Admin actions\n",
    "\n",
    "For performing admin actions the user must own the role manager-{profile_slug} or submission-{realm}"
   ]
  },
  {
   "cell_type": "code",
   "execution_count": null,
   "metadata": {},
   "outputs": [],
   "source": [
    "print('\\nAll submissions:')\n",
    "pprint(sub.get_all())\n",
    "        \n",
    "print('\\nDelete all submissions')\n",
    "sub.delete_all()\n",
    "    \n",
    "print('\\nAll submissions:')\n",
    "pprint(sub.get_all())"
   ]
  },
  {
   "cell_type": "markdown",
   "metadata": {},
   "source": [
    "## User actions"
   ]
  },
  {
   "cell_type": "code",
   "execution_count": null,
   "metadata": {},
   "outputs": [],
   "source": [
    "if sub.is_submitted():\n",
    "    print('\\nEvaluation already submitted')\n",
    "else:\n",
    "    print('\\nNothing submitted yet!')\n",
    "    sub.submit({'test': [1, 2, 3]})\n",
    "        \n",
    "    if sub.is_submitted():\n",
    "        print('\\nNow it is submitted!:')\n",
    "        pprint(sub.get())\n",
    "              \n",
    "print('\\nMy submissions:')\n",
    "mysubs = sub.get()\n",
    "print(mysubs)\n",
    "    \n",
    "ident = mysubs[0]['id']\n",
    "print(f'\\nMy submission ID: {ident}')\n",
    "    \n",
    "print(f'\\nDeleting my submission with ID: {ident}')\n",
    "sub.delete(ident=ident)\n",
    "    \n",
    "print('\\nMy submissions:')\n",
    "mysubs = sub.get()\n",
    "print(mysubs)"
   ]
  },
  {
   "cell_type": "markdown",
   "metadata": {},
   "source": [
    "## Submitting whole notebooks\n",
    "\n",
    "The following cell submits the current notebook contents"
   ]
  },
  {
   "cell_type": "code",
   "execution_count": null,
   "metadata": {},
   "outputs": [],
   "source": [
    "sub.submit_notebook()"
   ]
  },
  {
   "cell_type": "markdown",
   "metadata": {},
   "source": [
    "The following cell fetches all submitted notebooks in the current realm by the current user and stores them in the current directory"
   ]
  },
  {
   "cell_type": "code",
   "execution_count": null,
   "metadata": {},
   "outputs": [],
   "source": [
    "sub.fetch_notebook(subdir='fetched_notebooks', prefix='a1')"
   ]
  }
 ],
 "metadata": {
  "kernelspec": {
   "display_name": "Python 3",
   "language": "python",
   "name": "python3"
  },
  "language_info": {
   "codemirror_mode": {
    "name": "ipython",
    "version": 3
   },
   "file_extension": ".py",
   "mimetype": "text/x-python",
   "name": "python",
   "nbconvert_exporter": "python",
   "pygments_lexer": "ipython3",
   "version": "3.8.6"
  }
 },
 "nbformat": 4,
 "nbformat_minor": 4
}
