{
 "cells": [
  {
   "cell_type": "markdown",
   "metadata": {},
   "source": [
    "# rwth.nb\n",
    "\n",
    "## Introduction\n",
    "\n",
    "This project consists of Jupyter Notebook definitions used by RWTH Aachen University.\n",
    "\n",
    "\n",
    "## Table of Contents\n",
    "\n",
    "* [RWTH Plots](RWTH%20Plots.ipynb)\n",
    "* [RWTH Colors](RWTH%20Colors.ipynb)\n",
    "\n",
    "\n",
    "## Jupyter Quick Start\n",
    "\n",
    "* To run all cells of a notebook: In the menu: Run <span class=\"fa-chevron-right fa\"></span> Run All\n",
    "* To restart the kernel: <span class=\"fa-refresh fa\"></span>-Button\n",
    "* To run a single cell: <span class=\"fa-play fa\"></span> Run-Button\n",
    "\n",
    "\n",
    "## Contributors\n",
    "\n",
    "* [Christian Rohlfing](http://www.ient.rwth-aachen.de/cms/c_rohlfing/)\n",
    "* [Lars Thieling](http://www.iks.rwth-aachen.de/institut/ueber-uns/mitarbeiter/lars-thieling/)\n",
    "* [Christoph Weyer](http://www.iks.rwth-aachen.de/institut/ueber-uns/mitarbeiter/christoph-weyer-m-sc/)\n",
    "* [Jens Schneider](http://www.ient.rwth-aachen.de/cms/j_schneider/)"
   ]
  },
  {
   "cell_type": "markdown",
   "metadata": {},
   "source": [
    "The code is licensed under the [MIT license](https://opensource.org/licenses/MIT)."
   ]
  }
 ],
 "metadata": {
  "kernelspec": {
   "display_name": "Python 3",
   "language": "python",
   "name": "python3"
  },
  "language_info": {
   "codemirror_mode": {
    "name": "ipython",
    "version": 3
   },
   "file_extension": ".py",
   "mimetype": "text/x-python",
   "name": "python",
   "nbconvert_exporter": "python",
   "pygments_lexer": "ipython3",
   "version": "3.8.2"
  },
  "toc": {
   "base_numbering": 1,
   "nav_menu": {},
   "number_sections": true,
   "sideBar": true,
   "skip_h1_title": false,
   "title_cell": "Table of Contents",
   "title_sidebar": "Contents",
   "toc_cell": false,
   "toc_position": {},
   "toc_section_display": true,
   "toc_window_display": false
  }
 },
 "nbformat": 4,
 "nbformat_minor": 4
}
