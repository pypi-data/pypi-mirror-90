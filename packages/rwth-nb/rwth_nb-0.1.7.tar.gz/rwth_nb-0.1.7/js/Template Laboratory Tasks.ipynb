{
 "cells": [
  {
   "cell_type": "markdown",
   "metadata": {},
   "source": [
    "<div><img src=\"https://www.rwth-aachen.de/global/show_picture.asp?id=aaaaaaaaaaagazb\" style=\"float: right; height: 5em;\"></div>\n",
    "\n",
    "[//]: # (TODO: Replace RWTH Logo with institute logo in corporate design)\n",
    "\n",
    "# Vorlage Praktikum Aufgabenstellung"
   ]
  },
  {
   "cell_type": "markdown",
   "metadata": {},
   "source": [
    "<div class=\"alert rwth-topic\">\n",
    "\n",
    "## Aufgabe 1: Beispielaufgabenstellung\n",
    "\n",
    "Skizzieren Sie die Aufsichtsperson.\n",
    "\n",
    "</div>"
   ]
  },
  {
   "cell_type": "markdown",
   "metadata": {},
   "source": [
    "<div class=\"alert alert-block rwth-subtopic\">\n",
    "\n",
    "### Aufgabe 1.1: Unteraufgabe\n",
    "\n",
    "Setzen Sie den Stift zweimal ab.\n",
    "\n",
    "</div>"
   ]
  },
  {
   "cell_type": "code",
   "execution_count": null,
   "metadata": {},
   "outputs": [],
   "source": [
    "# Lösen Sie Aufgabe 1.1 in dieser Zelle.\n",
    "\n"
   ]
  },
  {
   "cell_type": "markdown",
   "metadata": {},
   "source": [
    "<div class=\"alert alert-block\" style=\"background-color: var(--rwth-purple-50);\";>\n",
    "\n",
    "__Frage:__ Wie groß ist die Person?\n",
    "\n",
    "_Hinweis:_ Runden Sie auf Meter. \n",
    "</div>"
   ]
  },
  {
   "cell_type": "code",
   "execution_count": null,
   "metadata": {
    "jupyter": {
     "source_hidden": true
    }
   },
   "outputs": [],
   "source": [
    "height = input();\n",
    "print('Die Person ist ' + height + 'm groß.')"
   ]
  },
  {
   "cell_type": "markdown",
   "metadata": {},
   "source": [
    "---\n",
    "<div class=\"alert alert-block rwth-subtopic\">\n",
    "\n",
    "### Aufgabe 1.2: Unteraufgabe\n",
    "\n",
    "Setzen Sie den Stift nur einmal ab.\n",
    "\n",
    "_Hilfreiche Links_: \n",
    "[np.zeros()](https://docs.scipy.org/doc/numpy/reference/generated/numpy.zeros.html)\n",
    "</div>"
   ]
  },
  {
   "cell_type": "code",
   "execution_count": null,
   "metadata": {},
   "outputs": [],
   "source": [
    "# Lösen Sie Aufgabe 1.2 in dieser Zelle.\n",
    "\n"
   ]
  },
  {
   "cell_type": "markdown",
   "metadata": {},
   "source": [
    "---\n",
    "<div class=\"alert alert-block rwth-subtopic\">\n",
    "\n",
    "### Aufgabe 1.3: Unteraufgabe\n",
    "\n",
    "Füllen Sie die Tabelle aus!\n",
    "</div>"
   ]
  },
  {
   "cell_type": "markdown",
   "metadata": {},
   "source": [
    "| k | 0 | 1 | 2 | 3 | 4 | 5 | 6 | 7 |\n",
    "| - | - | - | - | - | - | - | - | - |\n",
    "| f | "
   ]
  },
  {
   "cell_type": "markdown",
   "metadata": {},
   "source": [
    "---\n",
    "\n",
    "<div class=\"alert alert-block rwth-feedback\">\n",
    "\n",
    "## Feedback\n",
    "\n",
    "Liebe TeilnehmerInnen,\n",
    "\n",
    "wir würden uns freuen, wenn ihr am Ende jeder Aufgabe kurz eure Meinung aufschreibt. Ihr könnt auf die darunter liegende Zelle zugreifen und eure Anmerkungen zu der Aufgabe (oder auch Generelles) reinschreiben.\n",
    "</div>"
   ]
  },
  {
   "cell_type": "markdown",
   "metadata": {
    "validation": true
   },
   "source": [
    "__Was war gut?__\n",
    "* ...\n",
    "* ...\n",
    "\n",
    "__Was war nicht so gut?__\n",
    "* ...\n",
    "* ...\n",
    "\n",
    "__Was ich sonst noch sagen möchte:__\n",
    "* ...\n",
    "* ..."
   ]
  },
  {
   "cell_type": "markdown",
   "metadata": {},
   "source": [
    "---\n",
    "Weiter geht es mit [Teil 2](http://www.ient.rwth-aachen.de)."
   ]
  }
 ],
 "metadata": {
  "kernelspec": {
   "display_name": "Python 3",
   "language": "python",
   "name": "python3"
  },
  "language_info": {
   "codemirror_mode": {
    "name": "ipython",
    "version": 3
   },
   "file_extension": ".py",
   "mimetype": "text/x-python",
   "name": "python",
   "nbconvert_exporter": "python",
   "pygments_lexer": "ipython3",
   "version": "3.8.2"
  }
 },
 "nbformat": 4,
 "nbformat_minor": 4
}
