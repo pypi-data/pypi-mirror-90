{
 "nbformat": 4,
 "nbformat_minor": 2,
 "metadata": {
  "language_info": {
   "name": "python",
   "codemirror_mode": {
    "name": "ipython",
    "version": 3
   }
  },
  "orig_nbformat": 2,
  "file_extension": ".py",
  "mimetype": "text/x-python",
  "name": "python",
  "npconvert_exporter": "python",
  "pygments_lexer": "ipython3",
  "version": 3
 },
 "cells": [
  {
   "cell_type": "markdown",
   "execution_count": null,
   "metadata": {},
   "outputs": [],
   "source": [
    "# Running DL_MONTE Workflows\n",
    "\n",
    "## Introduction\n",
    "\n",
    "Workflows can be created using the dlmontepython toolkit to automate the building and running of DL_MONTE once you have a feel for the simulation. `SIMTASK` in the next tutorial build on this further!\n",
    "\n",
    "If you have not already done so, Python environment must be configured so that Python can `find` the scripts and modules employed by the package. There are a number of ways in which this can be achieved. One is to manually change the list of directories which Python searches for packages and modules within Python. We will employ this approach here."
   ]
  },
  {
   "cell_type": "code",
   "execution_count": null,
   "metadata": {},
   "outputs": [],
   "source": [
    "import sys\n",
    "import os\n",
    "\n",
    "# You will need to set TASK_HOME appropriately for your local system. \n",
    "# Note that TASK_HOME should be the directory ABOVE the directory 'dlmontepython' \n",
    "# containing the source code, i.e. the files __init__.py.\n",
    "TASK_HOME = \"/home/jap93/DLMONTE3/dlmontepython_course/dlmontepython\"\n",
    "\n",
    "# Set the search path to the TASK_HOME directory\n",
    "sys.path.append( TASK_HOME )"
   ]
  }
 ]
}