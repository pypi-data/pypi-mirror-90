{
 "cells": [
  {
   "cell_type": "markdown",
   "metadata": {},
   "source": [
    "# Case study: maintenance schedule\n",
    "\n",
    "This case study illustrates the use of the staircase package to create the union of intervals, to remove overlaps between them.  In this example we have an asset composed of several components, named A, B, C, D and E. Each of these components can undergo multiple periods of maintenance, as specified in a maintenance schedule  If any component is under maintenance then the entire asset is considered under maintenance.  The problem is essentially to create the union of the intervals specified in the maintenance schedule.\n",
    "\n",
    "The data used is this case study is synthetic and fictional.  Both data and the notebook for this tutorial can be obtained from the [github site](https://github.com/venaturum/staircase/tree/master/docs/examples)."
   ]
  },
  {
   "cell_type": "code",
   "execution_count": null,
   "metadata": {},
   "outputs": [],
   "source": [
    "import pandas as pd\n",
    "import staircase as sc\n",
    "import matplotlib.pyplot as plt"
   ]
  },
  {
   "cell_type": "markdown",
   "metadata": {},
   "source": [
    "We begin by importing the maintenance schedule data into a pandas.DataFrame instance.  Each row corresponds to a period of maintenance for a component.  The first column identifies the component and the second and third columns indicate the start and end points of each maintenance period."
   ]
  },
  {
   "cell_type": "code",
   "execution_count": null,
   "metadata": {},
   "outputs": [],
   "source": [
    "data = pd.read_csv(\"./data/maintenance_schedule.csv\", parse_dates=['start', 'end'], dayfirst=True)\n",
    "data"
   ]
  },
  {
   "cell_type": "markdown",
   "metadata": {},
   "source": [
    "We'll start by creating a Stairs object to model the number of components under maintenance at any point in time as a step function."
   ]
  },
  {
   "cell_type": "code",
   "execution_count": null,
   "metadata": {},
   "outputs": [],
   "source": [
    "components_under_maintenance = sc.Stairs(use_dates=True).layer(data.start, data.end)\n",
    "components_under_maintenance.plot()"
   ]
  },
  {
   "cell_type": "markdown",
   "metadata": {},
   "source": [
    "The default plot size is a bit too small so let's create a bigger axes and pass it to the plot method."
   ]
  },
  {
   "cell_type": "code",
   "execution_count": null,
   "metadata": {},
   "outputs": [],
   "source": [
    "fig, ax = plt.subplots(figsize=(20,3))\n",
    "components_under_maintenance.plot(ax)"
   ]
  },
  {
   "cell_type": "markdown",
   "metadata": {},
   "source": [
    "Our asset will be under maintenance whenever this step function is non-zero.  There are several ways this can be achieved.  Each option below returns a staircase.Stairs instance:\n",
    "\n",
    "- asset_under_maintenance = components_under_maintenance > 0\n",
    "- asset_under_maintenance = components_under_maintenance != 0\n",
    "- asset_under_maintenance = ~(components_under_maintenance == 0)\n",
    "- asset_under_maintenance = components_under_maintenance >= 1\n",
    "- asset_under_maintenance = components_under_maintenance.make_boolean()\n",
    "\n",
    "Let's use the first option and plot it together with the first step function:"
   ]
  },
  {
   "cell_type": "code",
   "execution_count": null,
   "metadata": {},
   "outputs": [],
   "source": [
    "asset_under_maintenance = components_under_maintenance > 0\n",
    "\n",
    "fig, ax = plt.subplots(figsize=(20,3))\n",
    "components_under_maintenance.plot(ax)\n",
    "asset_under_maintenance.plot(ax)"
   ]
  },
  {
   "cell_type": "markdown",
   "metadata": {},
   "source": [
    "Next we want to extract this interval data from our new step function.  One way is to use the step_changes() method to get the points at which the function changes value:"
   ]
  },
  {
   "cell_type": "code",
   "execution_count": null,
   "metadata": {},
   "outputs": [],
   "source": [
    "asset_under_maintenance.step_changes()"
   ]
  },
  {
   "cell_type": "markdown",
   "metadata": {},
   "source": [
    "However a better way to extract the data would be to use the to_dataframe method:"
   ]
  },
  {
   "cell_type": "code",
   "execution_count": null,
   "metadata": {},
   "outputs": [],
   "source": [
    "asset_under_maintenance.to_dataframe()"
   ]
  },
  {
   "cell_type": "markdown",
   "metadata": {},
   "source": [
    "Lastly we can filter the rows to only include those parts of the function which are equal to one, and drop the value column.  We can then write the dataframe to csv if necessary."
   ]
  },
  {
   "cell_type": "code",
   "execution_count": null,
   "metadata": {},
   "outputs": [],
   "source": [
    "asset_under_maintenance.to_dataframe().query('value == 1').drop(columns='value')"
   ]
  }
 ],
 "metadata": {
  "kernelspec": {
   "display_name": "Python 3",
   "language": "python",
   "name": "python3"
  },
  "language_info": {
   "codemirror_mode": {
    "name": "ipython",
    "version": 3
   },
   "file_extension": ".py",
   "mimetype": "text/x-python",
   "name": "python",
   "nbconvert_exporter": "python",
   "pygments_lexer": "ipython3",
   "version": "3.8.0"
  }
 },
 "nbformat": 4,
 "nbformat_minor": 4
}
