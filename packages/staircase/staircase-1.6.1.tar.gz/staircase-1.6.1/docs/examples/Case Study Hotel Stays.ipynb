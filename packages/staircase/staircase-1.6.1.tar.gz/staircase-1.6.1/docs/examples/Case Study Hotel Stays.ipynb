{
 "cells": [
  {
   "cell_type": "markdown",
   "metadata": {
    "Collapsed": "false"
   },
   "source": [
    "# Case study: hotel stays\n",
    "\n",
    "This case study illustrates the use of the staircase package to analyse data pertaining to bookings at a hotel.  The data is adapted from the [Hotel Booking Demand dataset](https://www.kaggle.com/jessemostipak/hotel-booking-demand) available on Kaggle."
   ]
  },
  {
   "cell_type": "code",
   "execution_count": null,
   "metadata": {
    "Collapsed": "false"
   },
   "outputs": [],
   "source": [
    "import pandas as pd\n",
    "import matplotlib.pyplot as plt\n",
    "import matplotlib.ticker as ticker\n",
    "from pandas.plotting import register_matplotlib_converters\n",
    "register_matplotlib_converters()\n",
    "import seaborn as sns\n",
    "\n",
    "import staircase as sc"
   ]
  },
  {
   "cell_type": "markdown",
   "metadata": {
    "Collapsed": "false"
   },
   "source": [
    "We begin by importing the data using the [pandas](https://pandas.pydata.org/) library, and take the opportunity to specify which columns of the resulting dataframe should be interpreted as dates, and which should be interpreted as categorical."
   ]
  },
  {
   "cell_type": "code",
   "execution_count": null,
   "metadata": {
    "Collapsed": "false"
   },
   "outputs": [],
   "source": [
    "data = pd.read_csv('./data/hotel_stays.csv', parse_dates=[\"check_in\", \"check_out\"], dtype={\"reserved_room_type\":\"category\", \"assigned_room_type\":\"category\"})\n",
    "data"
   ]
  },
  {
   "cell_type": "markdown",
   "metadata": {
    "Collapsed": "false"
   },
   "source": [
    "We will be interested in performing some analysis based on assigned room types.  The following code produces a pandas.Series instance, indexed by the various room types.  The values of this series are staircase.Stairs instances, each representing the number of rooms occupied over time."
   ]
  },
  {
   "cell_type": "code",
   "execution_count": null,
   "metadata": {
    "Collapsed": "false"
   },
   "outputs": [],
   "source": [
    "assigned_room_type_stairs = data.groupby([\"assigned_room_type\"]).apply(lambda df: sc.Stairs(use_dates=True).layer(df.check_in, df.check_out))\n",
    "assigned_room_type_stairs"
   ]
  },
  {
   "cell_type": "markdown",
   "metadata": {
    "Collapsed": "false"
   },
   "source": [
    "It will be useful to keep a reference of the possible room types which can be assigned..."
   ]
  },
  {
   "cell_type": "code",
   "execution_count": null,
   "metadata": {
    "Collapsed": "false"
   },
   "outputs": [],
   "source": [
    "assigned_room_types = list(assigned_room_type_stairs.index)\n",
    "assigned_room_types"
   ]
  },
  {
   "cell_type": "markdown",
   "metadata": {
    "Collapsed": "false"
   },
   "source": [
    "## How many rooms assigned over the course of the year?"
   ]
  },
  {
   "cell_type": "markdown",
   "metadata": {
    "Collapsed": "false"
   },
   "source": [
    "Let's start by looking at how many rooms, in total, were occupied over time.  The arithmetic operators that belong to the Stairs class are automatically applied when calling their counterparts belonging to the pandas.Series class.  For example the code block below adds the Stairs instances for each room type together, to produce a single Stairs instance representing total rooms."
   ]
  },
  {
   "cell_type": "code",
   "execution_count": null,
   "metadata": {
    "Collapsed": "false"
   },
   "outputs": [],
   "source": [
    "all_assigned_stairs = assigned_room_type_stairs.sum()\n",
    "all_assigned_stairs"
   ]
  },
  {
   "cell_type": "markdown",
   "metadata": {
    "Collapsed": "false"
   },
   "source": [
    "We can make a simple plot to get a quick feel for how the total bookings vary over the course of the year.  Plotting with the staircase package is compatible with the [matplotlib](https://matplotlib.org/) library (and therefore also [seaborn](https://seaborn.pydata.org/) which is built upon matplotlib).*"
   ]
  },
  {
   "cell_type": "code",
   "execution_count": null,
   "metadata": {
    "Collapsed": "false"
   },
   "outputs": [],
   "source": [
    "boundary_2016 = (pd.to_datetime('2016'), pd.to_datetime('2017'))\n",
    "\n",
    "fig, ax = plt.subplots(figsize=(15,8))\n",
    "all_assigned_stairs.plot(ax)\n",
    "ax.set_xlim(*boundary_2016);"
   ]
  },
  {
   "cell_type": "markdown",
   "metadata": {
    "Collapsed": "false"
   },
   "source": [
    "A visual inspection of the graph suggests the hotel probably has approximately 180 rooms.  We can check the actual maximum simulteanous bookings observed with the Stairs.max function."
   ]
  },
  {
   "cell_type": "code",
   "execution_count": null,
   "metadata": {
    "Collapsed": "false"
   },
   "outputs": [],
   "source": [
    "all_assigned_stairs.max()"
   ]
  },
  {
   "cell_type": "markdown",
   "metadata": {
    "Collapsed": "false"
   },
   "source": [
    "In the plot above there is a fair bit of noise introduced by the fact that the step function changes value whenever there is a check-in our check-out.  We can use the Stairs.resample function to get a step function which tracks the occupancy at midnight of each night, which will give a clearer view of what is going on"
   ]
  },
  {
   "cell_type": "code",
   "execution_count": null,
   "metadata": {
    "Collapsed": "false"
   },
   "outputs": [],
   "source": [
    "midnights_2016 = pd.date_range(*boundary_2016, closed='left')\n",
    "all_assigned_midnight_stairs = all_assigned_stairs.resample(midnights_2016)"
   ]
  },
  {
   "cell_type": "markdown",
   "metadata": {
    "Collapsed": "false"
   },
   "source": [
    "When we plot our resampled Stairs instance, we can see that it traces the maximum of the previous Stairs instance.  This is to be expected."
   ]
  },
  {
   "cell_type": "code",
   "execution_count": null,
   "metadata": {
    "Collapsed": "false"
   },
   "outputs": [],
   "source": [
    "fig, ax = plt.subplots(figsize=(15,8))\n",
    "all_assigned_stairs.plot(ax)\n",
    "all_assigned_midnight_stairs.plot(ax=ax, linewidth=2);\n",
    "ax.set_xlim(*boundary_2016);"
   ]
  },
  {
   "cell_type": "markdown",
   "metadata": {
    "Collapsed": "false"
   },
   "source": [
    "An alternative to the above is to create evaluate the step function at the midnight values, and create a pandas.Series from the results.  This method can be used with a rolling window to highlight trend.  In the code block below we use a method chain to create such a series, apply a 7 day rolling average and plot the result"
   ]
  },
  {
   "cell_type": "code",
   "execution_count": null,
   "metadata": {
    "Collapsed": "false"
   },
   "outputs": [],
   "source": [
    "fig, ax = plt.subplots(figsize=(15,8))\n",
    "all_assigned_stairs.plot(ax)\n",
    "(pd.Series(all_assigned_stairs(midnights_2016), index=midnights_2016)\n",
    "    .rolling(7,center=True).mean()\n",
    "    .plot(ax=ax, linewidth=3)\n",
    ")\n",
    "ax.set_xlim(*boundary_2016);"
   ]
  },
  {
   "cell_type": "markdown",
   "metadata": {
    "Collapsed": "false"
   },
   "source": [
    "Let's now turn our attention to the occupancy of each room type.  Recall that assigned_room_type_stairs is a pandas.Series instance, indexed by room type, and whose values are Stairs instances.  Let's plot the occupancy for each room type on the one chart."
   ]
  },
  {
   "cell_type": "code",
   "execution_count": null,
   "metadata": {
    "Collapsed": "false"
   },
   "outputs": [],
   "source": [
    "fig, ax = plt.subplots(figsize=(15,8))\n",
    "for room_type in assigned_room_types:\n",
    "    assigned_room_type_stairs[room_type].plot(ax, label=room_type)\n",
    "ax.set_xlim(*boundary_2016)\n",
    "ax.legend();\n"
   ]
  },
  {
   "cell_type": "markdown",
   "metadata": {
    "Collapsed": "false"
   },
   "source": [
    "From the plot above we can see that room type A is the most common room in the hotel, followed by room type D, then E, and so on.  There are very few rooms of type B, H, and I.  Perhaps their rarity suggests they might be penthouse suites, or capable of accommodating large families.  If we want to repeat the previous exercise of removing noise, by evaluating the step functions at midnight, we can resample all the Stairs instances using pandas.Series.map and a lambda function"
   ]
  },
  {
   "cell_type": "code",
   "execution_count": null,
   "metadata": {
    "Collapsed": "false"
   },
   "outputs": [],
   "source": [
    "assigned_room_type_stairs.map(lambda x: x.resample(midnights_2016))"
   ]
  },
  {
   "cell_type": "markdown",
   "metadata": {
    "Collapsed": "false"
   },
   "source": [
    "Alternatively the staircase package contains a function called sample, which takes a collection of Stairs instances and evaluates them at the values specified.  The results are returned as a pandas.DataFrame, in [tidy data format](https://vita.had.co.nz/papers/tidy-data.pdf)."
   ]
  },
  {
   "cell_type": "code",
   "execution_count": null,
   "metadata": {
    "Collapsed": "false"
   },
   "outputs": [],
   "source": [
    "def create_rolling_value(df):\n",
    "    df.value = df.value.rolling(window=7, center=True).mean()\n",
    "    return df\n",
    "\n",
    "sc.sample(assigned_room_type_stairs, midnights_2016).groupby('key').apply(lambda df: df.assign(value = df.value.rolling(window=7, center=True).mean()))"
   ]
  },
  {
   "cell_type": "markdown",
   "metadata": {
    "Collapsed": "false"
   },
   "source": [
    "The [seaborn](https://seaborn.pydata.org/) package makes plotting tidy data simple, so we take advantage of this by using the seaborn.lineplot function."
   ]
  },
  {
   "cell_type": "code",
   "execution_count": null,
   "metadata": {
    "Collapsed": "false"
   },
   "outputs": [],
   "source": [
    "fig, ax = plt.subplots(figsize=(15,8))\n",
    "sns.lineplot(data=sc.sample(assigned_room_type_stairs, midnights_2016), x=\"points\", y=\"value\", hue=\"key\", ax=ax);"
   ]
  },
  {
   "cell_type": "markdown",
   "metadata": {
    "Collapsed": "false"
   },
   "source": [
    "So far we have analysed occupancy from the persepective of room count.  Next we demonstrate how the staircase package can easily incorporate the number of guests into the analysis"
   ]
  },
  {
   "cell_type": "markdown",
   "metadata": {
    "Collapsed": "false"
   },
   "source": [
    "## How many people over the course of the year?"
   ]
  },
  {
   "cell_type": "markdown",
   "metadata": {
    "Collapsed": "false"
   },
   "source": [
    "Recall that \"data\" is the pandas.DataFrame containing the hotel booking data.  We proceed as before, however this time when we call the layer function, we weight the booking intervals by the number of people (adults + children) associated with the booking.  We create a Stairs instance for each assigned room type but also create a Stairs instance by adding the others together.  Finally we create a pandas.Series indexed by the midnight values."
   ]
  },
  {
   "cell_type": "code",
   "execution_count": null,
   "metadata": {
    "Collapsed": "false"
   },
   "outputs": [],
   "source": [
    "people_room_type_stairs = data.groupby([\"assigned_room_type\"]).apply(lambda df: sc.Stairs(use_dates=True).layer(df.check_in, df.check_out, df.adults+df.children))\n",
    "people_stairs = people_room_type_stairs.sum()\n",
    "people_midnight_stairs = people_stairs.resample(midnights_2016)\n",
    "people_midnight_series = pd.Series(people_stairs(midnights_2016), index=midnights_2016)"
   ]
  },
  {
   "cell_type": "markdown",
   "metadata": {
    "Collapsed": "false"
   },
   "source": [
    "As before we plot a rolling 7 day average, applied to the step function values, evaluated at midnight"
   ]
  },
  {
   "cell_type": "code",
   "execution_count": null,
   "metadata": {
    "Collapsed": "false"
   },
   "outputs": [],
   "source": [
    "fig, ax = plt.subplots(figsize=(15,8))\n",
    "people_stairs.plot(ax)\n",
    "people_midnight_series.rolling(7,center=True).mean().plot(ax=ax, linewidth=3)\n",
    "ax.set_xlim(*boundary_2016);"
   ]
  },
  {
   "cell_type": "markdown",
   "metadata": {
    "Collapsed": "false"
   },
   "source": [
    "The Stairs class comes with several functions which allow for aggregation of step function values.  For example in the following code block we use Stairs instances to calculate\n",
    "\n",
    "    1) The average number of people staying each night, for 2016\n",
    "    2) The average number of rooms occupied each night, for 2016\n",
    "    3) The average number of people per room, for 2016"
   ]
  },
  {
   "cell_type": "code",
   "execution_count": null,
   "metadata": {
    "Collapsed": "false"
   },
   "outputs": [],
   "source": [
    "print(people_midnight_stairs.mean(*boundary_2016))\n",
    "print(all_assigned_midnight_stairs.mean(*boundary_2016))\n",
    "print(people_midnight_stairs.mean(*boundary_2016)/all_assigned_midnight_stairs.mean(*boundary_2016))"
   ]
  },
  {
   "cell_type": "markdown",
   "metadata": {
    "Collapsed": "false"
   },
   "source": [
    "So, on average room bookings are made for 2 people.  What if we want to know how this value changes over the course of the year?  We can do this by utilising arithmetic operators with Stairs instances.  In the code block below we apply operations to pandas.Series so that for each assigned room type we divide the step function, representing number of people booked, by the step function representing the number of rooms booked.  Note we add a small value of 0.00001 to the divisor to avoid divide by zero errors."
   ]
  },
  {
   "cell_type": "code",
   "execution_count": null,
   "metadata": {
    "Collapsed": "false"
   },
   "outputs": [],
   "source": [
    "people_per_room_type_stairs = (people_room_type_stairs/(assigned_room_type_stairs + sc.Stairs(0.00001, use_dates=True)))\n",
    "people_per_room_type_stairs"
   ]
  },
  {
   "cell_type": "markdown",
   "metadata": {
    "Collapsed": "false"
   },
   "source": [
    "We then plot each of these Stairs instances on a separate chart."
   ]
  },
  {
   "cell_type": "code",
   "execution_count": null,
   "metadata": {
    "Collapsed": "false"
   },
   "outputs": [],
   "source": [
    "for room_type in people_per_room_type_stairs.index:\n",
    "    fig, ax = plt.subplots(figsize=(20,8))\n",
    "    people_per_room_type_stairs[room_type].plot(ax, label=room_type)\n",
    "    ax.legend()"
   ]
  },
  {
   "cell_type": "markdown",
   "metadata": {
    "Collapsed": "false"
   },
   "source": [
    "There are some interesting observations from the above graphs:\n",
    "    \n",
    "    1) The nature of the plot for room type C changes around April.  When we cross reference it with the assigned room count plot we see that the total number of rooms of type C seems to increase around April.  Perhaps the hotel finished renovations which increased the number of rooms of this type?\n",
    "    \n",
    "    2) Room types C, G, H and I are capable of holding 4+ people.  Recall from previous plots there is also a seemingly low number of these rooms available.  Perhaps types C, G, H and I are in fact different bed configurations for the one pool of rooms?  Perhaps the purchase of more beds (allowing more possible configurations) was the cause of more rooms of type C being available from April onwards?\n",
    "    \n",
    "    3) Room types B and F generally hold 2 people.  There is also a relatively low number of these room types?  Perhaps these room types are good candidates for being a penthouse suite, or some similar luxury room?\n",
    "    \n",
    "    4) The average number of people per room appears to slightly increase in July and August for many room types?  Perhaps this hotel belongs to an area of the world which holidays over these months, making rooms more likely to be booked by families with children?"
   ]
  },
  {
   "cell_type": "markdown",
   "metadata": {
    "Collapsed": "false"
   },
   "source": [
    "## How often were people upgraded from room type A to room type B?"
   ]
  },
  {
   "cell_type": "markdown",
   "metadata": {
    "Collapsed": "false"
   },
   "source": [
    "So far the analysis has focussed on assigned rooms.  The original data also contains information on what type of room was reserved.  Let's start by creating Stairs instances for each reserved room type.  We'll also check what types of room can be reserved."
   ]
  },
  {
   "cell_type": "code",
   "execution_count": null,
   "metadata": {
    "Collapsed": "false"
   },
   "outputs": [],
   "source": [
    "reserved_room_type_stairs = data.groupby([\"reserved_room_type\"]).apply(lambda df: sc.Stairs(use_dates=True).layer(df.check_in, df.check_out))\n",
    "reserved_room_types = list(reserved_room_type_stairs.index)\n",
    "reserved_room_types"
   ]
  },
  {
   "cell_type": "markdown",
   "metadata": {
    "Collapsed": "false"
   },
   "source": [
    "It is interesting to note that room types B and I cannot be reserved.  We speculated above that rooms of type B might luxury - perhaps they are a type of Presedential Suite that is cannot be reserved!  As for room I, perhaps it corresponds to a configuration which includes 1 double bed and 2 single beds put together to form a double?  This would explain why it is not a reservable type - presumably guests would just book a room type with two double beds.\n",
    "\n",
    "For those room types which can be reserved, let's see how often guests are assigned the room they requested by taking the difference of two pandas.Series holding Stairs instances."
   ]
  },
  {
   "cell_type": "code",
   "execution_count": null,
   "metadata": {
    "Collapsed": "false"
   },
   "outputs": [],
   "source": [
    "reserved_vs_assigned_stairs = reserved_room_type_stairs - assigned_room_type_stairs[reserved_room_type_stairs.index]\n",
    "reserved_vs_assigned_stairs"
   ]
  },
  {
   "cell_type": "markdown",
   "metadata": {
    "Collapsed": "false"
   },
   "source": [
    "We plot these step functions below.  Note that room type A is requested more often than it is assigned, and room D is, more often than not, assigned more than it is requested.  Both of these room types generally hold 2 guests so we speculate that room type A is a budget room, and when all rooms of this type are occupied, guests are upgraded to a more premium room of type D.  It also appears that when rooms of type D are popular (May to October based off the chart), guests requesting room A might be upgraded to rooms of type C - which can hold more than 2 people but of course can still be used to accommodate 2 (or less people) if required."
   ]
  },
  {
   "cell_type": "code",
   "execution_count": null,
   "metadata": {
    "Collapsed": "false"
   },
   "outputs": [],
   "source": [
    "fig, ax = plt.subplots(figsize=(15,8))\n",
    "sns.lineplot(data=sc.sample(reserved_vs_assigned_stairs, midnights_2016), x=\"points\", y=\"value\", hue=\"key\", ax=ax);"
   ]
  },
  {
   "cell_type": "markdown",
   "metadata": {
    "Collapsed": "false"
   },
   "source": [
    "What percentage of bookings for room type A are upgraded (assuming that is what is happening) over time?  The plot below shows the fraction of bookings for room type A that were assigned room type A.  It is interesting to note that from June to September a relatively high proportion of bookings requesting room type A are assigned these rooms.  Yet we have seen that the total number of guests is relatively high during this time.  This gives credence to our previous speculation that families are with 3+ people are booking at a higher rate over this period"
   ]
  },
  {
   "cell_type": "code",
   "execution_count": null,
   "metadata": {
    "Collapsed": "false"
   },
   "outputs": [],
   "source": [
    "reserved_vs_assigned_frac = assigned_room_type_stairs[reserved_room_type_stairs.index]/(reserved_room_type_stairs + sc.Stairs(0.0001, use_dates=True))\n",
    "fig, ax = plt.subplots(figsize=(15,8))\n",
    "ax.plot(midnights_2016, reserved_vs_assigned_frac['A'](midnights_2016));"
   ]
  }
 ],
 "metadata": {
  "kernelspec": {
   "display_name": "Python 3",
   "language": "python",
   "name": "python3"
  },
  "language_info": {
   "codemirror_mode": {
    "name": "ipython",
    "version": 3
   },
   "file_extension": ".py",
   "mimetype": "text/x-python",
   "name": "python",
   "nbconvert_exporter": "python",
   "pygments_lexer": "ipython3",
   "version": "3.8.0"
  }
 },
 "nbformat": 4,
 "nbformat_minor": 4
}
