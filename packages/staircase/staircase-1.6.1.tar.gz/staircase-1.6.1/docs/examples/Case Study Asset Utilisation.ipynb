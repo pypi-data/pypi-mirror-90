{
 "cells": [
  {
   "cell_type": "markdown",
   "metadata": {},
   "source": [
    "# Case study: asset utilisation\n",
    "\n",
    "This case study illustrates the use of the staircase package for analysing asset utilsation.  In this example we have a group of 3 identical assets, X, Y, and Z.  These assets are parallel machines, such as bays in a carwash.  Each asset can either be in one of two states - on or off (or alternatively working or not working).\n",
    "\n",
    "The data used is this case study is synthetic and fictional.  Both data and the notebook for this tutorial can be obtained from the [github site](https://github.com/venaturum/staircase/tree/master/docs/examples)."
   ]
  },
  {
   "cell_type": "code",
   "execution_count": null,
   "metadata": {},
   "outputs": [],
   "source": [
    "import pandas as pd\n",
    "import staircase as sc\n",
    "import matplotlib.pyplot as plt"
   ]
  },
  {
   "cell_type": "markdown",
   "metadata": {},
   "source": [
    "We begin by importing the asset data into a pandas.DataFrame instance. Each row corresponds to a period of time that an asset is being used.  The first column identifies the asset, while the second and third columns give the start and end times of the period of use respectively."
   ]
  },
  {
   "cell_type": "code",
   "execution_count": null,
   "metadata": {},
   "outputs": [],
   "source": [
    "data = pd.read_csv(r\"./data/asset_use.csv\", parse_dates=['start', 'end'], dayfirst=True)\n",
    "data"
   ]
  },
  {
   "cell_type": "markdown",
   "metadata": {},
   "source": [
    "For the analysis we would like a Stairs object for each asset.  Each Stairs object will represent a step function which takes a value of zero, when the asset is not in use, and a value of one when the asset is in use.  We define a function called \"make_stairs\" which, given a dataframe, creates a Stairs instance based on columns called \"start\" and \"end\".  We can then use this function, in conjunction with a groupby-apply, to create a pandas.Series indexed by asset name, with Stairs values."
   ]
  },
  {
   "cell_type": "code",
   "execution_count": null,
   "metadata": {},
   "outputs": [],
   "source": [
    "make_stairs = lambda df: sc.Stairs(use_dates=True).layer(df.start, df.end)\n",
    "\n",
    "asset_use = data.groupby(['asset']).apply(make_stairs)"
   ]
  },
  {
   "cell_type": "markdown",
   "metadata": {},
   "source": [
    "We can access an individual Stairs object with the corresponding asset name.  For example, to plot the step function corresponding to asset Z:"
   ]
  },
  {
   "cell_type": "code",
   "execution_count": null,
   "metadata": {},
   "outputs": [],
   "source": [
    "asset_use['Z'].plot()"
   ]
  },
  {
   "cell_type": "markdown",
   "metadata": {},
   "source": [
    "A wall of blue!  Perhaps our asset is oscillating between not used and used (0 amd 1 respectively) so often that plotting an entire year is not helpful.  Let's confirm this conjecture by capturing the axes which is being plotted onto, and \"zooming in\" on the first day of 2020:"
   ]
  },
  {
   "cell_type": "code",
   "execution_count": null,
   "metadata": {},
   "outputs": [],
   "source": [
    "ax = asset_use['Z'].plot()\n",
    "ax.set_xlim('2020-1-1', '2020-1-2')"
   ]
  },
  {
   "cell_type": "markdown",
   "metadata": {},
   "source": [
    "Because these assets belong to a group, we are interested in their combined utilisation, i.e. the addition of the three step functions.  This can be achieved by simply summing up the Stairs objects:"
   ]
  },
  {
   "cell_type": "code",
   "execution_count": null,
   "metadata": {},
   "outputs": [],
   "source": [
    "combined_asset_use = asset_use['X'] + asset_use['Y'] + asset_use['Z']"
   ]
  },
  {
   "cell_type": "markdown",
   "metadata": {},
   "source": [
    "Note that we can also achieve the same result by leveraging the panda.Series.sum method.  That method leverages the addition operator defined by the Stairs class to perform the calculation."
   ]
  },
  {
   "cell_type": "code",
   "execution_count": null,
   "metadata": {},
   "outputs": [],
   "source": [
    "combined_asset_use = asset_use.sum()"
   ]
  },
  {
   "cell_type": "markdown",
   "metadata": {},
   "source": [
    "Using the integrate method we can see that the three assets together worked for a total of 13,176.7 hours in the year 2020."
   ]
  },
  {
   "cell_type": "code",
   "execution_count": null,
   "metadata": {},
   "outputs": [],
   "source": [
    "combined_asset_use.integrate(pd.Timestamp('2020'), pd.Timestamp('2021'))"
   ]
  },
  {
   "cell_type": "markdown",
   "metadata": {},
   "source": [
    "Given there are 3 assets, and 8784 hours in the year, there are a total of 26,352 hours that the assets could have worked - approximately double the hours used.  It is not surprising then that calculating the average group utilisation for the year 2020 is approximately 1.5: "
   ]
  },
  {
   "cell_type": "code",
   "execution_count": null,
   "metadata": {},
   "outputs": [],
   "source": [
    "combined_asset_use.mean(pd.Timestamp('2020'), pd.Timestamp('2021'))"
   ]
  },
  {
   "cell_type": "markdown",
   "metadata": {},
   "source": [
    "Now we will look to discover how often exactly none of the assets were being used.  If we compare our combined_asset_use Stairs instance to 0, then the result is a Stairs instance.  This object represents a binary (or boolean) valued step function, which takes value 1 whenever there are 0 assets being used."
   ]
  },
  {
   "cell_type": "code",
   "execution_count": null,
   "metadata": {},
   "outputs": [],
   "source": [
    "combined_asset_use == 0"
   ]
  },
  {
   "cell_type": "markdown",
   "metadata": {},
   "source": [
    "The question, of how often none of the assets are being used, can be answered with the help of the mean method:"
   ]
  },
  {
   "cell_type": "code",
   "execution_count": null,
   "metadata": {},
   "outputs": [],
   "source": [
    "(combined_asset_use == 0).mean(pd.Timestamp('2020'), pd.Timestamp('2021'))"
   ]
  },
  {
   "cell_type": "markdown",
   "metadata": {},
   "source": [
    "So there are no assets being used at all, during 2020, approximately 12.3% of the time.  If we wish to further this idea by extending to 1, 2, or 3 assets being used, then we can do so with a list comprehension to store each result.  We wrap this in a pandas.Series for convenience:"
   ]
  },
  {
   "cell_type": "code",
   "execution_count": null,
   "metadata": {},
   "outputs": [],
   "source": [
    "combined_utilisation = pd.Series([(combined_asset_use == i).mean(pd.Timestamp('2020'), pd.Timestamp('2021')) for i in range(4)])\n",
    "combined_utilisation"
   ]
  },
  {
   "cell_type": "markdown",
   "metadata": {},
   "source": [
    "Note that as of version 1.2 the Stairs class has a method called *hist* which can perform the previous calculation much faster."
   ]
  },
  {
   "cell_type": "code",
   "execution_count": null,
   "metadata": {},
   "outputs": [],
   "source": [
    "combined_asset_use.hist(pd.Timestamp('2020'), pd.Timestamp('2021'))"
   ]
  },
  {
   "cell_type": "markdown",
   "metadata": {},
   "source": [
    "We can see from this result that all assets are being used approximately 10.1% of the time.  Since the values are fractions of a whole, if we sum the values in the series we should get a value of 1.  Let's check:"
   ]
  },
  {
   "cell_type": "code",
   "execution_count": null,
   "metadata": {},
   "outputs": [],
   "source": [
    "combined_utilisation.sum()"
   ]
  },
  {
   "cell_type": "markdown",
   "metadata": {},
   "source": [
    "We can also use the pandas.Series plotting methods to get a quick visual of this utilisation breakdown:"
   ]
  },
  {
   "cell_type": "code",
   "execution_count": null,
   "metadata": {},
   "outputs": [],
   "source": [
    "combined_utilisation.plot.bar()"
   ]
  },
  {
   "cell_type": "markdown",
   "metadata": {},
   "source": [
    "Using various methods from the Stairs class we can answer questions such as \"How often is X working while Y is not?\": (25.4%)"
   ]
  },
  {
   "cell_type": "code",
   "execution_count": null,
   "metadata": {},
   "outputs": [],
   "source": [
    "(asset_use[\"X\"] > asset_use[\"Y\"]).mean(pd.Timestamp('2020'), pd.Timestamp('2021'))"
   ]
  },
  {
   "cell_type": "markdown",
   "metadata": {},
   "source": [
    "\"How many assets were being used at 9:40am on the 5th of September?: (2)"
   ]
  },
  {
   "cell_type": "code",
   "execution_count": null,
   "metadata": {},
   "outputs": [],
   "source": [
    "combined_asset_use(pd.Timestamp(2020, 9, 5, 9, 40))"
   ]
  },
  {
   "cell_type": "markdown",
   "metadata": {},
   "source": [
    "\"Which 2 assets were being used at this time?\": (X and Y)"
   ]
  },
  {
   "cell_type": "code",
   "execution_count": null,
   "metadata": {},
   "outputs": [],
   "source": [
    "asset_use.apply(lambda s: s(pd.Timestamp(2020, 9, 5, 9, 40)))"
   ]
  },
  {
   "cell_type": "markdown",
   "metadata": {},
   "source": [
    "If we'd prefer to work with \"idleness\", instead of \"in use\", we can create a Stairs object to capture this.  The idea is to start with a step function with value 3 everywhere (since we have 3 assets) and subtract the step function for \"in use\":"
   ]
  },
  {
   "cell_type": "code",
   "execution_count": null,
   "metadata": {},
   "outputs": [],
   "source": [
    "combined_assets_idle = sc.Stairs(3, use_dates=True)-combined_asset_use"
   ]
  },
  {
   "cell_type": "markdown",
   "metadata": {},
   "source": [
    "The number of assets idle at 9:40am on the 5th of September should be 1 right?  Let's check:"
   ]
  },
  {
   "cell_type": "code",
   "execution_count": null,
   "metadata": {},
   "outputs": [],
   "source": [
    "combined_assets_idle(pd.Timestamp(2020, 9, 5, 9, 40))"
   ]
  }
 ],
 "metadata": {
  "kernelspec": {
   "display_name": "Python 3",
   "language": "python",
   "name": "python3"
  },
  "language_info": {
   "codemirror_mode": {
    "name": "ipython",
    "version": 3
   },
   "file_extension": ".py",
   "mimetype": "text/x-python",
   "name": "python",
   "nbconvert_exporter": "python",
   "pygments_lexer": "ipython3",
   "version": "3.7.5"
  }
 },
 "nbformat": 4,
 "nbformat_minor": 4
}
