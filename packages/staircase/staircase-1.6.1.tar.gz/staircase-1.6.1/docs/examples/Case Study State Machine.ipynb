{
 "cells": [
  {
   "cell_type": "markdown",
   "metadata": {},
   "source": [
    "# Case study: state machine\n",
    "\n",
    "This case study illustrates the use of the staircase package for analysing data derived from a [state machine](https://en.wikipedia.org/wiki/State_diagram). States are either active or not active, and transitions between states are triggered by events.  It is these events (and the time at which they occur) which comprise the data.\n",
    "\n",
    "The data used is this case study is synthetic and fictional.  Both data and the notebook for this tutorial can be obtained from the [github site](https://github.com/venaturum/staircase/tree/master/docs/examples).\n",
    "\n",
    "The state machine diagram is pictured below.  Note that state A is the initial state (at time = 0).  Note that the transitions between states A and B, and the transitions between C and D, share the same labels.  This complicates the analysis, however we can still derive the results with some step function arithmetic! \n",
    "\n",
    "![State Chart](./img/state_chart.png)\n"
   ]
  },
  {
   "cell_type": "code",
   "execution_count": null,
   "metadata": {},
   "outputs": [],
   "source": [
    "import pandas as pd\n",
    "import staircase as sc"
   ]
  },
  {
   "cell_type": "markdown",
   "metadata": {},
   "source": [
    "We begin by importing the event data into a pandas.DataFrame instance. Each row corresponds to an event.  The first column identifies the event type, while the second column gives the time (as some unspecified unit of time past 0) at which the event occurred."
   ]
  },
  {
   "cell_type": "code",
   "execution_count": null,
   "metadata": {},
   "outputs": [],
   "source": [
    "data = pd.read_csv('./data/state_machine.csv')\n",
    "data"
   ]
  },
  {
   "cell_type": "markdown",
   "metadata": {},
   "source": [
    "If the transition from A to B, and B to A, were instead labelled *y* and *z* respectively, then analysing with staircase would be straightforward.  For example, a binary-valued step function representing when state B is active could be obtained with the following code:\n",
    "\n",
    "![code](./img/state_B_code.png)\n",
    "\n",
    "We will take a similar approach but we will need to appeal to compound states - a state composed of multiple substates.  We will denote the compound state AB as meaning in state A or B, and likewise for compound states CD and BD.\n",
    "\n",
    "Compound state AB becomes active whenever event *q* occurs, and becomes inactive when event *p* occurs.  Also note that we start in AB at time = 0.  We can create a step function for AB with the following code:"
   ]
  },
  {
   "cell_type": "code",
   "execution_count": null,
   "metadata": {},
   "outputs": [],
   "source": [
    "AB = sc.Stairs().layer(0).layer(data[data.event == \"q\"].time, data[data.event == \"p\"].time)\n",
    "AB.plot()"
   ]
  },
  {
   "cell_type": "markdown",
   "metadata": {},
   "source": [
    "Note the first call to the layer method, increases the value of the step function from 0 to 1, at time 0.  It is also important to know that there is no pairing between *q* and *p* events.  In fact we start in state A, and finish in state C, and so there aren't even an equal number of *p* and *q* events in our data (see value_counts result below).  This is fine however, with the layer method simply interpreting the *start* parameter as times at which the step function increases by 1, and the *end* parameter as times at which the step function decreases by 1."
   ]
  },
  {
   "cell_type": "code",
   "execution_count": null,
   "metadata": {},
   "outputs": [],
   "source": [
    "data.event.value_counts()"
   ]
  },
  {
   "cell_type": "markdown",
   "metadata": {},
   "source": [
    "We can also derive step functions for compound states CD and BD like so:"
   ]
  },
  {
   "cell_type": "code",
   "execution_count": null,
   "metadata": {},
   "outputs": [],
   "source": [
    "CD = sc.Stairs().layer(data[data.event == \"p\"].time, data[data.event == \"q\"].time)\n",
    "BD = sc.Stairs().layer(data[data.event == \"w\"].time, data[data.event == \"x\"].time)"
   ]
  },
  {
   "cell_type": "markdown",
   "metadata": {},
   "source": [
    "Note that unlike the singular states, it is possible to be in more than one compound state at any time.  In fact it this result that our approach relies upon.  If compound state AB is active, and compound state BD is active, then state B must be active (and the converse is true also).  Therefore we can create a step function for state B by multiplying the step functions for AB and BD together."
   ]
  },
  {
   "cell_type": "code",
   "execution_count": null,
   "metadata": {},
   "outputs": [],
   "source": [
    "B = AB*BD\n",
    "B.plot()"
   ]
  },
  {
   "cell_type": "markdown",
   "metadata": {},
   "source": [
    "We can then obtain a step function for state A by using the fact that if state A is active, then compound state AB is active and state B is not (and the converse is true.  This is equivalent to subtracting the step function for state B from the step function for compound state AB:"
   ]
  },
  {
   "cell_type": "code",
   "execution_count": null,
   "metadata": {},
   "outputs": [],
   "source": [
    "A = AB - B\n",
    "A.plot()"
   ]
  },
  {
   "cell_type": "markdown",
   "metadata": {},
   "source": [
    "The same approach can be taken to derive step functions for states D and C:"
   ]
  },
  {
   "cell_type": "code",
   "execution_count": null,
   "metadata": {},
   "outputs": [],
   "source": [
    "D = CD*BD\n",
    "C = CD - D"
   ]
  },
  {
   "cell_type": "markdown",
   "metadata": {},
   "source": [
    "If we add the step functions for these singular states together then we obtain a step function for the compound state composed of all singular states.  This step function should be zero valued and negative infinity and transitioning to a value of 1 at time = 0.  We can verify this by plotting the result, remembering that the infinite length segments of a step function are not plotted:"
   ]
  },
  {
   "cell_type": "code",
   "execution_count": null,
   "metadata": {},
   "outputs": [],
   "source": [
    "(A + B + C + D).plot()"
   ]
  },
  {
   "cell_type": "markdown",
   "metadata": {},
   "source": [
    "Now that we have step functions for the singular states we can answer questions such as \"what fraction of time during the first 200 time units was spent in time A?\": (38.1%)"
   ]
  },
  {
   "cell_type": "code",
   "execution_count": null,
   "metadata": {},
   "outputs": [],
   "source": [
    "A.mean(0,200)"
   ]
  }
 ],
 "metadata": {
  "kernelspec": {
   "display_name": "Python 3",
   "language": "python",
   "name": "python3"
  },
  "language_info": {
   "codemirror_mode": {
    "name": "ipython",
    "version": 3
   },
   "file_extension": ".py",
   "mimetype": "text/x-python",
   "name": "python",
   "nbconvert_exporter": "python",
   "pygments_lexer": "ipython3",
   "version": "3.7.5"
  }
 },
 "nbformat": 4,
 "nbformat_minor": 4
}
