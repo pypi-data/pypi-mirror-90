{
 "cells": [
  {
   "cell_type": "markdown",
   "metadata": {},
   "source": [
    "## This notebook contains various information and trial queries of the MAST database API, tailored towards the interests of the JWQL application."
   ]
  },
  {
   "cell_type": "markdown",
   "metadata": {},
   "source": [
    "#### Available `services`"
   ]
  },
  {
   "cell_type": "markdown",
   "metadata": {},
   "source": [
    "- `Mast.Jwst.Filtered.Miri`\n",
    "- `Mast.Jwst.Filtered.Nircam`\n",
    "- `Mast.Jwst.Filtered.Niriss`\n",
    "- `Mast.Jwst.Filtered.Nirspec`\n",
    "- `Mast.Jwst.Filtered.Fgs`"
   ]
  },
  {
   "cell_type": "code",
   "execution_count": 1,
   "metadata": {
    "collapsed": true
   },
   "outputs": [],
   "source": [
    "from collections import defaultdict\n",
    "import glob\n",
    "import os\n",
    "\n",
    "from astropy.io import fits\n",
    "from astroquery.mast import Mast"
   ]
  },
  {
   "cell_type": "markdown",
   "metadata": {},
   "source": [
    "#### A very basic example of how to submit a query"
   ]
  },
  {
   "cell_type": "code",
   "execution_count": 2,
   "metadata": {
    "collapsed": true
   },
   "outputs": [],
   "source": [
    "service = \"Mast.Jwst.Filtered.Miri\"\n",
    "params = {\"columns\":\"*\",\"filters\":[]}\n",
    "response = Mast.service_request_async(service,params)\n",
    "result = response[0].json()"
   ]
  },
  {
   "cell_type": "markdown",
   "metadata": {},
   "source": [
    "#### `response` returns a list of one item of type `requests.models.Response` which can easily be converted to `json`/`dict`"
   ]
  },
  {
   "cell_type": "code",
   "execution_count": 3,
   "metadata": {
    "collapsed": false
   },
   "outputs": [
    {
     "data": {
      "text/plain": [
       "dict"
      ]
     },
     "execution_count": 3,
     "metadata": {},
     "output_type": "execute_result"
    }
   ],
   "source": [
    "type(result)"
   ]
  },
  {
   "cell_type": "code",
   "execution_count": 4,
   "metadata": {
    "collapsed": false
   },
   "outputs": [
    {
     "data": {
      "text/plain": [
       "dict_keys(['data', 'fields', 'msg', 'paging', 'status'])"
      ]
     },
     "execution_count": 4,
     "metadata": {},
     "output_type": "execute_result"
    }
   ],
   "source": [
    "result.keys()"
   ]
  },
  {
   "cell_type": "markdown",
   "metadata": {},
   "source": [
    "#### The `fields` key lists the resulting column names and their data type"
   ]
  },
  {
   "cell_type": "code",
   "execution_count": null,
   "metadata": {
    "collapsed": false
   },
   "outputs": [],
   "source": [
    "result['fields']"
   ]
  },
  {
   "cell_type": "markdown",
   "metadata": {},
   "source": [
    "#### The `data` key contains the values for each row returned from the query"
   ]
  },
  {
   "cell_type": "code",
   "execution_count": null,
   "metadata": {
    "collapsed": false
   },
   "outputs": [],
   "source": [
    "result['data']"
   ]
  },
  {
   "cell_type": "code",
   "execution_count": 7,
   "metadata": {
    "collapsed": false
   },
   "outputs": [
    {
     "data": {
      "text/plain": [
       "496"
      ]
     },
     "execution_count": 7,
     "metadata": {},
     "output_type": "execute_result"
    }
   ],
   "source": [
    "len(result['data'])"
   ]
  },
  {
   "cell_type": "markdown",
   "metadata": {},
   "source": [
    "#### Specific columns can be pulled out by iterating over `data`"
   ]
  },
  {
   "cell_type": "code",
   "execution_count": null,
   "metadata": {
    "collapsed": false
   },
   "outputs": [],
   "source": [
    "filenames = [item['filename'] for item in result['data']]\n",
    "print(filenames)"
   ]
  },
  {
   "cell_type": "code",
   "execution_count": 9,
   "metadata": {
    "collapsed": false
   },
   "outputs": [
    {
     "name": "stdout",
     "output_type": "stream",
     "text": [
      "496\n",
      "496\n"
     ]
    }
   ],
   "source": [
    "print(len(filenames))\n",
    "print(len(set(filenames)))"
   ]
  },
  {
   "cell_type": "markdown",
   "metadata": {},
   "source": [
    "#### The `status` key appears to return the status of the query"
   ]
  },
  {
   "cell_type": "code",
   "execution_count": 10,
   "metadata": {
    "collapsed": false
   },
   "outputs": [
    {
     "data": {
      "text/plain": [
       "'COMPLETE'"
      ]
     },
     "execution_count": 10,
     "metadata": {},
     "output_type": "execute_result"
    }
   ],
   "source": [
    "result['status']"
   ]
  },
  {
   "cell_type": "markdown",
   "metadata": {},
   "source": [
    "#### The `paging` key describes the amount of data returned by the query"
   ]
  },
  {
   "cell_type": "code",
   "execution_count": 11,
   "metadata": {
    "collapsed": false
   },
   "outputs": [
    {
     "data": {
      "text/plain": [
       "{'page': 1,\n",
       " 'pageSize': 50000,\n",
       " 'pagesFiltered': 1,\n",
       " 'rows': 496,\n",
       " 'rowsFiltered': 496,\n",
       " 'rowsTotal': 496}"
      ]
     },
     "execution_count": 11,
     "metadata": {},
     "output_type": "execute_result"
    }
   ],
   "source": [
    "result['paging']"
   ]
  },
  {
   "cell_type": "markdown",
   "metadata": {},
   "source": [
    "#### I'm not sure what the `msg` key stores"
   ]
  },
  {
   "cell_type": "code",
   "execution_count": 12,
   "metadata": {
    "collapsed": false
   },
   "outputs": [
    {
     "data": {
      "text/plain": [
       "''"
      ]
     },
     "execution_count": 12,
     "metadata": {},
     "output_type": "execute_result"
    }
   ],
   "source": [
    "result['msg']"
   ]
  },
  {
   "cell_type": "markdown",
   "metadata": {},
   "source": [
    "#### Testing the services for the other JWST instruments"
   ]
  },
  {
   "cell_type": "code",
   "execution_count": 13,
   "metadata": {
    "collapsed": false
   },
   "outputs": [
    {
     "name": "stdout",
     "output_type": "stream",
     "text": [
      "Mast.Jwst.Filtered.Nircam: 3027 rows\n",
      "Mast.Jwst.Filtered.Nirspec: 858 rows\n",
      "Mast.Jwst.Filtered.Niriss: 387 rows\n",
      "Mast.Jwst.Filtered.Miri: 496 rows\n",
      "Mast.Jwst.Filtered.Fgs: 152 rows\n"
     ]
    }
   ],
   "source": [
    "services = ['Mast.Jwst.Filtered.Nircam', 'Mast.Jwst.Filtered.Nirspec',\n",
    "            'Mast.Jwst.Filtered.Niriss', 'Mast.Jwst.Filtered.Miri', \n",
    "            'Mast.Jwst.Filtered.Fgs']\n",
    "for service in services:\n",
    "    params = {\"columns\":\"*\",\"filters\":[]}\n",
    "    response = Mast.service_request_async(service,params)\n",
    "    result = response[0].json()\n",
    "    print('{}: {} rows'.format(service, len(result['data'])))"
   ]
  },
  {
   "cell_type": "markdown",
   "metadata": {},
   "source": [
    "### Example Query: Find all MIRI data taken between two time intervals"
   ]
  },
  {
   "cell_type": "code",
   "execution_count": 14,
   "metadata": {
    "collapsed": true
   },
   "outputs": [],
   "source": [
    "service = \"Mast.Jwst.Filtered.Miri\"\n",
    "params = {\"columns\":\"filename, expstart\",\n",
    "          \"filters\":[{\"paramName\":\"expstart\",\n",
    "                      \"values\":[{\"min\":57404.04, \"max\":57404.07}],}]}\n",
    "response = Mast.service_request_async(service,params)\n",
    "result = response[0].json()"
   ]
  },
  {
   "cell_type": "code",
   "execution_count": 15,
   "metadata": {
    "collapsed": false
   },
   "outputs": [
    {
     "data": {
      "text/plain": [
       "[{'expstart': 57404.04476711806,\n",
       "  'filename': 'jw80600003001_02101_00001_mirimage_cal.fits'},\n",
       " {'expstart': 57404.04476711806,\n",
       "  'filename': 'jw80600003001_02101_00001_mirimage_i2d.fits'},\n",
       " {'expstart': 57404.05132637732,\n",
       "  'filename': 'jw80600004001_02101_00001_mirimage_cal.fits'},\n",
       " {'expstart': 57404.05132637732,\n",
       "  'filename': 'jw80600004001_02101_00001_mirimage_i2d.fits'},\n",
       " {'expstart': 57404.04108451065,\n",
       "  'filename': 'jw80600001001_02103_00001_mirimage_uncal.fits'},\n",
       " {'expstart': 57404.04476711806,\n",
       "  'filename': 'jw80600003001_02101_00001_mirimage_rate.fits'},\n",
       " {'expstart': 57404.04476711806,\n",
       "  'filename': 'jw80600003001_02101_00001_mirimage_rateints.fits'},\n",
       " {'expstart': 57404.05979692546,\n",
       "  'filename': 'jw80600005001_02101_00001_mirimage_uncal.fits'},\n",
       " {'expstart': 57404.05132637732,\n",
       "  'filename': 'jw80600004001_02101_00001_mirimage_rate.fits'}]"
      ]
     },
     "execution_count": 15,
     "metadata": {},
     "output_type": "execute_result"
    }
   ],
   "source": [
    "result['data']"
   ]
  },
  {
   "cell_type": "markdown",
   "metadata": {},
   "source": [
    "#### Note that this doesn't seem to be possible with `date_obs`"
   ]
  },
  {
   "cell_type": "code",
   "execution_count": 16,
   "metadata": {
    "collapsed": true
   },
   "outputs": [],
   "source": [
    "service = \"Mast.Jwst.Filtered.Miri\"\n",
    "params = {\"columns\":\"filename, date_obs\",\n",
    "          \"filters\":[{\"paramName\":\"date_obs\",\n",
    "                      \"values\":[{\"min\":'01-17-2016', \"max\":'01-18-2016'}],\n",
    "                     }]}\n",
    "response = Mast.service_request_async(service,params)\n",
    "result = response[0].json()"
   ]
  },
  {
   "cell_type": "code",
   "execution_count": 17,
   "metadata": {
    "collapsed": false
   },
   "outputs": [
    {
     "data": {
      "text/plain": [
       "496"
      ]
     },
     "execution_count": 17,
     "metadata": {},
     "output_type": "execute_result"
    }
   ],
   "source": [
    "len(result['data'])"
   ]
  },
  {
   "cell_type": "code",
   "execution_count": null,
   "metadata": {
    "collapsed": false
   },
   "outputs": [],
   "source": [
    "result['data']"
   ]
  },
  {
   "cell_type": "markdown",
   "metadata": {},
   "source": [
    "### Example Query: Which rootnames are currently proprietary?"
   ]
  },
  {
   "cell_type": "code",
   "execution_count": 19,
   "metadata": {
    "collapsed": false
   },
   "outputs": [],
   "source": [
    "service = \"Mast.Jwst.Filtered.Miri\"\n",
    "params = {\"columns\":\"filename, expstart, isRestricted, publicReleaseDate\",\n",
    "          \"filters\":[]}\n",
    "response = Mast.service_request_async(service,params)\n",
    "result = response[0].json()"
   ]
  },
  {
   "cell_type": "code",
   "execution_count": null,
   "metadata": {
    "collapsed": false
   },
   "outputs": [],
   "source": [
    "result['data']"
   ]
  },
  {
   "cell_type": "code",
   "execution_count": 21,
   "metadata": {
    "collapsed": false
   },
   "outputs": [
    {
     "name": "stdout",
     "output_type": "stream",
     "text": [
      "496\n"
     ]
    }
   ],
   "source": [
    "print(len(result['data']))"
   ]
  },
  {
   "cell_type": "markdown",
   "metadata": {},
   "source": [
    "#### Again, the `/Date` datatype seems to be unparsable"
   ]
  },
  {
   "cell_type": "markdown",
   "metadata": {},
   "source": [
    "#### What if we wanted to know this across all instruments?  It seems that five separate queries are needed"
   ]
  },
  {
   "cell_type": "code",
   "execution_count": 22,
   "metadata": {
    "collapsed": false
   },
   "outputs": [],
   "source": [
    "instruments = ['Nircam', 'Niriss', 'Nirspec', 'Miri', 'Fgs']\n",
    "services = [\"Mast.Jwst.Filtered.{}\".format(instrument) for instrument in instruments]\n",
    "results = []\n",
    "params = {\"columns\":\"filename, expstart, isRestricted, publicReleaseDate\",\n",
    "          \"filters\":[]}\n",
    "for service in services:\n",
    "    response = Mast.service_request_async(service,params)\n",
    "    result = response[0].json()\n",
    "    results.extend(result['data'])"
   ]
  },
  {
   "cell_type": "code",
   "execution_count": null,
   "metadata": {
    "collapsed": false
   },
   "outputs": [],
   "source": [
    "results"
   ]
  },
  {
   "cell_type": "code",
   "execution_count": 24,
   "metadata": {
    "collapsed": false
   },
   "outputs": [
    {
     "name": "stdout",
     "output_type": "stream",
     "text": [
      "4920\n"
     ]
    }
   ],
   "source": [
    "print(len(results))"
   ]
  },
  {
   "cell_type": "markdown",
   "metadata": {
    "collapsed": true
   },
   "source": [
    "### Example Query: How many images exist for a given NIRCam filter?"
   ]
  },
  {
   "cell_type": "code",
   "execution_count": 25,
   "metadata": {
    "collapsed": false
   },
   "outputs": [],
   "source": [
    "from collections import defaultdict\n",
    "service = \"Mast.Jwst.Filtered.Nircam\"\n",
    "params = {\"columns\":\"filename, filter\",\n",
    "          \"filters\":[{\"paramName\":\"date_obs\",\n",
    "                      \"values\":[{\"min\":'01-17-2016', \"max\":'01-18-2016'}],\n",
    "                     }]}\n",
    "response = Mast.service_request_async(service,params)\n",
    "result = response[0].json()\n",
    "results_dict = defaultdict(int)\n",
    "for item in result['data']:\n",
    "    results_dict[item['filter']] += 1"
   ]
  },
  {
   "cell_type": "code",
   "execution_count": 26,
   "metadata": {
    "collapsed": false
   },
   "outputs": [
    {
     "name": "stdout",
     "output_type": "stream",
     "text": [
      "F460M: 2\n",
      "F210M: 25\n",
      "F277W: 120\n",
      "F187N: 176\n",
      "F444W: 180\n",
      "F430M: 13\n",
      "F410M: 9\n",
      "F200W: 84\n",
      "F115W: 396\n",
      "F322W2: 67\n",
      "F070W: 318\n",
      "F356W: 111\n",
      "F212N: 493\n",
      "F360M: 5\n",
      "WLP4: 378\n",
      "F335M: 33\n",
      "F182M: 19\n",
      "F150W: 60\n",
      "UNKNOWN: 1\n",
      "F140M: 44\n",
      "F480M: 29\n",
      "None: 130\n",
      "F150W2: 112\n",
      "F300M: 5\n",
      "F090W: 217\n"
     ]
    }
   ],
   "source": [
    "for item in results_dict:\n",
    "    print('{}: {}'.format(item, results_dict[item]))"
   ]
  },
  {
   "cell_type": "markdown",
   "metadata": {},
   "source": [
    "### Determining which header keywords exist in file headers, but not the MAST database"
   ]
  },
  {
   "cell_type": "code",
   "execution_count": 27,
   "metadata": {
    "collapsed": true
   },
   "outputs": [],
   "source": [
    "test_filename = '/our/test/file/base/directory/jw00329003001_02101_00001_nrca2_rate.fits' # Note the full path is excluded for security reasons"
   ]
  },
  {
   "cell_type": "code",
   "execution_count": 28,
   "metadata": {
    "collapsed": false
   },
   "outputs": [],
   "source": [
    "# Get set of all header keywords that exist in PRIMARY and SCI extension of files\n",
    "header0_keys_fits = set(list(fits.getheader(test_filename, 0).keys()))\n",
    "header0_keys_fits = set([item.lower().replace('-', '_') for item in header0_keys_fits])\n",
    "header1_keys_fits = set(list(fits.getheader(test_filename, 1).keys()))\n",
    "header1_keys_fits = set([item.lower().replace('-', '_') for item in header1_keys_fits])\n",
    "header_keys_fits = header0_keys_fits | header1_keys_fits"
   ]
  },
  {
   "cell_type": "code",
   "execution_count": 29,
   "metadata": {
    "collapsed": true
   },
   "outputs": [],
   "source": [
    "# Get set of all keywords available in the MAST API\n",
    "service = \"Mast.Jwst.Filtered.Nircam\"\n",
    "params = {\"columns\":\"*\",\"filters\":[{\"paramName\":\"filename\",\n",
    "                          \"values\":[os.path.basename(test_filename)]}]}\n",
    "response = Mast.service_request_async(service,params)\n",
    "result = response[0].json()\n",
    "header_keys_db = set(list(result['data'][0].keys()))"
   ]
  },
  {
   "cell_type": "code",
   "execution_count": 30,
   "metadata": {
    "collapsed": false,
    "scrolled": true
   },
   "outputs": [
    {
     "data": {
      "text/plain": [
       "{'ArchiveFileID',\n",
       " 'FileSetId',\n",
       " 'FileTypeID',\n",
       " 'asnpool',\n",
       " 'asntable',\n",
       " 'bkglevel',\n",
       " 'bkgsub',\n",
       " 'checksum',\n",
       " 'dataURI',\n",
       " 'fileSetName',\n",
       " 'fileSize',\n",
       " 'ingestCompletionDate',\n",
       " 'ingestStartDate',\n",
       " 'isItar',\n",
       " 'isRestricted',\n",
       " 'isStale',\n",
       " 'nwfsest',\n",
       " 'productLevel',\n",
       " 'psfref',\n",
       " 'publicReleaseDate',\n",
       " 'pwfseet',\n",
       " 'selfref',\n",
       " 'srctype'}"
      ]
     },
     "execution_count": 30,
     "metadata": {},
     "output_type": "execute_result"
    }
   ],
   "source": [
    "# Keywords that are in the MAST API but not the FITS headers\n",
    "header_keys_db - header_keys_fits"
   ]
  },
  {
   "cell_type": "code",
   "execution_count": 31,
   "metadata": {
    "collapsed": false
   },
   "outputs": [
    {
     "data": {
      "text/plain": [
       "{'',\n",
       " 'bitpix',\n",
       " 'bunit',\n",
       " 'cal_vcs',\n",
       " 'cal_ver',\n",
       " 'cdelt1',\n",
       " 'cdelt2',\n",
       " 'comment',\n",
       " 'crds_ctx',\n",
       " 'crds_ver',\n",
       " 'crpix1',\n",
       " 'crpix2',\n",
       " 'crval1',\n",
       " 'crval2',\n",
       " 'ctype1',\n",
       " 'ctype2',\n",
       " 'cunit1',\n",
       " 'cunit2',\n",
       " 'datamodl',\n",
       " 'date_end',\n",
       " 'dec_ref',\n",
       " 'dec_v1',\n",
       " 'extend',\n",
       " 'extname',\n",
       " 'extver',\n",
       " 'gcount',\n",
       " 'naxis',\n",
       " 'naxis1',\n",
       " 'naxis2',\n",
       " 'pa_aper',\n",
       " 'pa_v3',\n",
       " 'pc1_1',\n",
       " 'pc1_2',\n",
       " 'pc2_1',\n",
       " 'pc2_2',\n",
       " 'pcount',\n",
       " 'r_dark',\n",
       " 'r_gain',\n",
       " 'r_linear',\n",
       " 'r_mask',\n",
       " 'r_persat',\n",
       " 'r_readno',\n",
       " 'r_satura',\n",
       " 'r_superb',\n",
       " 'r_trpden',\n",
       " 'r_trppar',\n",
       " 'ra_ref',\n",
       " 'ra_v1',\n",
       " 'radesys',\n",
       " 'roll_ref',\n",
       " 's_dark',\n",
       " 's_dqinit',\n",
       " 's_ganscl',\n",
       " 's_grpscl',\n",
       " 's_jump',\n",
       " 's_linear',\n",
       " 's_persis',\n",
       " 's_ramp',\n",
       " 's_refpix',\n",
       " 's_satura',\n",
       " 's_superb',\n",
       " 'simple',\n",
       " 'time_end',\n",
       " 'time_obs',\n",
       " 'v2_ref',\n",
       " 'v3_ref',\n",
       " 'v3i_yang',\n",
       " 'va_scale',\n",
       " 'vparity',\n",
       " 'wcsaxes',\n",
       " 'xtension'}"
      ]
     },
     "execution_count": 31,
     "metadata": {},
     "output_type": "execute_result"
    }
   ],
   "source": [
    "# Keywords that are in the FITS headers but not the MAST API\n",
    "header_keys_fits - header_keys_db"
   ]
  },
  {
   "cell_type": "markdown",
   "metadata": {
    "collapsed": true
   },
   "source": [
    "### Determining which header keywords exist in file headers, but not the MAST database, using set of all test files"
   ]
  },
  {
   "cell_type": "code",
   "execution_count": 32,
   "metadata": {
    "collapsed": true
   },
   "outputs": [],
   "source": [
    "local_filenames = glob.glob('/our/test/file/base/directory/*/*.fits')"
   ]
  },
  {
   "cell_type": "code",
   "execution_count": 33,
   "metadata": {
    "collapsed": true
   },
   "outputs": [],
   "source": [
    "suffixes = []\n",
    "for filename in local_filenames:\n",
    "    fileonly = os.path.split(filename)[1]\n",
    "    suff = fileonly.split('_')[-1]\n",
    "    if suff not in suffixes:\n",
    "        suffixes.append(suff)"
   ]
  },
  {
   "cell_type": "code",
   "execution_count": 34,
   "metadata": {
    "collapsed": false
   },
   "outputs": [
    {
     "data": {
      "text/plain": [
       "['uncal.fits',\n",
       " 'rate.fits',\n",
       " 'rateints.fits',\n",
       " 'dark.fits',\n",
       " 'trapsfilled.fits',\n",
       " 'i2d.fits',\n",
       " 'cal.fits',\n",
       " 'x1d.fits',\n",
       " 's2d.fits']"
      ]
     },
     "execution_count": 34,
     "metadata": {},
     "output_type": "execute_result"
    }
   ],
   "source": [
    "suffixes"
   ]
  },
  {
   "cell_type": "code",
   "execution_count": 35,
   "metadata": {
    "collapsed": true
   },
   "outputs": [],
   "source": [
    "all_filenames = [f for f in local_filenames if 'trapsfilled' not in f]"
   ]
  },
  {
   "cell_type": "code",
   "execution_count": 36,
   "metadata": {
    "collapsed": false
   },
   "outputs": [
    {
     "data": {
      "text/plain": [
       "5532"
      ]
     },
     "execution_count": 36,
     "metadata": {},
     "output_type": "execute_result"
    }
   ],
   "source": [
    "len(all_filenames)"
   ]
  },
  {
   "cell_type": "code",
   "execution_count": 37,
   "metadata": {
    "collapsed": false
   },
   "outputs": [],
   "source": [
    "all_header_keys = set()\n",
    "for infile in all_filenames:\n",
    "    # Get set of all header keywords that exist in PRIMARY and SCI extension of files\n",
    "    header0_keys_fits = set(list(fits.getheader(infile, 0).keys()))\n",
    "    header0_keys_fits = set([item.lower().replace('-', '_') for item in header0_keys_fits])\n",
    "    header1_keys_fits = set(list(fits.getheader(infile, 1).keys()))\n",
    "    header1_keys_fits = set([item.lower().replace('-', '_') for item in header1_keys_fits])\n",
    "    header_keys_fits = header0_keys_fits | header1_keys_fits\n",
    "    all_header_keys = all_header_keys | header_keys_fits"
   ]
  },
  {
   "cell_type": "code",
   "execution_count": 38,
   "metadata": {
    "collapsed": false
   },
   "outputs": [
    {
     "data": {
      "text/plain": [
       "363"
      ]
     },
     "execution_count": 38,
     "metadata": {},
     "output_type": "execute_result"
    }
   ],
   "source": [
    "len(all_header_keys)"
   ]
  },
  {
   "cell_type": "code",
   "execution_count": 39,
   "metadata": {
    "collapsed": false
   },
   "outputs": [],
   "source": [
    "# Get set of all keywords available in the MAST API across all services\n",
    "services = ['Mast.Jwst.Filtered.Nircam', 'Mast.Jwst.Filtered.Nirspec',\n",
    "            'Mast.Jwst.Filtered.Niriss', 'Mast.Jwst.Filtered.Miri', \n",
    "            'Mast.Jwst.Filtered.Fgs']\n",
    "header_keys_db = []\n",
    "for service in services:\n",
    "    params = {\"columns\":\"*\",\"filters\":[]}\n",
    "    response = Mast.service_request_async(service,params)\n",
    "    result = response[0].json()\n",
    "    header_keys_db.extend(list(result['data'][0].keys()))\n",
    "\n",
    "header_keys_db = set(header_keys_db)"
   ]
  },
  {
   "cell_type": "code",
   "execution_count": 40,
   "metadata": {
    "collapsed": false
   },
   "outputs": [
    {
     "data": {
      "text/plain": [
       "{'ArchiveFileID',\n",
       " 'FileSetId',\n",
       " 'FileTypeID',\n",
       " 'checksum',\n",
       " 'dataURI',\n",
       " 'fileSetName',\n",
       " 'fileSize',\n",
       " 'ingestCompletionDate',\n",
       " 'ingestStartDate',\n",
       " 'isItar',\n",
       " 'isRestricted',\n",
       " 'isStale',\n",
       " 'nwfsest',\n",
       " 'productLevel',\n",
       " 'publicReleaseDate',\n",
       " 'pwfseet',\n",
       " 'subpxpat'}"
      ]
     },
     "execution_count": 40,
     "metadata": {},
     "output_type": "execute_result"
    }
   ],
   "source": [
    "# Keywords that are in the MAST API but not the FITS headers\n",
    "header_keys_db - all_header_keys"
   ]
  },
  {
   "cell_type": "code",
   "execution_count": 41,
   "metadata": {
    "collapsed": false
   },
   "outputs": [
    {
     "data": {
      "text/plain": [
       "{'',\n",
       " 'bitpix',\n",
       " 'bscale',\n",
       " 'bunit',\n",
       " 'bzero',\n",
       " 'cal_vcs',\n",
       " 'cal_ver',\n",
       " 'cdelt1',\n",
       " 'cdelt2',\n",
       " 'comment',\n",
       " 'conext',\n",
       " 'crds_ctx',\n",
       " 'crds_ver',\n",
       " 'crpix1',\n",
       " 'crpix2',\n",
       " 'crval1',\n",
       " 'crval2',\n",
       " 'ctype1',\n",
       " 'ctype2',\n",
       " 'ctype3',\n",
       " 'cunit1',\n",
       " 'cunit2',\n",
       " 'cunit3',\n",
       " 'datamodl',\n",
       " 'date_end',\n",
       " 'dec_ref',\n",
       " 'dec_v1',\n",
       " 'dfval',\n",
       " 'dkern',\n",
       " 'doutun',\n",
       " 'dpixfr',\n",
       " 'dwtscl',\n",
       " 'extend',\n",
       " 'extname',\n",
       " 'extver',\n",
       " 'gcount',\n",
       " 'naxis',\n",
       " 'naxis1',\n",
       " 'naxis2',\n",
       " 'naxis3',\n",
       " 'naxis4',\n",
       " 'ndriz',\n",
       " 'nrs_norm',\n",
       " 'nrs_ref',\n",
       " 'pa_aper',\n",
       " 'pa_v3',\n",
       " 'pc1_1',\n",
       " 'pc1_2',\n",
       " 'pc2_1',\n",
       " 'pc2_2',\n",
       " 'pcount',\n",
       " 'photmjsr',\n",
       " 'photuja2',\n",
       " 'pixar_a2',\n",
       " 'pixar_sr',\n",
       " 'r_area',\n",
       " 'r_barsha',\n",
       " 'r_camera',\n",
       " 'r_collim',\n",
       " 'r_dark',\n",
       " 'r_dflat',\n",
       " 'r_disper',\n",
       " 'r_distor',\n",
       " 'r_drzpar',\n",
       " 'r_extr1d',\n",
       " 'r_fflat',\n",
       " 'r_filoff',\n",
       " 'r_flat',\n",
       " 'r_fore',\n",
       " 'r_fpa',\n",
       " 'r_gain',\n",
       " 'r_ifufor',\n",
       " 'r_ifupos',\n",
       " 'r_ifusli',\n",
       " 'r_linear',\n",
       " 'r_mask',\n",
       " 'r_msa',\n",
       " 'r_ote',\n",
       " 'r_persat',\n",
       " 'r_photom',\n",
       " 'r_pthlos',\n",
       " 'r_readno',\n",
       " 'r_refpix',\n",
       " 'r_region',\n",
       " 'r_rscd',\n",
       " 'r_satura',\n",
       " 'r_sflat',\n",
       " 'r_spcwcs',\n",
       " 'r_superb',\n",
       " 'r_trpden',\n",
       " 'r_trppar',\n",
       " 'r_v2v3',\n",
       " 'r_wavran',\n",
       " 'ra_ref',\n",
       " 'ra_v1',\n",
       " 'radesys',\n",
       " 'resbits',\n",
       " 'reswht',\n",
       " 'roll_ref',\n",
       " 's_barsha',\n",
       " 's_dark',\n",
       " 's_dqinit',\n",
       " 's_extr1d',\n",
       " 's_extr2d',\n",
       " 's_flat',\n",
       " 's_ganscl',\n",
       " 's_grpscl',\n",
       " 's_jump',\n",
       " 's_lastfr',\n",
       " 's_linear',\n",
       " 's_msaflg',\n",
       " 's_outlir',\n",
       " 's_persis',\n",
       " 's_photom',\n",
       " 's_pthlos',\n",
       " 's_ramp',\n",
       " 's_refpix',\n",
       " 's_resamp',\n",
       " 's_rscd',\n",
       " 's_satura',\n",
       " 's_srctyp',\n",
       " 's_superb',\n",
       " 's_twkreg',\n",
       " 's_wcs',\n",
       " 'sciext',\n",
       " 'shutsta',\n",
       " 'simple',\n",
       " 'slit_dec',\n",
       " 'slit_ra',\n",
       " 'slitid',\n",
       " 'sltname',\n",
       " 'sltsize1',\n",
       " 'sltsize2',\n",
       " 'sltstrt1',\n",
       " 'sltstrt2',\n",
       " 'sourceid',\n",
       " 'sporder',\n",
       " 'srcalias',\n",
       " 'srcname',\n",
       " 'srcxpos',\n",
       " 'srcypos',\n",
       " 'stlarity',\n",
       " 'texptime',\n",
       " 'tfields',\n",
       " 'tform1',\n",
       " 'tform2',\n",
       " 'tform3',\n",
       " 'tform4',\n",
       " 'tform5',\n",
       " 'tform6',\n",
       " 'tform7',\n",
       " 'tform8',\n",
       " 'time_end',\n",
       " 'time_obs',\n",
       " 'ttype1',\n",
       " 'ttype2',\n",
       " 'ttype3',\n",
       " 'ttype4',\n",
       " 'ttype5',\n",
       " 'ttype6',\n",
       " 'ttype7',\n",
       " 'ttype8',\n",
       " 'v2_ref',\n",
       " 'v3_ref',\n",
       " 'v3i_yang',\n",
       " 'va_scale',\n",
       " 'vparity',\n",
       " 'wavend',\n",
       " 'wavstart',\n",
       " 'wcsaxes',\n",
       " 'whtext',\n",
       " 'xtension'}"
      ]
     },
     "execution_count": 41,
     "metadata": {},
     "output_type": "execute_result"
    }
   ],
   "source": [
    "# Keywords that are in the FITS headers but not the MAST API\n",
    "all_header_keys - header_keys_db"
   ]
  },
  {
   "cell_type": "code",
   "execution_count": 42,
   "metadata": {
    "collapsed": false
   },
   "outputs": [
    {
     "data": {
      "text/plain": [
       "172"
      ]
     },
     "execution_count": 42,
     "metadata": {},
     "output_type": "execute_result"
    }
   ],
   "source": [
    "len(all_header_keys - header_keys_db)"
   ]
  },
  {
   "cell_type": "code",
   "execution_count": null,
   "metadata": {
    "collapsed": true
   },
   "outputs": [],
   "source": []
  }
 ],
 "metadata": {
  "anaconda-cloud": {},
  "kernelspec": {
   "display_name": "Python 2",
   "language": "python",
   "name": "python2"
  },
  "language_info": {
   "codemirror_mode": {
    "name": "ipython",
    "version": 2
   },
   "file_extension": ".py",
   "mimetype": "text/x-python",
   "name": "python",
   "nbconvert_exporter": "python",
   "pygments_lexer": "ipython2",
   "version": "2.7.13"
  }
 },
 "nbformat": 4,
 "nbformat_minor": 1
}
