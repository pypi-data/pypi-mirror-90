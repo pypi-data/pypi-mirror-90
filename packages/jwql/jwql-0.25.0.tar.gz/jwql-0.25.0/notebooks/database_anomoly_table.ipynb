{
 "cells": [
  {
   "cell_type": "markdown",
   "metadata": {},
   "source": [
    "# Populating and querying the `anomalies` table in the `jwqldb`\n",
    "This shows how to add records to the `anomalies` table in the `jwqldb`"
   ]
  },
  {
   "cell_type": "code",
   "execution_count": 3,
   "metadata": {
    "collapsed": false
   },
   "outputs": [],
   "source": [
    "# Import\n",
    "from jwql.database import database_interface as di"
   ]
  },
  {
   "cell_type": "markdown",
   "metadata": {},
   "source": [
    "Here's some dummy records to populate the `anomalies` table in the database."
   ]
  },
  {
   "cell_type": "code",
   "execution_count": 4,
   "metadata": {
    "collapsed": false
   },
   "outputs": [],
   "source": [
    "di.session.add(di.Anomaly(filename='foo1', bowtie=True))\n",
    "di.session.add(di.Anomaly(filename='foo2', bowtie=True, crosstalk=True))\n",
    "di.session.add(di.Anomaly(filename='foo3', snowball=True))\n",
    "di.session.add(di.Anomaly(filename='foo4', bowtie=True, snowball=True))\n",
    "di.session.add(di.Anomaly(filename='foo5', crosstalk=True))\n",
    "di.session.add(di.Anomaly(filename='foo6', crosstalk=True, snowball=True))\n",
    "di.session.commit()"
   ]
  },
  {
   "cell_type": "markdown",
   "metadata": {},
   "source": [
    "Now we can query the database for all records with bowtie anomalies."
   ]
  },
  {
   "cell_type": "code",
   "execution_count": 5,
   "metadata": {
    "collapsed": false
   },
   "outputs": [],
   "source": [
    "bowties = di.session.query(di.Anomaly).filter(di.Anomaly.bowtie == True)"
   ]
  },
  {
   "cell_type": "markdown",
   "metadata": {},
   "source": [
    "I added a method to return the result as a `pandas.DataFrame` for kicks."
   ]
  },
  {
   "cell_type": "code",
   "execution_count": 6,
   "metadata": {
    "collapsed": false
   },
   "outputs": [
    {
     "data": {
      "text/html": [
       "<div>\n",
       "<style scoped>\n",
       "    .dataframe tbody tr th:only-of-type {\n",
       "        vertical-align: middle;\n",
       "    }\n",
       "\n",
       "    .dataframe tbody tr th {\n",
       "        vertical-align: top;\n",
       "    }\n",
       "\n",
       "    .dataframe thead th {\n",
       "        text-align: right;\n",
       "    }\n",
       "</style>\n",
       "<table border=\"1\" class=\"dataframe\">\n",
       "  <thead>\n",
       "    <tr style=\"text-align: right;\">\n",
       "      <th></th>\n",
       "      <th>id</th>\n",
       "      <th>filename</th>\n",
       "      <th>flag_date</th>\n",
       "      <th>bowtie</th>\n",
       "      <th>snowball</th>\n",
       "      <th>cosmic_ray_shower</th>\n",
       "      <th>crosstalk</th>\n",
       "      <th>cte_correction_error</th>\n",
       "      <th>data_transfer_error</th>\n",
       "      <th>detector_ghost</th>\n",
       "      <th>...</th>\n",
       "      <th>figure8_ghost</th>\n",
       "      <th>filter_ghost</th>\n",
       "      <th>fringing</th>\n",
       "      <th>guidestar_failure</th>\n",
       "      <th>banding</th>\n",
       "      <th>persistence</th>\n",
       "      <th>prominent_blobs</th>\n",
       "      <th>trail</th>\n",
       "      <th>scattered_light</th>\n",
       "      <th>other</th>\n",
       "    </tr>\n",
       "  </thead>\n",
       "  <tbody>\n",
       "    <tr>\n",
       "      <th>0</th>\n",
       "      <td>1</td>\n",
       "      <td>foo1</td>\n",
       "      <td>2018-08-06 10:45:11.916114</td>\n",
       "      <td>True</td>\n",
       "      <td>False</td>\n",
       "      <td>False</td>\n",
       "      <td>False</td>\n",
       "      <td>False</td>\n",
       "      <td>False</td>\n",
       "      <td>False</td>\n",
       "      <td>...</td>\n",
       "      <td>False</td>\n",
       "      <td>False</td>\n",
       "      <td>False</td>\n",
       "      <td>False</td>\n",
       "      <td>False</td>\n",
       "      <td>False</td>\n",
       "      <td>False</td>\n",
       "      <td>False</td>\n",
       "      <td>False</td>\n",
       "      <td>False</td>\n",
       "    </tr>\n",
       "    <tr>\n",
       "      <th>1</th>\n",
       "      <td>2</td>\n",
       "      <td>foo1</td>\n",
       "      <td>2018-08-06 10:45:11.916114</td>\n",
       "      <td>True</td>\n",
       "      <td>False</td>\n",
       "      <td>False</td>\n",
       "      <td>False</td>\n",
       "      <td>False</td>\n",
       "      <td>False</td>\n",
       "      <td>False</td>\n",
       "      <td>...</td>\n",
       "      <td>False</td>\n",
       "      <td>False</td>\n",
       "      <td>False</td>\n",
       "      <td>False</td>\n",
       "      <td>False</td>\n",
       "      <td>False</td>\n",
       "      <td>False</td>\n",
       "      <td>False</td>\n",
       "      <td>False</td>\n",
       "      <td>False</td>\n",
       "    </tr>\n",
       "    <tr>\n",
       "      <th>2</th>\n",
       "      <td>3</td>\n",
       "      <td>foo2</td>\n",
       "      <td>2018-08-06 10:45:11.916114</td>\n",
       "      <td>True</td>\n",
       "      <td>False</td>\n",
       "      <td>False</td>\n",
       "      <td>True</td>\n",
       "      <td>False</td>\n",
       "      <td>False</td>\n",
       "      <td>False</td>\n",
       "      <td>...</td>\n",
       "      <td>False</td>\n",
       "      <td>False</td>\n",
       "      <td>False</td>\n",
       "      <td>False</td>\n",
       "      <td>False</td>\n",
       "      <td>False</td>\n",
       "      <td>False</td>\n",
       "      <td>False</td>\n",
       "      <td>False</td>\n",
       "      <td>False</td>\n",
       "    </tr>\n",
       "    <tr>\n",
       "      <th>3</th>\n",
       "      <td>5</td>\n",
       "      <td>foo4</td>\n",
       "      <td>2018-08-06 10:45:11.916114</td>\n",
       "      <td>True</td>\n",
       "      <td>True</td>\n",
       "      <td>False</td>\n",
       "      <td>False</td>\n",
       "      <td>False</td>\n",
       "      <td>False</td>\n",
       "      <td>False</td>\n",
       "      <td>...</td>\n",
       "      <td>False</td>\n",
       "      <td>False</td>\n",
       "      <td>False</td>\n",
       "      <td>False</td>\n",
       "      <td>False</td>\n",
       "      <td>False</td>\n",
       "      <td>False</td>\n",
       "      <td>False</td>\n",
       "      <td>False</td>\n",
       "      <td>False</td>\n",
       "    </tr>\n",
       "  </tbody>\n",
       "</table>\n",
       "<p>4 rows × 25 columns</p>\n",
       "</div>"
      ],
      "text/plain": [
       "   id filename                  flag_date  bowtie  snowball  \\\n",
       "0   1     foo1 2018-08-06 10:45:11.916114    True     False   \n",
       "1   2     foo1 2018-08-06 10:45:11.916114    True     False   \n",
       "2   3     foo2 2018-08-06 10:45:11.916114    True     False   \n",
       "3   5     foo4 2018-08-06 10:45:11.916114    True      True   \n",
       "\n",
       "   cosmic_ray_shower  crosstalk  cte_correction_error  data_transfer_error  \\\n",
       "0              False      False                 False                False   \n",
       "1              False      False                 False                False   \n",
       "2              False       True                 False                False   \n",
       "3              False      False                 False                False   \n",
       "\n",
       "   detector_ghost  ...    figure8_ghost  filter_ghost  fringing  \\\n",
       "0           False  ...            False         False     False   \n",
       "1           False  ...            False         False     False   \n",
       "2           False  ...            False         False     False   \n",
       "3           False  ...            False         False     False   \n",
       "\n",
       "   guidestar_failure  banding  persistence  prominent_blobs  trail  \\\n",
       "0              False    False        False            False  False   \n",
       "1              False    False        False            False  False   \n",
       "2              False    False        False            False  False   \n",
       "3              False    False        False            False  False   \n",
       "\n",
       "   scattered_light  other  \n",
       "0            False  False  \n",
       "1            False  False  \n",
       "2            False  False  \n",
       "3            False  False  \n",
       "\n",
       "[4 rows x 25 columns]"
      ]
     },
     "execution_count": 6,
     "metadata": {},
     "output_type": "execute_result"
    }
   ],
   "source": [
    "bowties.data_frame()"
   ]
  },
  {
   "cell_type": "markdown",
   "metadata": {},
   "source": [
    "And a print statement for a quick summary."
   ]
  },
  {
   "cell_type": "code",
   "execution_count": 7,
   "metadata": {
    "collapsed": false
   },
   "outputs": [
    {
     "data": {
      "text/plain": [
       "Anomaly 3: foo2 flagged at 2018-08-06 10:45:11.916114 for ['crosstalk', 'bowtie']"
      ]
     },
     "execution_count": 7,
     "metadata": {},
     "output_type": "execute_result"
    }
   ],
   "source": [
    "bowties[2]"
   ]
  },
  {
   "cell_type": "markdown",
   "metadata": {},
   "source": [
    "Here's all the columns in the `anomalies` table."
   ]
  },
  {
   "cell_type": "code",
   "execution_count": 8,
   "metadata": {
    "collapsed": false
   },
   "outputs": [
    {
     "data": {
      "text/plain": [
       "['data_transfer_error',\n",
       " 'diffraction_spike',\n",
       " 'crosstalk',\n",
       " 'trail',\n",
       " 'prominent_blobs',\n",
       " 'bowtie',\n",
       " 'scattered_light',\n",
       " 'persistence',\n",
       " 'figure8_ghost',\n",
       " 'detector_ghost',\n",
       " 'banding',\n",
       " 'other',\n",
       " 'guidestar_failure',\n",
       " 'excessive_saturation',\n",
       " 'snowball',\n",
       " 'cosmic_ray_shower',\n",
       " 'filter_ghost',\n",
       " 'dragon_breath',\n",
       " 'diamond',\n",
       " 'earth_limb',\n",
       " 'cte_correction_error',\n",
       " 'fringing']"
      ]
     },
     "execution_count": 8,
     "metadata": {},
     "output_type": "execute_result"
    }
   ],
   "source": [
    "bowties[2].colnames"
   ]
  }
 ],
 "metadata": {
  "anaconda-cloud": {},
  "kernelspec": {
   "display_name": "Python [conda env:astroconda]",
   "language": "python",
   "name": "conda-env-astroconda-py"
  },
  "language_info": {
   "codemirror_mode": {
    "name": "ipython",
    "version": 3
   },
   "file_extension": ".py",
   "mimetype": "text/x-python",
   "name": "python",
   "nbconvert_exporter": "python",
   "pygments_lexer": "ipython3",
   "version": "3.5.2"
  }
 },
 "nbformat": 4,
 "nbformat_minor": 1
}
