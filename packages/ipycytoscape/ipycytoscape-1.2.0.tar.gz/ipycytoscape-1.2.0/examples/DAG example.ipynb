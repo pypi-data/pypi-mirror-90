{
 "cells": [
  {
   "cell_type": "code",
   "execution_count": null,
   "metadata": {},
   "outputs": [],
   "source": [
    "import ipycytoscape"
   ]
  },
  {
   "cell_type": "code",
   "execution_count": null,
   "metadata": {
    "scrolled": true
   },
   "outputs": [],
   "source": [
    "import json\n",
    "with open(\"DAGData.json\") as fi:\n",
    "    json_file = json.load(fi)"
   ]
  },
  {
   "cell_type": "code",
   "execution_count": null,
   "metadata": {},
   "outputs": [],
   "source": [
    "cytoscapeobj = ipycytoscape.CytoscapeWidget()\n",
    "cytoscapeobj.graph.add_graph_from_json(json_file)"
   ]
  },
  {
   "cell_type": "code",
   "execution_count": null,
   "metadata": {},
   "outputs": [],
   "source": [
    "cytoscapeobj.set_layout(name='dagre', nodeSpacing=10, edgeLengthVal=10)\n",
    "cytoscapeobj.set_style([{\n",
    "                        'selector': 'node',\n",
    "                        'css': {\n",
    "                            'background-color': '#11479e'\n",
    "                            }\n",
    "                        },\n",
    "                        {\n",
    "                        'selector': 'node:parent',\n",
    "                        'css': {\n",
    "                            'background-opacity': 0.333\n",
    "                            }\n",
    "                        },\n",
    "                        {\n",
    "                            'selector': 'edge',\n",
    "                            'style': {\n",
    "                                'width': 4,\n",
    "                                'line-color': '#9dbaea',\n",
    "                                'target-arrow-shape': 'triangle',\n",
    "                                'target-arrow-color': '#9dbaea',\n",
    "                                'curve-style': 'bezier'\n",
    "                            }\n",
    "                        }])"
   ]
  },
  {
   "cell_type": "code",
   "execution_count": null,
   "metadata": {},
   "outputs": [],
   "source": [
    "cytoscapeobj"
   ]
  }
 ],
 "metadata": {
  "kernelspec": {
   "display_name": "Python 3",
   "language": "python",
   "name": "python3"
  },
  "language_info": {
   "codemirror_mode": {
    "name": "ipython",
    "version": 3
   },
   "file_extension": ".py",
   "mimetype": "text/x-python",
   "name": "python",
   "nbconvert_exporter": "python",
   "pygments_lexer": "ipython3",
   "version": "3.7.6"
  }
 },
 "nbformat": 4,
 "nbformat_minor": 4
}
