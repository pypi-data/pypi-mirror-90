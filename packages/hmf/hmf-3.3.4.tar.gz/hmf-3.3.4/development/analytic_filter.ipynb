{
 "cells": [
  {
   "cell_type": "markdown",
   "metadata": {},
   "source": [
    "# Analytic approx. for filters"
   ]
  },
  {
   "cell_type": "markdown",
   "metadata": {},
   "source": [
    "The aim here is to derive analytic formulae for products of the filtering, given $W(kR)$ models and (very) simple $P(k)$. These will be useful for basic testing (against known analytic solution), but also, if $P(k)$ can be set close enough to reasonable models, for checking appropriate resolution/limits for integration.\n",
    "\n",
    "Our main targets will be the mass variance:\n",
    "\n",
    "$$ \\sigma^2_n(r) = \\frac{1}{2\\pi^2} \\int_0^\\infty dk\\ k^{2(1+n)} P(k) W^2(kR), $$\n",
    "\n",
    "and the log derivative:\n",
    "\n",
    "$$ \\frac{d\\ln \\sigma^2}{d\\ln R} = \\frac{1}{\\pi^2\\sigma^2} \\int_0^\\infty W(kR) \\frac{dW(kR)}{d\\ln(kR)} P(k)k^2 dk. $$\n",
    "\n",
    "Typically we'll use a power-law for the power spectrum,\n",
    "\n",
    "$$ P(k) = k^p. $$"
   ]
  },
  {
   "cell_type": "code",
   "execution_count": 1,
   "metadata": {
    "ExecuteTime": {
     "end_time": "2016-10-20T13:11:56.086102",
     "start_time": "2016-10-20T13:11:55.724417"
    },
    "collapsed": false,
    "init_cell": true
   },
   "outputs": [
    {
     "name": "stdout",
     "output_type": "stream",
     "text": [
      "IPython console for SymPy 1.0 (Python 2.7.12-64-bit) (ground types: python)\n",
      "\n",
      "These commands were executed:\n",
      ">>> from __future__ import division\n",
      ">>> from sympy import *\n",
      ">>> x, y, z, t = symbols('x y z t')\n",
      ">>> k, m, n = symbols('k m n', integer=True)\n",
      ">>> f, g, h = symbols('f g h', cls=Function)\n",
      ">>> init_printing()\n",
      "\n",
      "Documentation can be found at http://docs.sympy.org/1.0/\n"
     ]
    }
   ],
   "source": [
    "from sympy import *\n",
    "init_session()\n",
    "p = symbols(\"p\")\n",
    "k, x, R, P = symbols('k x R P',positive=True)"
   ]
  },
  {
   "cell_type": "code",
   "execution_count": null,
   "metadata": {
    "ExecuteTime": {
     "start_time": "2016-10-20T05:11:55.727Z"
    },
    "collapsed": false,
    "init_cell": true
   },
   "outputs": [],
   "source": [
    "def sigma(W, n,p,kmin=0,kmax=1):\n",
    "    P = k**p\n",
    "    #return k**(2*(1+n)) * P * W**2/(2*pi**2)\n",
    "    integ = k**(2*(1+n)) * P * W**2/(2*pi**2)\n",
    "    integ = integ.subs(x,k*R)\n",
    "    res = integrate(integ,(k,kmin,kmax))\n",
    "    print res\n",
    "    return res\n",
    "\n",
    "def dw_dlnkr(W):\n",
    "    return x*diff(W,x)\n",
    "\n",
    "def dlnss_dlnr(W,p,kmin=0,kmax=1):\n",
    "    P = k**p\n",
    "    dwdlnx = dw_dlnkr(W)\n",
    "    integ = (W * dwdlnx * P * k**2).subs(x,k*R)\n",
    "    s = sigma(W,0,p,kmin,kmax)\n",
    "    res = integrate(integ,(k,kmin,kmax))/(pi**2*s)\n",
    "    print res\n",
    "    return res"
   ]
  },
  {
   "cell_type": "markdown",
   "metadata": {},
   "source": [
    "## TopHat"
   ]
  },
  {
   "cell_type": "markdown",
   "metadata": {},
   "source": [
    "In this case, we have \n",
    "\n",
    "$$ W(kR) = 3\\frac{\\sin x - x\\cos x}{x^3}. $$"
   ]
  },
  {
   "cell_type": "code",
   "execution_count": 3,
   "metadata": {
    "ExecuteTime": {
     "end_time": "2016-10-13T10:13:48.125487",
     "start_time": "2016-10-13T10:13:48.115409"
    },
    "collapsed": true
   },
   "outputs": [],
   "source": [
    "W = 3*(sin(x) - x*cos(x))/x**3"
   ]
  },
  {
   "cell_type": "code",
   "execution_count": 9,
   "metadata": {
    "ExecuteTime": {
     "end_time": "2016-10-13T10:32:18.871127",
     "start_time": "2016-10-13T10:32:16.875311"
    },
    "collapsed": false
   },
   "outputs": [
    {
     "name": "stdout",
     "output_type": "stream",
     "text": [
      "(9*R**2*sin(R)**2/2 + 9*R**2*cos(R)**2/2 + 9*R*sin(R)*cos(R)/2 - 9*sin(R)**2)/(2*pi**2*R**6)\n"
     ]
    },
    {
     "data": {
      "image/png": "[encoded data removed]",
      "text/latex": [
       "$$\\frac{1}{2 \\pi^{2} R^{6}} \\left(\\frac{9 R^{2}}{2} \\sin^{2}{\\left (R \\right )} + \\frac{9 R^{2}}{2} \\cos^{2}{\\left (R \\right )} + \\frac{9 R}{2} \\sin{\\left (R \\right )} \\cos{\\left (R \\right )} - 9 \\sin^{2}{\\left (R \\right )}\\right)$$"
      ],
      "text/plain": [
       "   2    2         2    2                                   \n",
       "9⋅R ⋅sin (R)   9⋅R ⋅cos (R)   9⋅R⋅sin(R)⋅cos(R)        2   \n",
       "──────────── + ──────────── + ───────────────── - 9⋅sin (R)\n",
       "     2              2                 2                    \n",
       "───────────────────────────────────────────────────────────\n",
       "                             2  6                          \n",
       "                          2⋅π ⋅R                           "
      ]
     },
     "execution_count": 9,
     "metadata": {},
     "output_type": "execute_result"
    }
   ],
   "source": [
    "sigma(W,0,2,0,1)"
   ]
  },
  {
   "cell_type": "code",
   "execution_count": 51,
   "metadata": {
    "collapsed": false
   },
   "outputs": [
    {
     "name": "stdout",
     "output_type": "stream",
     "text": [
      "(3*R**2*sin(R)**2/2 + 3*R**2*cos(R)**2/2 + 9*R*sin(R)*cos(R)/2 - 9*sin(R)**2/4 + 45*cos(R)**2/4 - 45*sin(R)*cos(R)/(4*R))/(2*pi**2*R**6)\n"
     ]
    },
    {
     "data": {
      "image/png": "[encoded data removed]",
      "text/latex": [
       "$$\\frac{1}{2 \\pi^{2} R^{6}} \\left(\\frac{3 R^{2}}{2} \\sin^{2}{\\left (R \\right )} + \\frac{3 R^{2}}{2} \\cos^{2}{\\left (R \\right )} + \\frac{9 R}{2} \\sin{\\left (R \\right )} \\cos{\\left (R \\right )} - \\frac{9}{4} \\sin^{2}{\\left (R \\right )} + \\frac{45}{4} \\cos^{2}{\\left (R \\right )} - \\frac{45}{4 R} \\sin{\\left (R \\right )} \\cos{\\left (R \\right )}\\right)$$"
      ],
      "text/plain": [
       "   2    2         2    2                               2            2         \n",
       "3⋅R ⋅sin (R)   3⋅R ⋅cos (R)   9⋅R⋅sin(R)⋅cos(R)   9⋅sin (R)   45⋅cos (R)   45⋅\n",
       "──────────── + ──────────── + ───────────────── - ───────── + ────────── - ───\n",
       "     2              2                 2               4           4           \n",
       "──────────────────────────────────────────────────────────────────────────────\n",
       "                                             2  6                             \n",
       "                                          2⋅π ⋅R                              \n",
       "\n",
       "             \n",
       "sin(R)⋅cos(R)\n",
       "─────────────\n",
       "   4⋅R       \n",
       "─────────────\n",
       "             \n",
       "             "
      ]
     },
     "execution_count": 51,
     "metadata": {},
     "output_type": "execute_result"
    }
   ],
   "source": [
    "sigma(W,1,2)"
   ]
  },
  {
   "cell_type": "markdown",
   "metadata": {},
   "source": [
    "## SharpK"
   ]
  },
  {
   "cell_type": "markdown",
   "metadata": {},
   "source": [
    "In this case, we have \n",
    "\n",
    "$$ W(kR) = \\begin{cases} 1 & kR \\geq 1 \\\\ 0 & kR < 1 \\end{cases}. $$\n",
    "\n",
    "This renders the solution very simple:\n",
    "\n",
    "$$ \\sigma^2(R) = \\frac{1}{2\\pi^2} \\int_0^{1/R} k^{2(1+n)} k^p = \\frac{1}{2\\pi^2}\\frac{1}{tR^t}, $$\n",
    "\n",
    "where $t = 2(1+n) + p + 1$.\n",
    "\n",
    "And\n",
    "\n",
    "$$ \\frac{d\\ln \\sigma^2}{d\\ln r} = \\frac{-1}{2\\pi^2 \\sigma^2 R^{3+p}}. $$ "
   ]
  },
  {
   "cell_type": "markdown",
   "metadata": {},
   "source": [
    "## Gaussian"
   ]
  },
  {
   "cell_type": "markdown",
   "metadata": {},
   "source": [
    "In this case we have \n",
    "\n",
    "$$ W(x=kR) = \\exp(-x^2/2). $$"
   ]
  },
  {
   "cell_type": "code",
   "execution_count": null,
   "metadata": {
    "ExecuteTime": {
     "start_time": "2016-10-20T05:11:22.540Z"
    },
    "collapsed": false
   },
   "outputs": [],
   "source": [
    "W = exp(-x**2/2)"
   ]
  },
  {
   "cell_type": "code",
   "execution_count": null,
   "metadata": {
    "ExecuteTime": {
     "start_time": "2016-10-20T05:11:24.322Z"
    },
    "collapsed": false
   },
   "outputs": [],
   "source": [
    "sigma(W,0,-y,0,oo)"
   ]
  },
  {
   "cell_type": "code",
   "execution_count": 91,
   "metadata": {
    "collapsed": false
   },
   "outputs": [
    {
     "name": "stdout",
     "output_type": "stream",
     "text": [
      "15/(32*pi**(3/2)*R**7)\n"
     ]
    },
    {
     "data": {
      "image/png": "[encoded data removed]",
      "text/latex": [
       "$$\\frac{15}{32 \\pi^{\\frac{3}{2}} R^{7}}$$"
      ],
      "text/plain": [
       "    15    \n",
       "──────────\n",
       "    3/2  7\n",
       "32⋅π   ⋅R "
      ]
     },
     "execution_count": 91,
     "metadata": {},
     "output_type": "execute_result"
    }
   ],
   "source": [
    "sigma(W,1,2,0,oo)"
   ]
  },
  {
   "cell_type": "code",
   "execution_count": 124,
   "metadata": {
    "collapsed": false
   },
   "outputs": [
    {
     "name": "stdout",
     "output_type": "stream",
     "text": [
      "3/(16*pi**(3/2)*R**5)\n",
      "-5\n"
     ]
    },
    {
     "data": {
      "image/png": "[encoded data removed]",
      "text/latex": [
       "$$-5$$"
      ],
      "text/plain": [
       "-5"
      ]
     },
     "execution_count": 124,
     "metadata": {},
     "output_type": "execute_result"
    }
   ],
   "source": [
    "dlnss_dlnr(W,2,0,oo)"
   ]
  }
 ],
 "metadata": {
  "anaconda-cloud": {},
  "celltoolbar": "Initialisation Cell",
  "hide_input": true,
  "kernelspec": {
   "display_name": "Python [default]",
   "language": "python",
   "name": "python2"
  },
  "language_info": {
   "codemirror_mode": {
    "name": "ipython",
    "version": 2
   },
   "file_extension": ".py",
   "mimetype": "text/x-python",
   "name": "python",
   "nbconvert_exporter": "python",
   "pygments_lexer": "ipython2",
   "version": "2.7.12"
  },
  "latex_envs": {
   "bibliofile": "biblio.bib",
   "cite_by": "apalike",
   "current_citInitial": 1,
   "eqLabelWithNumbers": true,
   "eqNumInitial": 0
  },
  "nav_menu": {},
  "toc": {
   "navigate_menu": true,
   "number_sections": true,
   "sideBar": true,
   "threshold": 6,
   "toc_cell": false,
   "toc_section_display": "block",
   "toc_window_display": true
  }
 },
 "nbformat": 4,
 "nbformat_minor": 0
}
