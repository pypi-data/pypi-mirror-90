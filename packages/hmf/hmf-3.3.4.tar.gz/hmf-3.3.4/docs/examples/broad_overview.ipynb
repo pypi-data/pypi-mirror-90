{
 "cells": [
  {
   "cell_type": "markdown",
   "metadata": {},
   "source": [
    "# Broad Overview of `hmf`"
   ]
  },
  {
   "cell_type": "markdown",
   "metadata": {},
   "source": [
    "In this tutorial/demo, we provide a broad overview of the way `hmf` works, and its features. \n",
    "For those really just needing to make a quick plot of a mass function, the best place to start is in the [Quickstart](../your_first_plot.html) tutorial. This tutorial will go into a little more depth (without exploring more advanced niche features)."
   ]
  },
  {
   "cell_type": "markdown",
   "metadata": {},
   "source": [
    "## The Package Layout"
   ]
  },
  {
   "cell_type": "markdown",
   "metadata": {},
   "source": [
    "`hmf` is quite modular, and contains a number of sub-packages concerning each of the physical components that go into defining the halo mass function:"
   ]
  },
  {
   "cell_type": "code",
   "execution_count": 1,
   "metadata": {
    "ExecuteTime": {
     "end_time": "2020-05-20T04:48:50.517186Z",
     "start_time": "2020-05-20T04:48:49.906027Z"
    }
   },
   "outputs": [],
   "source": [
    "from hmf import (\n",
    "    cosmology,      # Defines cosmographic parameters and growth functions\n",
    "    density_field,  # Defines power spectra and transfer functions, as well as window functions/filters on those\n",
    "    halos,          # Defines halo-specific forms such as mass definitions\n",
    "    mass_function   # Defines routines that combine the above to obtain halo mass functions\n",
    ")"
   ]
  },
  {
   "cell_type": "markdown",
   "metadata": {},
   "source": [
    "While each of these modules has tools that can be useful for more advanced usage, the primary point of contact with `hmf` is the `MassFunction` object, which essentially contains all the working of the full package. This lives in the `mass_function` submodule, but can be imported from the top level:"
   ]
  },
  {
   "cell_type": "code",
   "execution_count": 2,
   "metadata": {
    "ExecuteTime": {
     "end_time": "2020-05-20T04:48:50.593598Z",
     "start_time": "2020-05-20T04:48:50.590921Z"
    }
   },
   "outputs": [],
   "source": [
    "from hmf import MassFunction"
   ]
  },
  {
   "cell_type": "markdown",
   "metadata": {},
   "source": [
    "## Frameworks -- Caching and Updating"
   ]
  },
  {
   "cell_type": "markdown",
   "metadata": {},
   "source": [
    "Each main entrypoint class in `hmf` (this includes `Cosmology`, `Transfer` and `MassFunction`) is what we call a `Framework`. This name is not particularly descriptive, but it means that each of these objects offers a number of similar points of functionality. Here, we'll demonstrate a few of these bits of functionality on the `Transfer` class, but it should be remembered that they are the same for all of these."
   ]
  },
  {
   "cell_type": "code",
   "execution_count": 3,
   "metadata": {
    "ExecuteTime": {
     "end_time": "2020-05-20T04:48:53.551677Z",
     "start_time": "2020-05-20T04:48:53.547743Z"
    }
   },
   "outputs": [],
   "source": [
    "from hmf import Transfer"
   ]
  },
  {
   "cell_type": "code",
   "execution_count": 4,
   "metadata": {
    "ExecuteTime": {
     "end_time": "2020-05-20T04:48:54.384231Z",
     "start_time": "2020-05-20T04:48:54.378074Z"
    }
   },
   "outputs": [],
   "source": [
    "tr = Transfer()"
   ]
  },
  {
   "cell_type": "markdown",
   "metadata": {},
   "source": [
    "The first common point is that each of the frameworks has defaults for all of its parameters, and a reasonable object can be created by passing no parameters, as we just did.\n",
    "\n",
    "We can, like any object in Python, get some help with what parameters are available by using `help`:"
   ]
  },
  {
   "cell_type": "code",
   "execution_count": 14,
   "metadata": {
    "ExecuteTime": {
     "end_time": "2020-05-20T03:47:53.755042Z",
     "start_time": "2020-05-20T03:47:53.741694Z"
    }
   },
   "outputs": [
    {
     "name": "stdout",
     "output_type": "stream",
     "text": [
      "Help on class Transfer in module hmf.density_field.transfer:\n",
      "\n",
      "class Transfer(hmf.cosmology.cosmo.Cosmology)\n",
      " |  Transfer(sigma_8=0.8159, n=0.9667, z=0.0, lnk_min=-18.420680743952367, lnk_max=9.903487552536127, dlnk=0.05, transfer_model=<class 'hmf.density_field.transfer_models.CAMB'>, transfer_params=None, takahashi=True, growth_model=None, growth_params=None, use_splined_growth=False, **kwargs)\n",
      " |  \n",
      " |  A transfer function framework.\n",
      " |  \n",
      " |  The purpose of this :class:`hmf._frameworks.Framework` is to calculate\n",
      " |  transfer functions, power spectra and several tightly associated\n",
      " |  quantities given a basic model for the transfer function.\n",
      " |  \n",
      " |  As in all frameworks, to update parameters optimally, use the\n",
      " |  :meth:`update` method. All output quantities are calculated only when needed\n",
      " |  (but stored after first calculation for quick access).\n",
      " |  \n",
      " |  In addition to the parameters directly passed to this class, others are available\n",
      " |  which are passed on to its superclass. To read a standard documented list of (all)\n",
      " |  parameters, use ``Transfer.parameter_info()``. If you want to just see the plain\n",
      " |  list of available parameters, use ``Transfer.get_all_parameters()``.To see the\n",
      " |  actual defaults for each parameter, use ``Transfer.get_all_parameter_defaults()``.\n",
      " |  \n",
      " |  By default, the `growth_model` is :class:`~growth_factor.GrowthFactor`. However, if\n",
      " |  using a wCDM cosmology and camb is installed, it will default to\n",
      " |  :class:`~growth_factor.CambGrowth`.\n",
      " |  \n",
      " |  Method resolution order:\n",
      " |      Transfer\n",
      " |      hmf.cosmology.cosmo.Cosmology\n",
      " |      hmf._internals._framework.Framework\n",
      " |      builtins.object\n",
      " |  \n",
      " |  Methods defined here:\n",
      " |  \n",
      " |  __init__(self, sigma_8=0.8159, n=0.9667, z=0.0, lnk_min=-18.420680743952367, lnk_max=9.903487552536127, dlnk=0.05, transfer_model=<class 'hmf.density_field.transfer_models.CAMB'>, transfer_params=None, takahashi=True, growth_model=None, growth_params=None, use_splined_growth=False, **kwargs)\n",
      " |      Initialize self.  See help(type(self)) for accurate signature.\n",
      " |  \n",
      " |  ----------------------------------------------------------------------\n",
      " |  Data descriptors defined here:\n",
      " |  \n",
      " |  delta_k\n",
      " |      Dimensionless power spectrum, :math:`\\Delta_k = \\frac{k^3 P(k)}{2\\pi^2}`.\n",
      " |  \n",
      " |  dlnk\n",
      " |      **Parameter**: Step-size of log wave-numbers\n",
      " |      \n",
      " |      :type: float\n",
      " |  \n",
      " |  growth\n",
      " |      The instantiated growth model.\n",
      " |  \n",
      " |  growth_factor\n",
      " |      The growth factor.\n",
      " |  \n",
      " |  growth_model\n",
      " |      **Parameter**: The model to use to calculate the growth function/growth rate.\n",
      " |      \n",
      " |      :type: `hmf.growth_factor.GrowthFactor` subclass\n",
      " |  \n",
      " |  growth_params\n",
      " |      **Parameter**: Relevant parameters of the :attr:`growth_model`.\n",
      " |      \n",
      " |      :type: dict\n",
      " |  \n",
      " |  k\n",
      " |      Wavenumbers, [h/Mpc]\n",
      " |  \n",
      " |  lnk_max\n",
      " |      **Parameter**: Maximum (natural) log wave-number, :attr:`k` [h/Mpc].\n",
      " |      \n",
      " |      :type: float\n",
      " |  \n",
      " |  lnk_min\n",
      " |      **Parameter**: Minimum (natural) log wave-number, :attr:`k` [h/Mpc].\n",
      " |      \n",
      " |      :type: float\n",
      " |  \n",
      " |  n\n",
      " |      **Parameter**: Spectral index of fluctuations\n",
      " |      \n",
      " |      Must be greater than -3 and less than 4.\n",
      " |      \n",
      " |      :type: float\n",
      " |  \n",
      " |  nonlinear_delta_k\n",
      " |      Dimensionless nonlinear power spectrum.\n",
      " |      \n",
      " |      .. math:: \\Delta_k = \\frac{k^3 P_{\\rm nl}(k)}{2\\pi^2}\n",
      " |  \n",
      " |  nonlinear_power\n",
      " |      Non-linear log power [units :math:`Mpc^3/h^3`].\n",
      " |      \n",
      " |      Non-linear corrections come from HALOFIT.\n",
      " |  \n",
      " |  power\n",
      " |      Normalised log power spectrum [units :math:`Mpc^3/h^3`].\n",
      " |  \n",
      " |  sigma_8\n",
      " |      **Parameter**: RMS linear density fluctuations in spheres of radius 8 Mpc/h\n",
      " |      \n",
      " |      :type: float\n",
      " |  \n",
      " |  takahashi\n",
      " |      **Parameter**: Whether to use updated HALOFIT coefficients from Takahashi+12\n",
      " |      \n",
      " |      :type: bool\n",
      " |  \n",
      " |  transfer\n",
      " |      The instantiated transfer model\n",
      " |  \n",
      " |  transfer_function\n",
      " |      Normalised CDM log transfer function.\n",
      " |  \n",
      " |  transfer_model\n",
      " |      **Parameter**: Defines which transfer function model to use.\n",
      " |      \n",
      " |      Built-in available models are found in the :mod:`hmf.transfer_models` module.\n",
      " |      Default is CAMB if installed, otherwise EH.\n",
      " |      \n",
      " |      :type: str or :class:`hmf.transfer_models.TransferComponent` subclass, optional\n",
      " |  \n",
      " |  transfer_params\n",
      " |      **Parameter**: Relevant parameters of the `transfer_model`.\n",
      " |      \n",
      " |      :type: dict\n",
      " |  \n",
      " |  z\n",
      " |      **Parameter**: Redshift.\n",
      " |      \n",
      " |      Must be greater than 0.\n",
      " |      \n",
      " |      :type: float\n",
      " |  \n",
      " |  ----------------------------------------------------------------------\n",
      " |  Data descriptors inherited from hmf.cosmology.cosmo.Cosmology:\n",
      " |  \n",
      " |  cosmo\n",
      " |      Cosmographic object (:class:`astropy.cosmology.FLRW` object), with custom\n",
      " |      cosmology from :attr:`~.cosmo_params` applied.\n",
      " |  \n",
      " |  cosmo_model\n",
      " |      **Parameter**: The basis for the cosmology -- see astropy documentation. Can be a custom\n",
      " |      subclass. Defaults to Planck15.\n",
      " |      \n",
      " |      :type: instance of `astropy.cosmology.FLRW` subclass\n",
      " |  \n",
      " |  cosmo_params\n",
      " |      **Parameter**: Parameters for the cosmology that deviate from the base cosmology passed.\n",
      " |      This is useful for repeated updates of a single parameter (leaving others\n",
      " |      the same). Default is the empty dict. The parameters passed must match\n",
      " |      the allowed parameters of `cosmo_model`. For the basic class this is\n",
      " |      \n",
      " |      :Tcmb0: Temperature of the CMB at z=0\n",
      " |      :Neff: Number of massless neutrino species\n",
      " |      :m_nu: Mass of neutrino species (list)\n",
      " |      :H0: The hubble constant at z=0\n",
      " |      :Om0: The normalised matter density at z=0\n",
      " |      \n",
      " |      :type: dict\n",
      " |  \n",
      " |  mean_density0\n",
      " |      Mean density of universe at z=0, [Msun h^2 / Mpc**3]\n",
      " |  \n",
      " |  ----------------------------------------------------------------------\n",
      " |  Methods inherited from hmf._internals._framework.Framework:\n",
      " |  \n",
      " |  get_dependencies(self, *q)\n",
      " |      Determine all parameter dependencies of the quantities in q.\n",
      " |      \n",
      " |      Parameters\n",
      " |      ----------\n",
      " |      q : str\n",
      " |          String(s) labelling a quantity\n",
      " |      \n",
      " |      Returns\n",
      " |      -------\n",
      " |      deps : set\n",
      " |          A set containing all parameters on which quantities in q are dependent.\n",
      " |  \n",
      " |  update(self, **kwargs)\n",
      " |      Update parameters of the framework with kwargs.\n",
      " |  \n",
      " |  ----------------------------------------------------------------------\n",
      " |  Class methods inherited from hmf._internals._framework.Framework:\n",
      " |  \n",
      " |  get_all_parameter_defaults(recursive=True) from builtins.type\n",
      " |      Dictionary of all parameters and defaults\n",
      " |  \n",
      " |  get_all_parameter_names() from builtins.type\n",
      " |      Yield all parameter names in the class.\n",
      " |  \n",
      " |  parameter_info(names=None) from builtins.type\n",
      " |      Prints information about each parameter in the class.\n",
      " |      \n",
      " |      Optionally, restrict printed parameters to those found in the list of names provided.\n",
      " |  \n",
      " |  quantities_available() from builtins.type\n",
      " |  \n",
      " |  ----------------------------------------------------------------------\n",
      " |  Data descriptors inherited from hmf._internals._framework.Framework:\n",
      " |  \n",
      " |  __dict__\n",
      " |      dictionary for instance variables (if defined)\n",
      " |  \n",
      " |  __weakref__\n",
      " |      list of weak references to the object (if defined)\n",
      " |  \n",
      " |  parameter_values\n",
      " |      Dictionary of all parameters and their current values\n",
      "\n"
     ]
    }
   ],
   "source": [
    "help(Transfer)"
   ]
  },
  {
   "cell_type": "markdown",
   "metadata": {},
   "source": [
    "That's a lot of help! You can also consult the [API documentation](../api.html). However, since many of the parameters to `Transfer` merely get passed through to `Cosmology`, they get lost in this documentation. You can get a list of all possible parameters for a framework like this:"
   ]
  },
  {
   "cell_type": "code",
   "execution_count": 10,
   "metadata": {
    "ExecuteTime": {
     "end_time": "2020-05-20T03:40:58.937485Z",
     "start_time": "2020-05-20T03:40:58.922927Z"
    }
   },
   "outputs": [
    {
     "name": "stdout",
     "output_type": "stream",
     "text": [
      "'FlatLambdaCDM' object has no attribute '_defaults'\n"
     ]
    },
    {
     "data": {
      "text/plain": [
       "{'cosmo_model': FlatLambdaCDM(name=\"Planck15\", H0=67.7 km / (Mpc s), Om0=0.307, Tcmb0=2.725 K, Neff=3.05, m_nu=[0.   0.   0.06] eV, Ob0=0.0486),\n",
       " 'cosmo_params': {},\n",
       " 'n': 0.9667,\n",
       " 'sigma_8': 0.8159,\n",
       " 'growth_params': {'dlna': 0.01, 'amin': 1e-08},\n",
       " 'lnk_min': -18.420680743952367,\n",
       " 'lnk_max': 9.903487552536127,\n",
       " 'dlnk': 0.05,\n",
       " 'z': 0.0,\n",
       " 'transfer_model': hmf.density_field.transfer_models.CAMB,\n",
       " 'transfer_params': {'camb_params': None, 'dark_energy_params': {}},\n",
       " 'takahashi': True,\n",
       " 'growth_model': hmf.cosmology.growth_factor.GrowthFactor}"
      ]
     },
     "execution_count": 10,
     "metadata": {},
     "output_type": "execute_result"
    }
   ],
   "source": [
    "Transfer.get_all_parameter_defaults()"
   ]
  },
  {
   "cell_type": "markdown",
   "metadata": {},
   "source": [
    "Again, you can consult the API docs for information on each one, bu you can also use this special function:"
   ]
  },
  {
   "cell_type": "code",
   "execution_count": 11,
   "metadata": {
    "ExecuteTime": {
     "end_time": "2020-05-20T03:43:35.792099Z",
     "start_time": "2020-05-20T03:43:35.782674Z"
    }
   },
   "outputs": [
    {
     "name": "stdout",
     "output_type": "stream",
     "text": [
      "cosmo_model : instance of `astropy.cosmology.FLRW` subclass\n",
      "    The basis for the cosmology -- see astropy documentation. Can be a custom\n",
      "    subclass. Defaults to Planck15.\n",
      "\n",
      "cosmo_params : dict\n",
      "    Parameters for the cosmology that deviate from the base cosmology passed.\n",
      "    This is useful for repeated updates of a single parameter (leaving others\n",
      "    the same). Default is the empty dict. The parameters passed must match\n",
      "    the allowed parameters of `cosmo_model`. For the basic class this is\n",
      "    :Tcmb0: Temperature of the CMB at z=0\n",
      "    :Neff: Number of massless neutrino species\n",
      "    :m_nu: Mass of neutrino species (list)\n",
      "    :H0: The hubble constant at z=0\n",
      "    :Om0: The normalised matter density at z=0\n",
      "\n",
      "n : float\n",
      "    Spectral index of fluctuations\n",
      "    Must be greater than -3 and less than 4.\n",
      "\n",
      "sigma_8 : float\n",
      "    RMS linear density fluctuations in spheres of radius 8 Mpc/h\n",
      "\n",
      "growth_params : dict\n",
      "    Relevant parameters of the :attr:`growth_model`.\n",
      "\n",
      "lnk_min : float\n",
      "    Minimum (natural) log wave-number, :attr:`k` [h/Mpc].\n",
      "\n",
      "lnk_max : float\n",
      "    Maximum (natural) log wave-number, :attr:`k` [h/Mpc].\n",
      "\n",
      "dlnk : float\n",
      "    Step-size of log wave-numbers\n",
      "\n",
      "z : float\n",
      "    Redshift.\n",
      "    Must be greater than 0.\n",
      "\n",
      "transfer_model : str or :class:`hmf.transfer_models.TransferComponent` subclass, optional\n",
      "    Defines which transfer function model to use.\n",
      "    Built-in available models are found in the :mod:`hmf.transfer_models` module.\n",
      "    Default is CAMB if installed, otherwise EH.\n",
      "\n",
      "transfer_params : dict\n",
      "    Relevant parameters of the `transfer_model`.\n",
      "\n",
      "takahashi : bool\n",
      "    Whether to use updated HALOFIT coefficients from Takahashi+12\n",
      "\n",
      "growth_model : `hmf.growth_factor.GrowthFactor` subclass\n",
      "    The model to use to calculate the growth function/growth rate.\n",
      "\n"
     ]
    }
   ],
   "source": [
    "Transfer.parameter_info()"
   ]
  },
  {
   "cell_type": "markdown",
   "metadata": {},
   "source": [
    "Almost all of the things that a framework can calculate -- whether they be transfer functions, growth factors or mass functions -- will appear to be attributes of the object. That is, you don't \"call\" them like functions, but instead just access them like data. In fact, they are lazily calculated as needed, and then stored in memory once calculated. So, for example, let's calculate the matter power spectrum:"
   ]
  },
  {
   "cell_type": "code",
   "execution_count": 18,
   "metadata": {
    "ExecuteTime": {
     "end_time": "2020-05-20T03:51:41.167260Z",
     "start_time": "2020-05-20T03:51:38.306435Z"
    }
   },
   "outputs": [
    {
     "name": "stdout",
     "output_type": "stream",
     "text": [
      "CPU times: user 21.8 s, sys: 72 ms, total: 21.9 s\n",
      "Wall time: 2.84 s\n"
     ]
    },
    {
     "data": {
      "text/plain": [
       "25150.469248892314"
      ]
     },
     "execution_count": 18,
     "metadata": {},
     "output_type": "execute_result"
    }
   ],
   "source": [
    "%time tr.power.max()"
   ]
  },
  {
   "cell_type": "markdown",
   "metadata": {},
   "source": [
    "This took almost 3 seconds on this system, as it called `CAMB` in the background to calculate the power spectrum.\n",
    "However, it is now cached, and if we call it again:"
   ]
  },
  {
   "cell_type": "code",
   "execution_count": 19,
   "metadata": {
    "ExecuteTime": {
     "end_time": "2020-05-20T03:52:32.633400Z",
     "start_time": "2020-05-20T03:52:32.618554Z"
    }
   },
   "outputs": [
    {
     "name": "stdout",
     "output_type": "stream",
     "text": [
      "CPU times: user 149 µs, sys: 0 ns, total: 149 µs\n",
      "Wall time: 160 µs\n"
     ]
    },
    {
     "data": {
      "text/plain": [
       "25150.469248892314"
      ]
     },
     "execution_count": 19,
     "metadata": {},
     "output_type": "execute_result"
    }
   ],
   "source": [
    "%time tr.power.max()"
   ]
  },
  {
   "cell_type": "markdown",
   "metadata": {},
   "source": [
    "It takes less than 1/1000 of a second, as its just accessing memory. More than that, each (non-trivial) quantity that the power spectrum depends on is also cached, so to access the transfer function:"
   ]
  },
  {
   "cell_type": "code",
   "execution_count": 21,
   "metadata": {
    "ExecuteTime": {
     "end_time": "2020-05-20T03:54:38.006836Z",
     "start_time": "2020-05-20T03:54:37.995756Z"
    }
   },
   "outputs": [
    {
     "name": "stdout",
     "output_type": "stream",
     "text": [
      "CPU times: user 332 µs, sys: 0 ns, total: 332 µs\n",
      "Wall time: 264 µs\n"
     ]
    },
    {
     "data": {
      "text/plain": [
       "1795.3826000699812"
      ]
     },
     "execution_count": 21,
     "metadata": {},
     "output_type": "execute_result"
    }
   ],
   "source": [
    "%time tr.transfer_function.max()"
   ]
  },
  {
   "cell_type": "markdown",
   "metadata": {},
   "source": [
    "Also returns instantly. "
   ]
  },
  {
   "cell_type": "markdown",
   "metadata": {},
   "source": [
    "### Updating Parameters"
   ]
  },
  {
   "cell_type": "markdown",
   "metadata": {},
   "source": [
    "Often you'll want to compute a certain quantity over a large number of values of a given parameter (or multiple parameters). Of course, you could just create a new framework each time (eg. a `Transfer` object), but that is often going to be much slower than necessary, because often the parameter does not affect many of the underlying quantities. For instance, updating the redshift doesn't change the underlying transfer function, and the power spectrum just changes by an overall factor. \n",
    "\n",
    "Internally, each framework keeps precise track of which parameters affect each quantity, which enables robust cache invalidation -- in other words, we can keep a computed quantity cached when a parameter is updated that doesn't affect it, and when other quantities that depend on that quantity are required, they can just access it again directly. Let's see this with an example -- 20 calculations of the power spectrum at different redshifts:"
   ]
  },
  {
   "cell_type": "code",
   "execution_count": 7,
   "metadata": {
    "ExecuteTime": {
     "end_time": "2020-05-20T04:49:16.925067Z",
     "start_time": "2020-05-20T04:49:16.764042Z"
    }
   },
   "outputs": [],
   "source": [
    "import numpy as np\n",
    "%matplotlib inline\n",
    "import matplotlib.pyplot as plt"
   ]
  },
  {
   "cell_type": "code",
   "execution_count": 24,
   "metadata": {
    "ExecuteTime": {
     "end_time": "2020-05-20T04:02:27.817305Z",
     "start_time": "2020-05-20T04:02:27.809316Z"
    }
   },
   "outputs": [],
   "source": [
    "redshifts = np.random.uniform(0, 3, size=20)"
   ]
  },
  {
   "cell_type": "code",
   "execution_count": 30,
   "metadata": {
    "ExecuteTime": {
     "end_time": "2020-05-20T04:10:48.179515Z",
     "start_time": "2020-05-20T04:09:43.395542Z"
    }
   },
   "outputs": [
    {
     "name": "stdout",
     "output_type": "stream",
     "text": [
      "CPU times: user 8min 7s, sys: 1.51 s, total: 8min 8s\n",
      "Wall time: 1min 4s\n"
     ]
    },
    {
     "data": {
      "image/png": "[encoded data removed]",
      "text/plain": [
       "<Figure size 432x288 with 1 Axes>"
      ]
     },
     "metadata": {
      "needs_background": "light"
     },
     "output_type": "display_data"
    }
   ],
   "source": [
    "%%time \n",
    "\n",
    "for z in redshifts: \n",
    "    tr_ = Transfer(z=z)\n",
    "    plt.plot(tr_.k, tr_.power)\n",
    "    \n",
    "plt.xscale('log')\n",
    "plt.yscale('log');"
   ]
  },
  {
   "cell_type": "markdown",
   "metadata": {},
   "source": [
    "If instead we use our original transfer object and merely update the redshift in-place:"
   ]
  },
  {
   "cell_type": "code",
   "execution_count": 31,
   "metadata": {
    "ExecuteTime": {
     "end_time": "2020-05-20T04:10:53.070856Z",
     "start_time": "2020-05-20T04:10:52.613604Z"
    }
   },
   "outputs": [
    {
     "name": "stdout",
     "output_type": "stream",
     "text": [
      "CPU times: user 70.4 ms, sys: 2 µs, total: 70.4 ms\n",
      "Wall time: 69 ms\n"
     ]
    },
    {
     "data": {
      "image/png": "[encoded data removed]",
      "text/plain": [
       "<Figure size 432x288 with 1 Axes>"
      ]
     },
     "metadata": {
      "needs_background": "light"
     },
     "output_type": "display_data"
    }
   ],
   "source": [
    "%%time \n",
    "\n",
    "for z in redshifts: \n",
    "    tr.z=z\n",
    "    plt.plot(tr.k, tr.power)\n",
    "    \n",
    "plt.xscale('log')\n",
    "plt.yscale('log');"
   ]
  },
  {
   "cell_type": "markdown",
   "metadata": {},
   "source": [
    "See that the output plots are precisely the same -- the power spectrum is being updated for each redshift, but by using the caching mechanism we improve performance by three orders of magnitude."
   ]
  },
  {
   "cell_type": "markdown",
   "metadata": {},
   "source": [
    "You can also use the in-built `.update` method to update parameters:"
   ]
  },
  {
   "cell_type": "code",
   "execution_count": 32,
   "metadata": {
    "ExecuteTime": {
     "end_time": "2020-05-20T04:12:20.578501Z",
     "start_time": "2020-05-20T04:12:20.573100Z"
    }
   },
   "outputs": [],
   "source": [
    "tr.update(z=0)"
   ]
  },
  {
   "cell_type": "markdown",
   "metadata": {},
   "source": [
    "## Components"
   ]
  },
  {
   "cell_type": "markdown",
   "metadata": {},
   "source": [
    "Inside frameworks are a whole bunch of parameters. Some of these are simple numerical parameters, but many of them are themselves complex components tasked with computing specialized quantities. Furthermore, many of these components have various possible models that you might want to switch between. To make it easy to do so, we make each of these a formal `Component` object. Once instance of these is are the transfer function models themselves. We have been using CAMB to compute the transfer function, but a popular approximation is the Eisenstein-Hu model:"
   ]
  },
  {
   "cell_type": "code",
   "execution_count": 33,
   "metadata": {
    "ExecuteTime": {
     "end_time": "2020-05-20T04:16:40.536376Z",
     "start_time": "2020-05-20T04:16:40.532871Z"
    }
   },
   "outputs": [],
   "source": [
    "tr.transfer_model = 'EH'"
   ]
  },
  {
   "cell_type": "markdown",
   "metadata": {},
   "source": [
    "For components, you can always pass a string referring to the name of the class, or the actual class itself:"
   ]
  },
  {
   "cell_type": "code",
   "execution_count": 36,
   "metadata": {
    "ExecuteTime": {
     "end_time": "2020-05-20T04:17:53.501490Z",
     "start_time": "2020-05-20T04:17:53.497332Z"
    }
   },
   "outputs": [],
   "source": [
    "tr.transfer_model = density_field.transfer_models.EH"
   ]
  },
  {
   "cell_type": "markdown",
   "metadata": {},
   "source": [
    "The latter is useful because it gives you a lot of flexibility -- you could write your own class and pass it in! For more on that, see [Plugins and Extensions](../plugins_and_extending.html).\n",
    "\n",
    "All formal Components within `hmf` are passed to a framework via the `componentname_model` parameter. So Filters are passed as `filter_model`. The actual model instance (the thing that will do the calculations) is then available within the framework as as the component name:"
   ]
  },
  {
   "cell_type": "code",
   "execution_count": 37,
   "metadata": {
    "ExecuteTime": {
     "end_time": "2020-05-20T04:20:21.250767Z",
     "start_time": "2020-05-20T04:20:21.241153Z"
    }
   },
   "outputs": [
    {
     "data": {
      "text/plain": [
       "<hmf.density_field.transfer_models.EH at 0x7f0e3dbfd128>"
      ]
     },
     "execution_count": 37,
     "metadata": {},
     "output_type": "execute_result"
    }
   ],
   "source": [
    "tr.transfer"
   ]
  },
  {
   "cell_type": "markdown",
   "metadata": {},
   "source": [
    "With this, we can compute a bunch of stuff, like the (log) transfer function:"
   ]
  },
  {
   "cell_type": "code",
   "execution_count": 38,
   "metadata": {
    "ExecuteTime": {
     "end_time": "2020-05-20T04:20:57.884074Z",
     "start_time": "2020-05-20T04:20:57.874971Z"
    }
   },
   "outputs": [
    {
     "data": {
      "text/plain": [
       "array([-5.37333591, -5.55483193, -5.73752989, -5.92138382, -6.10634082,\n",
       "       -6.29236711, -6.47942002, -6.66745701, -6.85644227, -7.04633679])"
      ]
     },
     "execution_count": 38,
     "metadata": {},
     "output_type": "execute_result"
    }
   ],
   "source": [
    "tr.transfer.lnt(np.linspace(0,1,10))"
   ]
  },
  {
   "cell_type": "markdown",
   "metadata": {},
   "source": [
    "This is of course what is used to generate the transfer function accessible in the `Transfer` framework. But sometimes there are other goodies hidden away in the components that can be useful!"
   ]
  },
  {
   "cell_type": "markdown",
   "metadata": {},
   "source": [
    "To update parameters of the components requires passing a dictionary of parameters to the parameter `componentname_params`. For example, the growth function is a component:"
   ]
  },
  {
   "cell_type": "code",
   "execution_count": 45,
   "metadata": {
    "ExecuteTime": {
     "end_time": "2020-05-20T04:25:05.763829Z",
     "start_time": "2020-05-20T04:25:05.755394Z"
    }
   },
   "outputs": [
    {
     "data": {
      "text/plain": [
       "hmf.cosmology.growth_factor.GrowthFactor"
      ]
     },
     "execution_count": 45,
     "metadata": {},
     "output_type": "execute_result"
    }
   ],
   "source": [
    "tr.growth_model"
   ]
  },
  {
   "cell_type": "markdown",
   "metadata": {},
   "source": [
    "We can update its params like so:"
   ]
  },
  {
   "cell_type": "code",
   "execution_count": 55,
   "metadata": {
    "ExecuteTime": {
     "end_time": "2020-05-20T04:27:42.480823Z",
     "start_time": "2020-05-20T04:27:42.474988Z"
    }
   },
   "outputs": [],
   "source": [
    "tr.growth_params = {'dlna': 1}  # By default it is 0.01"
   ]
  },
  {
   "cell_type": "markdown",
   "metadata": {},
   "source": [
    "Let's compute the growth factor:"
   ]
  },
  {
   "cell_type": "code",
   "execution_count": 56,
   "metadata": {
    "ExecuteTime": {
     "end_time": "2020-05-20T04:27:43.483881Z",
     "start_time": "2020-05-20T04:27:43.473967Z"
    }
   },
   "outputs": [
    {
     "data": {
      "text/plain": [
       "0.10511507074207022"
      ]
     },
     "execution_count": 56,
     "metadata": {},
     "output_type": "execute_result"
    }
   ],
   "source": [
    "tr.growth.growth_factor(z=10)"
   ]
  },
  {
   "cell_type": "markdown",
   "metadata": {},
   "source": [
    "Now update back to the original"
   ]
  },
  {
   "cell_type": "code",
   "execution_count": 57,
   "metadata": {
    "ExecuteTime": {
     "end_time": "2020-05-20T04:27:47.562230Z",
     "start_time": "2020-05-20T04:27:47.554877Z"
    }
   },
   "outputs": [],
   "source": [
    "tr.growth_params = {\"dlna\": 0.01}"
   ]
  },
  {
   "cell_type": "code",
   "execution_count": 58,
   "metadata": {
    "ExecuteTime": {
     "end_time": "2020-05-20T04:27:48.080916Z",
     "start_time": "2020-05-20T04:27:48.073360Z"
    }
   },
   "outputs": [
    {
     "data": {
      "text/plain": [
       "0.11528461396801504"
      ]
     },
     "execution_count": 58,
     "metadata": {},
     "output_type": "execute_result"
    }
   ],
   "source": [
    "tr.growth.growth_factor(z=10)"
   ]
  },
  {
   "cell_type": "markdown",
   "metadata": {},
   "source": [
    "Another example of a Component is the cosmology, and you can see the [Dealing with Cosmology](../deal_with_cosmology.html) tutorial for more details there -- but it follows the same pattern."
   ]
  },
  {
   "cell_type": "markdown",
   "metadata": {},
   "source": [
    "A full list of the available components in `hmf` is as follows:\n",
    "\n",
    "* `Cosmology`\n",
    "* `GrowthFactor`\n",
    "* `TransferModel`\n",
    "* `Filter`\n",
    "* `MassDefinition`\n",
    "* `FittingFunction`\n",
    "\n",
    "And each of these has several models."
   ]
  },
  {
   "cell_type": "markdown",
   "metadata": {},
   "source": [
    "## Using `hmf` Efficiently"
   ]
  },
  {
   "cell_type": "markdown",
   "metadata": {},
   "source": [
    "We have already discussed caching and how it speeds up many calculations very significantly. However, it is only useful if used correctly. Let's say you want to calculate the transfer function for multiple values of both $\\Omega_m$ and the redshift $z$. Then to get the speedup, you must use the faster updater as the inner loop, otherwise the object still needs to compute the slower update many times. \n",
    "\n",
    "In this case, the redshift should be the inner loop, since $\\Omega_m$ affects the basic transfer function, which is typically the slowest calculation of all. Much of the time, the relevant order of parameters should be clear, but you can determine them explicitly using a helper function:"
   ]
  },
  {
   "cell_type": "code",
   "execution_count": 59,
   "metadata": {
    "ExecuteTime": {
     "end_time": "2020-05-20T04:36:38.147314Z",
     "start_time": "2020-05-20T04:36:38.141738Z"
    }
   },
   "outputs": [],
   "source": [
    "from hmf import get_best_param_order"
   ]
  },
  {
   "cell_type": "code",
   "execution_count": 60,
   "metadata": {
    "ExecuteTime": {
     "end_time": "2020-05-20T04:37:21.330867Z",
     "start_time": "2020-05-20T04:37:18.399922Z"
    }
   },
   "outputs": [
    {
     "data": {
      "text/plain": [
       "['takahashi',\n",
       " 'z',\n",
       " 'growth_model',\n",
       " 'growth_params',\n",
       " 'sigma_8',\n",
       " 'n',\n",
       " 'transfer_params',\n",
       " 'transfer_model',\n",
       " 'dlnk',\n",
       " 'lnk_max',\n",
       " 'lnk_min',\n",
       " 'cosmo_params',\n",
       " 'cosmo_model']"
      ]
     },
     "execution_count": 60,
     "metadata": {},
     "output_type": "execute_result"
    }
   ],
   "source": [
    "get_best_param_order(Transfer, q='power')"
   ]
  },
  {
   "cell_type": "markdown",
   "metadata": {},
   "source": [
    "This call should be interpreted as determining the best order for calculating the `power` in the `Transfer` framework, and the output is in order of fastest to slowest. We see, for example, that `cosmo_params` (where $\\Omega_m$ lives) is far down the list compared to redshift. "
   ]
  },
  {
   "cell_type": "markdown",
   "metadata": {},
   "source": [
    "You can go even further than that and use another helper function to \"just get\" the output quantities over the loop for you:"
   ]
  },
  {
   "cell_type": "code",
   "execution_count": 5,
   "metadata": {
    "ExecuteTime": {
     "end_time": "2020-05-20T04:48:59.670583Z",
     "start_time": "2020-05-20T04:48:59.667144Z"
    }
   },
   "outputs": [],
   "source": [
    "from hmf import get_hmf"
   ]
  },
  {
   "cell_type": "code",
   "execution_count": 8,
   "metadata": {
    "ExecuteTime": {
     "end_time": "2020-05-20T04:49:30.025294Z",
     "start_time": "2020-05-20T04:49:19.915703Z"
    }
   },
   "outputs": [
    {
     "name": "stdout",
     "output_type": "stream",
     "text": [
      "{'Om0': 0.3} 0.0\n",
      "{'Om0': 0.3} 1.0\n",
      "{'Om0': 0.3} 2.0\n",
      "{'Om0': 0.3} 3.0\n",
      "{'Om0': 0.3} 4.0\n",
      "{'Om0': 0.3} 5.0\n",
      "{'Om0': 0.2} 0.0\n",
      "{'Om0': 0.2} 1.0\n",
      "{'Om0': 0.2} 2.0\n",
      "{'Om0': 0.2} 3.0\n",
      "{'Om0': 0.2} 4.0\n",
      "{'Om0': 0.2} 5.0\n",
      "{'Om0': 0.4} 0.0\n",
      "{'Om0': 0.4} 1.0\n",
      "{'Om0': 0.4} 2.0\n",
      "{'Om0': 0.4} 3.0\n",
      "{'Om0': 0.4} 4.0\n",
      "{'Om0': 0.4} 5.0\n"
     ]
    },
    {
     "data": {
      "image/png": "[encoded data removed]",
      "text/plain": [
       "<Figure size 432x288 with 1 Axes>"
      ]
     },
     "metadata": {
      "needs_background": "light"
     },
     "output_type": "display_data"
    }
   ],
   "source": [
    "for power, tr, label in get_hmf(req_qauntities=['power'], \n",
    "                                framework=Transfer, \n",
    "                                fast_kwargs={\"transfer_model\": \"EH\"},\n",
    "                               z=[0,1,2,3,4,5],\n",
    "                               cosmo_params = [{'Om0': 0.3}, {'Om0': 0.2}, {'Om0': 0.4}]):\n",
    "    print(tr.cosmo_params, tr.z)\n",
    "    plt.plot(tr.k, tr.power)\n",
    "    \n",
    "plt.xscale(\"log\")\n",
    "plt.yscale('log')"
   ]
  },
  {
   "cell_type": "markdown",
   "metadata": {},
   "source": [
    "Technically, the `get_hmf` function is an iterator, yielding the quantities you ask for (and the full Framework object updated with parameters) on each iteration, but doing it in the optimal order."
   ]
  }
 ],
 "metadata": {
  "kernelspec": {
   "display_name": "Python [conda env:hmf]",
   "language": "python",
   "name": "conda-env-hmf-py"
  },
  "language_info": {
   "codemirror_mode": {
    "name": "ipython",
    "version": 3
   },
   "file_extension": ".py",
   "mimetype": "text/x-python",
   "name": "python",
   "nbconvert_exporter": "python",
   "pygments_lexer": "ipython3",
   "version": "3.7.0"
  },
  "latex_envs": {
   "LaTeX_envs_menu_present": true,
   "autoclose": true,
   "autocomplete": true,
   "bibliofile": "biblio.bib",
   "cite_by": "apalike",
   "current_citInitial": 1,
   "eqLabelWithNumbers": true,
   "eqNumInitial": 1,
   "hotkeys": {
    "equation": "Ctrl-E",
    "itemize": "Ctrl-I"
   },
   "labels_anchors": false,
   "latex_user_defs": false,
   "report_style_numbering": false,
   "user_envs_cfg": false
  },
  "toc": {
   "base_numbering": 1,
   "nav_menu": {},
   "number_sections": true,
   "sideBar": true,
   "skip_h1_title": false,
   "title_cell": "Table of Contents",
   "title_sidebar": "Contents",
   "toc_cell": false,
   "toc_position": {},
   "toc_section_display": true,
   "toc_window_display": false
  }
 },
 "nbformat": 4,
 "nbformat_minor": 4
}
