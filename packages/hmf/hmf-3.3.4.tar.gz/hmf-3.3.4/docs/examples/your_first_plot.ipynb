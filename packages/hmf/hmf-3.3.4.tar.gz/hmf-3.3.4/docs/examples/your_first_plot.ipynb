{
 "cells": [
  {
   "cell_type": "markdown",
   "metadata": {},
   "source": [
    "# Your first plot"
   ]
  },
  {
   "cell_type": "markdown",
   "metadata": {},
   "source": [
    "There are many options and outputs available in `hmf`, and you can find more details of those in other tutorials or even the API documentation. In this tutorial however, we'll just show how to create a HMF with the most commonly required options. For those unfamiliar with Python, we'll also give a concrete example of how to make a plot with this data.\n",
    "\n",
    "First, we need to import the relevant libraries:"
   ]
  },
  {
   "cell_type": "code",
   "execution_count": 1,
   "metadata": {
    "ExecuteTime": {
     "end_time": "2020-05-20T02:59:51.220133Z",
     "start_time": "2020-05-20T02:59:50.543793Z"
    }
   },
   "outputs": [],
   "source": [
    "from hmf import MassFunction     # The main hmf class\n",
    "import matplotlib.pyplot as plt  # The necessary plotting library\n",
    "import numpy as np               # Numerical array library\n",
    "\n",
    "# This just serves to render plots inline in the notebook. Do not use in a script.\n",
    "%matplotlib inline               "
   ]
  },
  {
   "cell_type": "markdown",
   "metadata": {},
   "source": [
    "It may be worth mentioning before even constructing a `MassFunction` object, that we can see all possible options and parameters to the class, with their defaults, in the following way:"
   ]
  },
  {
   "cell_type": "code",
   "execution_count": 2,
   "metadata": {
    "ExecuteTime": {
     "end_time": "2020-05-20T03:00:11.142160Z",
     "start_time": "2020-05-20T03:00:11.135005Z"
    },
    "scrolled": true
   },
   "outputs": [
    {
     "data": {
      "text/plain": [
       "{'cosmo_model': FlatLambdaCDM(name=\"Planck15\", H0=67.7 km / (Mpc s), Om0=0.307, Tcmb0=2.725 K, Neff=3.05, m_nu=[0.   0.   0.06] eV, Ob0=0.0486),\n",
       " 'cosmo_params': {},\n",
       " 'n': 0.9667,\n",
       " 'sigma_8': 0.8159,\n",
       " 'growth_params': {},\n",
       " 'lnk_min': -18.420680743952367,\n",
       " 'lnk_max': 9.903487552536127,\n",
       " 'dlnk': 0.05,\n",
       " 'z': 0.0,\n",
       " 'transfer_model': hmf.density_field.transfer_models.CAMB,\n",
       " 'transfer_params': {},\n",
       " 'takahashi': True,\n",
       " 'growth_model': hmf.cosmology.growth_factor.GrowthFactor,\n",
       " 'hmf_model': hmf.mass_function.fitting_functions.Tinker08,\n",
       " 'Mmin': 10,\n",
       " 'Mmax': 15,\n",
       " 'dlog10m': 0.01,\n",
       " 'mdef_model': None,\n",
       " 'mdef_params': {},\n",
       " 'delta_c': 1.686,\n",
       " 'hmf_params': {},\n",
       " 'filter_model': hmf.density_field.filters.TopHat,\n",
       " 'filter_params': {}}"
      ]
     },
     "execution_count": 2,
     "metadata": {},
     "output_type": "execute_result"
    }
   ],
   "source": [
    "MassFunction.get_all_parameter_defaults(recursive=False)"
   ]
  },
  {
   "cell_type": "markdown",
   "metadata": {},
   "source": [
    "Furthermore, if it is unclear what some of these parameters refer to, one can use the following helpful method to find out:"
   ]
  },
  {
   "cell_type": "code",
   "execution_count": 3,
   "metadata": {
    "ExecuteTime": {
     "end_time": "2020-05-20T03:00:27.448302Z",
     "start_time": "2020-05-20T03:00:27.444192Z"
    }
   },
   "outputs": [
    {
     "name": "stdout",
     "output_type": "stream",
     "text": [
      "cosmo_model : instance of `astropy.cosmology.FLRW` subclass\n",
      "    The basis for the cosmology -- see astropy documentation. Can be a custom\n",
      "    subclass. Defaults to Planck15.\n",
      "\n",
      "sigma_8 : float\n",
      "    RMS linear density fluctuations in spheres of radius 8 Mpc/h\n",
      "\n"
     ]
    }
   ],
   "source": [
    "MassFunction.parameter_info([\"cosmo_model\",\"sigma_8\"])  #The parameter names passed filter the output. Call with no parameters to get info on all of them."
   ]
  },
  {
   "cell_type": "markdown",
   "metadata": {},
   "source": [
    "Since everything has a default, we can easily just create our object with no arguments:"
   ]
  },
  {
   "cell_type": "code",
   "execution_count": 4,
   "metadata": {
    "ExecuteTime": {
     "end_time": "2020-05-20T03:00:47.808346Z",
     "start_time": "2020-05-20T03:00:47.799981Z"
    }
   },
   "outputs": [],
   "source": [
    "mf = MassFunction()"
   ]
  },
  {
   "cell_type": "markdown",
   "metadata": {
    "ExecuteTime": {
     "end_time": "2016-12-12T10:33:27.854397",
     "start_time": "2016-12-12T10:33:27.838120"
    }
   },
   "source": [
    "The `mf` object now contains all the information it needs to calculate different quantities on demand. If you are using IPython or a notebook, then you can use tab-completion to find out what quantities are available (or you can consult the [API documentation](../api.html)). Otherwise, you can print a list of available quantities using the following:"
   ]
  },
  {
   "cell_type": "code",
   "execution_count": 8,
   "metadata": {
    "ExecuteTime": {
     "end_time": "2016-12-12T10:47:17.900768",
     "start_time": "2016-12-12T10:47:17.886592"
    }
   },
   "outputs": [
    {
     "name": "stdout",
     "output_type": "stream",
     "text": [
      "['M', '_dlnsdlnm', '_gtm', '_normalisation', '_power0', '_sigma_0', '_transfer', '_unn_sig8', '_unn_sigma0', '_unnormalised_lnT', '_unnormalised_power', 'cosmo', 'delta_halo', 'delta_k', 'dndlnm', 'dndlog10m', 'dndm', 'filter', 'fsigma', 'growth', 'growth_factor', 'hmf', 'how_big', 'k', 'lnsigma', 'm', 'mass_nonlinear', 'mean_density', 'mean_density0', 'n_eff', 'ngtm', 'nonlinear_delta_k', 'nonlinear_power', 'nu', 'power', 'radii', 'rho_gtm', 'rho_ltm', 'sigma', 'transfer']\n"
     ]
    }
   ],
   "source": [
    "print mf.quantities_available()"
   ]
  },
  {
   "cell_type": "markdown",
   "metadata": {
    "ExecuteTime": {
     "end_time": "2016-12-12T10:21:38.970643",
     "start_time": "2016-12-12T10:21:38.967761"
    }
   },
   "source": [
    "The typical user might want to plot say mass vs. dn/dm, and this is most simply achieved by using matplotlib:"
   ]
  },
  {
   "cell_type": "code",
   "execution_count": 6,
   "metadata": {
    "ExecuteTime": {
     "end_time": "2020-05-20T03:04:07.519876Z",
     "start_time": "2020-05-20T03:04:06.941560Z"
    }
   },
   "outputs": [
    {
     "data": {
      "image/png": "[encoded data removed]",
      "text/plain": [
       "<Figure size 432x288 with 1 Axes>"
      ]
     },
     "metadata": {
      "needs_background": "light"
     },
     "output_type": "display_data"
    }
   ],
   "source": [
    "plt.plot(mf.m,mf.dndm)\n",
    "plt.xscale('log')\n",
    "plt.yscale('log')\n",
    "\n",
    "plt.xlabel(r\"Mass, $[h^{-1}M_\\odot]$\")\n",
    "plt.ylabel(r\"$dn/dm$, $[h^{4}{\\rm Mpc}^{-3}M_\\odot^{-1}]$\");"
   ]
  },
  {
   "cell_type": "markdown",
   "metadata": {},
   "source": [
    "Each quantity is saved as a `numpy` array, and so they can be directly written to file or otherwise manipulated.\n",
    "\n",
    "The most common things one might wish to change are the cosmology, redshift and fitting function. We show how to choose different values for these below. Note that each is modified by passing it as a parameter to the constructor, where the the parameter name is the same as that printed by the `get_all_parameter_defaults1` method used above. "
   ]
  },
  {
   "cell_type": "code",
   "execution_count": 7,
   "metadata": {
    "ExecuteTime": {
     "end_time": "2020-05-20T03:04:30.021361Z",
     "start_time": "2020-05-20T03:04:30.013762Z"
    }
   },
   "outputs": [],
   "source": [
    "mf = MassFunction(z = 1.0,                  # Redshift of 1.0\n",
    "                  cosmo_params={\"Om0\":0.3}, # Matter density of 0.3\n",
    "                  hmf_model=\"PS\")           # Press-Schechter fitting function"
   ]
  },
  {
   "cell_type": "markdown",
   "metadata": {},
   "source": [
    "Again we can plot the resulting mass function -- this time let's plot $f(\\sigma)$ vs. $\\sigma$:"
   ]
  },
  {
   "cell_type": "code",
   "execution_count": 9,
   "metadata": {
    "ExecuteTime": {
     "end_time": "2020-05-20T03:04:51.756367Z",
     "start_time": "2020-05-20T03:04:51.604941Z"
    }
   },
   "outputs": [
    {
     "data": {
      "image/png": "[encoded data removed]",
      "text/plain": [
       "<Figure size 432x288 with 1 Axes>"
      ]
     },
     "metadata": {
      "needs_background": "light"
     },
     "output_type": "display_data"
    }
   ],
   "source": [
    "plt.plot(mf.sigma, mf.fsigma)\n",
    "\n",
    "plt.xlabel(r\"$\\sigma(m)$\")\n",
    "plt.ylabel(r\"Press-Schechter $f(\\sigma)$\");"
   ]
  },
  {
   "cell_type": "markdown",
   "metadata": {},
   "source": [
    "A word of warning concerning cosmological models -- the structure parameters $\\sigma_8$ and the spectral index $n_s$ are not given to the `cosmo_params` dictionary, but rather passed directly to the `MassFunction` constructor. For further information see the [cosmological parameter tutorial](../deal_with_cosmology.html).\n",
    "\n",
    "Of final note is the updating system (see the [Broad Overview Tutorial](../broad_overview.html) for more information). Commonly, we would like to cycle through a range of values of a given parameter, and calculate the mass function for each them. The best (i.e. fastest) way to do this is to use `update`, like so:"
   ]
  },
  {
   "cell_type": "code",
   "execution_count": 11,
   "metadata": {
    "ExecuteTime": {
     "end_time": "2020-05-20T03:07:40.411067Z",
     "start_time": "2020-05-20T03:07:36.611709Z"
    }
   },
   "outputs": [
    {
     "data": {
      "image/png": "[encoded data removed]",
      "text/plain": [
       "<Figure size 432x288 with 1 Axes>"
      ]
     },
     "metadata": {
      "needs_background": "light"
     },
     "output_type": "display_data"
    }
   ],
   "source": [
    "mf = MassFunction(cosmo_model=\"WMAP5\") # Note how to set all cosmological parameters (except sigma_8 and n) to a given common cosmology\n",
    "\n",
    "for z in np.linspace(0,1,100):\n",
    "    mf.update(z=z)\n",
    "    plt.plot(mf.m,mf.dndm,color=\"darkblue\",alpha=1-z)\n",
    "    \n",
    "plt.xscale('log')\n",
    "plt.yscale('log')\n",
    "\n",
    "plt.xlabel(r\"Mass, $[h^{-1}M_\\odot]$\")\n",
    "plt.ylabel(r\"$dn/dm$, $[h^{4}{\\rm Mpc}^{-3}M_\\odot^{-1}]$\");"
   ]
  }
 ],
 "metadata": {
  "anaconda-cloud": {},
  "kernelspec": {
   "display_name": "Python [conda env:hmf]",
   "language": "python",
   "name": "conda-env-hmf-py"
  },
  "language_info": {
   "codemirror_mode": {
    "name": "ipython",
    "version": 3
   },
   "file_extension": ".py",
   "mimetype": "text/x-python",
   "name": "python",
   "nbconvert_exporter": "python",
   "pygments_lexer": "ipython3",
   "version": "3.7.0"
  },
  "latex_envs": {
   "LaTeX_envs_menu_present": true,
   "autoclose": true,
   "autocomplete": true,
   "bibliofile": "biblio.bib",
   "cite_by": "apalike",
   "current_citInitial": 1,
   "eqLabelWithNumbers": true,
   "eqNumInitial": 0,
   "hotkeys": {
    "equation": "Ctrl-E",
    "itemize": "Ctrl-I"
   },
   "labels_anchors": false,
   "latex_user_defs": false,
   "report_style_numbering": false,
   "user_envs_cfg": false
  },
  "nav_menu": {},
  "toc": {
   "base_numbering": 1,
   "nav_menu": {},
   "number_sections": true,
   "sideBar": true,
   "skip_h1_title": false,
   "title_cell": "Table of Contents",
   "title_sidebar": "Contents",
   "toc_cell": false,
   "toc_position": {},
   "toc_section_display": "block",
   "toc_window_display": true
  }
 },
 "nbformat": 4,
 "nbformat_minor": 1
}
