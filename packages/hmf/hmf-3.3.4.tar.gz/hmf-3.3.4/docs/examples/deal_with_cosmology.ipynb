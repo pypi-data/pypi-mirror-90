{
 "cells": [
  {
   "cell_type": "markdown",
   "metadata": {},
   "source": [
    "# Dealing with Cosmological Models"
   ]
  },
  {
   "cell_type": "markdown",
   "metadata": {},
   "source": [
    "``hmf`` uses the robust ``astropy`` cosmology framework to deal with cosmological models. This provides a range of cosmographic functionality for free. \n",
    "\n",
    "Cosmological models are the most basic ``Framework`` within ``hmf``. Every other ``Framework`` depends on it. So knowing how to specify the models is important (but very simple!)."
   ]
  },
  {
   "cell_type": "code",
   "execution_count": 7,
   "metadata": {
    "collapsed": false
   },
   "outputs": [],
   "source": [
    "from hmf import cosmo\n",
    "%matplotlib inline\n",
    "import matplotlib.pyplot as plt\n",
    "import numpy as np"
   ]
  },
  {
   "cell_type": "markdown",
   "metadata": {},
   "source": [
    "## Default Settings"
   ]
  },
  {
   "cell_type": "markdown",
   "metadata": {},
   "source": [
    "Like everything in ``hmf``, the ``Cosmology`` framework has all parameters specified with defaults. In this case, there are only two parameters -- a base cosmological model, and a dictionary of cosmological parameters with which to alter it. By default, the cosmological model is a Flat LambdaCDM model infused with the Planck15 parameters. The dictionary is empty, so we don't modify anything:"
   ]
  },
  {
   "cell_type": "code",
   "execution_count": 2,
   "metadata": {
    "collapsed": true
   },
   "outputs": [],
   "source": [
    "my_cosmo = cosmo.Cosmology()"
   ]
  },
  {
   "cell_type": "markdown",
   "metadata": {},
   "source": [
    "The intrinsic ``astropy`` object is found as the ``cosmo`` attribute of the class we just created. Beware, there is also a ``cosmo_model`` attribute, which should only be treated as a parameter, never used in calculations. It has not been supplemented with any custom parameters. We can check out the parameters defined within the model:"
   ]
  },
  {
   "cell_type": "code",
   "execution_count": 6,
   "metadata": {
    "collapsed": false
   },
   "outputs": [
    {
     "name": "stdout",
     "output_type": "stream",
     "text": [
      "Matter density:  0.3075\n",
      "Hubble constant:  67.74 km / (Mpc s)\n",
      "Dark Energy density:  0.691009934459\n",
      "Baryon density:  0.0486\n",
      "Curvature density:  0.0\n"
     ]
    }
   ],
   "source": [
    "print \"Matter density: \", my_cosmo.cosmo.Om0\n",
    "print \"Hubble constant: \", my_cosmo.cosmo.H0\n",
    "print \"Dark Energy density: \", my_cosmo.cosmo.Ode0\n",
    "print \"Baryon density: \",  my_cosmo.cosmo.Ob0\n",
    "print \"Curvature density: \", my_cosmo.cosmo.Ok0"
   ]
  },
  {
   "cell_type": "markdown",
   "metadata": {},
   "source": [
    "Or we can check out some cosmographic quantities, like the comoving distance as a function of redshift:"
   ]
  },
  {
   "cell_type": "code",
   "execution_count": 9,
   "metadata": {
    "collapsed": false
   },
   "outputs": [
    {
     "data": {
      "text/plain": [
       "<matplotlib.text.Text at 0x7fa3b8b94a10>"
      ]
     },
     "execution_count": 9,
     "metadata": {},
     "output_type": "execute_result"
    },
    {
     "data": {
      "image/png": "[encoded data removed]",
      "text/plain": [
       "<matplotlib.figure.Figure at 0x7fa3b8b94fd0>"
      ]
     },
     "metadata": {},
     "output_type": "display_data"
    }
   ],
   "source": [
    "z = np.linspace(0,8,100)\n",
    "plt.plot(z,my_cosmo.cosmo.comoving_distance(z))\n",
    "plt.ylabel(\"Comoving Distance, [Mpc]\")\n",
    "plt.xlabel(\"Redshift\")"
   ]
  },
  {
   "cell_type": "markdown",
   "metadata": {},
   "source": [
    "## Passing a cosmological model"
   ]
  },
  {
   "cell_type": "markdown",
   "metadata": {},
   "source": [
    "The ``cosmo`` module contains several pre-made instances of cosmologies which might be useful, which we can input as our default model: "
   ]
  },
  {
   "cell_type": "code",
   "execution_count": 11,
   "metadata": {
    "collapsed": false
   },
   "outputs": [
    {
     "name": "stdout",
     "output_type": "stream",
     "text": [
      "WMAP5 baryon density:  0.0459\n"
     ]
    }
   ],
   "source": [
    "my_cosmo = cosmo.Cosmology(cosmo_model=cosmo.WMAP5)\n",
    "\n",
    "print \"WMAP5 baryon density: \", my_cosmo.cosmo.Ob0"
   ]
  },
  {
   "cell_type": "markdown",
   "metadata": {},
   "source": [
    "Alternatively, we can create our own. The ``astropy`` package contains the basic tools to do this. To create a standard Flat LambdaCDM cosmology:"
   ]
  },
  {
   "cell_type": "code",
   "execution_count": 13,
   "metadata": {
    "collapsed": true
   },
   "outputs": [],
   "source": [
    "from astropy.cosmology import FlatLambdaCDM\n",
    "new_model = FlatLambdaCDM(H0 = 75.0, Om0=0.4, Tcmb0 = 5.0, Ob0 = 0.3)"
   ]
  },
  {
   "cell_type": "markdown",
   "metadata": {},
   "source": [
    "This new model can be used as input to the ``Cosmology`` class:"
   ]
  },
  {
   "cell_type": "code",
   "execution_count": 15,
   "metadata": {
    "collapsed": false
   },
   "outputs": [
    {
     "name": "stdout",
     "output_type": "stream",
     "text": [
      "Crazy cosmology baryon density:  0.3\n"
     ]
    }
   ],
   "source": [
    "my_cosmo = cosmo.Cosmology(cosmo_model = new_model)\n",
    "print \"Crazy cosmology baryon density: \", my_cosmo.cosmo.Ob0"
   ]
  },
  {
   "cell_type": "markdown",
   "metadata": {},
   "source": [
    "The ``cosmo_model`` needn't be a Flat LambdaCDM. It can be any subclass of FLRW. Thus we could use a non-flat model:"
   ]
  },
  {
   "cell_type": "code",
   "execution_count": 18,
   "metadata": {
    "collapsed": false
   },
   "outputs": [
    {
     "name": "stdout",
     "output_type": "stream",
     "text": [
      "Crazy cosmology curvature density:  0.2\n"
     ]
    }
   ],
   "source": [
    "from astropy.cosmology import LambdaCDM\n",
    "new_model = LambdaCDM(H0 = 75.0, Om0=0.4, Tcmb0 = 0.0, Ob0 = 0.3, Ode0=0.4)\n",
    "\n",
    "my_cosmo = cosmo.Cosmology(cosmo_model = new_model)\n",
    "print \"Crazy cosmology curvature density: \", my_cosmo.cosmo.Ok0"
   ]
  },
  {
   "cell_type": "markdown",
   "metadata": {},
   "source": [
    "## Passing custom parameters"
   ]
  },
  {
   "cell_type": "markdown",
   "metadata": {},
   "source": [
    "Instead of passing a pre-made cosmological model, you can pass custom parameters for the default model. This is passed as a dictionary, in which each entry is a valid parameter for the model that has been passed (i.e., if the model is a FlatLambdaCDM, you can't pass ``Ode0``!). This means you can specify the cosmology you want typically in one line, rather than a few. It also means that parameters can be updated in a standard way, so that iterating over parameters, in applications such as fitting models, becomes simple.\n",
    "\n",
    "When passing the dictionary of parameters, you don't need to specify them all, just whichever ones you want to modify:"
   ]
  },
  {
   "cell_type": "code",
   "execution_count": 19,
   "metadata": {
    "collapsed": false
   },
   "outputs": [
    {
     "name": "stdout",
     "output_type": "stream",
     "text": [
      "Custom cosmology matter density:  0.2\n"
     ]
    }
   ],
   "source": [
    "my_cosmo = cosmo.Cosmology(cosmo_params={\"Om0\":0.2})\n",
    "print \"Custom cosmology matter density: \", my_cosmo.cosmo.Om0"
   ]
  },
  {
   "cell_type": "markdown",
   "metadata": {},
   "source": [
    "New parameters are available for extended cosmological models:"
   ]
  },
  {
   "cell_type": "code",
   "execution_count": 20,
   "metadata": {
    "collapsed": false
   },
   "outputs": [
    {
     "name": "stdout",
     "output_type": "stream",
     "text": [
      "Custom cosmology curvature density:  0.8\n"
     ]
    }
   ],
   "source": [
    "my_cosmo = cosmo.Cosmology(new_model,{\"Om0\":0.2,\"Ode0\":0.0,\"Ob0\":0.2})\n",
    "print \"Custom cosmology curvature density: \", my_cosmo.cosmo.Ok0"
   ]
  },
  {
   "cell_type": "markdown",
   "metadata": {},
   "source": [
    "## Updating parameters"
   ]
  },
  {
   "cell_type": "markdown",
   "metadata": {},
   "source": [
    "One of the great things about ``hmf`` Frameworks is that any parameter can be updated without re-creating the entire object. This is also true of the ``Cosmology`` class.\n",
    "\n",
    "Any parameter passed to the constructor may also be updated:"
   ]
  },
  {
   "cell_type": "code",
   "execution_count": 21,
   "metadata": {
    "collapsed": false
   },
   "outputs": [
    {
     "name": "stdout",
     "output_type": "stream",
     "text": [
      "Custom cosmology curvature density:  0.8\n"
     ]
    }
   ],
   "source": [
    "my_cosmo = cosmo.Cosmology(new_model)\n",
    "my_cosmo.update(cosmo_params={\"Om0\":0.2,\"Ode0\":0.0,\"Ob0\":0.2})\n",
    "print \"Custom cosmology curvature density: \", my_cosmo.cosmo.Ok0"
   ]
  },
  {
   "cell_type": "markdown",
   "metadata": {},
   "source": [
    "The parameter dictionary is persistent, so that updating a different parameter doesn't affect the others:"
   ]
  },
  {
   "cell_type": "code",
   "execution_count": 23,
   "metadata": {
    "collapsed": false
   },
   "outputs": [
    {
     "name": "stdout",
     "output_type": "stream",
     "text": [
      "Custom cosmology curvature density:  0.8\n",
      "Custom parameters:  {'H0': 10.0, 'Om0': 0.2, 'Ode0': 0.0, 'Ob0': 0.2}\n"
     ]
    }
   ],
   "source": [
    "my_cosmo.update(cosmo_params={\"H0\":10.0})\n",
    "print \"Custom cosmology curvature density: \", my_cosmo.cosmo.Ok0\n",
    "print \"Custom parameters: \", my_cosmo.cosmo_params"
   ]
  },
  {
   "cell_type": "markdown",
   "metadata": {},
   "source": [
    "Of course, if we were to update the model to a Flat Lambda CDM model, then the ``Ode0`` keyword would give an error. To facilitate this, passing an empty dictionary clears all custom values:"
   ]
  },
  {
   "cell_type": "code",
   "execution_count": 24,
   "metadata": {
    "collapsed": false
   },
   "outputs": [
    {
     "name": "stdout",
     "output_type": "stream",
     "text": [
      "Flat cosmology curvature density:  0.0\n"
     ]
    }
   ],
   "source": [
    "my_cosmo.update(cosmo_model=cosmo.Planck13,cosmo_params={})\n",
    "print \"Flat cosmology curvature density: \", my_cosmo.cosmo.Ok0"
   ]
  },
  {
   "cell_type": "markdown",
   "metadata": {},
   "source": [
    "In effect, this gives us an easy way to track changes induced by a cosmological variable:"
   ]
  },
  {
   "cell_type": "code",
   "execution_count": 25,
   "metadata": {
    "collapsed": false
   },
   "outputs": [
    {
     "data": {
      "image/png": "[encoded data removed]",
      "text/plain": [
       "<matplotlib.figure.Figure at 0x7fa3bafbf3d0>"
      ]
     },
     "metadata": {},
     "output_type": "display_data"
    }
   ],
   "source": [
    "for Om0 in np.linspace(0.2,0.4,7):\n",
    "    my_cosmo.update(cosmo_params={\"Om0\":Om0})\n",
    "    plt.plot(z,my_cosmo.cosmo.comoving_distance(z),label=\"%s\"%Om0)\n",
    "_ = plt.legend(loc=0)"
   ]
  }
 ],
 "metadata": {
  "hide_input": true,
  "kernelspec": {
   "display_name": "Python [default]",
   "language": "python",
   "name": "python2"
  },
  "language_info": {
   "codemirror_mode": {
    "name": "ipython",
    "version": 2
   },
   "file_extension": ".py",
   "mimetype": "text/x-python",
   "name": "python",
   "nbconvert_exporter": "python",
   "pygments_lexer": "ipython2",
   "version": "2.7.13"
  },
  "latex_envs": {
   "bibliofile": "biblio.bib",
   "cite_by": "apalike",
   "current_citInitial": 1.0,
   "eqLabelWithNumbers": true,
   "eqNumInitial": 0.0
  },
  "nav_menu": {},
  "toc": {
   "navigate_menu": true,
   "number_sections": true,
   "sideBar": true,
   "threshold": 6.0,
   "toc_cell": false,
   "toc_section_display": "block",
   "toc_window_display": true
  }
 },
 "nbformat": 4,
 "nbformat_minor": 0
}
