{
 "cells": [
  {
   "cell_type": "markdown",
   "metadata": {
    "collapsed": true
   },
   "source": [
    "# Mass Definitions"
   ]
  },
  {
   "cell_type": "markdown",
   "metadata": {},
   "source": [
    "``hmf``, as of v3.1, provides a simple way of converting between halo mass definitions, which serves two basic purposes:\n",
    "\n",
    "1. the mass of a halo in one definition can be converted to its appropriate mass under another definition\n",
    "2. the halo mass function can be converted between mass definitions."
   ]
  },
  {
   "cell_type": "markdown",
   "metadata": {},
   "source": [
    "## Introduction\n",
    "\n",
    "By \"mass definition\" we mean the way the extent of a halo is defined. In ``hmf``, we support two main kinds of definition, which themselves can contain different models. In brief, ``hmf`` supports Friends-of-Friends (FoF) halos, which are defined via their linking length, $b$, and spherical-overdensity (SO) halos, which are defined by two criteria: an overdensity $\\Delta_h$, and an indicator of what that overdensity is with respect to (usually mean background density $\\rho_m$, or critical density $\\rho_c$). In addition to being able to provide a precise overdensity for a SO halo, ``hmf`` provides a way to use the so-called \"virial\" overdensity, as defined in Bryan and Norman (1998). \n",
    "\n",
    "Converting between SO mass definitions is relatively simple: given a halo profile and concentration for the given halo mass, determine the concentration required to make that profile contain the desired density, and then compute the mass of the halo under such a concentration. \n",
    "\n",
    "There is no clear way to perform such a conversion for FoF halos. Nevertheless, if one assumes that all linked particles are the same mass, and that halos are spherical and singular isothermal spheres (cf. White (2001)), one can approximate an FoF halo by an SO halo of density $9 \\rho_m /(2\\pi b^3)$. ``hmf`` will make this approximation if a conversion between mass definitions is desired."
   ]
  },
  {
   "cell_type": "markdown",
   "metadata": {},
   "source": [
    "## Changing Mass Definitions"
   ]
  },
  {
   "cell_type": "markdown",
   "metadata": {},
   "source": [
    "Most of the functionality concerning mass definitions is defined in the ``hmf.halos.mass_definitions`` module: "
   ]
  },
  {
   "cell_type": "code",
   "execution_count": 1,
   "metadata": {
    "init_cell": true
   },
   "outputs": [
    {
     "name": "stdout",
     "output_type": "stream",
     "text": [
      "Using hmf version v3.0.2\n"
     ]
    }
   ],
   "source": [
    "import hmf\n",
    "from hmf.halos import mass_definitions as md\n",
    "\n",
    "print(\"Using hmf version v%s\"%hmf.__version__)"
   ]
  },
  {
   "cell_type": "markdown",
   "metadata": {},
   "source": [
    "While we're at it, import matplotlib and co:"
   ]
  },
  {
   "cell_type": "code",
   "execution_count": 2,
   "metadata": {
    "init_cell": true
   },
   "outputs": [],
   "source": [
    "import matplotlib.pyplot as plt\n",
    "%matplotlib inline\n",
    "import inspect"
   ]
  },
  {
   "cell_type": "markdown",
   "metadata": {},
   "source": [
    "Different mass definitions exist inside the ``mass_definitions`` module as ``Components``. All definitions are subclassed from the abstract ``MassDefinition`` class:"
   ]
  },
  {
   "cell_type": "code",
   "execution_count": 3,
   "metadata": {
    "scrolled": true
   },
   "outputs": [
    {
     "data": {
      "text/plain": [
       "[hmf.halos.mass_definitions.FOF,\n",
       " hmf.halos.mass_definitions.MassDefinition,\n",
       " hmf.halos.mass_definitions.SOCritical,\n",
       " hmf.halos.mass_definitions.SOMean,\n",
       " hmf.halos.mass_definitions.SOVirial,\n",
       " hmf.halos.mass_definitions.SphericalOverdensity]"
      ]
     },
     "execution_count": 3,
     "metadata": {},
     "output_type": "execute_result"
    }
   ],
   "source": [
    "[x[1] for x in inspect.getmembers(md, inspect.isclass) if issubclass(x[1], md.MassDefinition)]"
   ]
  },
  {
   "cell_type": "markdown",
   "metadata": {},
   "source": [
    "### The Mass Definition Component"
   ]
  },
  {
   "cell_type": "markdown",
   "metadata": {},
   "source": [
    "To create an instance of any class, optional ``cosmo`` and ``z`` arguments can be specified. By default, these are the ``Planck15`` cosmology at redshift 0. We'll leave them as default for this example. Let's define two mass definitions, both spherical-overdensity definitions with respect to the mean background density:"
   ]
  },
  {
   "cell_type": "code",
   "execution_count": 4,
   "metadata": {},
   "outputs": [],
   "source": [
    "mdef_1 = md.SOMean(overdensity=200)\n",
    "mdef_2 = md.SOMean(overdensity=500)"
   ]
  },
  {
   "cell_type": "markdown",
   "metadata": {},
   "source": [
    "Each mass definition has its own ``model_parameters``, which define the exact overdensity. For both the ``SOMean`` and ``SOCritical`` definitions, the ``overdensity`` can be provided, as above (default is 200). This must be passed as a named argument. For the ``FOF`` definition, the ``linking_length`` can be passed (default 0.2). For the ``SOVirial``, no parameters are available. Available parameters and their defaults can be checked the same way as *any* ``Component`` within ``hmf``:"
   ]
  },
  {
   "cell_type": "code",
   "execution_count": 5,
   "metadata": {},
   "outputs": [
    {
     "data": {
      "text/plain": [
       "{'overdensity': 200}"
      ]
     },
     "execution_count": 5,
     "metadata": {},
     "output_type": "execute_result"
    }
   ],
   "source": [
    "md.SOMean._defaults"
   ]
  },
  {
   "cell_type": "markdown",
   "metadata": {},
   "source": [
    "The explicit halo density for a given mass definition can be accessed:"
   ]
  },
  {
   "cell_type": "code",
   "execution_count": 6,
   "metadata": {},
   "outputs": [
    {
     "data": {
      "text/plain": [
       "(17068502575484.857, 200.0)"
      ]
     },
     "execution_count": 6,
     "metadata": {},
     "output_type": "execute_result"
    }
   ],
   "source": [
    "mdef_1.halo_density, mdef_1.halo_density/mdef_1.mean_density"
   ]
  },
  {
   "cell_type": "markdown",
   "metadata": {},
   "source": [
    "### Converting Masses"
   ]
  },
  {
   "cell_type": "markdown",
   "metadata": {},
   "source": [
    "To convert a mass in one definition to a mass in another, use the following:"
   ]
  },
  {
   "cell_type": "code",
   "execution_count": 7,
   "metadata": {},
   "outputs": [
    {
     "name": "stdout",
     "output_type": "stream",
     "text": [
      "Mass in new definition is 0.76 x 10^12 Msun / h\n",
      "Radius of halo in new definition is 0.16 Mpc/h\n",
      "Concentration of halo in new definition is 4.81\n"
     ]
    }
   ],
   "source": [
    "mnew, rnew, cnew = mdef_1.change_definition(m=1e12, mdef=mdef_2)\n",
    "print(\"Mass in new definition is %.2f x 10^12 Msun / h\"%(mnew/1e12))\n",
    "print(\"Radius of halo in new definition is %.2f Mpc/h\"%rnew)\n",
    "print(\"Concentration of halo in new definition is %.2f\"%cnew)"
   ]
  },
  {
   "cell_type": "markdown",
   "metadata": {},
   "source": [
    "The input mass argument can be a list or array of masses also. To convert between masses, the concentration of the input halos, and their density profile, must be known. By default, an NFW profile is assumed, with a concentration-mass relation from Duffy et al. (2008).\n",
    "\n",
    "One can alternatively pass a concentration directly:"
   ]
  },
  {
   "cell_type": "code",
   "execution_count": 8,
   "metadata": {},
   "outputs": [
    {
     "name": "stdout",
     "output_type": "stream",
     "text": [
      "Mass in new definition is 0.72 x 10^12 Msun / h\n",
      "Radius of halo in new definition is 0.16 Mpc/h\n",
      "Concentration of halo in new definition is 3.31\n"
     ]
    }
   ],
   "source": [
    "mnew, rnew, cnew = mdef_1.change_definition(m=1e12, mdef=mdef_2, c = 5.0)\n",
    "print(\"Mass in new definition is %.2f x 10^12 Msun / h\"%(mnew/1e12))\n",
    "print(\"Radius of halo in new definition is %.2f Mpc/h\"%rnew)\n",
    "print(\"Concentration of halo in new definition is %.2f\"%cnew)"
   ]
  },
  {
   "cell_type": "markdown",
   "metadata": {},
   "source": [
    "If you have ``halomod`` installed, you can also pass any ``halomod.profiles.Profile`` instance (which itself includes a concentration-mass relation) as the ``profile`` argument."
   ]
  },
  {
   "cell_type": "markdown",
   "metadata": {},
   "source": [
    "### Converting Mass Functions"
   ]
  },
  {
   "cell_type": "markdown",
   "metadata": {},
   "source": [
    "All halo mass function fits are measured using halos found using some halo definition. While some fits explicitly include a parameterization for the spherical overdensity of the halo (eg. ``Tinker08`` and ``Watson``), others do not.\n",
    "\n",
    "By passing a mass definition to the ``MassFunction`` constructor, ``hmf`` will attempt to convert the mass function defined by the chosen fitting function to the appropriate mass definition, by solving\n",
    "\n",
    "\\begin{equation}\n",
    "    \\int_\\infty^{m_{\\rm old}} dm\\ \\  n(m) = \\int_\\infty^{m_{\\rm new}(m_{\\rm old})} dm\\ \\  n'(m)\n",
    "\\end{equation}\n",
    "\n",
    "for $n'(m)$, resulting in\n",
    "\n",
    "\\begin{equation}\n",
    "    n'(m) = n(m_{\\rm old}(m_{\\rm new}))\\left(\\frac{dm_{\\rm new}}{d m_{\\rm old}}\\right)^{-1}.\n",
    "\\end{equation}\n",
    "\n",
    "By default, the mass definition is ``None``, which turns off all mass conversion and uses whatever mass definition was employed by the chosen fit. This keeps all existing code running as it was previously. Nevertheless, care should be taken here: many of the different fits have different mass definitions, and should not be compared without some form of mass conversion. To see the mass definition intrinsic to the measurement of each fit, use the following:"
   ]
  },
  {
   "cell_type": "code",
   "execution_count": 9,
   "metadata": {
    "init_cell": true
   },
   "outputs": [],
   "source": [
    "from hmf.mass_function.fitting_functions import SMT, Tinker08, Jenkins"
   ]
  },
  {
   "cell_type": "code",
   "execution_count": 10,
   "metadata": {},
   "outputs": [
    {
     "name": "stdout",
     "output_type": "stream",
     "text": [
      "SO vir\n",
      "SO *\n",
      "FoF 0.2\n"
     ]
    }
   ],
   "source": [
    "print(SMT.sim_definition.halo_finder_type, SMT.sim_definition.halo_overdensity)\n",
    "print(Tinker08.sim_definition.halo_finder_type, Tinker08.sim_definition.halo_overdensity)\n",
    "print(Jenkins.sim_definition.halo_finder_type, Jenkins.sim_definition.halo_overdensity)\n"
   ]
  },
  {
   "cell_type": "markdown",
   "metadata": {},
   "source": [
    "Here \"vir\" corresponds to the virial definition of Bryan and Norman (1998), an asterisk indicates that the fit is itself parameterized for SO mass definitions, and 0.2 is the FoF linking length.\n",
    "\n",
    "Let's convert the mass definition of ``Tinker08``, which has an intrinsic parameterization:"
   ]
  },
  {
   "cell_type": "code",
   "execution_count": 21,
   "metadata": {},
   "outputs": [
    {
     "data": {
      "image/png": "[encoded data removed]",
      "text/plain": [
       "<Figure size 432x288 with 1 Axes>"
      ]
     },
     "metadata": {},
     "output_type": "display_data"
    }
   ],
   "source": [
    "# Default mass function object\n",
    "mf = hmf.MassFunction()\n",
    "\n",
    "dndm0 = mf.dndm\n",
    "\n",
    "# Change the mass definition to 300rho_mean\n",
    "mf.update(\n",
    "    mdef_model  = \"SOMean\", \n",
    "    mdef_params = {\n",
    "        \"overdensity\": 300 \n",
    "    }\n",
    ")\n",
    "\n",
    "plt.plot(mf.m, mf.dndm/dndm0, label=r\"300 $\\rho_m$\", lw=3)\n",
    "\n",
    "# Change the mass definition to 500rho_crit\n",
    "mf.update(\n",
    "    mdef_model  = \"SOCritical\", \n",
    "    mdef_params = {\n",
    "        \"overdensity\": 500 \n",
    "    }\n",
    ")\n",
    "\n",
    "plt.plot(mf.m, mf.dndm/dndm0, label=r\"500 $\\rho_c$\", lw=3)\n",
    "\n",
    "plt.xscale('log')\n",
    "plt.yscale('log')\n",
    "plt.xlabel(r\"Mass, $M_\\odot/h$\", fontsize=15)\n",
    "plt.ylabel(r\"Ratio of $dn/dm$ to $200 \\rho_m$\", fontsize=15)\n",
    "plt.grid(True)\n",
    "plt.legend();"
   ]
  },
  {
   "cell_type": "markdown",
   "metadata": {},
   "source": [
    "This did not require any internal conversion. Let's try converting a fit that has no explicit parameterization for overdensity:"
   ]
  },
  {
   "cell_type": "code",
   "execution_count": 27,
   "metadata": {},
   "outputs": [
    {
     "name": "stdout",
     "output_type": "stream",
     "text": [
      "332.2445055922226 0.0\n",
      "300\n"
     ]
    },
    {
     "data": {
      "image/png": "[encoded data removed]",
      "text/plain": [
       "<Figure size 432x288 with 1 Axes>"
      ]
     },
     "metadata": {},
     "output_type": "display_data"
    }
   ],
   "source": [
    "# Default mass function object.\n",
    "mf = hmf.MassFunction(hmf_model = \"SMT\", Mmax=15)\n",
    "dndm0 = mf.dndm\n",
    "\n",
    "# Change the mass definition to 300rho_mean\n",
    "mf.update(\n",
    "    mdef_model  = \"SOMean\", \n",
    "    mdef_params = {\n",
    "        \"overdensity\": 300 \n",
    "    }\n",
    ")\n",
    "plt.plot(mf.m, mf.dndm/dndm0, label=r\"300 $\\rho_m$\", lw=3)\n",
    "\n",
    "\n",
    "# Change the mass definition to 500rho_crit\n",
    "mf.update(\n",
    "    mdef_model  = \"SOCritical\", \n",
    "    mdef_params = {\n",
    "        \"overdensity\": 500 \n",
    "    }\n",
    ")\n",
    "plt.plot(mf.m, mf.dndm/dndm0, label=r\"500 $\\rho_c$\", lw=3)\n",
    "\n",
    "plt.xscale('log')\n",
    "plt.yscale('log')\n",
    "plt.xlabel(r\"Mass, $M_\\odot/h$\", fontsize=15)\n",
    "plt.ylabel(r\"Ratio of $dn/dm$ to virial\", fontsize=15)\n",
    "plt.grid(True)\n",
    "plt.legend();"
   ]
  },
  {
   "cell_type": "markdown",
   "metadata": {},
   "source": [
    "Here, the measured mass function uses \"virial\" halos, which have an overdensity of ~330$\\rho_m$, so that converting to 300$\\rho_m$ is a down-conversion of density. Finally, we convert a FoF mass function:"
   ]
  },
  {
   "cell_type": "code",
   "execution_count": 33,
   "metadata": {},
   "outputs": [
    {
     "data": {
      "image/png": "[encoded data removed]",
      "text/plain": [
       "<Figure size 432x288 with 1 Axes>"
      ]
     },
     "metadata": {},
     "output_type": "display_data"
    }
   ],
   "source": [
    "# Default mass function object.\n",
    "mf = hmf.MassFunction(hmf_model = \"Jenkins\")\n",
    "dndm0 = mf.dndm\n",
    "\n",
    "# Change the mass definition to 300rho_mean\n",
    "mf.update(\n",
    "    mdef_model  = \"FOF\", \n",
    "    mdef_params = {\n",
    "        \"linking_length\": 0.3 \n",
    "    }\n",
    ")\n",
    "plt.plot(mf.m, mf.dndm/dndm0, label=r\"FoF $b=0.3$\", lw=3)\n",
    "\n",
    "\n",
    "# Change the mass definition to 500rho_crit\n",
    "mf.update(\n",
    "    mdef_model  = \"SOVirial\",\n",
    "    mdef_params = {}   # NOTE: we need to pass an empty dict here \n",
    "                       # so that the \"linking_length\" argument is removed.\n",
    ")\n",
    "plt.plot(mf.m, mf.dndm/dndm0, label=r\"SO Virial\", lw=3)\n",
    "\n",
    "plt.xscale('log')\n",
    "plt.yscale('log')\n",
    "plt.xlabel(r\"Mass, $M_\\odot/h$\", fontsize=15)\n",
    "plt.ylabel(r\"Ratio of $dn/dm$ to FoF $b=0.2$\", fontsize=15)\n",
    "plt.grid(True)\n",
    "plt.legend();"
   ]
  }
 ],
 "metadata": {
  "celltoolbar": "Initialization Cell",
  "kernelspec": {
   "display_name": "Python [conda env:hmf]",
   "language": "python",
   "name": "conda-env-hmf-py"
  },
  "language_info": {
   "codemirror_mode": {
    "name": "ipython",
    "version": 3
   },
   "file_extension": ".py",
   "mimetype": "text/x-python",
   "name": "python",
   "nbconvert_exporter": "python",
   "pygments_lexer": "ipython3",
   "version": "3.6.5"
  },
  "latex_envs": {
   "LaTeX_envs_menu_present": true,
   "autoclose": false,
   "autocomplete": true,
   "bibliofile": "biblio.bib",
   "cite_by": "apalike",
   "current_citInitial": 1,
   "eqLabelWithNumbers": true,
   "eqNumInitial": 1,
   "hotkeys": {
    "equation": "Ctrl-E",
    "itemize": "Ctrl-I"
   },
   "labels_anchors": false,
   "latex_user_defs": false,
   "report_style_numbering": false,
   "user_envs_cfg": false
  },
  "toc": {
   "base_numbering": 1,
   "nav_menu": {},
   "number_sections": true,
   "sideBar": true,
   "skip_h1_title": false,
   "title_cell": "Table of Contents",
   "title_sidebar": "Contents",
   "toc_cell": false,
   "toc_position": {},
   "toc_section_display": true,
   "toc_window_display": false
  }
 },
 "nbformat": 4,
 "nbformat_minor": 1
}
