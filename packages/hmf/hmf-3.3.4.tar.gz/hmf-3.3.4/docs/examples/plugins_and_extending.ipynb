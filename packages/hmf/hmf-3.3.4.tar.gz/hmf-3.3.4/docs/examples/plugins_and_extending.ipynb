{
 "cells": [
  {
   "cell_type": "markdown",
   "metadata": {},
   "source": [
    "# Plugins and Extensions"
   ]
  },
  {
   "cell_type": "code",
   "execution_count": 14,
   "metadata": {},
   "outputs": [],
   "source": [
    "%matplotlib inline\n",
    "import matplotlib.pyplot as plt\n",
    "import numpy as np"
   ]
  },
  {
   "cell_type": "markdown",
   "metadata": {},
   "source": [
    "If you've already read the [Broad Overview](../broad_overview.html), you'll know that `hmf` is extremely flexible, and is defined by a number of `Component` parts, that come together in `Framework` objects.\n",
    "\n",
    "In this notebook, we'll look at these a bit more closely and show how to define your own."
   ]
  },
  {
   "cell_type": "markdown",
   "metadata": {},
   "source": [
    "## Built-in Models"
   ]
  },
  {
   "cell_type": "markdown",
   "metadata": {},
   "source": [
    "In `hmf`, we call each kind of calculation a `Component`. For example, the hmf `FittingFunction` is a `Component`, and so is the `Cosmology`. In fact, most of the functionality is defined in one of these components. Each particular implementation of a `Component` is a `Model` -- so, eg. the `SMT` fitting function is a model, and so is the `PS`. "
   ]
  },
  {
   "cell_type": "markdown",
   "metadata": {},
   "source": [
    "Components are based on a simple plugin architecture, so that each base component knows about all its models. Let's see this in a few examples:"
   ]
  },
  {
   "cell_type": "code",
   "execution_count": 11,
   "metadata": {},
   "outputs": [],
   "source": [
    "from hmf.mass_function import FittingFunction, PS\n",
    "from hmf.halos import MassDefinition\n",
    "from hmf import MassFunction"
   ]
  },
  {
   "cell_type": "markdown",
   "metadata": {},
   "source": [
    "To determine all the implemented models for a particular component, use `get_models()`:"
   ]
  },
  {
   "cell_type": "code",
   "execution_count": 2,
   "metadata": {},
   "outputs": [
    {
     "data": {
      "text/plain": [
       "{'PS': hmf.mass_function.fitting_functions.PS,\n",
       " 'SMT': hmf.mass_function.fitting_functions.SMT,\n",
       " 'ST': hmf.mass_function.fitting_functions.ST,\n",
       " 'Jenkins': hmf.mass_function.fitting_functions.Jenkins,\n",
       " 'Warren': hmf.mass_function.fitting_functions.Warren,\n",
       " 'Reed03': hmf.mass_function.fitting_functions.Reed03,\n",
       " 'Reed07': hmf.mass_function.fitting_functions.Reed07,\n",
       " 'Peacock': hmf.mass_function.fitting_functions.Peacock,\n",
       " 'Angulo': hmf.mass_function.fitting_functions.Angulo,\n",
       " 'AnguloBound': hmf.mass_function.fitting_functions.AnguloBound,\n",
       " 'Watson_FoF': hmf.mass_function.fitting_functions.Watson_FoF,\n",
       " 'Watson': hmf.mass_function.fitting_functions.Watson,\n",
       " 'Crocce': hmf.mass_function.fitting_functions.Crocce,\n",
       " 'Courtin': hmf.mass_function.fitting_functions.Courtin,\n",
       " 'Bhattacharya': hmf.mass_function.fitting_functions.Bhattacharya,\n",
       " 'Tinker08': hmf.mass_function.fitting_functions.Tinker08,\n",
       " 'Tinker10': hmf.mass_function.fitting_functions.Tinker10,\n",
       " 'Behroozi': hmf.mass_function.fitting_functions.Behroozi,\n",
       " 'Pillepich': hmf.mass_function.fitting_functions.Pillepich,\n",
       " 'Manera': hmf.mass_function.fitting_functions.Manera,\n",
       " 'Ishiyama': hmf.mass_function.fitting_functions.Ishiyama}"
      ]
     },
     "execution_count": 2,
     "metadata": {},
     "output_type": "execute_result"
    }
   ],
   "source": [
    "FittingFunction.get_models()"
   ]
  },
  {
   "cell_type": "code",
   "execution_count": 3,
   "metadata": {},
   "outputs": [
    {
     "data": {
      "text/plain": [
       "{'SphericalOverdensity': hmf.halos.mass_definitions.SphericalOverdensity,\n",
       " 'SOGeneric': hmf.halos.mass_definitions.SOGeneric,\n",
       " 'SOMean': hmf.halos.mass_definitions.SOMean,\n",
       " 'SOCritical': hmf.halos.mass_definitions.SOCritical,\n",
       " 'SOVirial': hmf.halos.mass_definitions.SOVirial,\n",
       " 'FOF': hmf.halos.mass_definitions.FOF}"
      ]
     },
     "execution_count": 3,
     "metadata": {},
     "output_type": "execute_result"
    }
   ],
   "source": [
    "MassDefinition.get_models()"
   ]
  },
  {
   "cell_type": "markdown",
   "metadata": {},
   "source": [
    "Any of the listed models can be used (as a string, or a class) when constructing a `Framework`, and it will be automatically converted to an actual class:"
   ]
  },
  {
   "cell_type": "code",
   "execution_count": 5,
   "metadata": {},
   "outputs": [],
   "source": [
    "mf = MassFunction(hmf_model='Behroozi')"
   ]
  },
  {
   "cell_type": "code",
   "execution_count": 6,
   "metadata": {},
   "outputs": [
    {
     "data": {
      "text/plain": [
       "hmf.mass_function.fitting_functions.Behroozi"
      ]
     },
     "execution_count": 6,
     "metadata": {},
     "output_type": "execute_result"
    }
   ],
   "source": [
    "mf.hmf_model"
   ]
  },
  {
   "cell_type": "markdown",
   "metadata": {},
   "source": [
    "Also, you can get at those models from any model:"
   ]
  },
  {
   "cell_type": "code",
   "execution_count": 12,
   "metadata": {},
   "outputs": [
    {
     "data": {
      "text/plain": [
       "{'PS': hmf.mass_function.fitting_functions.PS,\n",
       " 'SMT': hmf.mass_function.fitting_functions.SMT,\n",
       " 'ST': hmf.mass_function.fitting_functions.ST,\n",
       " 'Jenkins': hmf.mass_function.fitting_functions.Jenkins,\n",
       " 'Warren': hmf.mass_function.fitting_functions.Warren,\n",
       " 'Reed03': hmf.mass_function.fitting_functions.Reed03,\n",
       " 'Reed07': hmf.mass_function.fitting_functions.Reed07,\n",
       " 'Peacock': hmf.mass_function.fitting_functions.Peacock,\n",
       " 'Angulo': hmf.mass_function.fitting_functions.Angulo,\n",
       " 'AnguloBound': hmf.mass_function.fitting_functions.AnguloBound,\n",
       " 'Watson_FoF': hmf.mass_function.fitting_functions.Watson_FoF,\n",
       " 'Watson': hmf.mass_function.fitting_functions.Watson,\n",
       " 'Crocce': hmf.mass_function.fitting_functions.Crocce,\n",
       " 'Courtin': hmf.mass_function.fitting_functions.Courtin,\n",
       " 'Bhattacharya': hmf.mass_function.fitting_functions.Bhattacharya,\n",
       " 'Tinker08': hmf.mass_function.fitting_functions.Tinker08,\n",
       " 'Tinker10': hmf.mass_function.fitting_functions.Tinker10,\n",
       " 'Behroozi': hmf.mass_function.fitting_functions.Behroozi,\n",
       " 'Pillepich': hmf.mass_function.fitting_functions.Pillepich,\n",
       " 'Manera': hmf.mass_function.fitting_functions.Manera,\n",
       " 'Ishiyama': hmf.mass_function.fitting_functions.Ishiyama,\n",
       " 'MyNewFit': __main__.MyNewFit}"
      ]
     },
     "execution_count": 12,
     "metadata": {},
     "output_type": "execute_result"
    }
   ],
   "source": [
    "PS.get_models()"
   ]
  },
  {
   "cell_type": "markdown",
   "metadata": {},
   "source": [
    "Also note, we haven't actually \"constructed\" the SMT fitting function here, we're just using it as a bare class."
   ]
  },
  {
   "cell_type": "markdown",
   "metadata": {},
   "source": [
    "## Defining your own Models"
   ]
  },
  {
   "cell_type": "markdown",
   "metadata": {},
   "source": [
    "As long as you follow the prescribed interface, you can define your own model for any `Component`. The interface for each component is different, by necessity, and you can find information about what the interface is by looking at the documentation for the base component. In the case of fitting functions, that's `FittingFunction`. In this case, we can just define one method to create our own fit. \n",
    "\n",
    "Let's create a mass function very similar to the Press-Schechter form, but with an exponent that is not $\\nu^2/2$, but instead $0.4 \\nu^2$:"
   ]
  },
  {
   "cell_type": "code",
   "execution_count": 8,
   "metadata": {},
   "outputs": [],
   "source": [
    "class MyNewFit(FittingFunction):\n",
    "    @property\n",
    "    def fsigma(self):\n",
    "        return np.sqrt(2.0 / np.pi) * self.nu * np.exp(-0.4 * self.nu2)"
   ]
  },
  {
   "cell_type": "markdown",
   "metadata": {},
   "source": [
    "We can immediately use this new model in a `Framework`:"
   ]
  },
  {
   "cell_type": "code",
   "execution_count": 18,
   "metadata": {},
   "outputs": [
    {
     "data": {
      "text/plain": [
       "Text(0, 0.5, 'dndm')"
      ]
     },
     "execution_count": 18,
     "metadata": {},
     "output_type": "execute_result"
    },
    {
     "data": {
      "image/png": "[encoded data removed]",
      "text/plain": [
       "<Figure size 432x288 with 1 Axes>"
      ]
     },
     "metadata": {
      "needs_background": "light"
     },
     "output_type": "display_data"
    }
   ],
   "source": [
    "mf = MassFunction(hmf_model=MyNewFit, transfer_model='EH')\n",
    "plt.plot(mf.m, mf.dndm)\n",
    "\n",
    "mf.hmf_model = PS\n",
    "plt.plot(mf.m, mf.dndm)\n",
    "plt.xscale('log')\n",
    "plt.yscale('log')\n",
    "plt.xlabel(\"Mass\")\n",
    "plt.ylabel(\"dndm\")"
   ]
  },
  {
   "cell_type": "markdown",
   "metadata": {},
   "source": [
    "It's clear that our new function doesn't drop off at high masses quite so fast."
   ]
  },
  {
   "cell_type": "markdown",
   "metadata": {},
   "source": [
    "## Parameterizing Custom Models"
   ]
  },
  {
   "cell_type": "markdown",
   "metadata": {},
   "source": [
    "Imagine that we doubt that the cutoff should be proportional to $0.5 \\nu^2$, and want to parameterize it as $a \\nu^2$, and fit that free parameter $a$ to our simulated data. Any `Component` may be parameterized by writing a `_defaults` dictionary:"
   ]
  },
  {
   "cell_type": "code",
   "execution_count": 20,
   "metadata": {},
   "outputs": [],
   "source": [
    "class MyNewFitParameterized(FittingFunction):\n",
    "    _defaults = {'a': 0.5}\n",
    "    \n",
    "    @property\n",
    "    def fsigma(self):\n",
    "        return np.sqrt(2.0 / np.pi) * self.nu * np.exp(-self.params['a'] * self.nu2)"
   ]
  },
  {
   "cell_type": "markdown",
   "metadata": {},
   "source": [
    "Notice that to access the actual user-supplied value of $a$, we use the `self.params` dictionary. The `_defaults` dictionary only specifies the default values."
   ]
  },
  {
   "cell_type": "markdown",
   "metadata": {},
   "source": [
    "Constructing a model, we can use the `hmf_params` to set $a$:"
   ]
  },
  {
   "cell_type": "code",
   "execution_count": 24,
   "metadata": {},
   "outputs": [],
   "source": [
    "mf = MassFunction(hmf_model=MyNewFitParameterized, hmf_params={'a':0.55}, transfer_model='EH')"
   ]
  },
  {
   "cell_type": "code",
   "execution_count": 25,
   "metadata": {},
   "outputs": [
    {
     "data": {
      "text/plain": [
       "Text(0, 0.5, 'dndm')"
      ]
     },
     "execution_count": 25,
     "metadata": {},
     "output_type": "execute_result"
    },
    {
     "data": {
      "image/png": "[encoded data removed]",
      "text/plain": [
       "<Figure size 432x288 with 1 Axes>"
      ]
     },
     "metadata": {
      "needs_background": "light"
     },
     "output_type": "display_data"
    }
   ],
   "source": [
    "for a in np.arange(0.4,0.6,0.02):\n",
    "    mf.hmf_params = {'a':a}\n",
    "    \n",
    "    plt.plot(mf.m, mf.dndm)\n",
    "    \n",
    "plt.xscale('log')\n",
    "plt.yscale('log')\n",
    "plt.xlabel(\"Mass\")\n",
    "plt.ylabel(\"dndm\")"
   ]
  },
  {
   "cell_type": "markdown",
   "metadata": {},
   "source": [
    "## Your Custom Model is a Plugin"
   ]
  },
  {
   "cell_type": "markdown",
   "metadata": {},
   "source": [
    "Due to the generic way that the plugin architecture is implemented, your custom models also appear as plugins:"
   ]
  },
  {
   "cell_type": "code",
   "execution_count": 26,
   "metadata": {},
   "outputs": [
    {
     "data": {
      "text/plain": [
       "{'PS': hmf.mass_function.fitting_functions.PS,\n",
       " 'SMT': hmf.mass_function.fitting_functions.SMT,\n",
       " 'ST': hmf.mass_function.fitting_functions.ST,\n",
       " 'Jenkins': hmf.mass_function.fitting_functions.Jenkins,\n",
       " 'Warren': hmf.mass_function.fitting_functions.Warren,\n",
       " 'Reed03': hmf.mass_function.fitting_functions.Reed03,\n",
       " 'Reed07': hmf.mass_function.fitting_functions.Reed07,\n",
       " 'Peacock': hmf.mass_function.fitting_functions.Peacock,\n",
       " 'Angulo': hmf.mass_function.fitting_functions.Angulo,\n",
       " 'AnguloBound': hmf.mass_function.fitting_functions.AnguloBound,\n",
       " 'Watson_FoF': hmf.mass_function.fitting_functions.Watson_FoF,\n",
       " 'Watson': hmf.mass_function.fitting_functions.Watson,\n",
       " 'Crocce': hmf.mass_function.fitting_functions.Crocce,\n",
       " 'Courtin': hmf.mass_function.fitting_functions.Courtin,\n",
       " 'Bhattacharya': hmf.mass_function.fitting_functions.Bhattacharya,\n",
       " 'Tinker08': hmf.mass_function.fitting_functions.Tinker08,\n",
       " 'Tinker10': hmf.mass_function.fitting_functions.Tinker10,\n",
       " 'Behroozi': hmf.mass_function.fitting_functions.Behroozi,\n",
       " 'Pillepich': hmf.mass_function.fitting_functions.Pillepich,\n",
       " 'Manera': hmf.mass_function.fitting_functions.Manera,\n",
       " 'Ishiyama': hmf.mass_function.fitting_functions.Ishiyama,\n",
       " 'MyNewFit': __main__.MyNewFit,\n",
       " 'MyNewFitParameterized': __main__.MyNewFitParameterized}"
      ]
     },
     "execution_count": 26,
     "metadata": {},
     "output_type": "execute_result"
    }
   ],
   "source": [
    "FittingFunction.get_models()"
   ]
  },
  {
   "cell_type": "markdown",
   "metadata": {},
   "source": [
    "This means we can construct the `Framework` using string names of the models:"
   ]
  },
  {
   "cell_type": "code",
   "execution_count": 27,
   "metadata": {},
   "outputs": [],
   "source": [
    "mf = MassFunction(hmf_model = 'MyNewFit')"
   ]
  },
  {
   "cell_type": "code",
   "execution_count": 28,
   "metadata": {},
   "outputs": [
    {
     "data": {
      "text/plain": [
       "__main__.MyNewFit"
      ]
     },
     "execution_count": 28,
     "metadata": {},
     "output_type": "execute_result"
    }
   ],
   "source": [
    "mf.hmf_model"
   ]
  },
  {
   "cell_type": "markdown",
   "metadata": {},
   "source": [
    "This is particularly useful for dynamically creating frameworks from a library of custom classes, or specifying models in YAML/TOML configuration files."
   ]
  }
 ],
 "metadata": {
  "kernelspec": {
   "display_name": "Python [conda env:hmf]",
   "language": "python",
   "name": "conda-env-hmf-py"
  },
  "language_info": {
   "codemirror_mode": {
    "name": "ipython",
    "version": 3
   },
   "file_extension": ".py",
   "mimetype": "text/x-python",
   "name": "python",
   "nbconvert_exporter": "python",
   "pygments_lexer": "ipython3",
   "version": "3.7.0"
  }
 },
 "nbformat": 4,
 "nbformat_minor": 4
}
