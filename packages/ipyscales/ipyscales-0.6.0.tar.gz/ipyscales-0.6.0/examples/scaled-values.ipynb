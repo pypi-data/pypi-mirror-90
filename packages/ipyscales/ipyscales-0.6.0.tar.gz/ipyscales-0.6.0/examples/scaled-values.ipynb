{
 "cells": [
  {
   "cell_type": "markdown",
   "metadata": {},
   "source": [
    "# Using scaled values\n",
    "\n",
    "Sometimes, scales can just be given to a widget, and it will be used internally by that widget to scale its values as needed. However, to integrate with other widgets that do not know about scales, we use the `ScaledValue` widget as a link."
   ]
  },
  {
   "cell_type": "code",
   "execution_count": 1,
   "metadata": {},
   "outputs": [],
   "source": [
    "from ipyscales import LinearScale, QuantizeScale, NamedOrdinalColorMap, ScaledValue\n",
    "from ipywidgets import FloatSlider, FloatRangeSlider, FloatText, Label, ColorPicker, jslink, GridBox, HBox, Layout\n",
    "from traitlets import link"
   ]
  },
  {
   "cell_type": "code",
   "execution_count": 2,
   "metadata": {},
   "outputs": [],
   "source": [
    "from ipyscales._example_helper import use_example_model_ids\n",
    "use_example_model_ids()"
   ]
  },
  {
   "cell_type": "markdown",
   "metadata": {},
   "source": [
    "## Scaling a float input\n",
    "\n",
    "For our first example, we start with a simple linear normalizer scale:"
   ]
  },
  {
   "cell_type": "code",
   "execution_count": 3,
   "metadata": {},
   "outputs": [],
   "source": [
    "normalizer = LinearScale(domain=(0, 100))"
   ]
  },
  {
   "cell_type": "markdown",
   "metadata": {},
   "source": [
    "We then add a range slider to select its input domain. The scale will then normalize this domain to its default `[0, 1]` range."
   ]
  },
  {
   "cell_type": "code",
   "execution_count": 4,
   "metadata": {},
   "outputs": [
    {
     "data": {
      "application/vnd.jupyter.widget-view+json": {
       "model_id": "ipyscales_example_model_002",
       "version_major": 2,
       "version_minor": 0
      },
      "text/plain": [
       "FloatRangeSlider(value=(0.0, 100.0), min=-100.0)"
      ]
     },
     "metadata": {},
     "output_type": "display_data"
    }
   ],
   "source": [
    "domain_picker = FloatRangeSlider(value=normalizer.domain, min=-100, max=100)\n",
    "jslink((normalizer, 'domain'), (domain_picker, 'value'))\n",
    "domain_picker"
   ]
  },
  {
   "cell_type": "markdown",
   "metadata": {},
   "source": [
    "To show the effect of this normalizer on a value, we set up an input value from a slider, and a **scaled version of that value** ."
   ]
  },
  {
   "cell_type": "code",
   "execution_count": 5,
   "metadata": {},
   "outputs": [
    {
     "data": {
      "application/vnd.jupyter.widget-view+json": {
       "model_id": "ipyscales_example_model_006",
       "version_major": 2,
       "version_minor": 0
      },
      "text/plain": [
       "FloatSlider(value=0.0, min=-100.0)"
      ]
     },
     "metadata": {},
     "output_type": "display_data"
    }
   ],
   "source": [
    "input_value = FloatSlider(value=0, min=domain_picker.min, max=domain_picker.max)\n",
    "link((input_value, 'min'), (domain_picker, 'min'))\n",
    "link((input_value, 'max'), (domain_picker, 'max'))\n",
    "\n",
    "normalized_value = ScaledValue(scale=normalizer)\n",
    "jslink((input_value, 'value'), (normalized_value, 'input'))\n",
    "\n",
    "input_value"
   ]
  },
  {
   "cell_type": "markdown",
   "metadata": {},
   "source": [
    "To display the scaled value, we link it to a display. We disable the input of the display, as it does not make sense for the user to write to this value direcly."
   ]
  },
  {
   "cell_type": "code",
   "execution_count": 6,
   "metadata": {},
   "outputs": [
    {
     "data": {
      "application/vnd.jupyter.widget-view+json": {
       "model_id": "ipyscales_example_model_011",
       "version_major": 2,
       "version_minor": 0
      },
      "text/plain": [
       "FloatText(value=0.0, disabled=True)"
      ]
     },
     "metadata": {},
     "output_type": "display_data"
    }
   ],
   "source": [
    "value_display = FloatText(disabled=True)\n",
    "jslink((normalized_value, 'output'), (value_display, 'value'))\n",
    "value_display"
   ]
  },
  {
   "cell_type": "markdown",
   "metadata": {},
   "source": [
    "## Other scales\n",
    "\n",
    "We can also use the `ScaledValue` widget with other kinds of scales. Here, we set up a quantize scale to split the domain above into four equally sized regions, that each map to a string (a label for a quartile):"
   ]
  },
  {
   "cell_type": "code",
   "execution_count": 7,
   "metadata": {},
   "outputs": [
    {
     "data": {
      "text/plain": [
       "Link(source=(LinearScale(domain=(0.0, 100.0), range=(0.0, 1.0)), 'domain'), target=(QuantizeScale(domain=(0.0,…"
      ]
     },
     "metadata": {},
     "output_type": "display_data"
    }
   ],
   "source": [
    "quartile = QuantizeScale(range=('first', 'second', 'third', 'fourth'))\n",
    "jslink((normalizer, 'domain'), (quartile, 'domain'))"
   ]
  },
  {
   "cell_type": "markdown",
   "metadata": {},
   "source": [
    "Next, we set up a `ScaledValue` for mapping our user input through this scale:"
   ]
  },
  {
   "cell_type": "code",
   "execution_count": 8,
   "metadata": {},
   "outputs": [
    {
     "data": {
      "text/plain": [
       "Link(source=(FloatSlider(value=0.0, min=-100.0), 'value'), target=(ScaledValue(input=None, scale=QuantizeScale…"
      ]
     },
     "metadata": {},
     "output_type": "display_data"
    }
   ],
   "source": [
    "quartile_value = ScaledValue(scale=quartile)\n",
    "jslink((input_value, 'value'), (quartile_value, 'input'))"
   ]
  },
  {
   "cell_type": "markdown",
   "metadata": {},
   "source": [
    "And finally, we link the scaled output to a `Label` to display it to the user. Note how any values outside the domain will be clamped to the nearest edge value."
   ]
  },
  {
   "cell_type": "code",
   "execution_count": 9,
   "metadata": {},
   "outputs": [
    {
     "data": {
      "application/vnd.jupyter.widget-view+json": {
       "model_id": "ipyscales_example_model_019",
       "version_major": 2,
       "version_minor": 0
      },
      "text/plain": [
       "Label(value='')"
      ]
     },
     "metadata": {},
     "output_type": "display_data"
    }
   ],
   "source": [
    "quartile_display = Label()\n",
    "jslink((quartile_value, 'output'), (quartile_display, 'value'))\n",
    "quartile_display"
   ]
  },
  {
   "cell_type": "markdown",
   "metadata": {},
   "source": [
    "## Chaining scaled values\n",
    "\n",
    "Sometimes, it might make sense to chain multiple scaled values. Here, we will continue the quartile example above by setting up an ordinal color scale which maps the quartile label above to a color. While it would be possible to set up a scale that maps a value directly from the input range to an ordinal color, it might be easier to simply set up a chain:"
   ]
  },
  {
   "cell_type": "code",
   "execution_count": 10,
   "metadata": {},
   "outputs": [
    {
     "data": {
      "application/vnd.jupyter.widget-view+json": {
       "model_id": "ipyscales_example_model_028",
       "version_major": 2,
       "version_minor": 0
      },
      "text/plain": [
       "VBox(children=(StringDropdown(options=('Accent', 'Blues', 'BrBG', 'BuGn', 'BuPu', 'Category10', 'Dark2', 'GnBu…"
      ]
     },
     "metadata": {},
     "output_type": "display_data"
    }
   ],
   "source": [
    "color_scale = NamedOrdinalColorMap('Spectral', cardinality=4)\n",
    "jslink((quartile, 'range'), (color_scale, 'domain'))\n",
    "color_scale.edit()"
   ]
  },
  {
   "cell_type": "code",
   "execution_count": 11,
   "metadata": {},
   "outputs": [],
   "source": [
    "color_value = ScaledValue(input=quartile_value, scale=color_scale)"
   ]
  },
  {
   "cell_type": "code",
   "execution_count": 12,
   "metadata": {},
   "outputs": [
    {
     "data": {
      "application/vnd.jupyter.widget-view+json": {
       "model_id": "ipyscales_example_model_032",
       "version_major": 2,
       "version_minor": 0
      },
      "text/plain": [
       "ColorPicker(value='black', concise=True, disabled=True, layout=Layout(width='30px'))"
      ]
     },
     "metadata": {},
     "output_type": "display_data"
    }
   ],
   "source": [
    "colored_display = ColorPicker(disabled=True, concise=True, layout=Layout(width='30px'))\n",
    "jslink((color_value, 'output'), (colored_display, 'value'))\n",
    "colored_display"
   ]
  },
  {
   "cell_type": "markdown",
   "metadata": {},
   "source": [
    "## Dashboard\n",
    "\n",
    "Collecting all our pieces together in a dashboard (as new views on the same models):"
   ]
  },
  {
   "cell_type": "code",
   "execution_count": 13,
   "metadata": {},
   "outputs": [
    {
     "data": {
      "application/vnd.jupyter.widget-view+json": {
       "model_id": "ipyscales_example_model_047",
       "version_major": 2,
       "version_minor": 0
      },
      "text/plain": [
       "GridBox(children=(Label(value='Domain:'), FloatRangeSlider(value=(0.0, 100.0), min=-100.0), Label(value='Value…"
      ]
     },
     "metadata": {},
     "output_type": "display_data"
    }
   ],
   "source": [
    "GridBox(\n",
    "    [\n",
    "        Label('Domain:'), domain_picker,\n",
    "        Label('Value:'), input_value,\n",
    "        Label('Quartile:'), HBox([colored_display, quartile_display])\n",
    "    ],\n",
    "    layout=Layout(\n",
    "        width='50%',\n",
    "        grid_template_columns='6em auto',\n",
    "        grid_template_areas='''\n",
    "            \"labelA domain\"\n",
    "            \"labelB value \"\n",
    "            \"labelC scaled\"\n",
    "        '''\n",
    "    )\n",
    ")"
   ]
  }
 ],
 "metadata": {
  "kernelspec": {
   "display_name": "Python 3",
   "language": "python",
   "name": "python3"
  },
  "language_info": {
   "codemirror_mode": {
    "name": "ipython",
    "version": 3
   },
   "file_extension": ".py",
   "mimetype": "text/x-python",
   "name": "python",
   "nbconvert_exporter": "python",
   "pygments_lexer": "ipython3",
   "version": "3.7.1"
  },
  "widgets": {
   "application/vnd.jupyter.widget-state+json": {
    "state": {
     "ipyscales_example_model_001": {
      "model_module": "jupyter-scales",
      "model_module_version": "^3.0.0",
      "model_name": "LinearScaleModel",
      "state": {
       "_model_module_version": "^3.0.0",
       "_view_module_version": "",
       "domain": [
        0,
        100
       ]
      }
     },
     "ipyscales_example_model_002": {
      "model_module": "@jupyter-widgets/controls",
      "model_module_version": "1.5.0",
      "model_name": "FloatRangeSliderModel",
      "state": {
       "_model_name": "FloatRangeSliderModel",
       "_view_name": "FloatRangeSliderView",
       "layout": "IPY_MODEL_ipyscales_example_model_003",
       "min": -100,
       "step": 0.1,
       "style": "IPY_MODEL_ipyscales_example_model_004",
       "value": [
        0,
        100
       ]
      }
     },
     "ipyscales_example_model_003": {
      "model_module": "@jupyter-widgets/base",
      "model_module_version": "1.2.0",
      "model_name": "LayoutModel",
      "state": {}
     },
     "ipyscales_example_model_004": {
      "model_module": "@jupyter-widgets/controls",
      "model_module_version": "1.5.0",
      "model_name": "SliderStyleModel",
      "state": {
       "description_width": ""
      }
     },
     "ipyscales_example_model_005": {
      "model_module": "@jupyter-widgets/controls",
      "model_module_version": "1.5.0",
      "model_name": "LinkModel",
      "state": {
       "source": [
        "IPY_MODEL_ipyscales_example_model_001",
        "domain"
       ],
       "target": [
        "IPY_MODEL_ipyscales_example_model_002",
        "value"
       ]
      }
     },
     "ipyscales_example_model_006": {
      "model_module": "@jupyter-widgets/controls",
      "model_module_version": "1.5.0",
      "model_name": "FloatSliderModel",
      "state": {
       "layout": "IPY_MODEL_ipyscales_example_model_007",
       "min": -100,
       "step": 0.1,
       "style": "IPY_MODEL_ipyscales_example_model_008"
      }
     },
     "ipyscales_example_model_007": {
      "model_module": "@jupyter-widgets/base",
      "model_module_version": "1.2.0",
      "model_name": "LayoutModel",
      "state": {}
     },
     "ipyscales_example_model_008": {
      "model_module": "@jupyter-widgets/controls",
      "model_module_version": "1.5.0",
      "model_name": "SliderStyleModel",
      "state": {
       "description_width": ""
      }
     },
     "ipyscales_example_model_009": {
      "model_module": "jupyter-scales",
      "model_module_version": "^3.0.0",
      "model_name": "ScaledValueModel",
      "state": {
       "_model_module_version": "^3.0.0",
       "_view_module_version": "",
       "input": 0,
       "scale": "IPY_MODEL_ipyscales_example_model_001"
      }
     },
     "ipyscales_example_model_010": {
      "model_module": "@jupyter-widgets/controls",
      "model_module_version": "1.5.0",
      "model_name": "LinkModel",
      "state": {
       "source": [
        "IPY_MODEL_ipyscales_example_model_006",
        "value"
       ],
       "target": [
        "IPY_MODEL_ipyscales_example_model_009",
        "input"
       ]
      }
     },
     "ipyscales_example_model_011": {
      "model_module": "@jupyter-widgets/controls",
      "model_module_version": "1.5.0",
      "model_name": "FloatTextModel",
      "state": {
       "disabled": true,
       "layout": "IPY_MODEL_ipyscales_example_model_012",
       "step": null,
       "style": "IPY_MODEL_ipyscales_example_model_013"
      }
     },
     "ipyscales_example_model_012": {
      "model_module": "@jupyter-widgets/base",
      "model_module_version": "1.2.0",
      "model_name": "LayoutModel",
      "state": {}
     },
     "ipyscales_example_model_013": {
      "model_module": "@jupyter-widgets/controls",
      "model_module_version": "1.5.0",
      "model_name": "DescriptionStyleModel",
      "state": {
       "description_width": ""
      }
     },
     "ipyscales_example_model_014": {
      "model_module": "@jupyter-widgets/controls",
      "model_module_version": "1.5.0",
      "model_name": "LinkModel",
      "state": {
       "source": [
        "IPY_MODEL_ipyscales_example_model_009",
        "output"
       ],
       "target": [
        "IPY_MODEL_ipyscales_example_model_011",
        "value"
       ]
      }
     },
     "ipyscales_example_model_015": {
      "model_module": "jupyter-scales",
      "model_module_version": "^3.0.0",
      "model_name": "QuantizeScaleModel",
      "state": {
       "_model_module_version": "^3.0.0",
       "_view_module_version": "",
       "domain": [
        0,
        100
       ],
       "range": [
        "first",
        "second",
        "third",
        "fourth"
       ]
      }
     },
     "ipyscales_example_model_016": {
      "model_module": "@jupyter-widgets/controls",
      "model_module_version": "1.5.0",
      "model_name": "LinkModel",
      "state": {
       "source": [
        "IPY_MODEL_ipyscales_example_model_001",
        "domain"
       ],
       "target": [
        "IPY_MODEL_ipyscales_example_model_015",
        "domain"
       ]
      }
     },
     "ipyscales_example_model_017": {
      "model_module": "jupyter-scales",
      "model_module_version": "^3.0.0",
      "model_name": "ScaledValueModel",
      "state": {
       "_model_module_version": "^3.0.0",
       "_view_module_version": "",
       "input": 0,
       "scale": "IPY_MODEL_ipyscales_example_model_015"
      }
     },
     "ipyscales_example_model_018": {
      "model_module": "@jupyter-widgets/controls",
      "model_module_version": "1.5.0",
      "model_name": "LinkModel",
      "state": {
       "source": [
        "IPY_MODEL_ipyscales_example_model_006",
        "value"
       ],
       "target": [
        "IPY_MODEL_ipyscales_example_model_017",
        "input"
       ]
      }
     },
     "ipyscales_example_model_019": {
      "model_module": "@jupyter-widgets/controls",
      "model_module_version": "1.5.0",
      "model_name": "LabelModel",
      "state": {
       "layout": "IPY_MODEL_ipyscales_example_model_020",
       "style": "IPY_MODEL_ipyscales_example_model_021",
       "value": "first"
      }
     },
     "ipyscales_example_model_020": {
      "model_module": "@jupyter-widgets/base",
      "model_module_version": "1.2.0",
      "model_name": "LayoutModel",
      "state": {}
     },
     "ipyscales_example_model_021": {
      "model_module": "@jupyter-widgets/controls",
      "model_module_version": "1.5.0",
      "model_name": "DescriptionStyleModel",
      "state": {
       "description_width": ""
      }
     },
     "ipyscales_example_model_022": {
      "model_module": "@jupyter-widgets/controls",
      "model_module_version": "1.5.0",
      "model_name": "LinkModel",
      "state": {
       "source": [
        "IPY_MODEL_ipyscales_example_model_017",
        "output"
       ],
       "target": [
        "IPY_MODEL_ipyscales_example_model_019",
        "value"
       ]
      }
     },
     "ipyscales_example_model_023": {
      "model_module": "jupyter-scales",
      "model_module_version": "^3.0.0",
      "model_name": "NamedOrdinalColorMap",
      "state": {
       "_model_module_version": "^3.0.0",
       "_view_module_version": "",
       "cardinality": 4,
       "domain": [
        "first",
        "second",
        "third",
        "fourth"
       ],
       "name": "Spectral"
      }
     },
     "ipyscales_example_model_024": {
      "model_module": "@jupyter-widgets/controls",
      "model_module_version": "1.5.0",
      "model_name": "LinkModel",
      "state": {
       "source": [
        "IPY_MODEL_ipyscales_example_model_015",
        "range"
       ],
       "target": [
        "IPY_MODEL_ipyscales_example_model_023",
        "domain"
       ]
      }
     },
     "ipyscales_example_model_025": {
      "model_module": "jupyter-scales",
      "model_module_version": "^3.0.0",
      "model_name": "StringDropdownModel",
      "state": {
       "_model_module_version": "^3.0.0",
       "_view_module_version": "^3.0.0",
       "_view_name": "DropdownView",
       "layout": "IPY_MODEL_ipyscales_example_model_026",
       "options": [
        "Accent",
        "Blues",
        "BrBG",
        "BuGn",
        "BuPu",
        "Category10",
        "Dark2",
        "GnBu",
        "Greens",
        "Greys",
        "OrRd",
        "Oranges",
        "PRGn",
        "Paired",
        "Pastel1",
        "Pastel2",
        "PiYG",
        "PuBu",
        "PuBuGn",
        "PuOr",
        "PuRd",
        "Purples",
        "RdBu",
        "RdGy",
        "RdPu",
        "RdYlBu",
        "RdYlGn",
        "Reds",
        "Set1",
        "Set2",
        "Set3",
        "Spectral",
        "YlGn",
        "YlGnBu",
        "YlOrBr",
        "YlOrRd"
       ],
       "value": "Spectral"
      }
     },
     "ipyscales_example_model_026": {
      "model_module": "@jupyter-widgets/base",
      "model_module_version": "1.2.0",
      "model_name": "LayoutModel",
      "state": {}
     },
     "ipyscales_example_model_027": {
      "model_module": "@jupyter-widgets/controls",
      "model_module_version": "1.5.0",
      "model_name": "LinkModel",
      "state": {
       "source": [
        "IPY_MODEL_ipyscales_example_model_023",
        "name"
       ],
       "target": [
        "IPY_MODEL_ipyscales_example_model_025",
        "value"
       ]
      }
     },
     "ipyscales_example_model_028": {
      "model_module": "@jupyter-widgets/controls",
      "model_module_version": "1.5.0",
      "model_name": "VBoxModel",
      "state": {
       "children": [
        "IPY_MODEL_ipyscales_example_model_025"
       ],
       "layout": "IPY_MODEL_ipyscales_example_model_029"
      }
     },
     "ipyscales_example_model_029": {
      "model_module": "@jupyter-widgets/base",
      "model_module_version": "1.2.0",
      "model_name": "LayoutModel",
      "state": {}
     },
     "ipyscales_example_model_030": {
      "model_module": "jupyter-scales",
      "model_module_version": "^3.0.0",
      "model_name": "ScaledValueModel",
      "state": {
       "_model_module_version": "^3.0.0",
       "_view_module_version": "",
       "input": "IPY_MODEL_ipyscales_example_model_017",
       "scale": "IPY_MODEL_ipyscales_example_model_023"
      }
     },
     "ipyscales_example_model_031": {
      "model_module": "@jupyter-widgets/base",
      "model_module_version": "1.2.0",
      "model_name": "LayoutModel",
      "state": {
       "width": "30px"
      }
     },
     "ipyscales_example_model_032": {
      "model_module": "@jupyter-widgets/controls",
      "model_module_version": "1.5.0",
      "model_name": "ColorPickerModel",
      "state": {
       "concise": true,
       "disabled": true,
       "layout": "IPY_MODEL_ipyscales_example_model_031",
       "style": "IPY_MODEL_ipyscales_example_model_033",
       "value": "#d7191c"
      }
     },
     "ipyscales_example_model_033": {
      "model_module": "@jupyter-widgets/controls",
      "model_module_version": "1.5.0",
      "model_name": "DescriptionStyleModel",
      "state": {
       "description_width": ""
      }
     },
     "ipyscales_example_model_034": {
      "model_module": "@jupyter-widgets/controls",
      "model_module_version": "1.5.0",
      "model_name": "LinkModel",
      "state": {
       "source": [
        "IPY_MODEL_ipyscales_example_model_030",
        "output"
       ],
       "target": [
        "IPY_MODEL_ipyscales_example_model_032",
        "value"
       ]
      }
     },
     "ipyscales_example_model_035": {
      "model_module": "@jupyter-widgets/controls",
      "model_module_version": "1.5.0",
      "model_name": "LabelModel",
      "state": {
       "layout": "IPY_MODEL_ipyscales_example_model_036",
       "style": "IPY_MODEL_ipyscales_example_model_037",
       "value": "Domain:"
      }
     },
     "ipyscales_example_model_036": {
      "model_module": "@jupyter-widgets/base",
      "model_module_version": "1.2.0",
      "model_name": "LayoutModel",
      "state": {}
     },
     "ipyscales_example_model_037": {
      "model_module": "@jupyter-widgets/controls",
      "model_module_version": "1.5.0",
      "model_name": "DescriptionStyleModel",
      "state": {
       "description_width": ""
      }
     },
     "ipyscales_example_model_038": {
      "model_module": "@jupyter-widgets/controls",
      "model_module_version": "1.5.0",
      "model_name": "LabelModel",
      "state": {
       "layout": "IPY_MODEL_ipyscales_example_model_039",
       "style": "IPY_MODEL_ipyscales_example_model_040",
       "value": "Value:"
      }
     },
     "ipyscales_example_model_039": {
      "model_module": "@jupyter-widgets/base",
      "model_module_version": "1.2.0",
      "model_name": "LayoutModel",
      "state": {}
     },
     "ipyscales_example_model_040": {
      "model_module": "@jupyter-widgets/controls",
      "model_module_version": "1.5.0",
      "model_name": "DescriptionStyleModel",
      "state": {
       "description_width": ""
      }
     },
     "ipyscales_example_model_041": {
      "model_module": "@jupyter-widgets/controls",
      "model_module_version": "1.5.0",
      "model_name": "LabelModel",
      "state": {
       "layout": "IPY_MODEL_ipyscales_example_model_042",
       "style": "IPY_MODEL_ipyscales_example_model_043",
       "value": "Quartile:"
      }
     },
     "ipyscales_example_model_042": {
      "model_module": "@jupyter-widgets/base",
      "model_module_version": "1.2.0",
      "model_name": "LayoutModel",
      "state": {}
     },
     "ipyscales_example_model_043": {
      "model_module": "@jupyter-widgets/controls",
      "model_module_version": "1.5.0",
      "model_name": "DescriptionStyleModel",
      "state": {
       "description_width": ""
      }
     },
     "ipyscales_example_model_044": {
      "model_module": "@jupyter-widgets/controls",
      "model_module_version": "1.5.0",
      "model_name": "HBoxModel",
      "state": {
       "children": [
        "IPY_MODEL_ipyscales_example_model_032",
        "IPY_MODEL_ipyscales_example_model_019"
       ],
       "layout": "IPY_MODEL_ipyscales_example_model_045"
      }
     },
     "ipyscales_example_model_045": {
      "model_module": "@jupyter-widgets/base",
      "model_module_version": "1.2.0",
      "model_name": "LayoutModel",
      "state": {}
     },
     "ipyscales_example_model_046": {
      "model_module": "@jupyter-widgets/base",
      "model_module_version": "1.2.0",
      "model_name": "LayoutModel",
      "state": {
       "grid_template_areas": "\n            \"labelA domain\"\n            \"labelB value \"\n            \"labelC scaled\"\n        ",
       "grid_template_columns": "6em auto",
       "width": "50%"
      }
     },
     "ipyscales_example_model_047": {
      "model_module": "@jupyter-widgets/controls",
      "model_module_version": "1.5.0",
      "model_name": "GridBoxModel",
      "state": {
       "children": [
        "IPY_MODEL_ipyscales_example_model_035",
        "IPY_MODEL_ipyscales_example_model_002",
        "IPY_MODEL_ipyscales_example_model_038",
        "IPY_MODEL_ipyscales_example_model_006",
        "IPY_MODEL_ipyscales_example_model_041",
        "IPY_MODEL_ipyscales_example_model_044"
       ],
       "layout": "IPY_MODEL_ipyscales_example_model_046"
      }
     }
    },
    "version_major": 2,
    "version_minor": 0
   }
  }
 },
 "nbformat": 4,
 "nbformat_minor": 2
}
