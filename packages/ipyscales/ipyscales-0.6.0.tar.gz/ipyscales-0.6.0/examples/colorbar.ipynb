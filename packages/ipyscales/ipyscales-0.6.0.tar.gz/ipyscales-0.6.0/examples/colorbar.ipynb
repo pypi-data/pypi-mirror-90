{
 "cells": [
  {
   "cell_type": "markdown",
   "metadata": {},
   "source": [
    "# Color bars"
   ]
  },
  {
   "cell_type": "markdown",
   "metadata": {},
   "source": [
    "ipyscales includes widgets for visualising color maps as color bars, and for manually editing color maps.\n",
    "\n",
    "Let's define two simple color maps first:"
   ]
  },
  {
   "cell_type": "code",
   "execution_count": 1,
   "metadata": {},
   "outputs": [],
   "source": [
    "import ipyscales"
   ]
  },
  {
   "cell_type": "code",
   "execution_count": 2,
   "metadata": {},
   "outputs": [],
   "source": [
    "from ipyscales._example_helper import use_example_model_ids\n",
    "use_example_model_ids()"
   ]
  },
  {
   "cell_type": "code",
   "execution_count": 3,
   "metadata": {},
   "outputs": [],
   "source": [
    "cm = ipyscales.LinearColorScale(\n",
    "    range=('blue', 'green'),\n",
    "    domain=(1000, 5000)\n",
    ")\n",
    "cm_div = ipyscales.LinearColorScale(\n",
    "    range=('blue', 'white', 'red'),\n",
    "    domain=(-1, 0, 1)\n",
    ")"
   ]
  },
  {
   "cell_type": "markdown",
   "metadata": {},
   "source": [
    "Next, let us define a color bar for the first color map:"
   ]
  },
  {
   "cell_type": "code",
   "execution_count": 4,
   "metadata": {},
   "outputs": [],
   "source": [
    "colorbar = ipyscales.ColorBar(colormap=cm, length=300)\n",
    "assert colorbar.colormap is cm"
   ]
  },
  {
   "cell_type": "code",
   "execution_count": 5,
   "metadata": {},
   "outputs": [
    {
     "data": {
      "application/vnd.jupyter.widget-view+json": {
       "model_id": "ipyscales_example_model_003",
       "version_major": 2,
       "version_minor": 0
      },
      "text/plain": [
       "ColorBar(colormap=LinearColorScale(domain=(1000.0, 5000.0), range=('blue', 'green')), length=300)"
      ]
     },
     "metadata": {},
     "output_type": "display_data"
    }
   ],
   "source": [
    "colorbar"
   ]
  },
  {
   "cell_type": "markdown",
   "metadata": {},
   "source": [
    "The orientation of the color bar can be made horizontal as well:"
   ]
  },
  {
   "cell_type": "code",
   "execution_count": 6,
   "metadata": {},
   "outputs": [
    {
     "data": {
      "application/vnd.jupyter.widget-view+json": {
       "model_id": "ipyscales_example_model_005",
       "version_major": 2,
       "version_minor": 0
      },
      "text/plain": [
       "ColorBar(colormap=LinearColorScale(domain=(-1.0, 0.0, 1.0), range=('blue', 'white', 'red')), length=300, orien…"
      ]
     },
     "metadata": {},
     "output_type": "display_data"
    }
   ],
   "source": [
    "ipyscales.ColorBar(colormap=cm_div, length=300, orientation='horizontal')"
   ]
  },
  {
   "cell_type": "markdown",
   "metadata": {},
   "source": [
    "The color map can include transparent colors, and the color bar also supports this:"
   ]
  },
  {
   "cell_type": "code",
   "execution_count": 7,
   "metadata": {},
   "outputs": [],
   "source": [
    "cm_div_transp = ipyscales.LinearColorScale(\n",
    "    range=('rgba(0, 0, 255, 0.5)', 'white', 'rgba(255, 0, 0, 0.5)'),\n",
    "    domain=(-1, 0, 1)\n",
    ")"
   ]
  },
  {
   "cell_type": "code",
   "execution_count": 8,
   "metadata": {},
   "outputs": [
    {
     "data": {
      "application/vnd.jupyter.widget-view+json": {
       "model_id": "ipyscales_example_model_008",
       "version_major": 2,
       "version_minor": 0
      },
      "text/plain": [
       "ColorBar(colormap=LinearColorScale(domain=(-1.0, 0.0, 1.0), range=('rgba(0, 0, 255, 0.5)', 'white', 'rgba(255,…"
      ]
     },
     "metadata": {},
     "output_type": "display_data"
    }
   ],
   "source": [
    "ipyscales.ColorBar(colormap=cm_div_transp, length=200)"
   ]
  },
  {
   "cell_type": "markdown",
   "metadata": {},
   "source": [
    "The editor `ColorMapEditor` can be used to manually edit the color map. The actions you can do are:\n",
    "- Change the color of a stop by double-clicking the corresponding handle.\n",
    "- Change the location of stops by dragging the handles."
   ]
  },
  {
   "cell_type": "code",
   "execution_count": 9,
   "metadata": {},
   "outputs": [
    {
     "data": {
      "application/vnd.jupyter.widget-view+json": {
       "model_id": "ipyscales_example_model_010",
       "version_major": 2,
       "version_minor": 0
      },
      "text/plain": [
       "ColorMapEditor(colormap=LinearColorScale(domain=(-1.0, 0.0, 1.0), range=('rgba(0, 0, 255, 0.5)', 'white', 'rgb…"
      ]
     },
     "metadata": {},
     "output_type": "display_data"
    }
   ],
   "source": [
    "ipyscales.ColorMapEditor(\n",
    "    colormap=cm_div_transp, length=400, orientation='horizontal')"
   ]
  },
  {
   "cell_type": "markdown",
   "metadata": {},
   "source": [
    "Future features planned for the editor include:\n",
    "- Adding new stops.\n",
    "- Removing stops.\n",
    "- Modifying the stop location by numeric input.\n",
    "- UI for changing opacity of a color stop."
   ]
  }
 ],
 "metadata": {
  "kernelspec": {
   "display_name": "Python 3",
   "language": "python",
   "name": "python3"
  },
  "language_info": {
   "codemirror_mode": {
    "name": "ipython",
    "version": 3
   },
   "file_extension": ".py",
   "mimetype": "text/x-python",
   "name": "python",
   "nbconvert_exporter": "python",
   "pygments_lexer": "ipython3",
   "version": "3.6.6"
  },
  "widgets": {
   "application/vnd.jupyter.widget-state+json": {
    "state": {
     "ipyscales_example_model_001": {
      "model_module": "jupyter-scales",
      "model_module_version": "^3.0.0",
      "model_name": "LinearColorScaleModel",
      "state": {
       "_model_module_version": "^3.0.0",
       "_model_name": "LinearColorScaleModel",
       "_view_module_version": "",
       "domain": [
        1000,
        5000
       ],
       "range": [
        "blue",
        "green"
       ]
      }
     },
     "ipyscales_example_model_002": {
      "model_module": "jupyter-scales",
      "model_module_version": "^3.0.0",
      "model_name": "LinearColorScaleModel",
      "state": {
       "_model_module_version": "^3.0.0",
       "_model_name": "LinearColorScaleModel",
       "_view_module_version": "",
       "domain": [
        -1,
        0,
        1
       ],
       "range": [
        "blue",
        "white",
        "red"
       ]
      }
     },
     "ipyscales_example_model_003": {
      "model_module": "jupyter-scales",
      "model_module_version": "^3.0.0",
      "model_name": "ColorBarModel",
      "state": {
       "_model_module_version": "^3.0.0",
       "_view_module_version": "^3.0.0",
       "colormap": "IPY_MODEL_ipyscales_example_model_001",
       "layout": "IPY_MODEL_ipyscales_example_model_004",
       "length": 300
      }
     },
     "ipyscales_example_model_004": {
      "model_module": "@jupyter-widgets/base",
      "model_module_version": "1.1.0",
      "model_name": "LayoutModel",
      "state": {}
     },
     "ipyscales_example_model_005": {
      "model_module": "jupyter-scales",
      "model_module_version": "^3.0.0",
      "model_name": "ColorBarModel",
      "state": {
       "_model_module_version": "^3.0.0",
       "_view_module_version": "^3.0.0",
       "colormap": "IPY_MODEL_ipyscales_example_model_002",
       "layout": "IPY_MODEL_ipyscales_example_model_006",
       "length": 300,
       "orientation": "horizontal"
      }
     },
     "ipyscales_example_model_006": {
      "model_module": "@jupyter-widgets/base",
      "model_module_version": "1.1.0",
      "model_name": "LayoutModel",
      "state": {}
     },
     "ipyscales_example_model_007": {
      "model_module": "jupyter-scales",
      "model_module_version": "^3.0.0",
      "model_name": "LinearColorScaleModel",
      "state": {
       "_model_module_version": "^3.0.0",
       "_model_name": "LinearColorScaleModel",
       "_view_module_version": "",
       "domain": [
        -1,
        0,
        1
       ],
       "range": [
        "rgba(0, 0, 255, 0.5)",
        "white",
        "rgba(255, 0, 0, 0.5)"
       ]
      }
     },
     "ipyscales_example_model_008": {
      "model_module": "jupyter-scales",
      "model_module_version": "^3.0.0",
      "model_name": "ColorBarModel",
      "state": {
       "_model_module_version": "^3.0.0",
       "_view_module_version": "^3.0.0",
       "colormap": "IPY_MODEL_ipyscales_example_model_007",
       "layout": "IPY_MODEL_ipyscales_example_model_009",
       "length": 200
      }
     },
     "ipyscales_example_model_009": {
      "model_module": "@jupyter-widgets/base",
      "model_module_version": "1.1.0",
      "model_name": "LayoutModel",
      "state": {}
     },
     "ipyscales_example_model_010": {
      "model_module": "jupyter-scales",
      "model_module_version": "^3.0.0",
      "model_name": "ColorMapEditorModel",
      "state": {
       "_model_module_version": "^3.0.0",
       "_view_module_version": "^3.0.0",
       "colormap": "IPY_MODEL_ipyscales_example_model_007",
       "layout": "IPY_MODEL_ipyscales_example_model_011",
       "length": 400
      }
     },
     "ipyscales_example_model_011": {
      "model_module": "@jupyter-widgets/base",
      "model_module_version": "1.1.0",
      "model_name": "LayoutModel",
      "state": {}
     }
    },
    "version_major": 2,
    "version_minor": 0
   }
  }
 },
 "nbformat": 4,
 "nbformat_minor": 2
}
